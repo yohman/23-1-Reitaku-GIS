{
 "cells": [
  {
   "cell_type": "code",
   "execution_count": 1,
   "metadata": {},
   "outputs": [
    {
     "name": "stderr",
     "output_type": "stream",
     "text": [
      "/Users/yohkawano/opt/anaconda3/envs/geos/lib/python3.11/site-packages/IPython/core/pylabtools.py:152: UserWarning: Glyph 12486 (\\N{KATAKANA LETTER TE}) missing from current font.\n",
      "  fig.canvas.print_figure(bytes_io, **kw)\n",
      "/Users/yohkawano/opt/anaconda3/envs/geos/lib/python3.11/site-packages/IPython/core/pylabtools.py:152: UserWarning: Glyph 12473 (\\N{KATAKANA LETTER SU}) missing from current font.\n",
      "  fig.canvas.print_figure(bytes_io, **kw)\n",
      "/Users/yohkawano/opt/anaconda3/envs/geos/lib/python3.11/site-packages/IPython/core/pylabtools.py:152: UserWarning: Glyph 12488 (\\N{KATAKANA LETTER TO}) missing from current font.\n",
      "  fig.canvas.print_figure(bytes_io, **kw)\n",
      "/Users/yohkawano/opt/anaconda3/envs/geos/lib/python3.11/site-packages/IPython/core/pylabtools.py:152: UserWarning: Glyph 32080 (\\N{CJK UNIFIED IDEOGRAPH-7D50}) missing from current font.\n",
      "  fig.canvas.print_figure(bytes_io, **kw)\n",
      "/Users/yohkawano/opt/anaconda3/envs/geos/lib/python3.11/site-packages/IPython/core/pylabtools.py:152: UserWarning: Glyph 26524 (\\N{CJK UNIFIED IDEOGRAPH-679C}) missing from current font.\n",
      "  fig.canvas.print_figure(bytes_io, **kw)\n",
      "/Users/yohkawano/opt/anaconda3/envs/geos/lib/python3.11/site-packages/IPython/core/pylabtools.py:152: UserWarning: Glyph 12398 (\\N{HIRAGANA LETTER NO}) missing from current font.\n",
      "  fig.canvas.print_figure(bytes_io, **kw)\n",
      "/Users/yohkawano/opt/anaconda3/envs/geos/lib/python3.11/site-packages/IPython/core/pylabtools.py:152: UserWarning: Glyph 31665 (\\N{CJK UNIFIED IDEOGRAPH-7BB1}) missing from current font.\n",
      "  fig.canvas.print_figure(bytes_io, **kw)\n",
      "/Users/yohkawano/opt/anaconda3/envs/geos/lib/python3.11/site-packages/IPython/core/pylabtools.py:152: UserWarning: Glyph 12402 (\\N{HIRAGANA LETTER HI}) missing from current font.\n",
      "  fig.canvas.print_figure(bytes_io, **kw)\n",
      "/Users/yohkawano/opt/anaconda3/envs/geos/lib/python3.11/site-packages/IPython/core/pylabtools.py:152: UserWarning: Glyph 12370 (\\N{HIRAGANA LETTER GE}) missing from current font.\n",
      "  fig.canvas.print_figure(bytes_io, **kw)\n",
      "/Users/yohkawano/opt/anaconda3/envs/geos/lib/python3.11/site-packages/IPython/core/pylabtools.py:152: UserWarning: Glyph 22259 (\\N{CJK UNIFIED IDEOGRAPH-56F3}) missing from current font.\n",
      "  fig.canvas.print_figure(bytes_io, **kw)\n"
     ]
    },
    {
     "data": {
      "image/png": "[encoded data removed]",
      "text/plain": [
       "<Figure size 640x480 with 1 Axes>"
      ]
     },
     "metadata": {},
     "output_type": "display_data"
    }
   ],
   "source": [
    "import matplotlib.pyplot as plt\n",
    "\n",
    "# test_results = [70, 186, 188, 253, 261, 263, 267, 298, 346, 349, 360, 413]\n",
    "test_results = [31148,31524,32217,32506,31913,31641,32265,32434,33018,33502,33485,33706,33370,33388,33575,33264,32781,32698,32538,33193,33234,33189]\n",
    "\n",
    "# 箱ひげ図を描画\n",
    "plt.boxplot(test_results, vert=False, patch_artist=True)\n",
    "\n",
    "# グラフにタイトルとラベルを追加\n",
    "plt.title(\"テスト結果の箱ひげ図\")\n",
    "plt.xlabel(\"テスト結果\")\n",
    "\n",
    "# グラフを表示\n",
    "plt.show()\n"
   ]
  },
  {
   "cell_type": "code",
   "execution_count": null,
   "metadata": {},
   "outputs": [],
   "source": [
    "# テスト結果のデータ\n",
    "test_results = [70, 186, 188, 253, 261, 263, 267, 298, 346, 349, 360, 413]\n",
    "\n",
    "# Calculate the first quartile (Q1) and the third quartile (Q3)\n",
    "test_results_sorted = sorted(test_results)\n",
    "Q1 = test_results_sorted[len(test_results_sorted) // 4]\n",
    "Q3 = test_results_sorted[len(test_results_sorted) // 4 * 3]\n",
    "\n",
    "# Calculate the Interquartile Range (IQR)\n",
    "IQR = Q3 - Q1\n",
    "\n",
    "# Calculate the lower bound for outliers\n",
    "lower_bound = Q1 - 1.5 * IQR\n",
    "\n",
    "print(\"Smallest data point within 1.5 times the IQR:\", min(filter(lambda x: x >= lower_bound, test_results)))\n"
   ]
  },
  {
   "cell_type": "code",
   "execution_count": null,
   "metadata": {},
   "outputs": [],
   "source": [
    "print(Q1,Q3,IQR)"
   ]
  },
  {
   "cell_type": "code",
   "execution_count": null,
   "metadata": {},
   "outputs": [],
   "source": [
    "import pandas as pd\n",
    "s = pd.Series(test_results)\n",
    "s.describe()"
   ]
  },
  {
   "cell_type": "code",
   "execution_count": 2,
   "metadata": {},
   "outputs": [
    {
     "name": "stdout",
     "output_type": "stream",
     "text": [
      "第一四分位数 (25th percentile): 253\n"
     ]
    }
   ],
   "source": [
    "data = [70, 186, 188, 253, 261, 263, 267, 298, 346, 349, 360, 413]\n",
    "\n",
    "# データを昇順にソート\n",
    "sorted_data = sorted(data)\n",
    "\n",
    "# 第一四分位数を計算\n",
    "n = len(sorted_data)\n",
    "q1 = sorted_data[n // 4]\n",
    "\n",
    "print(\"第一四分位数 (25th percentile):\", q1)\n"
   ]
  },
  {
   "cell_type": "code",
   "execution_count": null,
   "metadata": {},
   "outputs": [],
   "source": []
  }
 ],
 "metadata": {
  "kernelspec": {
   "display_name": "geos",
   "language": "python",
   "name": "python3"
  },
  "language_info": {
   "codemirror_mode": {
    "name": "ipython",
    "version": 3
   },
   "file_extension": ".py",
   "mimetype": "text/x-python",
   "name": "python",
   "nbconvert_exporter": "python",
   "pygments_lexer": "ipython3",
   "version": "3.11.0"
  },
  "orig_nbformat": 4
 },
 "nbformat": 4,
 "nbformat_minor": 2
}
