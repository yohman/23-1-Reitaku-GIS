{
 "cells": [
  {
   "attachments": {},
   "cell_type": "markdown",
   "metadata": {},
   "source": [
    "# Mapping change over time\n",
    "\n",
    "<img src=\"https://raw.githubusercontent.com/yohman/23-1-Reitaku-GIS/main/Weeks/Week11/images/pop%20change.png\" width=800>\n",
    "\n",
    "We have thus far learned how to download Japan's census data using their mesh division system, prepared the data for mapping, and created beautiful maps based on given population characteristics such as population by age and gender groups, and various household types.\n",
    "\n",
    "In this lab, we will take this same data, but download additional data from a different time period, and compare population statistics over time. In doing so, we will learn how to create side-by-side maps, and also, how to layer multiple variables on the same map.\n",
    "\n",
    "これまで、メッシュ分割システムを使用して日本の国勢調査データをダウンロードし、地図作成用のデータを準備し、年齢別、性別別の人口、さまざまな世帯タイプなどの所定の人口特性に基づいて美しい地図を作成する方法を学びました。\n",
    "\n",
    "このラボでは、これと同じデータを取得するが、別の期間から追加のデータをダウンロードし、人口統計を経時的に比較します。 そうすることで、並列マップを作成する方法と、同じマップ上に複数の変数を重ねる方法を学びます。"
   ]
  },
  {
   "attachments": {},
   "cell_type": "markdown",
   "metadata": {},
   "source": [
    "## Libraries"
   ]
  },
  {
   "cell_type": "code",
   "execution_count": null,
   "metadata": {},
   "outputs": [],
   "source": [
    "import geopandas as gpd\n",
    "import pandas as pd\n",
    "import contextily as ctx\n",
    "import plotly.express as px\n",
    "import contextily as cx\n",
    "import numpy as np\n",
    "import matplotlib.pyplot as plt\n",
    "\n",
    "# set font\n",
    "import matplotlib as mpl\n",
    "\n",
    "# for Mac\n",
    "mpl.rc('font',family='Hiragino Maru Gothic Pro')\n",
    "\n",
    "# for PC\n",
    "# mpl.rc('font',family='MS Gothic')\n"
   ]
  },
  {
   "attachments": {},
   "cell_type": "markdown",
   "metadata": {},
   "source": [
    "## 先週の千葉データを今週のフォルダーにコピー\n",
    "\n",
    "<img src=\"https://raw.githubusercontent.com/yohman/23-1-Reitaku-GIS/main/Weeks/Week11/images/week%2010%20data%20copy.png\" width=400>\n",
    "\n",
    "Copy the 8 data files from last week's lab (week10/data) to this week's data folder (week11/data). \n",
    "\n",
    "先週のラボ (week10/data) から今週のデータ フォルダー (week11/data) に 8 つのデータ ファイルをコピーします。 これら 8 つのファイルは次のようになります。\n",
    "\n",
    "- SDDSWS5239.zip\n",
    "- SDDSWS5240.zip\n",
    "- SDDSWS5339.zip\n",
    "- SDDSWS5340.zip\n",
    "- tblT001100S5239.zip\n",
    "- tblT001100S5240.zip\n",
    "- tblT001100S5339.zip\n",
    "- tblT001100S5340.zip\n",
    "\n",
    "If you do not have access to these files, you can download them from the class website.\n",
    "\n",
    "これらのファイルにアクセスできない場合は、クラスの Web サイトからダウンロードできます。"
   ]
  },
  {
   "attachments": {},
   "cell_type": "markdown",
   "metadata": {},
   "source": [
    "## 2015年のデータをダウンロード・インポート\n",
    "\n",
    "Download additional data for 2015. Once again, we get the data from the eStat website at the 1km mesh scale. \n",
    "\n",
    "2015 年の追加データをダウンロードします。ここでも、eStat Web サイトから 1km メッシュ スケールでデータを取得します。\n",
    "\n",
    "次の手順を実行します："
   ]
  },
  {
   "attachments": {},
   "cell_type": "markdown",
   "metadata": {},
   "source": [
    "➡️ https://www.e-stat.go.jp/\n",
    "\n",
    "➡️ 地図\n",
    "\n",
    "➡️ 統計データダウンロード\n",
    "\n",
    "➡️ 統計データ\n",
    "\n",
    "➡️ 国勢調査\n",
    "\n",
    "➡️ **2015年**\n",
    "\n",
    "➡️ 3次メッシュ（1kmメッシュ）\n",
    "\n",
    "➡️ **その１　人口等基本集計に関する事項**\n",
    "\n",
    "➡️ メッシュコードで絞込み（左欄）\n",
    "\n",
    "➡️ M5239, M5240, M5339, M5340 をそれぞれチェックして選択ボタン\n",
    "\n",
    "➡️ 定義書（PDF)をダウンロード（大事）\n",
    "\n",
    "➡️ それぞれのCSVファイルをダウンロード\n",
    "\n",
    "➡️ ダウンロードしたファイル **[tblT000846S5239.zip, tblT000846S5240.zip, tblT000846S5339.zip, tblT000846S5340.zip]** を data フォルダーに移動\n",
    "\n",
    "前回は、ファイルを展開しなければいけないと思ったのですが、pandas は圧縮ファイルを読み込めることが判明したので、展開する必要はありません。"
   ]
  },
  {
   "attachments": {},
   "cell_type": "markdown",
   "metadata": {},
   "source": [
    "### メッシュをインポート、統合"
   ]
  },
  {
   "cell_type": "code",
   "execution_count": null,
   "metadata": {},
   "outputs": [],
   "source": [
    "# 空間データなので geopandas (gpd) でインポート\n",
    "\n",
    "chibamesh1 = gpd.read_file('data/SDDSWS5239.zip')\n",
    "chibamesh2 = gpd.read_file('data/SDDSWS5240.zip')\n",
    "chibamesh3 = gpd.read_file('data/SDDSWS5339.zip')\n",
    "chibamesh4 = gpd.read_file('data/SDDSWS5340.zip')"
   ]
  },
  {
   "cell_type": "code",
   "execution_count": null,
   "metadata": {},
   "outputs": [],
   "source": [
    "# combine all four mesh shapes\n",
    "chibamesh = gpd.pd.concat([chibamesh1,chibamesh2,chibamesh3,chibamesh4])"
   ]
  },
  {
   "cell_type": "code",
   "execution_count": null,
   "metadata": {},
   "outputs": [],
   "source": [
    "# quick plot\n",
    "chibamesh.plot(figsize=(20,20),edgecolor='white',linewidth=0.1,column='MESH1_ID')"
   ]
  },
  {
   "cell_type": "code",
   "execution_count": null,
   "metadata": {},
   "outputs": [],
   "source": [
    "# csvデータなので pandas (pd) でインポート\n",
    "# 文字化け予防のために encoding='cp932' \n",
    "chibadata1 = pd.read_csv('data/tblT001100S5239.zip', encoding='cp932')\n",
    "chibadata2 = pd.read_csv('data/tblT001100S5240.zip', encoding='cp932')\n",
    "chibadata3 = pd.read_csv('data/tblT001100S5339.zip', encoding='cp932')\n",
    "chibadata4 = pd.read_csv('data/tblT001100S5340.zip', encoding='cp932')\n",
    "chibadata5 = pd.read_csv('data/tblT000846S5239.zip', encoding='cp932')\n",
    "chibadata6 = pd.read_csv('data/tblT000846S5240.zip', encoding='cp932')\n",
    "chibadata7 = pd.read_csv('data/tblT000846S5339.zip', encoding='cp932')\n",
    "chibadata8 = pd.read_csv('data/tblT000846S5340.zip', encoding='cp932')"
   ]
  },
  {
   "attachments": {},
   "cell_type": "markdown",
   "metadata": {},
   "source": [
    "### 定義書を確認\n",
    "\n",
    "## 2020年\n",
    "\n",
    "<img src=\"https://raw.githubusercontent.com/yohman/23-1-Reitaku-GIS/main/Weeks/Week10/images/metadata.png\">\n",
    "\n",
    "## 2015年\n",
    "\n",
    "<img src=\"https://raw.githubusercontent.com/yohman/23-1-Reitaku-GIS/main/Weeks/Week11/images/2015%20metadata.png\">\n"
   ]
  },
  {
   "attachments": {},
   "cell_type": "markdown",
   "metadata": {},
   "source": [
    "## Data cleanup"
   ]
  },
  {
   "cell_type": "code",
   "execution_count": null,
   "metadata": {},
   "outputs": [],
   "source": [
    "# check data\n",
    "chibadata5.head()"
   ]
  },
  {
   "attachments": {},
   "cell_type": "markdown",
   "metadata": {},
   "source": [
    "このデータには 2 つの問題があります。\n",
    "\n",
    "まず、最初の行には説明テキストが含まれている（人口（総数）など）。 これは、列を数値にする必要がある統計マップを作成する場合に問題を引き起こします。\n",
    "\n",
    "次に、データに「*」が含まれている。 これも数字以外の文字であるため、問題が発生します。\n",
    "\n",
    "これらに一つ一つ対処していく必要がある。"
   ]
  },
  {
   "cell_type": "code",
   "execution_count": null,
   "metadata": {},
   "outputs": [],
   "source": [
    "# 8つのテーブルから１行目を削除\n",
    "chibadata1 = chibadata1[1:]\n",
    "chibadata2 = chibadata2[1:]\n",
    "chibadata3 = chibadata3[1:]\n",
    "chibadata4 = chibadata4[1:]\n",
    "chibadata5 = chibadata5[1:]\n",
    "chibadata6 = chibadata6[1:]\n",
    "chibadata7 = chibadata7[1:]\n",
    "chibadata8 = chibadata8[1:]"
   ]
  },
  {
   "cell_type": "code",
   "execution_count": null,
   "metadata": {},
   "outputs": [],
   "source": [
    "# ４つのテーブルから「＊」を非数に置き換える\n",
    "chibadata1 = chibadata1.replace('*',np.nan)\n",
    "chibadata2 = chibadata2.replace('*',np.nan)\n",
    "chibadata3 = chibadata3.replace('*',np.nan)\n",
    "chibadata4 = chibadata4.replace('*',np.nan)\n",
    "chibadata5 = chibadata5.replace('*',np.nan)\n",
    "chibadata6 = chibadata6.replace('*',np.nan)\n",
    "chibadata7 = chibadata7.replace('*',np.nan)\n",
    "chibadata8 = chibadata8.replace('*',np.nan)"
   ]
  },
  {
   "attachments": {},
   "cell_type": "markdown",
   "metadata": {},
   "source": [
    "## 2015年と2020年のデータを統合\n",
    "\n",
    "クリーンアップされた8つの統計データを一つに統合しよう。これはCSVデータなので pandas の `pd.concat()` 関数を使う。"
   ]
  },
  {
   "cell_type": "code",
   "execution_count": null,
   "metadata": {},
   "outputs": [],
   "source": [
    "chibadata2020 = pd.concat([chibadata1,chibadata2,chibadata3,chibadata4])"
   ]
  },
  {
   "cell_type": "code",
   "execution_count": null,
   "metadata": {},
   "outputs": [],
   "source": [
    "chibadata2015 = pd.concat([chibadata5,chibadata6,chibadata7,chibadata8])"
   ]
  },
  {
   "cell_type": "code",
   "execution_count": null,
   "metadata": {},
   "outputs": [],
   "source": [
    "chibadata2015.head()"
   ]
  },
  {
   "attachments": {},
   "cell_type": "markdown",
   "metadata": {},
   "source": [
    "Although we did not do this in the previous lab, it is recommended to delete unnecessary columns, especially when combining data from different time periods.\n",
    "\n",
    "前のラボではこれを実行しませんでしたが、特に異なる期間のデータを結合する場合は、不要な列を削除することをお勧めします。\n",
    "\n",
    "<img src=\"https://raw.githubusercontent.com/yohman/23-1-Reitaku-GIS/main/Weeks/Week11/images/delete.png\" width=500>\n",
    "\n",
    "### 問題：'HTKSYORI', 'HTKSAKI', 'GASSAN'を chibadata2015 and chibadata2020 から削除"
   ]
  },
  {
   "cell_type": "code",
   "execution_count": null,
   "metadata": {},
   "outputs": [],
   "source": [
    "# get rid of HTKSYORI, HTKSAKI, GASSAN\n"
   ]
  },
  {
   "cell_type": "code",
   "execution_count": null,
   "metadata": {},
   "outputs": [],
   "source": [
    "# combine 2015 and 2020 data\n",
    "chibadata = pd.merge(chibadata2020,chibadata2015,on='KEY_CODE')"
   ]
  },
  {
   "cell_type": "code",
   "execution_count": null,
   "metadata": {},
   "outputs": [],
   "source": [
    "# check data info\n",
    "chibadata.info()"
   ]
  },
  {
   "attachments": {},
   "cell_type": "markdown",
   "metadata": {},
   "source": [
    "### データタイプ管理\n",
    "\n",
    "データがobjectだと数値ではないのでマップもチャートも作れません。\n",
    "\n",
    "このデータはカラムの数が多いので、ひとつひとつ変えて行くのは要領が悪いので、すべてのデータ型を一括で変更する方法を説明します。"
   ]
  },
  {
   "cell_type": "code",
   "execution_count": null,
   "metadata": {},
   "outputs": [],
   "source": [
    "# まずはカラムをアウトプット\n",
    "chibadata.columns"
   ]
  },
  {
   "attachments": {},
   "cell_type": "markdown",
   "metadata": {},
   "source": [
    "変換が必要なのは「T00...」で始まる変数のみなので、このリストの1番目以降になる。\n",
    "\n",
    "では1番目以降のカラムをアウトプットしよう。"
   ]
  },
  {
   "cell_type": "code",
   "execution_count": null,
   "metadata": {},
   "outputs": [],
   "source": [
    "# 1番目以降をアウトプット\n",
    "chibadata.columns[1:]"
   ]
  },
  {
   "attachments": {},
   "cell_type": "markdown",
   "metadata": {},
   "source": [
    "カラム1個目からの変数を全て「float」に変更。"
   ]
  },
  {
   "cell_type": "code",
   "execution_count": null,
   "metadata": {},
   "outputs": [],
   "source": [
    "# 元のデータを入れ替える\n",
    "chibadata[chibadata.columns[1:]]=chibadata[chibadata.columns[1:]].astype(float)"
   ]
  },
  {
   "attachments": {},
   "cell_type": "markdown",
   "metadata": {},
   "source": [
    "さ、必ずうまく行ったかどうかをチェックする。objectがfloatに変わってたら成功！"
   ]
  },
  {
   "cell_type": "code",
   "execution_count": null,
   "metadata": {},
   "outputs": [],
   "source": [
    "# check!\n",
    "chibadata.info()"
   ]
  },
  {
   "attachments": {},
   "cell_type": "markdown",
   "metadata": {},
   "source": [
    "## Join Mesh with Data\n",
    "\n",
    "ついに、結合されたメッシュ データ (chibamesh) と結合されたデータフレーム (chibadata) が完成しました。 最後のステップは、chibadata を chibamesh geodataframe に結合することです。\n",
    "\n",
    "これを行うには、それらを KEY_CODE id 列で結合します。 ただし、chibamesh KEY_CODE 列はオブジェクトであることに注意してください。 まずこれを float に変換しましょう。"
   ]
  },
  {
   "cell_type": "code",
   "execution_count": null,
   "metadata": {},
   "outputs": [],
   "source": [
    "# KEY_CODEをfloatに\n",
    "chibamesh['KEY_CODE']=chibamesh['KEY_CODE'].astype(float)"
   ]
  },
  {
   "attachments": {},
   "cell_type": "markdown",
   "metadata": {},
   "source": [
    "マージを実行する！"
   ]
  },
  {
   "cell_type": "code",
   "execution_count": null,
   "metadata": {},
   "outputs": [],
   "source": [
    "# merge the data\n",
    "chibamesh = chibamesh.merge(chibadata, on='KEY_CODE')"
   ]
  },
  {
   "cell_type": "code",
   "execution_count": null,
   "metadata": {},
   "outputs": [],
   "source": [
    "# check!\n",
    "chibamesh.sample(5)"
   ]
  },
  {
   "attachments": {},
   "cell_type": "markdown",
   "metadata": {},
   "source": [
    "## Map time\n"
   ]
  },
  {
   "attachments": {},
   "cell_type": "markdown",
   "metadata": {},
   "source": [
    "### Project the data\n",
    "マッピング プロセスを開始する前に、データを Web メルカトルに再投影する必要があることに注意してください。Web メルカトルの crs コードは 3867 です。これは、データを contextily ライブラリで利用できるベースマップと互換性を持たせるために必要です。"
   ]
  },
  {
   "cell_type": "code",
   "execution_count": null,
   "metadata": {},
   "outputs": [],
   "source": [
    "# reproject to 3857 (web mercator)\n",
    "chibamesh = chibamesh.to_crs(3857)"
   ]
  },
  {
   "cell_type": "code",
   "execution_count": null,
   "metadata": {},
   "outputs": [],
   "source": [
    "# make a quick plot\n",
    "chibamesh.plot(column='T001100001')"
   ]
  },
  {
   "attachments": {},
   "cell_type": "markdown",
   "metadata": {},
   "source": [
    "ここまでは前回と一緒。では新しいデータ（2015年）はマップできるかな？"
   ]
  },
  {
   "cell_type": "code",
   "execution_count": null,
   "metadata": {},
   "outputs": [],
   "source": [
    "# make a quick plot\n",
    "chibamesh.plot(column='T000846001')"
   ]
  },
  {
   "attachments": {},
   "cell_type": "markdown",
   "metadata": {},
   "source": [
    "綺麗なマップを作成。"
   ]
  },
  {
   "cell_type": "code",
   "execution_count": null,
   "metadata": {},
   "outputs": [],
   "source": [
    "# 2020 population map\n",
    "ax = chibamesh.plot(figsize=(12,12),\n",
    "         column='T001100001',\n",
    "         legend=True,\n",
    "         cmap='autumn_r',\n",
    "         edgecolor='black',\n",
    "         linewidth=0.1,\n",
    "         alpha=0.8\n",
    "         )\n",
    "\n",
    "# hide axes\n",
    "ax.axis('off')\n",
    "\n",
    "# title\n",
    "ax.set_title('2020人口　総数人',fontsize=24, pad=20) # タイトルの周りにスペースを足すために pad=20\n",
    "\n",
    "# add basemap\n",
    "cx.add_basemap(ax,source=cx.providers.Stamen.TonerLite)"
   ]
  },
  {
   "attachments": {},
   "cell_type": "markdown",
   "metadata": {},
   "source": [
    "### Map fixes\n",
    "\n",
    "<img src=\"https://raw.githubusercontent.com/yohman/23-1-Reitaku-GIS/main/Weeks/Week11/images/map%20fixes.png\" width=600>\n",
    "\n",
    "The beauty of python is that you can do almost do anything you wish... within reason. Let's make this map even better by fixing three parts.\n",
    "\n",
    "- Changing the legend size can be accomplished with the `legend_kwds` option and setting a value for the `shrink` argument.\n",
    "- You can change the range of the legend scale using the `vmax` and `vmin` options. Set the range to go from 0 to 15000.\n",
    "- The map has extra space around the meshes. We can get rid of this space by zooming to the extent of the data by getting the `total_bounds` of the meshes, and setting the extent of the map with `set_xlim` and `set_ylim`.\n",
    "\n",
    "Python の利点は、理にかなった範囲内で、やりたいことはほぼすべて実行できること。 では、3 つの部分を修正して、このマップをさらに改善しましょう。\n",
    "\n",
    "- 凡例のサイズを変更するには、`legend_kwds` オプションを使用し、`shrink` 引数の値を設定する\n",
    "- `vmax` および `vmin` オプションを使用して、凡例のスケールの範囲を変更する。範囲を 0 ～ 15000 に設定するように。\n",
    "- マップにはメッシュの周囲に余分なスペースがあります。 メッシュの「total_bounds」を取得してデータの範囲にズームし、「set_xlim」と「set_ylim」でマップの範囲を設定することで、このスペースを取り除くことができる。\n",
    "\n",
    "### 問題\n",
    "\n",
    "次のセルに、要求された変更を加えて新しいマップを作成します。 お気軽にGoogleやChatGPTにご相談ください。"
   ]
  },
  {
   "cell_type": "code",
   "execution_count": null,
   "metadata": {},
   "outputs": [],
   "source": [
    "# \n"
   ]
  },
  {
   "attachments": {},
   "cell_type": "markdown",
   "metadata": {},
   "source": [
    "# Creating side-by-side maps\n",
    "\n",
    "<img src=\"https://raw.githubusercontent.com/yohman/23-1-Reitaku-GIS/main/Weeks/Week11/images/subplots.png\" width=600>\n",
    "\n",
    "When comparing one map's data to another, it is recommended to generate side-by-side maps. In Geopandas, the `subplots` function is used to create multiple subplots within a single figure. The subplots function is a convenient way to create a grid of subplots, allowing you to plot multiple GeoDataFrames or different views of the same GeoDataFrame side by side.\n",
    "\n",
    "あるマップのデータを別のマップのデータと比較する場合は、並列マップを生成することをお勧めします。Geopandas では、`subplots` 関数を使用して、単一の Figure 内に複数のサブプロットを作成します。 subplots 関数は、サブプロットのグリッドを作成する便利な方法で、複数の GeoDataFrame または同じ GeoDataFrame の異なるビューを並べてプロットできます。\n",
    "\n",
    "**Create the subplots for side-by-side maps**\n",
    "\n",
    "```python\n",
    "fig, ax = plt.subplots(nrows=1,ncols=2,figsize=(20,20))\n",
    "```\n",
    "\n",
    "**Create a plot for the left-hand map (`ax[0]`)**\n",
    "\n",
    "```python\n",
    "chibamesh.plot(ax = ax[0], # 左のマップ\n",
    "    column='T000846001',\n",
    "    ...,\n",
    "    ...,\n",
    ")\n",
    "```\n",
    "\n",
    "**Create a plot for the right-hand map (`ax[1]`)**\n",
    "\n",
    "```python\n",
    "chibamesh.plot(ax = ax[0], # 左のマップ\n",
    "    column='T001100001',\n",
    "    ...,\n",
    "    ...,\n",
    ")\n",
    "```"
   ]
  },
  {
   "cell_type": "code",
   "execution_count": null,
   "metadata": {},
   "outputs": [],
   "source": [
    "# population map\n",
    "fig, ax = plt.subplots(nrows=1,ncols=2,figsize=(20,20)) # 1 row, 2 columns, side by side\n",
    "\n",
    "# 2015 population\n",
    "chibamesh.plot(ax = ax[0], # 左のマップ\n",
    "    column='T000846001',\n",
    "         legend=True,\n",
    "         legend_kwds={'shrink': 0.3},\n",
    "         cmap='autumn_r',\n",
    "         edgecolor='black',\n",
    "         linewidth=0.1,\n",
    "         alpha=0.8,\n",
    "         vmin=0,\n",
    "         vmax=15000)\n",
    "\n",
    "# 2020 population\n",
    "chibamesh.plot(ax = ax[1], # 右のマップ\n",
    "    column='T001100001',\n",
    "         legend=True,\n",
    "         legend_kwds={'shrink': 0.3},\n",
    "         cmap='autumn_r',\n",
    "         edgecolor='black',\n",
    "         linewidth=0.1,\n",
    "         alpha=0.8,\n",
    "         vmin=0,\n",
    "         vmax=15000)\n",
    "\n",
    "# hide axes\n",
    "ax[0].axis('off') # 左\n",
    "ax[1].axis('off') # 右\n",
    "\n",
    "# title\n",
    "ax[0].set_title('2015 人口総数',fontsize=24); # 左\n",
    "ax[1].set_title('2020 人口総数',fontsize=24); # 右\n",
    "\n",
    "# Get the total bounds of the geometries\n",
    "xmin, ymin, xmax, ymax = chibamesh.total_bounds\n",
    "\n",
    "# Set the plot limits based on the total bounds\n",
    "ax[0].set_xlim(xmin, xmax) # 左\n",
    "ax[0].set_ylim(ymin, ymax) # 左 \n",
    "ax[1].set_xlim(xmin, xmax) # 右\n",
    "ax[1].set_ylim(ymin, ymax) # 右\n",
    "\n",
    "# サブプロット間のスペースを調整\n",
    "plt.tight_layout()\n",
    "\n",
    "# add basemap\n",
    "cx.add_basemap(ax[0],source=cx.providers.Stamen.TonerLite) # 左\n",
    "cx.add_basemap(ax[1],source=cx.providers.Stamen.TonerLite) # 右"
   ]
  },
  {
   "attachments": {},
   "cell_type": "markdown",
   "metadata": {},
   "source": [
    "# Create a new field for population change\n",
    "These are beautiful side by side maps. However, one can hardly tell the difference between them! One way to show the difference between data from different time periods is to calculate the difference between them. To do so:\n",
    "\n",
    "- create a new field `pop_change_2015_2020`\n",
    "- calculate the population change (difference) between 2015 and 2020\n",
    "- map the new field\n",
    "\n",
    "横並びの美しい地図ができたね。 でも、違いを区別することはほとんどできない。 異なる期間のデータ間の差異を示す 1 つの方法は、データ間の差異を計算することです。 そうするために：\n",
    "\n",
    "- 新しいフィールド「pop_change_2015_2020」を作成する\n",
    "- 2015年と2020年の人口変化（差）を計算する\n",
    "- 新しいフィールドをマップする"
   ]
  },
  {
   "cell_type": "code",
   "execution_count": null,
   "metadata": {},
   "outputs": [],
   "source": [
    "# create a new field\n",
    "chibamesh['pop_change_2015_2020'] = np.nan"
   ]
  },
  {
   "attachments": {},
   "cell_type": "markdown",
   "metadata": {},
   "source": [
    "### 問題\n",
    "\n",
    "さ、ここでまた問題！下のセルで、2020 年と 2015 年の総人口の差を計算し、その値を Pop_change_2015_2020 フィールドに入力してみましょう。"
   ]
  },
  {
   "cell_type": "code",
   "execution_count": null,
   "metadata": {},
   "outputs": [],
   "source": [
    "# calculate population change\n"
   ]
  },
  {
   "cell_type": "code",
   "execution_count": null,
   "metadata": {},
   "outputs": [],
   "source": [
    "# check!\n",
    "chibamesh[['KEY_CODE','T001100001','T000846001','pop_change_2015_2020']].sample(5)"
   ]
  },
  {
   "cell_type": "code",
   "execution_count": null,
   "metadata": {},
   "outputs": [],
   "source": [
    "# population map\n",
    "fig,ax = plt.subplots(nrows=1, ncols=1, figsize=(12,12)) # 一つのマップなのでnrows,ncols=1\n",
    "\n",
    "# 2015-2020 population change\n",
    "chibamesh.plot(ax = ax,\n",
    "        column='pop_change_2015_2020',\n",
    "        legend=True,\n",
    "        legend_kwds={'shrink': 0.5},\n",
    "        cmap='autumn_r',\n",
    "        edgecolor='black',\n",
    "        linewidth=0.1,\n",
    "        alpha=0.8,)\n",
    "\n",
    "# hide axes\n",
    "ax.axis('off')\n",
    "\n",
    "# title\n",
    "ax.set_title('2015 年から 2020 年までの人口の変化',fontsize=24, pad=20);\n",
    "\n",
    "# Get the total bounds of the geometries\n",
    "xmin, ymin, xmax, ymax = chibamesh.total_bounds\n",
    "\n",
    "# Set the plot limits based on the total bounds\n",
    "ax.set_xlim(xmin, xmax)\n",
    "ax.set_ylim(ymin, ymax)\n",
    "\n",
    "# add basemap\n",
    "cx.add_basemap(ax,source=cx.providers.Stamen.TonerLite)"
   ]
  },
  {
   "attachments": {},
   "cell_type": "markdown",
   "metadata": {},
   "source": [
    "<img src=\"https://raw.githubusercontent.com/yohman/23-1-Reitaku-GIS/main/Weeks/Week11/images/diverging.png\" width=500>\n",
    "\n",
    "This map is not very legible. How can we make it better? With maps that show positive and negative values, we use a divergent color scheme. Furthermore, in order to set the neutral color at the middle, we make sure to make the vmin and vmax values equal.\n",
    "\n",
    "この地図はあまり読みにくいです。 どうすれば改善できるでしょうか? 正の値と負の値を示すマップでは、発散カラー スキームを使用します。 さらに、中間色を設定するために、vmin と vmax の値が同じになるようにします。"
   ]
  },
  {
   "cell_type": "code",
   "execution_count": null,
   "metadata": {},
   "outputs": [],
   "source": [
    "# population map\n",
    "fig,ax = plt.subplots(nrows=1, ncols=1, figsize=(12,12))\n",
    "\n",
    "# 2015-2020 population change\n",
    "chibamesh.plot(ax = ax,\n",
    "    column='pop_change_2015_2020',\n",
    "         legend=True,\n",
    "         legend_kwds={'shrink': 0.5},\n",
    "         cmap='seismic',\n",
    "         edgecolor='black',\n",
    "         linewidth=0.1,\n",
    "         alpha=0.8,\n",
    "         vmin=-3000, # vminとvmaxが同じことによって、中間値がゼロになる\n",
    "         vmax=3000\n",
    "         )\n",
    "\n",
    "# hide axes\n",
    "ax.axis('off')\n",
    "\n",
    "# title\n",
    "ax.set_title('東京・千葉 2015-2020 人口の変化',fontsize=30, pad=20)\n",
    "\n",
    "# Get the total bounds of the geometries\n",
    "xmin, ymin, xmax, ymax = chibamesh.total_bounds\n",
    "\n",
    "# Set the plot limits based on the total bounds\n",
    "ax.set_xlim(xmin, xmax)\n",
    "ax.set_ylim(ymin, ymax)\n",
    "\n",
    "# サブプロット間のスペースを調整\n",
    "plt.tight_layout()\n",
    "\n",
    "# add basemap\n",
    "cx.add_basemap(ax,source=cx.providers.Stamen.TonerLite)\n"
   ]
  },
  {
   "attachments": {},
   "cell_type": "markdown",
   "metadata": {},
   "source": [
    "## Additional maps\n",
    "\n",
    "Let's make the following maps:\n",
    "\n",
    "- The top 20 areas with the highest increase in population.\n",
    "- The top 20 areas with the highest decrease in population.\n",
    "\n",
    "次のような地図を作ってみましょう。\n",
    "\n",
    "- 人口増加率上位 20 地域\n",
    "- 人口減少率上位 20 地域"
   ]
  },
  {
   "cell_type": "code",
   "execution_count": null,
   "metadata": {},
   "outputs": [],
   "source": [
    "# sort by population change\n",
    "chibamesh = chibamesh.sort_values(by='pop_change_2015_2020')"
   ]
  },
  {
   "cell_type": "code",
   "execution_count": null,
   "metadata": {},
   "outputs": [],
   "source": [
    "# check!\n",
    "chibamesh['pop_change_2015_2020']"
   ]
  },
  {
   "cell_type": "code",
   "execution_count": null,
   "metadata": {},
   "outputs": [],
   "source": [
    "# population map\n",
    "fig,ax = plt.subplots(nrows=1, ncols=1, figsize=(12,12))\n",
    "\n",
    "# 2015-2020 population change\n",
    "chibamesh.tail(20).plot(ax = ax,\n",
    "    column='pop_change_2015_2020',\n",
    "         legend=True,\n",
    "         legend_kwds={'shrink': 0.5},\n",
    "         cmap='seismic',\n",
    "         edgecolor='black',\n",
    "         linewidth=1,\n",
    "         alpha=0.8,\n",
    "         vmin=-3000,\n",
    "         vmax=3000)\n",
    "\n",
    "# hide axes\n",
    "ax.axis('off')\n",
    "\n",
    "# title\n",
    "ax.set_title('人口増加率上位 20 地域',fontsize=24, pad=20)\n",
    "\n",
    "# サブプロット間のスペースを調整\n",
    "plt.tight_layout()\n",
    "\n",
    "# add basemap\n",
    "cx.add_basemap(ax,source=cx.providers.Stamen.TonerLite)\n"
   ]
  },
  {
   "attachments": {},
   "cell_type": "markdown",
   "metadata": {},
   "source": [
    "Finally, we can put *both* maps on a single map, by overlying the on top of one another."
   ]
  },
  {
   "cell_type": "code",
   "execution_count": null,
   "metadata": {},
   "outputs": [],
   "source": [
    "# population map\n",
    "fig,ax = plt.subplots(nrows=1, ncols=1, figsize=(12,12))\n",
    "\n",
    "# 2015-2020 population change\n",
    "chibamesh.head(20).plot(ax = ax,\n",
    "    column='pop_change_2015_2020',\n",
    "         legend=True,legend_kwds={'shrink': 0.5},\n",
    "         cmap='seismic',\n",
    "         edgecolor='black',\n",
    "         linewidth=1,\n",
    "         alpha=0.8,\n",
    "         vmin=-3000,\n",
    "         vmax=3000)\n",
    "\n",
    "# hide axes\n",
    "ax.axis('off')\n",
    "\n",
    "# title\n",
    "ax.set_title('人口減少率上位 20 地域',fontsize=24, pad=20)\n",
    "\n",
    "# サブプロット間のスペースを調整\n",
    "plt.tight_layout()\n",
    "\n",
    "# add basemap\n",
    "cx.add_basemap(ax,source=cx.providers.Stamen.TonerLite)\n"
   ]
  },
  {
   "cell_type": "code",
   "execution_count": null,
   "metadata": {},
   "outputs": [],
   "source": [
    "# population map\n",
    "fig,ax = plt.subplots(nrows=1,ncols=1,figsize=(12,12))\n",
    "\n",
    "# 2015-2020 population change\n",
    "chibamesh.head(20).plot(ax = ax,\n",
    "        column='pop_change_2015_2020',\n",
    "        legend=True,legend_kwds={'shrink': 0.5},\n",
    "        cmap='seismic',\n",
    "        edgecolor='black',\n",
    "        linewidth=1,\n",
    "        alpha=0.8,\n",
    "        vmin=-3000,\n",
    "        vmax=3000)\n",
    "\n",
    "# 2015-2020 population change\n",
    "chibamesh.tail(20).plot(ax = ax,\n",
    "        column='pop_change_2015_2020',\n",
    "        cmap='seismic',\n",
    "        edgecolor='black',\n",
    "        linewidth=1,\n",
    "        alpha=0.8,\n",
    "        vmin=-3000,\n",
    "        vmax=3000)\n",
    "\n",
    "# hide axes\n",
    "ax.axis('off')\n",
    "\n",
    "# title\n",
    "ax.set_title('人口増加と減少の上位 20 地域',fontsize=24, pad=20)\n",
    "\n",
    "# サブプロット間のスペースを調整\n",
    "plt.tight_layout()\n",
    "\n",
    "# add basemap\n",
    "cx.add_basemap(ax,source=cx.providers.Stamen.TonerLite)\n"
   ]
  }
 ],
 "metadata": {
  "kernelspec": {
   "display_name": "geos",
   "language": "python",
   "name": "python3"
  },
  "language_info": {
   "codemirror_mode": {
    "name": "ipython",
    "version": 3
   },
   "file_extension": ".py",
   "mimetype": "text/x-python",
   "name": "python",
   "nbconvert_exporter": "python",
   "pygments_lexer": "ipython3",
   "version": "3.11.0"
  },
  "orig_nbformat": 4
 },
 "nbformat": 4,
 "nbformat_minor": 2
}
