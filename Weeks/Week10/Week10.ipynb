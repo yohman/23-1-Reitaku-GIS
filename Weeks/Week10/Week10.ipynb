{
 "cells": [
  {
   "attachments": {},
   "cell_type": "markdown",
   "metadata": {},
   "source": [
    "# 日本とメッシュ\n",
    "\n",
    "In the US, space is divided by \"census tracts,\" a division created by the census bureau based on population counts. Census tract boundaries change every 10 years, making it difficult to measure change over time.\n",
    "\n",
    "In contrast, Japan uses \"meshes\" which is a grid-based division of space. Population statistics are summarized by these meshes, which scale depending on the level of geography you are studying.\n",
    "\n",
    "米国では、空間は「国勢調査区」によって分割されており、これは国勢調査局が人口数に基づいて作成した区画です。 国勢調査区域の境界は 10 年ごとに変化するため、時間の経過に伴う変化を測定することが困難になります。\n",
    "\n",
    "対照的に、日本ではグリッドベースの空間分割である「メッシュ」が使用されます。 人口統計はこれらのメッシュによって要約され、調査している地理のレベルに応じてスケールが変わります。\n",
    "\n",
    "<img src=\"https://www.stat.go.jp/data/mesh/img/map1.jpg\">\n",
    "\n",
    "[Source:総務省統計局](https://www.stat.go.jp/data/mesh/teiky_3.html)"
   ]
  },
  {
   "attachments": {},
   "cell_type": "markdown",
   "metadata": {},
   "source": [
    "https://www.e-stat.go.jp/gis/statmap-search?page=1&type=2&aggregateUnitForBoundary=S&coordsys=1&format=shape&prefCode=12\n"
   ]
  },
  {
   "attachments": {},
   "cell_type": "markdown",
   "metadata": {},
   "source": [
    "## そもそもメッシュとは？\n",
    "\n",
    "\n",
    "<img src=\"images/japan%20mesh%20scales.png\" width=800>\n",
    "\n",
    "メッシュがどのように機能するかを理解するには、インタラクティブな Web マップでメッシュを体験するのが最善です。 国土地理院は、メッシュのオン/オフを切り替えるオプションを備えたインタラクティブなマップを提供しています。\n",
    "\n",
    "➡️ [地理院地図](https://maps.gsi.go.jp/#5/36.104611/140.084556/&base=std&ls=std&disp=1&vs=c1g1j0h0k0l0u0t0z0r0s0m0f1)\n",
    "\n",
    "➡️ ⚙️設定\n",
    "\n",
    "➡️ グリッド表示\n",
    "\n",
    "➡️ 地域メッシュ🔛"
   ]
  },
  {
   "attachments": {},
   "cell_type": "markdown",
   "metadata": {},
   "source": [
    "# メッシュでマップ\n",
    "\n",
    "日本のメッシュがどのように機能するかを新たに理解したら、都道府県の人口マップを作成してみましょう。 1kmメッシュグリッドを使用します。 ワークフローは次のとおりです。\n",
    "\n",
    "1. eStat Web サイトから、千葉県の 1km メッシュ グリッド (4 つ) を検索してダウンロード\n",
    "2. 同じ Web サイトから、同じ地域とメッシュ サイズの人口統計をダウンロード\n",
    "3. データをインポートして結合します。 これをメッシュと統計データの両方に対して行う\n",
    "4. データのクリーンアップ。 これを避けることはできないステップである😕\n",
    "5. 統計データをメッシュ データに結合する\n",
    "6. 美しい地図を作成！"
   ]
  },
  {
   "attachments": {},
   "cell_type": "markdown",
   "metadata": {},
   "source": [
    "## Libraries"
   ]
  },
  {
   "cell_type": "code",
   "execution_count": null,
   "metadata": {},
   "outputs": [],
   "source": [
    "import geopandas as gpd\n",
    "import pandas as pd\n",
    "import contextily as ctx\n",
    "import plotly.express as px\n",
    "import contextily as cx\n",
    "import numpy as np\n",
    "\n",
    "# set font\n",
    "import matplotlib as mpl\n",
    "\n",
    "# for Mac\n",
    "mpl.rc('font',family='Hiragino Maru Gothic Pro')\n",
    "\n",
    "# for PC\n",
    "# mpl.rc('font',family='MS Gothic')\n"
   ]
  },
  {
   "attachments": {},
   "cell_type": "markdown",
   "metadata": {},
   "source": [
    "## eStat Web サイトから、千葉県の 1km メッシュ グリッド (4 つ) を検索してダウンロード"
   ]
  },
  {
   "attachments": {},
   "cell_type": "markdown",
   "metadata": {},
   "source": [
    "➡️ https://www.e-stat.go.jp/\n",
    "\n",
    "➡️ 地図\n",
    "\n",
    "➡️ 統計データダウンロード\n",
    "\n",
    "➡️ 境界データ\n",
    "\n",
    "➡️ 3次メッシュ（1kmメッシュ）\n",
    "\n",
    "➡️ 世界測地系緯度経度・Shapefile\n",
    "\n",
    "➡️ 都道府県で絞込み\n",
    "\n",
    "➡️ 12 千葉県 (チェック)\n",
    "\n",
    "➡️ M5239, M5240, M5339, M5340 をそれぞれダウンロード\n",
    "\n",
    "➡️ 新しいフォルダー【data】を作成\n",
    "\n",
    "➡️ ダウンロードしたファイル[SDDSW5239.zip, SDDSW5240.zip, SDDSW5339.zip, SDDSW5340.zip,]を data フォルダーに移動"
   ]
  },
  {
   "cell_type": "code",
   "execution_count": null,
   "metadata": {},
   "outputs": [],
   "source": [
    "# 空間データなので geopandas (gpd) でインポート\n",
    "\n",
    "chibamesh1 = gpd.read_file('data/SDDSWS5239.zip')\n",
    "chibamesh2 = gpd.read_file('data/SDDSWS5240.zip')\n",
    "chibamesh3 = gpd.read_file('data/SDDSWS5339.zip')\n",
    "chibamesh4 = gpd.read_file('data/SDDSWS5340.zip')\n"
   ]
  },
  {
   "attachments": {},
   "cell_type": "markdown",
   "metadata": {},
   "source": [
    "### 四つのファイルを統合する"
   ]
  },
  {
   "cell_type": "code",
   "execution_count": null,
   "metadata": {},
   "outputs": [],
   "source": [
    "# combine all four mesh shapes\n",
    "chibamesh = gpd.pd.concat([chibamesh1,chibamesh2,chibamesh3,chibamesh4])"
   ]
  },
  {
   "cell_type": "code",
   "execution_count": null,
   "metadata": {},
   "outputs": [],
   "source": [
    "# quick plot\n",
    "chibamesh.plot(edgecolor='white')"
   ]
  },
  {
   "attachments": {},
   "cell_type": "markdown",
   "metadata": {},
   "source": [
    "## 人口統計をダウンロード\n",
    "\n",
    "➡️ https://www.e-stat.go.jp/\n",
    "\n",
    "➡️ 地図\n",
    "\n",
    "➡️ 統計データダウンロード\n",
    "\n",
    "➡️ 統計データ\n",
    "\n",
    "➡️ 国勢調査\n",
    "\n",
    "➡️ 2020年\n",
    "\n",
    "➡️ 3次メッシュ（1kmメッシュ）\n",
    "\n",
    "➡️ 人口及び世帯\n",
    "\n",
    "➡️ メッシュコードで絞込み（左欄）\n",
    "\n",
    "➡️ M5239, M5240, M5339, M5340 をそれぞれチェックして選択ボタン\n",
    "\n",
    "➡️ それぞれのCSVファイルをダウンロード\n",
    "\n",
    "➡️ ダウンロードしたファイル[tblT001100S5239.zip, tblT001100S5240.zip, tblT001100S5339.zip, tblT001100S5340.zip,]を data フォルダーに移動"
   ]
  },
  {
   "cell_type": "code",
   "execution_count": null,
   "metadata": {},
   "outputs": [],
   "source": [
    "# csvデータなので pandas (pd) でインポート\n",
    "# 文字化け予防のために encoding='cp932' \n",
    "chibadata1 = pd.read_csv('data/tblT001100S5239.zip', encoding='cp932')\n",
    "chibadata4 = pd.read_csv('data/tblT001100S5340.zip', encoding='cp932')\n",
    "chibadata2 = pd.read_csv('data/tblT001100S5240.zip', encoding='cp932')\n",
    "chibadata3 = pd.read_csv('data/tblT001100S5339.zip', encoding='cp932')"
   ]
  },
  {
   "attachments": {},
   "cell_type": "markdown",
   "metadata": {},
   "source": [
    "## Data cleanup"
   ]
  },
  {
   "cell_type": "code",
   "execution_count": null,
   "metadata": {},
   "outputs": [],
   "source": [
    "# check data\n",
    "chibadata1.head()"
   ]
  },
  {
   "attachments": {},
   "cell_type": "markdown",
   "metadata": {},
   "source": [
    "このデータには 2 つの問題があります。\n",
    "\n",
    "まず、最初の行には説明テキストが含まれている（人口（総数）など）。 これは、列を数値にする必要がある統計マップを作成する場合に問題を引き起こします。\n",
    "\n",
    "次に、データに「*」が含まれている。 これも数字以外の文字であるため、問題が発生します。\n",
    "\n",
    "これらに一つ一つ対処していく必要がある。"
   ]
  },
  {
   "attachments": {},
   "cell_type": "markdown",
   "metadata": {},
   "source": [
    "### 問題１：１行目を削除\n",
    "さ、ここで課題です。４つのテーブルから１行目を削除してください。Googleで検索したり、ChatGPTに相談したり、隣の人と話してもオッケー！"
   ]
  },
  {
   "cell_type": "code",
   "execution_count": null,
   "metadata": {},
   "outputs": [],
   "source": [
    "# ４つのテーブルから１行目を削除\n",
    "chibadata1 = chibadata1.iloc[1:]\n",
    "chibadata2 = chibadata2.iloc[1:]\n",
    "chibadata3 = chibadata3.iloc[1:]\n",
    "chibadata4 = chibadata4.iloc[1:]\n"
   ]
  },
  {
   "attachments": {},
   "cell_type": "markdown",
   "metadata": {},
   "source": [
    "### 問題２：「＊」を NaN に置き換え\n",
    "\n",
    "2番目の問題は四つのデータテーブルに「＊」の文字が入っているので、これを全て NaN (非数) に置き換える必要がある。自分で調べて実行してみよう。\n",
    "\n",
    "Hint: `.replace()` 関数を使う"
   ]
  },
  {
   "cell_type": "code",
   "execution_count": null,
   "metadata": {},
   "outputs": [],
   "source": [
    "# ４つのテーブルから「＊」を非数に置き換える\n",
    "chibadata1=chibadata1.replace('*',np.NaN)\n",
    "chibadata2=chibadata2.replace('*',np.NaN)\n",
    "chibadata3=chibadata3.replace('*',np.NaN)\n",
    "chibadata4=chibadata4.replace('*',np.NaN)"
   ]
  },
  {
   "attachments": {},
   "cell_type": "markdown",
   "metadata": {},
   "source": [
    "## ４つのデータを統合\n",
    "\n",
    "クリーンアップされた４つの統計データを一つに統合しよう。これはCSVデータなので pandas の `pd.concat()` 関数を使う。"
   ]
  },
  {
   "cell_type": "code",
   "execution_count": null,
   "metadata": {},
   "outputs": [],
   "source": [
    "chibadata = pd.concat([chibadata1,chibadata2,chibadata3,chibadata4])"
   ]
  },
  {
   "cell_type": "code",
   "execution_count": null,
   "metadata": {},
   "outputs": [],
   "source": [
    "# check data info\n",
    "chibadata.info()"
   ]
  },
  {
   "attachments": {},
   "cell_type": "markdown",
   "metadata": {},
   "source": [
    "おっと！ここでもうひとつ問題発見！データが全て「object」タイプだ！これを数値に変換する必要がある。"
   ]
  },
  {
   "attachments": {},
   "cell_type": "markdown",
   "metadata": {},
   "source": [
    "### データタイプ管理\n",
    "\n",
    "データがobjectだと数値ではないのでマップもチャートも作れません。\n",
    "\n",
    "このデータはカラムの数が多いので、ひとつひとつ変えて行くのは要領が悪いので、すべてのデータ型を一括で変更する方法を説明します。"
   ]
  },
  {
   "cell_type": "code",
   "execution_count": null,
   "metadata": {},
   "outputs": [],
   "source": [
    "# まずはカラムをアウトプット\n",
    "chibadata.columns"
   ]
  },
  {
   "attachments": {},
   "cell_type": "markdown",
   "metadata": {},
   "source": [
    "変換が必要なのは「T0011000」で始まる変数のみなので、このリストの4番目以降になる。\n",
    "\n",
    "では4番目以降のカラムをアウトプットしよう。"
   ]
  },
  {
   "cell_type": "code",
   "execution_count": null,
   "metadata": {},
   "outputs": [],
   "source": [
    "# 4番目以降をアウトプット\n",
    "chibadata.columns[4:]"
   ]
  },
  {
   "cell_type": "code",
   "execution_count": null,
   "metadata": {},
   "outputs": [],
   "source": [
    "# このカラムをテーブル形式で見る\n",
    "chibadata[chibadata.columns[4:]]"
   ]
  },
  {
   "attachments": {},
   "cell_type": "markdown",
   "metadata": {},
   "source": [
    "では一気にobjectからfloatに変換してみよう！"
   ]
  },
  {
   "cell_type": "code",
   "execution_count": 21,
   "metadata": {},
   "outputs": [
    {
     "data": {
      "text/html": [
       "<div>\n",
       "<style scoped>\n",
       "    .dataframe tbody tr th:only-of-type {\n",
       "        vertical-align: middle;\n",
       "    }\n",
       "\n",
       "    .dataframe tbody tr th {\n",
       "        vertical-align: top;\n",
       "    }\n",
       "\n",
       "    .dataframe thead th {\n",
       "        text-align: right;\n",
       "    }\n",
       "</style>\n",
       "<table border=\"1\" class=\"dataframe\">\n",
       "  <thead>\n",
       "    <tr style=\"text-align: right;\">\n",
       "      <th></th>\n",
       "      <th>T001100001</th>\n",
       "      <th>T001100002</th>\n",
       "      <th>T001100003</th>\n",
       "      <th>T001100004</th>\n",
       "      <th>T001100005</th>\n",
       "      <th>T001100006</th>\n",
       "      <th>T001100007</th>\n",
       "      <th>T001100008</th>\n",
       "      <th>T001100009</th>\n",
       "      <th>T001100010</th>\n",
       "      <th>...</th>\n",
       "      <th>T001100041</th>\n",
       "      <th>T001100042</th>\n",
       "      <th>T001100043</th>\n",
       "      <th>T001100044</th>\n",
       "      <th>T001100045</th>\n",
       "      <th>T001100046</th>\n",
       "      <th>T001100047</th>\n",
       "      <th>T001100048</th>\n",
       "      <th>T001100049</th>\n",
       "      <th>T001100050</th>\n",
       "    </tr>\n",
       "  </thead>\n",
       "  <tbody>\n",
       "    <tr>\n",
       "      <th>1</th>\n",
       "      <td>4.0</td>\n",
       "      <td>2.0</td>\n",
       "      <td>2.0</td>\n",
       "      <td>NaN</td>\n",
       "      <td>NaN</td>\n",
       "      <td>NaN</td>\n",
       "      <td>NaN</td>\n",
       "      <td>NaN</td>\n",
       "      <td>NaN</td>\n",
       "      <td>NaN</td>\n",
       "      <td>...</td>\n",
       "      <td>NaN</td>\n",
       "      <td>NaN</td>\n",
       "      <td>NaN</td>\n",
       "      <td>NaN</td>\n",
       "      <td>NaN</td>\n",
       "      <td>NaN</td>\n",
       "      <td>NaN</td>\n",
       "      <td>NaN</td>\n",
       "      <td>NaN</td>\n",
       "      <td>NaN</td>\n",
       "    </tr>\n",
       "    <tr>\n",
       "      <th>2</th>\n",
       "      <td>9.0</td>\n",
       "      <td>6.0</td>\n",
       "      <td>3.0</td>\n",
       "      <td>NaN</td>\n",
       "      <td>NaN</td>\n",
       "      <td>NaN</td>\n",
       "      <td>NaN</td>\n",
       "      <td>NaN</td>\n",
       "      <td>NaN</td>\n",
       "      <td>NaN</td>\n",
       "      <td>...</td>\n",
       "      <td>NaN</td>\n",
       "      <td>NaN</td>\n",
       "      <td>NaN</td>\n",
       "      <td>NaN</td>\n",
       "      <td>NaN</td>\n",
       "      <td>NaN</td>\n",
       "      <td>NaN</td>\n",
       "      <td>NaN</td>\n",
       "      <td>NaN</td>\n",
       "      <td>NaN</td>\n",
       "    </tr>\n",
       "    <tr>\n",
       "      <th>3</th>\n",
       "      <td>14.0</td>\n",
       "      <td>7.0</td>\n",
       "      <td>7.0</td>\n",
       "      <td>0.0</td>\n",
       "      <td>0.0</td>\n",
       "      <td>0.0</td>\n",
       "      <td>26.0</td>\n",
       "      <td>14.0</td>\n",
       "      <td>12.0</td>\n",
       "      <td>19.0</td>\n",
       "      <td>...</td>\n",
       "      <td>0.0</td>\n",
       "      <td>0.0</td>\n",
       "      <td>6.0</td>\n",
       "      <td>6.0</td>\n",
       "      <td>0.0</td>\n",
       "      <td>0.0</td>\n",
       "      <td>6.0</td>\n",
       "      <td>4.0</td>\n",
       "      <td>3.0</td>\n",
       "      <td>1.0</td>\n",
       "    </tr>\n",
       "    <tr>\n",
       "      <th>4</th>\n",
       "      <td>3.0</td>\n",
       "      <td>1.0</td>\n",
       "      <td>2.0</td>\n",
       "      <td>NaN</td>\n",
       "      <td>NaN</td>\n",
       "      <td>NaN</td>\n",
       "      <td>NaN</td>\n",
       "      <td>NaN</td>\n",
       "      <td>NaN</td>\n",
       "      <td>NaN</td>\n",
       "      <td>...</td>\n",
       "      <td>NaN</td>\n",
       "      <td>NaN</td>\n",
       "      <td>NaN</td>\n",
       "      <td>NaN</td>\n",
       "      <td>NaN</td>\n",
       "      <td>NaN</td>\n",
       "      <td>NaN</td>\n",
       "      <td>NaN</td>\n",
       "      <td>NaN</td>\n",
       "      <td>NaN</td>\n",
       "    </tr>\n",
       "    <tr>\n",
       "      <th>5</th>\n",
       "      <td>13.0</td>\n",
       "      <td>11.0</td>\n",
       "      <td>2.0</td>\n",
       "      <td>NaN</td>\n",
       "      <td>NaN</td>\n",
       "      <td>NaN</td>\n",
       "      <td>NaN</td>\n",
       "      <td>NaN</td>\n",
       "      <td>NaN</td>\n",
       "      <td>NaN</td>\n",
       "      <td>...</td>\n",
       "      <td>NaN</td>\n",
       "      <td>NaN</td>\n",
       "      <td>NaN</td>\n",
       "      <td>NaN</td>\n",
       "      <td>NaN</td>\n",
       "      <td>NaN</td>\n",
       "      <td>NaN</td>\n",
       "      <td>NaN</td>\n",
       "      <td>NaN</td>\n",
       "      <td>NaN</td>\n",
       "    </tr>\n",
       "    <tr>\n",
       "      <th>...</th>\n",
       "      <td>...</td>\n",
       "      <td>...</td>\n",
       "      <td>...</td>\n",
       "      <td>...</td>\n",
       "      <td>...</td>\n",
       "      <td>...</td>\n",
       "      <td>...</td>\n",
       "      <td>...</td>\n",
       "      <td>...</td>\n",
       "      <td>...</td>\n",
       "      <td>...</td>\n",
       "      <td>...</td>\n",
       "      <td>...</td>\n",
       "      <td>...</td>\n",
       "      <td>...</td>\n",
       "      <td>...</td>\n",
       "      <td>...</td>\n",
       "      <td>...</td>\n",
       "      <td>...</td>\n",
       "      <td>...</td>\n",
       "      <td>...</td>\n",
       "    </tr>\n",
       "    <tr>\n",
       "      <th>3619</th>\n",
       "      <td>1008.0</td>\n",
       "      <td>508.0</td>\n",
       "      <td>500.0</td>\n",
       "      <td>204.0</td>\n",
       "      <td>94.0</td>\n",
       "      <td>110.0</td>\n",
       "      <td>790.0</td>\n",
       "      <td>404.0</td>\n",
       "      <td>386.0</td>\n",
       "      <td>601.0</td>\n",
       "      <td>...</td>\n",
       "      <td>7.0</td>\n",
       "      <td>6.0</td>\n",
       "      <td>276.0</td>\n",
       "      <td>234.0</td>\n",
       "      <td>42.0</td>\n",
       "      <td>66.0</td>\n",
       "      <td>129.0</td>\n",
       "      <td>4.0</td>\n",
       "      <td>25.0</td>\n",
       "      <td>33.0</td>\n",
       "    </tr>\n",
       "    <tr>\n",
       "      <th>3620</th>\n",
       "      <td>332.0</td>\n",
       "      <td>173.0</td>\n",
       "      <td>159.0</td>\n",
       "      <td>43.0</td>\n",
       "      <td>19.0</td>\n",
       "      <td>24.0</td>\n",
       "      <td>289.0</td>\n",
       "      <td>154.0</td>\n",
       "      <td>135.0</td>\n",
       "      <td>180.0</td>\n",
       "      <td>...</td>\n",
       "      <td>5.0</td>\n",
       "      <td>4.0</td>\n",
       "      <td>86.0</td>\n",
       "      <td>58.0</td>\n",
       "      <td>28.0</td>\n",
       "      <td>12.0</td>\n",
       "      <td>72.0</td>\n",
       "      <td>2.0</td>\n",
       "      <td>18.0</td>\n",
       "      <td>11.0</td>\n",
       "    </tr>\n",
       "    <tr>\n",
       "      <th>3621</th>\n",
       "      <td>194.0</td>\n",
       "      <td>100.0</td>\n",
       "      <td>94.0</td>\n",
       "      <td>18.0</td>\n",
       "      <td>13.0</td>\n",
       "      <td>5.0</td>\n",
       "      <td>175.0</td>\n",
       "      <td>87.0</td>\n",
       "      <td>88.0</td>\n",
       "      <td>115.0</td>\n",
       "      <td>...</td>\n",
       "      <td>3.0</td>\n",
       "      <td>0.0</td>\n",
       "      <td>55.0</td>\n",
       "      <td>39.0</td>\n",
       "      <td>16.0</td>\n",
       "      <td>3.0</td>\n",
       "      <td>36.0</td>\n",
       "      <td>1.0</td>\n",
       "      <td>5.0</td>\n",
       "      <td>7.0</td>\n",
       "    </tr>\n",
       "    <tr>\n",
       "      <th>3622</th>\n",
       "      <td>508.0</td>\n",
       "      <td>245.0</td>\n",
       "      <td>263.0</td>\n",
       "      <td>103.0</td>\n",
       "      <td>44.0</td>\n",
       "      <td>59.0</td>\n",
       "      <td>405.0</td>\n",
       "      <td>201.0</td>\n",
       "      <td>204.0</td>\n",
       "      <td>274.0</td>\n",
       "      <td>...</td>\n",
       "      <td>6.0</td>\n",
       "      <td>5.0</td>\n",
       "      <td>148.0</td>\n",
       "      <td>127.0</td>\n",
       "      <td>21.0</td>\n",
       "      <td>27.0</td>\n",
       "      <td>88.0</td>\n",
       "      <td>0.0</td>\n",
       "      <td>13.0</td>\n",
       "      <td>33.0</td>\n",
       "    </tr>\n",
       "    <tr>\n",
       "      <th>3623</th>\n",
       "      <td>292.0</td>\n",
       "      <td>141.0</td>\n",
       "      <td>151.0</td>\n",
       "      <td>19.0</td>\n",
       "      <td>8.0</td>\n",
       "      <td>11.0</td>\n",
       "      <td>273.0</td>\n",
       "      <td>133.0</td>\n",
       "      <td>140.0</td>\n",
       "      <td>150.0</td>\n",
       "      <td>...</td>\n",
       "      <td>5.0</td>\n",
       "      <td>3.0</td>\n",
       "      <td>86.0</td>\n",
       "      <td>64.0</td>\n",
       "      <td>22.0</td>\n",
       "      <td>3.0</td>\n",
       "      <td>78.0</td>\n",
       "      <td>0.0</td>\n",
       "      <td>12.0</td>\n",
       "      <td>23.0</td>\n",
       "    </tr>\n",
       "  </tbody>\n",
       "</table>\n",
       "<p>10360 rows × 50 columns</p>\n",
       "</div>"
      ],
      "text/plain": [
       "      T001100001  T001100002  T001100003  T001100004  T001100005  T001100006  \\\n",
       "1            4.0         2.0         2.0         NaN         NaN         NaN   \n",
       "2            9.0         6.0         3.0         NaN         NaN         NaN   \n",
       "3           14.0         7.0         7.0         0.0         0.0         0.0   \n",
       "4            3.0         1.0         2.0         NaN         NaN         NaN   \n",
       "5           13.0        11.0         2.0         NaN         NaN         NaN   \n",
       "...          ...         ...         ...         ...         ...         ...   \n",
       "3619      1008.0       508.0       500.0       204.0        94.0       110.0   \n",
       "3620       332.0       173.0       159.0        43.0        19.0        24.0   \n",
       "3621       194.0       100.0        94.0        18.0        13.0         5.0   \n",
       "3622       508.0       245.0       263.0       103.0        44.0        59.0   \n",
       "3623       292.0       141.0       151.0        19.0         8.0        11.0   \n",
       "\n",
       "      T001100007  T001100008  T001100009  T001100010  ...  T001100041  \\\n",
       "1            NaN         NaN         NaN         NaN  ...         NaN   \n",
       "2            NaN         NaN         NaN         NaN  ...         NaN   \n",
       "3           26.0        14.0        12.0        19.0  ...         0.0   \n",
       "4            NaN         NaN         NaN         NaN  ...         NaN   \n",
       "5            NaN         NaN         NaN         NaN  ...         NaN   \n",
       "...          ...         ...         ...         ...  ...         ...   \n",
       "3619       790.0       404.0       386.0       601.0  ...         7.0   \n",
       "3620       289.0       154.0       135.0       180.0  ...         5.0   \n",
       "3621       175.0        87.0        88.0       115.0  ...         3.0   \n",
       "3622       405.0       201.0       204.0       274.0  ...         6.0   \n",
       "3623       273.0       133.0       140.0       150.0  ...         5.0   \n",
       "\n",
       "      T001100042  T001100043  T001100044  T001100045  T001100046  T001100047  \\\n",
       "1            NaN         NaN         NaN         NaN         NaN         NaN   \n",
       "2            NaN         NaN         NaN         NaN         NaN         NaN   \n",
       "3            0.0         6.0         6.0         0.0         0.0         6.0   \n",
       "4            NaN         NaN         NaN         NaN         NaN         NaN   \n",
       "5            NaN         NaN         NaN         NaN         NaN         NaN   \n",
       "...          ...         ...         ...         ...         ...         ...   \n",
       "3619         6.0       276.0       234.0        42.0        66.0       129.0   \n",
       "3620         4.0        86.0        58.0        28.0        12.0        72.0   \n",
       "3621         0.0        55.0        39.0        16.0         3.0        36.0   \n",
       "3622         5.0       148.0       127.0        21.0        27.0        88.0   \n",
       "3623         3.0        86.0        64.0        22.0         3.0        78.0   \n",
       "\n",
       "      T001100048  T001100049  T001100050  \n",
       "1            NaN         NaN         NaN  \n",
       "2            NaN         NaN         NaN  \n",
       "3            4.0         3.0         1.0  \n",
       "4            NaN         NaN         NaN  \n",
       "5            NaN         NaN         NaN  \n",
       "...          ...         ...         ...  \n",
       "3619         4.0        25.0        33.0  \n",
       "3620         2.0        18.0        11.0  \n",
       "3621         1.0         5.0         7.0  \n",
       "3622         0.0        13.0        33.0  \n",
       "3623         0.0        12.0        23.0  \n",
       "\n",
       "[10360 rows x 50 columns]"
      ]
     },
     "execution_count": 21,
     "metadata": {},
     "output_type": "execute_result"
    }
   ],
   "source": [
    "# objectからfloatに変換\n",
    "chibadata[chibadata.columns[4:]].astype(float)"
   ]
  },
  {
   "attachments": {},
   "cell_type": "markdown",
   "metadata": {},
   "source": [
    "いよいよ、元のデータと新しく変換したデータを入れ替える。ここで大事なのは元のデータの4番目以降だけを入れ替えること。"
   ]
  },
  {
   "cell_type": "code",
   "execution_count": null,
   "metadata": {},
   "outputs": [],
   "source": [
    "# 元のデータを入れ替える\n",
    "chibadata[chibadata.columns[4:]]=chibadata[chibadata.columns[4:]].astype(float)"
   ]
  },
  {
   "attachments": {},
   "cell_type": "markdown",
   "metadata": {},
   "source": [
    "さ、必ずうまく行ったかどうかをチェックする。objectがfloatに変わってたら成功！"
   ]
  },
  {
   "cell_type": "code",
   "execution_count": null,
   "metadata": {},
   "outputs": [],
   "source": [
    "# check!\n",
    "chibadata.info()"
   ]
  },
  {
   "attachments": {},
   "cell_type": "markdown",
   "metadata": {},
   "source": [
    "## Join Mesh with Data\n",
    "\n",
    "ついに、結合されたメッシュ データ (chibamesh) と結合されたデータフレーム (chibadata) が完成しました。 最後のステップは、chibadata を chibamesh geodataframe に結合することです。\n",
    "\n",
    "これを行うには、それらを KEY_CODE id 列で結合します。 ただし、chibamesh KEY_CODE 列はオブジェクトであることに注意してください。 まずこれを float に変換しましょう。"
   ]
  },
  {
   "cell_type": "code",
   "execution_count": null,
   "metadata": {},
   "outputs": [],
   "source": [
    "# KEY_CODEをfloatに\n",
    "chibamesh['KEY_CODE']=chibamesh['KEY_CODE'].astype(float)"
   ]
  },
  {
   "attachments": {},
   "cell_type": "markdown",
   "metadata": {},
   "source": [
    "マージを実行する！"
   ]
  },
  {
   "cell_type": "code",
   "execution_count": null,
   "metadata": {},
   "outputs": [],
   "source": [
    "# merge the data\n",
    "chibamesh = chibamesh.merge(chibadata, on='KEY_CODE')"
   ]
  },
  {
   "cell_type": "code",
   "execution_count": null,
   "metadata": {},
   "outputs": [],
   "source": [
    "# check!\n",
    "chibamesh.sample(5)"
   ]
  },
  {
   "attachments": {},
   "cell_type": "markdown",
   "metadata": {},
   "source": [
    "## Map it!\n",
    "\n",
    "As you can see, creating a map is no easy feat. Data is almost always in need to be prepared, cleaned-up, and modified to make it \"map-ready.\" This process is called \"data-wrangling,\" and it represents an inevitable, yet extremely valuable skill in making legitimate and informative maps.\n",
    "\n",
    "Before we begin the mapping process, remember that your data needs to be reprojected to web mercator, which has a crs code of 3867. This is necessary in order to make your data compatible with the basemaps that are made available by the contextily library. \n",
    "\n",
    "ご覧のとおり、マップの作成は簡単ではありません。 データは、ほとんどの場合、「マップ対応」にするために準備、クリーンアップ、および変更する必要があります。 このプロセスは「データラングリング」と呼ばれ、正当で有益な地図を作成する上で避けられないものの、非常に貴重なスキルを表します。\n",
    "\n",
    "マッピング プロセスを開始する前に、データを Web メルカトルに再投影する必要があることに注意してください。Web メルカトルの crs コードは 3867 です。これは、データを contextily ライブラリで利用できるベースマップと互換性を持たせるために必要です。"
   ]
  },
  {
   "cell_type": "code",
   "execution_count": null,
   "metadata": {},
   "outputs": [],
   "source": [
    "# reproject to 3857 (web mercator)\n",
    "chibamesh = chibamesh.to_crs(3857)"
   ]
  },
  {
   "cell_type": "code",
   "execution_count": null,
   "metadata": {},
   "outputs": [],
   "source": [
    "# make a quick plot\n",
    "chibamesh.plot(column='T001100001')"
   ]
  },
  {
   "attachments": {},
   "cell_type": "markdown",
   "metadata": {},
   "source": [
    "問題３："
   ]
  },
  {
   "cell_type": "code",
   "execution_count": null,
   "metadata": {},
   "outputs": [],
   "source": [
    "# population map\n",
    "ax = chibamesh.plot(figsize=(20,20), \n",
    "         column='T001100001',\n",
    "         legend=True,\n",
    "         cmap='hot',\n",
    "         edgecolor='black',\n",
    "         linewidth=0.1, \n",
    "         alpha=0.7,\n",
    "         vmax=10000)\n",
    "\n",
    "# hide axes\n",
    "ax.axis('off')\n",
    "\n",
    "# title\n",
    "ax.set_title('柏市の人口',fontsize=24);\n",
    "\n",
    "# add basemap\n",
    "cx.add_basemap(ax)"
   ]
  },
  {
   "cell_type": "code",
   "execution_count": null,
   "metadata": {},
   "outputs": [],
   "source": [
    "# population map\n",
    "ax = chibamesh.plot(figsize=(30,30),\n",
    "         column='T001100001',\n",
    "         legend=True,\n",
    "         cmap='hot',\n",
    "         edgecolor='black',\n",
    "         linewidth=0.1,\n",
    "         alpha=0.7)\n",
    "\n",
    "# hide axes\n",
    "ax.axis('off')\n",
    "\n",
    "# title\n",
    "ax.set_title('柏市の人口',fontsize=24);\n",
    "\n",
    "# add basemap\n",
    "cx.add_basemap(ax,source=cx.providers.Stamen.TonerLite)\n"
   ]
  },
  {
   "cell_type": "code",
   "execution_count": null,
   "metadata": {},
   "outputs": [],
   "source": []
  }
 ],
 "metadata": {
  "kernelspec": {
   "display_name": "geos",
   "language": "python",
   "name": "python3"
  },
  "language_info": {
   "codemirror_mode": {
    "name": "ipython",
    "version": 3
   },
   "file_extension": ".py",
   "mimetype": "text/x-python",
   "name": "python",
   "nbconvert_exporter": "python",
   "pygments_lexer": "ipython3",
   "version": "3.11.0"
  },
  "orig_nbformat": 4
 },
 "nbformat": 4,
 "nbformat_minor": 2
}
