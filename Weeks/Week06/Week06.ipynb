{
 "cells": [
  {
   "attachments": {},
   "cell_type": "markdown",
   "metadata": {},
   "source": [
    "# Data Exploration: Spreadsheet からデータを持ってくる\n",
    "\n",
    "![Alt text](images/csv%20to%20map.png)\n",
    "\n",
    "先週の課題では一つの地図に複数のマーカーを作りましたね。作る過程で、おそらくマーカーを一つ一つコーディングをしたのではないでしょうか。\n",
    "\n",
    "```python\n",
    "# from Chikashi's homework\n",
    "kaede = [35.83304899572845, 139.9550263688704]\n",
    "asunaro = [35.83218389343381, 139.9559046419524]\n",
    "hiiragi = [35.83432746243043, 139.95492044150396]\n",
    "library = [35.83288620720931, 139.9560383893833]\n",
    "parking = [35.83477548217266, 139.9561361979999]\n",
    "bukastu = [35.83480867733186, 139.95489801198133]\n",
    "```\n",
    "\n",
    "でも、もし100個のマーカーを地図に載せるように言われたらどうする？大変だね！コーディングでやると要領が悪いので、データをspreadsheetで作って、Pythonでインポートしましょう。"
   ]
  },
  {
   "attachments": {},
   "cell_type": "markdown",
   "metadata": {},
   "source": [
    "## CSV ファイルのインポート\n",
    "\n",
    "では、`mydata.csv`　ファイルをインポートしましょう。クラスのサイトからダウンロード\n",
    "\n",
    "確認！\n",
    "- `mydata.csv` ファイルがこのノートブックファイルと同じルーツであることを再確認\n"
   ]
  },
  {
   "attachments": {},
   "cell_type": "markdown",
   "metadata": {},
   "source": [
    "### Library import\n",
    "\n",
    "モジュールを三つ使います：\n",
    "- pandas: to import and work with dataframes\n",
    "- folium: to create interactive maps\n",
    "- matplotlib: to create charts"
   ]
  },
  {
   "cell_type": "code",
   "execution_count": 1,
   "metadata": {},
   "outputs": [],
   "source": [
    "# library import\n",
    "import pandas as pd\n",
    "import folium\n",
    "import matplotlib.pyplot as plt"
   ]
  },
  {
   "attachments": {},
   "cell_type": "markdown",
   "metadata": {},
   "source": [
    "このようにデータを取り込みます。ちなみに `df` は 【dataframe】の略："
   ]
  },
  {
   "cell_type": "code",
   "execution_count": 2,
   "metadata": {},
   "outputs": [],
   "source": [
    "# import the csv file\n",
    "df = pd.read_csv('mydata.csv')"
   ]
  },
  {
   "cell_type": "code",
   "execution_count": 3,
   "metadata": {},
   "outputs": [
    {
     "data": {
      "text/html": [
       "<div>\n",
       "<style scoped>\n",
       "    .dataframe tbody tr th:only-of-type {\n",
       "        vertical-align: middle;\n",
       "    }\n",
       "\n",
       "    .dataframe tbody tr th {\n",
       "        vertical-align: top;\n",
       "    }\n",
       "\n",
       "    .dataframe thead th {\n",
       "        text-align: right;\n",
       "    }\n",
       "</style>\n",
       "<table border=\"1\" class=\"dataframe\">\n",
       "  <thead>\n",
       "    <tr style=\"text-align: right;\">\n",
       "      <th></th>\n",
       "      <th>name</th>\n",
       "      <th>description</th>\n",
       "      <th>latitude</th>\n",
       "      <th>longitude</th>\n",
       "      <th>color</th>\n",
       "    </tr>\n",
       "  </thead>\n",
       "  <tbody>\n",
       "    <tr>\n",
       "      <th>0</th>\n",
       "      <td>校舎「かえで」</td>\n",
       "      <td>校舎名の「かえで」には「楓の果実が2つの種子が密着した姿で、それぞれから翼が伸びる翼果である...</td>\n",
       "      <td>35.833049</td>\n",
       "      <td>139.955026</td>\n",
       "      <td>green</td>\n",
       "    </tr>\n",
       "    <tr>\n",
       "      <th>1</th>\n",
       "      <td>校舎「あすなろ」</td>\n",
       "      <td>麗澤大学開学50周年記念事業の一環として2011年4月\"森と共生するキャンパス\"をコンセプト...</td>\n",
       "      <td>35.832201</td>\n",
       "      <td>139.955906</td>\n",
       "      <td>green</td>\n",
       "    </tr>\n",
       "    <tr>\n",
       "      <th>2</th>\n",
       "      <td>図書館</td>\n",
       "      <td>AVホール・CALL教室を持ち、授業開講時は8:50から19:00（閉講期間中は9:00から...</td>\n",
       "      <td>35.832862</td>\n",
       "      <td>139.955925</td>\n",
       "      <td>green</td>\n",
       "    </tr>\n",
       "    <tr>\n",
       "      <th>3</th>\n",
       "      <td>学生会館「ひいらぎ」</td>\n",
       "      <td>2022年9月にリニューアルオープン。木目とグリーンを基調としたアットホームな雰囲気で、窓か...</td>\n",
       "      <td>35.834304</td>\n",
       "      <td>139.954985</td>\n",
       "      <td>yellow</td>\n",
       "    </tr>\n",
       "    <tr>\n",
       "      <th>4</th>\n",
       "      <td>麗澤大学生涯教育プラザ</td>\n",
       "      <td>2006年（平成18年）2月竣工。大学院、研究センター、情報システム部、麗澤オープンカレッジ...</td>\n",
       "      <td>35.831934</td>\n",
       "      <td>139.956880</td>\n",
       "      <td>green</td>\n",
       "    </tr>\n",
       "  </tbody>\n",
       "</table>\n",
       "</div>"
      ],
      "text/plain": [
       "          name                                        description   latitude  \\\n",
       "0      校舎「かえで」  校舎名の「かえで」には「楓の果実が2つの種子が密着した姿で、それぞれから翼が伸びる翼果である...  35.833049   \n",
       "1     校舎「あすなろ」  麗澤大学開学50周年記念事業の一環として2011年4月\"森と共生するキャンパス\"をコンセプト...  35.832201   \n",
       "2          図書館  AVホール・CALL教室を持ち、授業開講時は8:50から19:00（閉講期間中は9:00から...  35.832862   \n",
       "3   学生会館「ひいらぎ」  2022年9月にリニューアルオープン。木目とグリーンを基調としたアットホームな雰囲気で、窓か...  35.834304   \n",
       "4  麗澤大学生涯教育プラザ  2006年（平成18年）2月竣工。大学院、研究センター、情報システム部、麗澤オープンカレッジ...  35.831934   \n",
       "\n",
       "    longitude   color  \n",
       "0  139.955026   green  \n",
       "1  139.955906   green  \n",
       "2  139.955925   green  \n",
       "3  139.954985  yellow  \n",
       "4  139.956880   green  "
      ]
     },
     "execution_count": 3,
     "metadata": {},
     "output_type": "execute_result"
    }
   ],
   "source": [
    "df"
   ]
  },
  {
   "attachments": {},
   "cell_type": "markdown",
   "metadata": {},
   "source": [
    "## Working with dataframes\n",
    "\n",
    "おめでとう！データの取り込みに成功。それでは基本的なデータを explore するコマンドをいくつか紹介。"
   ]
  },
  {
   "cell_type": "code",
   "execution_count": 4,
   "metadata": {},
   "outputs": [
    {
     "data": {
      "text/plain": [
       "(5, 5)"
      ]
     },
     "execution_count": 4,
     "metadata": {},
     "output_type": "execute_result"
    }
   ],
   "source": [
    "# size of the data (rows, columns)\n",
    "df.shape"
   ]
  },
  {
   "cell_type": "code",
   "execution_count": 5,
   "metadata": {},
   "outputs": [
    {
     "name": "stdout",
     "output_type": "stream",
     "text": [
      "<class 'pandas.core.frame.DataFrame'>\n",
      "RangeIndex: 5 entries, 0 to 4\n",
      "Data columns (total 5 columns):\n",
      " #   Column       Non-Null Count  Dtype  \n",
      "---  ------       --------------  -----  \n",
      " 0   name         5 non-null      object \n",
      " 1   description  5 non-null      object \n",
      " 2   latitude     5 non-null      float64\n",
      " 3   longitude    5 non-null      float64\n",
      " 4   color        5 non-null      object \n",
      "dtypes: float64(2), object(3)\n",
      "memory usage: 328.0+ bytes\n"
     ]
    }
   ],
   "source": [
    "# information about the data\n",
    "df.info()"
   ]
  },
  {
   "attachments": {},
   "cell_type": "markdown",
   "metadata": {},
   "source": [
    "↑ここで確認するのは `latitude` and `longitude` が `float` であること。もし `object` であればデータを作り直す必要がある。"
   ]
  },
  {
   "cell_type": "code",
   "execution_count": 6,
   "metadata": {},
   "outputs": [
    {
     "data": {
      "text/plain": [
       "['name', 'description', 'latitude', 'longitude', 'color']"
      ]
     },
     "execution_count": 6,
     "metadata": {},
     "output_type": "execute_result"
    }
   ],
   "source": [
    "# list of columns\n",
    "df.columns.to_list()"
   ]
  },
  {
   "cell_type": "code",
   "execution_count": 7,
   "metadata": {},
   "outputs": [
    {
     "data": {
      "text/html": [
       "<div>\n",
       "<style scoped>\n",
       "    .dataframe tbody tr th:only-of-type {\n",
       "        vertical-align: middle;\n",
       "    }\n",
       "\n",
       "    .dataframe tbody tr th {\n",
       "        vertical-align: top;\n",
       "    }\n",
       "\n",
       "    .dataframe thead th {\n",
       "        text-align: right;\n",
       "    }\n",
       "</style>\n",
       "<table border=\"1\" class=\"dataframe\">\n",
       "  <thead>\n",
       "    <tr style=\"text-align: right;\">\n",
       "      <th></th>\n",
       "      <th>name</th>\n",
       "      <th>latitude</th>\n",
       "      <th>longitude</th>\n",
       "    </tr>\n",
       "  </thead>\n",
       "  <tbody>\n",
       "    <tr>\n",
       "      <th>0</th>\n",
       "      <td>校舎「かえで」</td>\n",
       "      <td>35.833049</td>\n",
       "      <td>139.955026</td>\n",
       "    </tr>\n",
       "    <tr>\n",
       "      <th>1</th>\n",
       "      <td>校舎「あすなろ」</td>\n",
       "      <td>35.832201</td>\n",
       "      <td>139.955906</td>\n",
       "    </tr>\n",
       "    <tr>\n",
       "      <th>2</th>\n",
       "      <td>図書館</td>\n",
       "      <td>35.832862</td>\n",
       "      <td>139.955925</td>\n",
       "    </tr>\n",
       "    <tr>\n",
       "      <th>3</th>\n",
       "      <td>学生会館「ひいらぎ」</td>\n",
       "      <td>35.834304</td>\n",
       "      <td>139.954985</td>\n",
       "    </tr>\n",
       "    <tr>\n",
       "      <th>4</th>\n",
       "      <td>麗澤大学生涯教育プラザ</td>\n",
       "      <td>35.831934</td>\n",
       "      <td>139.956880</td>\n",
       "    </tr>\n",
       "  </tbody>\n",
       "</table>\n",
       "</div>"
      ],
      "text/plain": [
       "          name   latitude   longitude\n",
       "0      校舎「かえで」  35.833049  139.955026\n",
       "1     校舎「あすなろ」  35.832201  139.955906\n",
       "2          図書館  35.832862  139.955925\n",
       "3   学生会館「ひいらぎ」  35.834304  139.954985\n",
       "4  麗澤大学生涯教育プラザ  35.831934  139.956880"
      ]
     },
     "execution_count": 7,
     "metadata": {},
     "output_type": "execute_result"
    }
   ],
   "source": [
    "# show only specific columns\n",
    "df[['name','latitude','longitude']]"
   ]
  },
  {
   "cell_type": "code",
   "execution_count": 8,
   "metadata": {},
   "outputs": [
    {
     "data": {
      "text/plain": [
       "0    35.833049\n",
       "1    35.832201\n",
       "2    35.832862\n",
       "3    35.834304\n",
       "4    35.831934\n",
       "Name: latitude, dtype: float64"
      ]
     },
     "execution_count": 8,
     "metadata": {},
     "output_type": "execute_result"
    }
   ],
   "source": [
    "# get values for a single column\n",
    "df['latitude']"
   ]
  },
  {
   "cell_type": "code",
   "execution_count": 9,
   "metadata": {},
   "outputs": [
    {
     "data": {
      "text/plain": [
       "[35.833049, 35.83220147, 35.83286248, 35.83430366, 35.83193431]"
      ]
     },
     "execution_count": 9,
     "metadata": {},
     "output_type": "execute_result"
    }
   ],
   "source": [
    "# put those values in a list\n",
    "df['latitude'].to_list()"
   ]
  },
  {
   "attachments": {},
   "cell_type": "markdown",
   "metadata": {},
   "source": [
    "### Charts\n",
    "\n",
    "`matplotlib` を使ってグラフを作成。"
   ]
  },
  {
   "cell_type": "code",
   "execution_count": 10,
   "metadata": {},
   "outputs": [
    {
     "data": {
      "text/plain": [
       "<AxesSubplot: >"
      ]
     },
     "execution_count": 10,
     "metadata": {},
     "output_type": "execute_result"
    },
    {
     "data": {
      "image/png": "[encoded data removed]",
      "text/plain": [
       "<Figure size 640x480 with 1 Axes>"
      ]
     },
     "metadata": {},
     "output_type": "display_data"
    }
   ],
   "source": [
    "# line chart\n",
    "df['latitude'].plot()"
   ]
  },
  {
   "cell_type": "code",
   "execution_count": 11,
   "metadata": {},
   "outputs": [
    {
     "data": {
      "text/plain": [
       "<AxesSubplot: >"
      ]
     },
     "execution_count": 11,
     "metadata": {},
     "output_type": "execute_result"
    },
    {
     "data": {
      "image/png": "[encoded data removed]",
      "text/plain": [
       "<Figure size 640x480 with 1 Axes>"
      ]
     },
     "metadata": {},
     "output_type": "display_data"
    }
   ],
   "source": [
    "# boxplot 箱ヒゲ図\n",
    "df['latitude'].plot.box(color='blue')"
   ]
  },
  {
   "cell_type": "code",
   "execution_count": 12,
   "metadata": {},
   "outputs": [
    {
     "data": {
      "text/plain": [
       "<AxesSubplot: >"
      ]
     },
     "execution_count": 12,
     "metadata": {},
     "output_type": "execute_result"
    },
    {
     "data": {
      "image/png": "[encoded data removed]",
      "text/plain": [
       "<Figure size 640x480 with 1 Axes>"
      ]
     },
     "metadata": {},
     "output_type": "display_data"
    }
   ],
   "source": [
    "# bar graph\n",
    "df['latitude'].plot.bar(color='green')"
   ]
  },
  {
   "cell_type": "code",
   "execution_count": 13,
   "metadata": {},
   "outputs": [
    {
     "data": {
      "text/plain": [
       "<AxesSubplot: xlabel='longitude', ylabel='latitude'>"
      ]
     },
     "execution_count": 13,
     "metadata": {},
     "output_type": "execute_result"
    },
    {
     "data": {
      "image/png": "[encoded data removed]",
      "text/plain": [
       "<Figure size 640x480 with 1 Axes>"
      ]
     },
     "metadata": {},
     "output_type": "display_data"
    }
   ],
   "source": [
    "# scatterplot 散布図\n",
    "# ここの 'c' は df の変数の 'color' を指定\n",
    "# size(s) を変えてみよう\n",
    "df.plot.scatter(x='longitude',y='latitude',c='color',s=50)"
   ]
  },
  {
   "attachments": {},
   "cell_type": "markdown",
   "metadata": {},
   "source": [
    "### Statistics\n",
    "\n",
    "Pythonは統計もできます。"
   ]
  },
  {
   "cell_type": "code",
   "execution_count": 14,
   "metadata": {},
   "outputs": [
    {
     "data": {
      "text/plain": [
       "count     5.000000\n",
       "mean     35.832870\n",
       "std       0.000923\n",
       "min      35.831934\n",
       "25%      35.832201\n",
       "50%      35.832862\n",
       "75%      35.833049\n",
       "max      35.834304\n",
       "Name: latitude, dtype: float64"
      ]
     },
     "execution_count": 14,
     "metadata": {},
     "output_type": "execute_result"
    }
   ],
   "source": [
    "# summary stats\n",
    "df['latitude'].describe()"
   ]
  },
  {
   "cell_type": "code",
   "execution_count": 15,
   "metadata": {},
   "outputs": [
    {
     "data": {
      "text/plain": [
       "count      5.000000\n",
       "mean     139.955745\n",
       "std        0.000781\n",
       "min      139.954985\n",
       "25%      139.955026\n",
       "50%      139.955906\n",
       "75%      139.955925\n",
       "max      139.956880\n",
       "Name: longitude, dtype: float64"
      ]
     },
     "execution_count": 15,
     "metadata": {},
     "output_type": "execute_result"
    }
   ],
   "source": [
    "# summary stats\n",
    "df['longitude'].describe()"
   ]
  },
  {
   "cell_type": "code",
   "execution_count": 16,
   "metadata": {},
   "outputs": [
    {
     "data": {
      "text/plain": [
       "35.832870184"
      ]
     },
     "execution_count": 16,
     "metadata": {},
     "output_type": "execute_result"
    }
   ],
   "source": [
    "# mean 平均値\n",
    "df['latitude'].mean()"
   ]
  },
  {
   "cell_type": "code",
   "execution_count": 17,
   "metadata": {},
   "outputs": [
    {
     "data": {
      "text/plain": [
       "35.83286248"
      ]
     },
     "execution_count": 17,
     "metadata": {},
     "output_type": "execute_result"
    }
   ],
   "source": [
    "# median 中央値\n",
    "df['latitude'].median()"
   ]
  },
  {
   "attachments": {},
   "cell_type": "markdown",
   "metadata": {},
   "source": [
    "では統計を使って、`latitude` and `longitude` の平均値を変数に入れましょう。\n",
    "\n",
    "さて、この平均値は何を意味するのでしょうか？"
   ]
  },
  {
   "cell_type": "code",
   "execution_count": 18,
   "metadata": {},
   "outputs": [
    {
     "name": "stdout",
     "output_type": "stream",
     "text": [
      "35.832870184 139.95574458000002\n"
     ]
    }
   ],
   "source": [
    "# get center lat/lon\n",
    "center_lat = df['latitude'].mean()\n",
    "center_lon = df['longitude'].mean()\n",
    "\n",
    "print(center_lat,center_lon)"
   ]
  },
  {
   "attachments": {},
   "cell_type": "markdown",
   "metadata": {},
   "source": [
    "## Let's loop!\n",
    "\n",
    "プログラミングの基礎の一つである　`for loop`　を使ってデータ `df` の１行ずつアウトプットするには `iterrows()` メソッドを使う。例えば、データの `name` を全部アウトプットするには："
   ]
  },
  {
   "cell_type": "code",
   "execution_count": 19,
   "metadata": {},
   "outputs": [
    {
     "name": "stdout",
     "output_type": "stream",
     "text": [
      "校舎「かえで」\n",
      "校舎「あすなろ」\n",
      "図書館\n",
      "学生会館「ひいらぎ」\n",
      "麗澤大学生涯教育プラザ\n"
     ]
    }
   ],
   "source": [
    "# loop through your data\n",
    "for index, row in df.iterrows():\n",
    "    print(row['name'])"
   ]
  },
  {
   "attachments": {},
   "cell_type": "markdown",
   "metadata": {},
   "source": [
    "このように、`row` の変数は【各行】を意味するので、`for loop` に入っているときは変数名と共に各行の値をアウトプットすることができる。複数の変数をアウトプットも可能："
   ]
  },
  {
   "cell_type": "code",
   "execution_count": 20,
   "metadata": {},
   "outputs": [
    {
     "name": "stdout",
     "output_type": "stream",
     "text": [
      "校舎「かえで」 35.833049 139.9550264\n",
      "校舎「あすなろ」 35.83220147 139.9559064\n",
      "図書館 35.83286248 139.9559251\n",
      "学生会館「ひいらぎ」 35.83430366 139.9549849\n",
      "麗澤大学生涯教育プラザ 35.83193431 139.9568801\n"
     ]
    }
   ],
   "source": [
    "# loop and output multiple column values\n",
    "for index, row in df.iterrows():\n",
    "    print(row['name'],row['latitude'],row['longitude'])"
   ]
  },
  {
   "attachments": {},
   "cell_type": "markdown",
   "metadata": {},
   "source": [
    "### Use the loop in a map\n",
    "\n",
    "それでは、`for loop` を使って、`df` のポイントを一気にマッピングしよう。"
   ]
  },
  {
   "cell_type": "code",
   "execution_count": 29,
   "metadata": {},
   "outputs": [
    {
     "name": "stderr",
     "output_type": "stream",
     "text": [
      "/var/folders/09/7rqr2q_j5z180q4m1333f_qm0000gp/T/ipykernel_1634/2568275816.py:7: UserWarning: color argument of Icon should be one of: {'gray', 'lightblue', 'orange', 'green', 'blue', 'red', 'beige', 'darkblue', 'black', 'lightred', 'darkred', 'lightgray', 'cadetblue', 'purple', 'pink', 'darkgreen', 'darkpurple', 'white', 'lightgreen'}.\n",
      "  folium.Marker(latlon, popup='<div style=\"width:150px\">'+row['description']+'</div>', tooltip=row['name'],icon=folium.Icon(color=row['color'])).add_to(m)\n"
     ]
    },
    {
     "data": {
      "text/html": [
       "<div style=\"width:100%;\"><div style=\"position:relative;width:100%;height:0;padding-bottom:60%;\"><span style=\"color:#565656\">Make this Notebook Trusted to load map: File -> Trust Notebook</span><iframe srcdoc=\"&lt;!DOCTYPE html&gt;\n",
       "&lt;html&gt;\n",
       "&lt;head&gt;\n",
       "    \n",
       "    &lt;meta http-equiv=&quot;content-type&quot; content=&quot;text/html; charset=UTF-8&quot; /&gt;\n",
       "    \n",
       "        &lt;script&gt;\n",
       "            L_NO_TOUCH = false;\n",
       "            L_DISABLE_3D = false;\n",
       "        &lt;/script&gt;\n",
       "    \n",
       "    &lt;style&gt;html, body {width: 100%;height: 100%;margin: 0;padding: 0;}&lt;/style&gt;\n",
       "    &lt;style&gt;#map {position:absolute;top:0;bottom:0;right:0;left:0;}&lt;/style&gt;\n",
       "    &lt;script src=&quot;https://cdn.jsdelivr.net/npm/leaflet@1.9.3/dist/leaflet.js&quot;&gt;&lt;/script&gt;\n",
       "    &lt;script src=&quot;https://code.jquery.com/jquery-1.12.4.min.js&quot;&gt;&lt;/script&gt;\n",
       "    &lt;script src=&quot;https://cdn.jsdelivr.net/npm/bootstrap@5.2.2/dist/js/bootstrap.bundle.min.js&quot;&gt;&lt;/script&gt;\n",
       "    &lt;script src=&quot;https://cdnjs.cloudflare.com/ajax/libs/Leaflet.awesome-markers/2.0.2/leaflet.awesome-markers.js&quot;&gt;&lt;/script&gt;\n",
       "    &lt;link rel=&quot;stylesheet&quot; href=&quot;https://cdn.jsdelivr.net/npm/leaflet@1.9.3/dist/leaflet.css&quot;/&gt;\n",
       "    &lt;link rel=&quot;stylesheet&quot; href=&quot;https://cdn.jsdelivr.net/npm/bootstrap@5.2.2/dist/css/bootstrap.min.css&quot;/&gt;\n",
       "    &lt;link rel=&quot;stylesheet&quot; href=&quot;https://netdna.bootstrapcdn.com/bootstrap/3.0.0/css/bootstrap.min.css&quot;/&gt;\n",
       "    &lt;link rel=&quot;stylesheet&quot; href=&quot;https://cdn.jsdelivr.net/npm/@fortawesome/fontawesome-free@6.2.0/css/all.min.css&quot;/&gt;\n",
       "    &lt;link rel=&quot;stylesheet&quot; href=&quot;https://cdnjs.cloudflare.com/ajax/libs/Leaflet.awesome-markers/2.0.2/leaflet.awesome-markers.css&quot;/&gt;\n",
       "    &lt;link rel=&quot;stylesheet&quot; href=&quot;https://cdn.jsdelivr.net/gh/python-visualization/folium/folium/templates/leaflet.awesome.rotate.min.css&quot;/&gt;\n",
       "    \n",
       "            &lt;meta name=&quot;viewport&quot; content=&quot;width=device-width,\n",
       "                initial-scale=1.0, maximum-scale=1.0, user-scalable=no&quot; /&gt;\n",
       "            &lt;style&gt;\n",
       "                #map_cdd51e35ff9a732897e3dd13583f81ec {\n",
       "                    position: relative;\n",
       "                    width: 100.0%;\n",
       "                    height: 100.0%;\n",
       "                    left: 0.0%;\n",
       "                    top: 0.0%;\n",
       "                }\n",
       "                .leaflet-container { font-size: 1rem; }\n",
       "            &lt;/style&gt;\n",
       "        \n",
       "&lt;/head&gt;\n",
       "&lt;body&gt;\n",
       "    \n",
       "    \n",
       "            &lt;div class=&quot;folium-map&quot; id=&quot;map_cdd51e35ff9a732897e3dd13583f81ec&quot; &gt;&lt;/div&gt;\n",
       "        \n",
       "&lt;/body&gt;\n",
       "&lt;script&gt;\n",
       "    \n",
       "    \n",
       "            var map_cdd51e35ff9a732897e3dd13583f81ec = L.map(\n",
       "                &quot;map_cdd51e35ff9a732897e3dd13583f81ec&quot;,\n",
       "                {\n",
       "                    center: [35.832870184, 139.95574458000002],\n",
       "                    crs: L.CRS.EPSG3857,\n",
       "                    zoom: 17,\n",
       "                    zoomControl: true,\n",
       "                    preferCanvas: false,\n",
       "                }\n",
       "            );\n",
       "\n",
       "            \n",
       "\n",
       "        \n",
       "    \n",
       "            var tile_layer_dc0214205d024c8326a33bdb1112b0ea = L.tileLayer(\n",
       "                &quot;https://{s}.tile.openstreetmap.org/{z}/{x}/{y}.png&quot;,\n",
       "                {&quot;attribution&quot;: &quot;Data by \\u0026copy; \\u003ca target=\\&quot;_blank\\&quot; href=\\&quot;http://openstreetmap.org\\&quot;\\u003eOpenStreetMap\\u003c/a\\u003e, under \\u003ca target=\\&quot;_blank\\&quot; href=\\&quot;http://www.openstreetmap.org/copyright\\&quot;\\u003eODbL\\u003c/a\\u003e.&quot;, &quot;detectRetina&quot;: false, &quot;maxNativeZoom&quot;: 18, &quot;maxZoom&quot;: 18, &quot;minZoom&quot;: 0, &quot;noWrap&quot;: false, &quot;opacity&quot;: 1, &quot;subdomains&quot;: &quot;abc&quot;, &quot;tms&quot;: false}\n",
       "            ).addTo(map_cdd51e35ff9a732897e3dd13583f81ec);\n",
       "        \n",
       "    \n",
       "            var marker_b06e8a68d59ca4749b437534060aa3db = L.marker(\n",
       "                [35.833049, 139.9550264],\n",
       "                {}\n",
       "            ).addTo(map_cdd51e35ff9a732897e3dd13583f81ec);\n",
       "        \n",
       "    \n",
       "            var icon_e5c1e1ee3bcfd719b10c9e9bb97a2de9 = L.AwesomeMarkers.icon(\n",
       "                {&quot;extraClasses&quot;: &quot;fa-rotate-0&quot;, &quot;icon&quot;: &quot;info-sign&quot;, &quot;iconColor&quot;: &quot;white&quot;, &quot;markerColor&quot;: &quot;green&quot;, &quot;prefix&quot;: &quot;glyphicon&quot;}\n",
       "            );\n",
       "            marker_b06e8a68d59ca4749b437534060aa3db.setIcon(icon_e5c1e1ee3bcfd719b10c9e9bb97a2de9);\n",
       "        \n",
       "    \n",
       "        var popup_7071a63d01d3055a5f03bb16bc9c003e = L.popup({&quot;maxWidth&quot;: &quot;100%&quot;});\n",
       "\n",
       "        \n",
       "            \n",
       "                var html_b8fd46e08544503ba7acfd2457598ac8 = $(`&lt;div id=&quot;html_b8fd46e08544503ba7acfd2457598ac8&quot; style=&quot;width: 100.0%; height: 100.0%;&quot;&gt;&lt;div style=&quot;width:150px&quot;&gt;校舎名の「かえで」には「楓の果実が2つの種子が密着した姿で、それぞれから翼が伸びる翼果であることから、仲間同士で切磋琢磨し合い、成長を遂げていくことができる人材の育成を行う」という願いが込められています。&lt;/div&gt;&lt;/div&gt;`)[0];\n",
       "                popup_7071a63d01d3055a5f03bb16bc9c003e.setContent(html_b8fd46e08544503ba7acfd2457598ac8);\n",
       "            \n",
       "        \n",
       "\n",
       "        marker_b06e8a68d59ca4749b437534060aa3db.bindPopup(popup_7071a63d01d3055a5f03bb16bc9c003e)\n",
       "        ;\n",
       "\n",
       "        \n",
       "    \n",
       "    \n",
       "            marker_b06e8a68d59ca4749b437534060aa3db.bindTooltip(\n",
       "                `&lt;div&gt;\n",
       "                     校舎「かえで」\n",
       "                 &lt;/div&gt;`,\n",
       "                {&quot;sticky&quot;: true}\n",
       "            );\n",
       "        \n",
       "    \n",
       "            var marker_08af35d73796e5552c4de056f40eb097 = L.marker(\n",
       "                [35.83220147, 139.9559064],\n",
       "                {}\n",
       "            ).addTo(map_cdd51e35ff9a732897e3dd13583f81ec);\n",
       "        \n",
       "    \n",
       "            var icon_de50a9a5453b1795b18048049e2afeed = L.AwesomeMarkers.icon(\n",
       "                {&quot;extraClasses&quot;: &quot;fa-rotate-0&quot;, &quot;icon&quot;: &quot;info-sign&quot;, &quot;iconColor&quot;: &quot;white&quot;, &quot;markerColor&quot;: &quot;green&quot;, &quot;prefix&quot;: &quot;glyphicon&quot;}\n",
       "            );\n",
       "            marker_08af35d73796e5552c4de056f40eb097.setIcon(icon_de50a9a5453b1795b18048049e2afeed);\n",
       "        \n",
       "    \n",
       "        var popup_fc48550b9b8ef0febcdaab63a2e705d4 = L.popup({&quot;maxWidth&quot;: &quot;100%&quot;});\n",
       "\n",
       "        \n",
       "            \n",
       "                var html_a3b361b972cad24baa8d7250074f4887 = $(`&lt;div id=&quot;html_a3b361b972cad24baa8d7250074f4887&quot; style=&quot;width: 100.0%; height: 100.0%;&quot;&gt;&lt;div style=&quot;width:150px&quot;&gt;麗澤大学開学50周年記念事業の一環として2011年4月&quot;森と共生するキャンパス&quot;をコンセプトに建設された校舎「あすなろ」。このコンセプトが高く評価され、2012年度グッドデザイン賞を受賞しました。&lt;/div&gt;&lt;/div&gt;`)[0];\n",
       "                popup_fc48550b9b8ef0febcdaab63a2e705d4.setContent(html_a3b361b972cad24baa8d7250074f4887);\n",
       "            \n",
       "        \n",
       "\n",
       "        marker_08af35d73796e5552c4de056f40eb097.bindPopup(popup_fc48550b9b8ef0febcdaab63a2e705d4)\n",
       "        ;\n",
       "\n",
       "        \n",
       "    \n",
       "    \n",
       "            marker_08af35d73796e5552c4de056f40eb097.bindTooltip(\n",
       "                `&lt;div&gt;\n",
       "                     校舎「あすなろ」\n",
       "                 &lt;/div&gt;`,\n",
       "                {&quot;sticky&quot;: true}\n",
       "            );\n",
       "        \n",
       "    \n",
       "            var marker_1495032c67d4a28eb779dc5bf70b0f05 = L.marker(\n",
       "                [35.83286248, 139.9559251],\n",
       "                {}\n",
       "            ).addTo(map_cdd51e35ff9a732897e3dd13583f81ec);\n",
       "        \n",
       "    \n",
       "            var icon_481359114e02f09a87747edeb1cab640 = L.AwesomeMarkers.icon(\n",
       "                {&quot;extraClasses&quot;: &quot;fa-rotate-0&quot;, &quot;icon&quot;: &quot;info-sign&quot;, &quot;iconColor&quot;: &quot;white&quot;, &quot;markerColor&quot;: &quot;green&quot;, &quot;prefix&quot;: &quot;glyphicon&quot;}\n",
       "            );\n",
       "            marker_1495032c67d4a28eb779dc5bf70b0f05.setIcon(icon_481359114e02f09a87747edeb1cab640);\n",
       "        \n",
       "    \n",
       "        var popup_f4022ae3868e70d8fb7915bc2f323e5c = L.popup({&quot;maxWidth&quot;: &quot;100%&quot;});\n",
       "\n",
       "        \n",
       "            \n",
       "                var html_a8c88e0adfc05dcc0ab06941938d6763 = $(`&lt;div id=&quot;html_a8c88e0adfc05dcc0ab06941938d6763&quot; style=&quot;width: 100.0%; height: 100.0%;&quot;&gt;&lt;div style=&quot;width:150px&quot;&gt;AVホール・CALL教室を持ち、授業開講時は8:50から19:00（閉講期間中は9:00から16:45）まで利用可能。開架式を採用しており、貴重書を除くほとんどの資料を、自由に閲覧することができます。&lt;br&gt;&lt;br&gt; 開館時間は8：50～19：00（月～金）&lt;br&gt; ※授業閉講時は9：00～16：45まで開館（月～金）&lt;/div&gt;&lt;/div&gt;`)[0];\n",
       "                popup_f4022ae3868e70d8fb7915bc2f323e5c.setContent(html_a8c88e0adfc05dcc0ab06941938d6763);\n",
       "            \n",
       "        \n",
       "\n",
       "        marker_1495032c67d4a28eb779dc5bf70b0f05.bindPopup(popup_f4022ae3868e70d8fb7915bc2f323e5c)\n",
       "        ;\n",
       "\n",
       "        \n",
       "    \n",
       "    \n",
       "            marker_1495032c67d4a28eb779dc5bf70b0f05.bindTooltip(\n",
       "                `&lt;div&gt;\n",
       "                     図書館\n",
       "                 &lt;/div&gt;`,\n",
       "                {&quot;sticky&quot;: true}\n",
       "            );\n",
       "        \n",
       "    \n",
       "            var marker_f95a23e66847ff831a95c45ba02d57ea = L.marker(\n",
       "                [35.83430366, 139.9549849],\n",
       "                {}\n",
       "            ).addTo(map_cdd51e35ff9a732897e3dd13583f81ec);\n",
       "        \n",
       "    \n",
       "            var icon_b4123664ef95f55b24fdf5da4155f0c8 = L.AwesomeMarkers.icon(\n",
       "                {&quot;extraClasses&quot;: &quot;fa-rotate-0&quot;, &quot;icon&quot;: &quot;info-sign&quot;, &quot;iconColor&quot;: &quot;white&quot;, &quot;markerColor&quot;: &quot;yellow&quot;, &quot;prefix&quot;: &quot;glyphicon&quot;}\n",
       "            );\n",
       "            marker_f95a23e66847ff831a95c45ba02d57ea.setIcon(icon_b4123664ef95f55b24fdf5da4155f0c8);\n",
       "        \n",
       "    \n",
       "        var popup_56cdd0cefe7c62956806fa0a38629136 = L.popup({&quot;maxWidth&quot;: &quot;100%&quot;});\n",
       "\n",
       "        \n",
       "            \n",
       "                var html_a7363d6ef641005a277ff6ce25e7dea3 = $(`&lt;div id=&quot;html_a7363d6ef641005a277ff6ce25e7dea3&quot; style=&quot;width: 100.0%; height: 100.0%;&quot;&gt;&lt;div style=&quot;width:150px&quot;&gt;2022年9月にリニューアルオープン。木目とグリーンを基調としたアットホームな雰囲気で、窓から見える「緑」の景色とも調和した作りとなっています。「1人席」や「ソファ席」、「ベンチ席」、「ミーティングルーム」等の様々な空間で過ごせるような工夫がされています。 2階にはカフェコーナーを設置し、焼き立てパン、淹れ立てコーヒー、サーティーワンアイスが購入できます。&lt;/div&gt;&lt;/div&gt;`)[0];\n",
       "                popup_56cdd0cefe7c62956806fa0a38629136.setContent(html_a7363d6ef641005a277ff6ce25e7dea3);\n",
       "            \n",
       "        \n",
       "\n",
       "        marker_f95a23e66847ff831a95c45ba02d57ea.bindPopup(popup_56cdd0cefe7c62956806fa0a38629136)\n",
       "        ;\n",
       "\n",
       "        \n",
       "    \n",
       "    \n",
       "            marker_f95a23e66847ff831a95c45ba02d57ea.bindTooltip(\n",
       "                `&lt;div&gt;\n",
       "                     学生会館「ひいらぎ」\n",
       "                 &lt;/div&gt;`,\n",
       "                {&quot;sticky&quot;: true}\n",
       "            );\n",
       "        \n",
       "    \n",
       "            var marker_eaa64d950e5642cacf7420c90ae38418 = L.marker(\n",
       "                [35.83193431, 139.9568801],\n",
       "                {}\n",
       "            ).addTo(map_cdd51e35ff9a732897e3dd13583f81ec);\n",
       "        \n",
       "    \n",
       "            var icon_46b296f790995c3c8f16bacab4d86a4e = L.AwesomeMarkers.icon(\n",
       "                {&quot;extraClasses&quot;: &quot;fa-rotate-0&quot;, &quot;icon&quot;: &quot;info-sign&quot;, &quot;iconColor&quot;: &quot;white&quot;, &quot;markerColor&quot;: &quot;green&quot;, &quot;prefix&quot;: &quot;glyphicon&quot;}\n",
       "            );\n",
       "            marker_eaa64d950e5642cacf7420c90ae38418.setIcon(icon_46b296f790995c3c8f16bacab4d86a4e);\n",
       "        \n",
       "    \n",
       "        var popup_8a703e85e4868c572e8cce05d0f60ee3 = L.popup({&quot;maxWidth&quot;: &quot;100%&quot;});\n",
       "\n",
       "        \n",
       "            \n",
       "                var html_1371f448abf4ab415f0b0ce6eec35ceb = $(`&lt;div id=&quot;html_1371f448abf4ab415f0b0ce6eec35ceb&quot; style=&quot;width: 100.0%; height: 100.0%;&quot;&gt;&lt;div style=&quot;width:150px&quot;&gt;2006年（平成18年）2月竣工。大学院、研究センター、情報システム部、麗澤オープンカレッジが入る複合施設。教育活動、研究活動、社会貢献活動を積極的に推進し、これからの生涯学習への需要に的確に応えていくことを目的とした建物です。&lt;/div&gt;&lt;/div&gt;`)[0];\n",
       "                popup_8a703e85e4868c572e8cce05d0f60ee3.setContent(html_1371f448abf4ab415f0b0ce6eec35ceb);\n",
       "            \n",
       "        \n",
       "\n",
       "        marker_eaa64d950e5642cacf7420c90ae38418.bindPopup(popup_8a703e85e4868c572e8cce05d0f60ee3)\n",
       "        ;\n",
       "\n",
       "        \n",
       "    \n",
       "    \n",
       "            marker_eaa64d950e5642cacf7420c90ae38418.bindTooltip(\n",
       "                `&lt;div&gt;\n",
       "                     麗澤大学生涯教育プラザ\n",
       "                 &lt;/div&gt;`,\n",
       "                {&quot;sticky&quot;: true}\n",
       "            );\n",
       "        \n",
       "&lt;/script&gt;\n",
       "&lt;/html&gt;\" style=\"position:absolute;width:100%;height:100%;left:0;top:0;border:none !important;\" allowfullscreen webkitallowfullscreen mozallowfullscreen></iframe></div></div>"
      ],
      "text/plain": [
       "<folium.folium.Map at 0x116e0cd10>"
      ]
     },
     "execution_count": 29,
     "metadata": {},
     "output_type": "execute_result"
    }
   ],
   "source": [
    "# make the map\n",
    "m = folium.Map(location=[center_lat,center_lon], zoom_start=17)\n",
    "\n",
    "# loop!\n",
    "for index, row in df.iterrows():\n",
    "    latlon = [row['latitude'],row['longitude']]\n",
    "    folium.Marker(latlon, popup='<div style=\"width:150px\">'+row['description']+'</div>', tooltip=row['name'],icon=folium.Icon(color=row['color'])).add_to(m)\n",
    "\n",
    "# show the map\n",
    "m"
   ]
  },
  {
   "attachments": {},
   "cell_type": "markdown",
   "metadata": {},
   "source": [
    "`popup` の値に注目！\n",
    "\n",
    "<img src=\"images/tate to yoko.png\" width=\"400\">"
   ]
  },
  {
   "attachments": {},
   "cell_type": "markdown",
   "metadata": {},
   "source": [
    "### Basemap 色々\n",
    "\n",
    "デフォルトで使うベースマップは Open Street Map から。でも他にもオプションがいっぱいある。`folium` でマップを作るときに `tiles` と `attr` を指定することによってベースマップの変更が可能になる。\n",
    "\n",
    "日本では国土交通省の国土地理院が様々なベースマップを提供している。以下のURLを `tiles` 変数に指定する。`attr` は `attribute` の略なので、必ず出所を指定する。この場合は `attr=\"国土地理院\"`\n",
    "\n",
    "2007年以降\n",
    "- https://cyberjapandata.gsi.go.jp/xyz/seamlessphoto/{z}/{x}/{y}.jpg\n",
    "\n",
    "1987年～1990年\n",
    "- https://cyberjapandata.gsi.go.jp/xyz/gazo4/{z}/{x}/{y}.jpg\n",
    "\n",
    "1984年～1986年\n",
    "- https://cyberjapandata.gsi.go.jp/xyz/gazo3/{z}/{x}/{y}.jpg\n",
    "\n",
    "1979年～1983年\n",
    "- https://cyberjapandata.gsi.go.jp/xyz/gazo2/{z}/{x}/{y}.jpg\n",
    "\n",
    "1974年～1978年\n",
    "- https://cyberjapandata.gsi.go.jp/xyz/gazo1/{z}/{x}/{y}.jpg\n",
    "\n",
    "1961年～1969年\n",
    "- https://cyberjapandata.gsi.go.jp/xyz/ort_old10/{z}/{x}/{y}.png\n"
   ]
  },
  {
   "cell_type": "code",
   "execution_count": 22,
   "metadata": {},
   "outputs": [
    {
     "name": "stderr",
     "output_type": "stream",
     "text": [
      "/var/folders/09/7rqr2q_j5z180q4m1333f_qm0000gp/T/ipykernel_1634/2233387361.py:19: UserWarning: color argument of Icon should be one of: {'gray', 'lightblue', 'orange', 'green', 'blue', 'red', 'beige', 'darkblue', 'black', 'lightred', 'darkred', 'lightgray', 'cadetblue', 'purple', 'pink', 'darkgreen', 'darkpurple', 'white', 'lightgreen'}.\n",
      "  folium.Marker(latlon, popup='<div style=\"width:150px\">'+row['description']+'</div>', tooltip=row['name'],icon=folium.Icon(color=row['color'])).add_to(m)\n"
     ]
    },
    {
     "data": {
      "text/html": [
       "<div style=\"width:100%;\"><div style=\"position:relative;width:100%;height:0;padding-bottom:60%;\"><span style=\"color:#565656\">Make this Notebook Trusted to load map: File -> Trust Notebook</span><iframe srcdoc=\"&lt;!DOCTYPE html&gt;\n",
       "&lt;html&gt;\n",
       "&lt;head&gt;\n",
       "    \n",
       "    &lt;meta http-equiv=&quot;content-type&quot; content=&quot;text/html; charset=UTF-8&quot; /&gt;\n",
       "    \n",
       "        &lt;script&gt;\n",
       "            L_NO_TOUCH = false;\n",
       "            L_DISABLE_3D = false;\n",
       "        &lt;/script&gt;\n",
       "    \n",
       "    &lt;style&gt;html, body {width: 100%;height: 100%;margin: 0;padding: 0;}&lt;/style&gt;\n",
       "    &lt;style&gt;#map {position:absolute;top:0;bottom:0;right:0;left:0;}&lt;/style&gt;\n",
       "    &lt;script src=&quot;https://cdn.jsdelivr.net/npm/leaflet@1.9.3/dist/leaflet.js&quot;&gt;&lt;/script&gt;\n",
       "    &lt;script src=&quot;https://code.jquery.com/jquery-1.12.4.min.js&quot;&gt;&lt;/script&gt;\n",
       "    &lt;script src=&quot;https://cdn.jsdelivr.net/npm/bootstrap@5.2.2/dist/js/bootstrap.bundle.min.js&quot;&gt;&lt;/script&gt;\n",
       "    &lt;script src=&quot;https://cdnjs.cloudflare.com/ajax/libs/Leaflet.awesome-markers/2.0.2/leaflet.awesome-markers.js&quot;&gt;&lt;/script&gt;\n",
       "    &lt;link rel=&quot;stylesheet&quot; href=&quot;https://cdn.jsdelivr.net/npm/leaflet@1.9.3/dist/leaflet.css&quot;/&gt;\n",
       "    &lt;link rel=&quot;stylesheet&quot; href=&quot;https://cdn.jsdelivr.net/npm/bootstrap@5.2.2/dist/css/bootstrap.min.css&quot;/&gt;\n",
       "    &lt;link rel=&quot;stylesheet&quot; href=&quot;https://netdna.bootstrapcdn.com/bootstrap/3.0.0/css/bootstrap.min.css&quot;/&gt;\n",
       "    &lt;link rel=&quot;stylesheet&quot; href=&quot;https://cdn.jsdelivr.net/npm/@fortawesome/fontawesome-free@6.2.0/css/all.min.css&quot;/&gt;\n",
       "    &lt;link rel=&quot;stylesheet&quot; href=&quot;https://cdnjs.cloudflare.com/ajax/libs/Leaflet.awesome-markers/2.0.2/leaflet.awesome-markers.css&quot;/&gt;\n",
       "    &lt;link rel=&quot;stylesheet&quot; href=&quot;https://cdn.jsdelivr.net/gh/python-visualization/folium/folium/templates/leaflet.awesome.rotate.min.css&quot;/&gt;\n",
       "    \n",
       "            &lt;meta name=&quot;viewport&quot; content=&quot;width=device-width,\n",
       "                initial-scale=1.0, maximum-scale=1.0, user-scalable=no&quot; /&gt;\n",
       "            &lt;style&gt;\n",
       "                #map_07da6f3014a1e6aef86d3a76b33673d3 {\n",
       "                    position: relative;\n",
       "                    width: 100.0%;\n",
       "                    height: 100.0%;\n",
       "                    left: 0.0%;\n",
       "                    top: 0.0%;\n",
       "                }\n",
       "                .leaflet-container { font-size: 1rem; }\n",
       "            &lt;/style&gt;\n",
       "        \n",
       "&lt;/head&gt;\n",
       "&lt;body&gt;\n",
       "    \n",
       "    \n",
       "            &lt;div class=&quot;folium-map&quot; id=&quot;map_07da6f3014a1e6aef86d3a76b33673d3&quot; &gt;&lt;/div&gt;\n",
       "        \n",
       "&lt;/body&gt;\n",
       "&lt;script&gt;\n",
       "    \n",
       "    \n",
       "            var map_07da6f3014a1e6aef86d3a76b33673d3 = L.map(\n",
       "                &quot;map_07da6f3014a1e6aef86d3a76b33673d3&quot;,\n",
       "                {\n",
       "                    center: [35.832870184, 139.95574458000002],\n",
       "                    crs: L.CRS.EPSG3857,\n",
       "                    zoom: 17,\n",
       "                    zoomControl: true,\n",
       "                    preferCanvas: false,\n",
       "                }\n",
       "            );\n",
       "\n",
       "            \n",
       "\n",
       "        \n",
       "    \n",
       "            var tile_layer_efcadbc359080e94cc03908847c51e63 = L.tileLayer(\n",
       "                &quot;https://{s}.tile.openstreetmap.org/{z}/{x}/{y}.png&quot;,\n",
       "                {&quot;attribution&quot;: &quot;Data by \\u0026copy; \\u003ca target=\\&quot;_blank\\&quot; href=\\&quot;http://openstreetmap.org\\&quot;\\u003eOpenStreetMap\\u003c/a\\u003e, under \\u003ca target=\\&quot;_blank\\&quot; href=\\&quot;http://www.openstreetmap.org/copyright\\&quot;\\u003eODbL\\u003c/a\\u003e.&quot;, &quot;detectRetina&quot;: false, &quot;maxNativeZoom&quot;: 18, &quot;maxZoom&quot;: 18, &quot;minZoom&quot;: 0, &quot;noWrap&quot;: false, &quot;opacity&quot;: 1, &quot;subdomains&quot;: &quot;abc&quot;, &quot;tms&quot;: false}\n",
       "            ).addTo(map_07da6f3014a1e6aef86d3a76b33673d3);\n",
       "        \n",
       "    \n",
       "            var tile_layer_e8d2554ad05f02395ffb0f5805618ad2 = L.tileLayer(\n",
       "                &quot;https://cyberjapandata.gsi.go.jp/xyz/seamlessphoto/{z}/{x}/{y}.jpg&quot;,\n",
       "                {&quot;attribution&quot;: &quot;\\u56fd\\u571f\\u5730\\u7406\\u9662&quot;, &quot;detectRetina&quot;: false, &quot;maxNativeZoom&quot;: 18, &quot;maxZoom&quot;: 18, &quot;minZoom&quot;: 0, &quot;noWrap&quot;: false, &quot;opacity&quot;: 1, &quot;subdomains&quot;: &quot;abc&quot;, &quot;tms&quot;: false}\n",
       "            ).addTo(map_07da6f3014a1e6aef86d3a76b33673d3);\n",
       "        \n",
       "    \n",
       "            var tile_layer_e579da2bc432ae75e63b1530a77115d7 = L.tileLayer(\n",
       "                &quot;https://cyberjapandata.gsi.go.jp/xyz/gazo4/{z}/{x}/{y}.jpg&quot;,\n",
       "                {&quot;attribution&quot;: &quot;\\u56fd\\u571f\\u5730\\u7406\\u9662&quot;, &quot;detectRetina&quot;: false, &quot;maxNativeZoom&quot;: 18, &quot;maxZoom&quot;: 18, &quot;minZoom&quot;: 0, &quot;noWrap&quot;: false, &quot;opacity&quot;: 1, &quot;subdomains&quot;: &quot;abc&quot;, &quot;tms&quot;: false}\n",
       "            ).addTo(map_07da6f3014a1e6aef86d3a76b33673d3);\n",
       "        \n",
       "    \n",
       "            var tile_layer_b7813d9649227abc1ece7e9a08e44304 = L.tileLayer(\n",
       "                &quot;https://cyberjapandata.gsi.go.jp/xyz/gazo3/{z}/{x}/{y}.jpg&quot;,\n",
       "                {&quot;attribution&quot;: &quot;\\u56fd\\u571f\\u5730\\u7406\\u9662&quot;, &quot;detectRetina&quot;: false, &quot;maxNativeZoom&quot;: 18, &quot;maxZoom&quot;: 18, &quot;minZoom&quot;: 0, &quot;noWrap&quot;: false, &quot;opacity&quot;: 1, &quot;subdomains&quot;: &quot;abc&quot;, &quot;tms&quot;: false}\n",
       "            ).addTo(map_07da6f3014a1e6aef86d3a76b33673d3);\n",
       "        \n",
       "    \n",
       "            var tile_layer_54f2c9978e093827eb95d48718d8538b = L.tileLayer(\n",
       "                &quot;https://cyberjapandata.gsi.go.jp/xyz/gazo2/{z}/{x}/{y}.jpg&quot;,\n",
       "                {&quot;attribution&quot;: &quot;\\u56fd\\u571f\\u5730\\u7406\\u9662&quot;, &quot;detectRetina&quot;: false, &quot;maxNativeZoom&quot;: 18, &quot;maxZoom&quot;: 18, &quot;minZoom&quot;: 0, &quot;noWrap&quot;: false, &quot;opacity&quot;: 1, &quot;subdomains&quot;: &quot;abc&quot;, &quot;tms&quot;: false}\n",
       "            ).addTo(map_07da6f3014a1e6aef86d3a76b33673d3);\n",
       "        \n",
       "    \n",
       "            var tile_layer_0a91833f09b34faf64256c1ef6b10eca = L.tileLayer(\n",
       "                &quot;https://cyberjapandata.gsi.go.jp/xyz/gazo1/{z}/{x}/{y}.jpg&quot;,\n",
       "                {&quot;attribution&quot;: &quot;\\u56fd\\u571f\\u5730\\u7406\\u9662&quot;, &quot;detectRetina&quot;: false, &quot;maxNativeZoom&quot;: 18, &quot;maxZoom&quot;: 18, &quot;minZoom&quot;: 0, &quot;noWrap&quot;: false, &quot;opacity&quot;: 1, &quot;subdomains&quot;: &quot;abc&quot;, &quot;tms&quot;: false}\n",
       "            ).addTo(map_07da6f3014a1e6aef86d3a76b33673d3);\n",
       "        \n",
       "    \n",
       "            var tile_layer_2f8e2fa886cfdb95ea18e70f3209631a = L.tileLayer(\n",
       "                &quot;https://cyberjapandata.gsi.go.jp/xyz/ort_old10/{z}/{x}/{y}.png&quot;,\n",
       "                {&quot;attribution&quot;: &quot;\\u56fd\\u571f\\u5730\\u7406\\u9662&quot;, &quot;detectRetina&quot;: false, &quot;maxNativeZoom&quot;: 18, &quot;maxZoom&quot;: 18, &quot;minZoom&quot;: 0, &quot;noWrap&quot;: false, &quot;opacity&quot;: 1, &quot;subdomains&quot;: &quot;abc&quot;, &quot;tms&quot;: false}\n",
       "            ).addTo(map_07da6f3014a1e6aef86d3a76b33673d3);\n",
       "        \n",
       "    \n",
       "            var layer_control_77fe80d9cf23b0d002568c7b8ab19506 = {\n",
       "                base_layers : {\n",
       "                    &quot;openstreetmap&quot; : tile_layer_efcadbc359080e94cc03908847c51e63,\n",
       "                    &quot;2007\\u5e74\\u4ee5\\u964d&quot; : tile_layer_e8d2554ad05f02395ffb0f5805618ad2,\n",
       "                    &quot;1987\\u5e74\\uff5e1990\\u5e74&quot; : tile_layer_e579da2bc432ae75e63b1530a77115d7,\n",
       "                    &quot;1984\\u5e74\\uff5e1986\\u5e74&quot; : tile_layer_b7813d9649227abc1ece7e9a08e44304,\n",
       "                    &quot;1979\\u5e74\\uff5e1983\\u5e74&quot; : tile_layer_54f2c9978e093827eb95d48718d8538b,\n",
       "                    &quot;1974\\u5e74\\uff5e1978\\u5e74&quot; : tile_layer_0a91833f09b34faf64256c1ef6b10eca,\n",
       "                    &quot;1961\\u5e74\\uff5e1969\\u5e74&quot; : tile_layer_2f8e2fa886cfdb95ea18e70f3209631a,\n",
       "                },\n",
       "                overlays :  {\n",
       "                },\n",
       "            };\n",
       "            L.control.layers(\n",
       "                layer_control_77fe80d9cf23b0d002568c7b8ab19506.base_layers,\n",
       "                layer_control_77fe80d9cf23b0d002568c7b8ab19506.overlays,\n",
       "                {&quot;autoZIndex&quot;: true, &quot;collapsed&quot;: true, &quot;position&quot;: &quot;topright&quot;}\n",
       "            ).addTo(map_07da6f3014a1e6aef86d3a76b33673d3);\n",
       "            tile_layer_e8d2554ad05f02395ffb0f5805618ad2.remove();\n",
       "            tile_layer_e579da2bc432ae75e63b1530a77115d7.remove();\n",
       "            tile_layer_b7813d9649227abc1ece7e9a08e44304.remove();\n",
       "            tile_layer_54f2c9978e093827eb95d48718d8538b.remove();\n",
       "            tile_layer_0a91833f09b34faf64256c1ef6b10eca.remove();\n",
       "            tile_layer_2f8e2fa886cfdb95ea18e70f3209631a.remove();\n",
       "        \n",
       "    \n",
       "            var marker_9cedd0917e1d6fa117d2329cd681ef10 = L.marker(\n",
       "                [35.833049, 139.9550264],\n",
       "                {}\n",
       "            ).addTo(map_07da6f3014a1e6aef86d3a76b33673d3);\n",
       "        \n",
       "    \n",
       "            var icon_451df7fbaea09766543604ff0c072afc = L.AwesomeMarkers.icon(\n",
       "                {&quot;extraClasses&quot;: &quot;fa-rotate-0&quot;, &quot;icon&quot;: &quot;info-sign&quot;, &quot;iconColor&quot;: &quot;white&quot;, &quot;markerColor&quot;: &quot;green&quot;, &quot;prefix&quot;: &quot;glyphicon&quot;}\n",
       "            );\n",
       "            marker_9cedd0917e1d6fa117d2329cd681ef10.setIcon(icon_451df7fbaea09766543604ff0c072afc);\n",
       "        \n",
       "    \n",
       "        var popup_faa943492baa41b7af32554f5a789975 = L.popup({&quot;maxWidth&quot;: &quot;100%&quot;});\n",
       "\n",
       "        \n",
       "            \n",
       "                var html_5005876702607c218fd8b6e05d3cd073 = $(`&lt;div id=&quot;html_5005876702607c218fd8b6e05d3cd073&quot; style=&quot;width: 100.0%; height: 100.0%;&quot;&gt;&lt;div style=&quot;width:150px&quot;&gt;校舎名の「かえで」には「楓の果実が2つの種子が密着した姿で、それぞれから翼が伸びる翼果であることから、仲間同士で切磋琢磨し合い、成長を遂げていくことができる人材の育成を行う」という願いが込められています。&lt;/div&gt;&lt;/div&gt;`)[0];\n",
       "                popup_faa943492baa41b7af32554f5a789975.setContent(html_5005876702607c218fd8b6e05d3cd073);\n",
       "            \n",
       "        \n",
       "\n",
       "        marker_9cedd0917e1d6fa117d2329cd681ef10.bindPopup(popup_faa943492baa41b7af32554f5a789975)\n",
       "        ;\n",
       "\n",
       "        \n",
       "    \n",
       "    \n",
       "            marker_9cedd0917e1d6fa117d2329cd681ef10.bindTooltip(\n",
       "                `&lt;div&gt;\n",
       "                     校舎「かえで」\n",
       "                 &lt;/div&gt;`,\n",
       "                {&quot;sticky&quot;: true}\n",
       "            );\n",
       "        \n",
       "    \n",
       "            var marker_f87b908a31b42126f9a481db08e7134f = L.marker(\n",
       "                [35.83220147, 139.9559064],\n",
       "                {}\n",
       "            ).addTo(map_07da6f3014a1e6aef86d3a76b33673d3);\n",
       "        \n",
       "    \n",
       "            var icon_a19e02fdeb54e64e070a7b5f6c343aa0 = L.AwesomeMarkers.icon(\n",
       "                {&quot;extraClasses&quot;: &quot;fa-rotate-0&quot;, &quot;icon&quot;: &quot;info-sign&quot;, &quot;iconColor&quot;: &quot;white&quot;, &quot;markerColor&quot;: &quot;green&quot;, &quot;prefix&quot;: &quot;glyphicon&quot;}\n",
       "            );\n",
       "            marker_f87b908a31b42126f9a481db08e7134f.setIcon(icon_a19e02fdeb54e64e070a7b5f6c343aa0);\n",
       "        \n",
       "    \n",
       "        var popup_b98c1b178b9fcfd86b008e39a54cb63c = L.popup({&quot;maxWidth&quot;: &quot;100%&quot;});\n",
       "\n",
       "        \n",
       "            \n",
       "                var html_5a0c9a934bb57f352e74d9d2dec27d8c = $(`&lt;div id=&quot;html_5a0c9a934bb57f352e74d9d2dec27d8c&quot; style=&quot;width: 100.0%; height: 100.0%;&quot;&gt;&lt;div style=&quot;width:150px&quot;&gt;麗澤大学開学50周年記念事業の一環として2011年4月&quot;森と共生するキャンパス&quot;をコンセプトに建設された校舎「あすなろ」。このコンセプトが高く評価され、2012年度グッドデザイン賞を受賞しました。&lt;/div&gt;&lt;/div&gt;`)[0];\n",
       "                popup_b98c1b178b9fcfd86b008e39a54cb63c.setContent(html_5a0c9a934bb57f352e74d9d2dec27d8c);\n",
       "            \n",
       "        \n",
       "\n",
       "        marker_f87b908a31b42126f9a481db08e7134f.bindPopup(popup_b98c1b178b9fcfd86b008e39a54cb63c)\n",
       "        ;\n",
       "\n",
       "        \n",
       "    \n",
       "    \n",
       "            marker_f87b908a31b42126f9a481db08e7134f.bindTooltip(\n",
       "                `&lt;div&gt;\n",
       "                     校舎「あすなろ」\n",
       "                 &lt;/div&gt;`,\n",
       "                {&quot;sticky&quot;: true}\n",
       "            );\n",
       "        \n",
       "    \n",
       "            var marker_95508ef5e18427ace425fb566c47868c = L.marker(\n",
       "                [35.83286248, 139.9559251],\n",
       "                {}\n",
       "            ).addTo(map_07da6f3014a1e6aef86d3a76b33673d3);\n",
       "        \n",
       "    \n",
       "            var icon_5860ba1a29c8c9f91e1e0e027a7b022a = L.AwesomeMarkers.icon(\n",
       "                {&quot;extraClasses&quot;: &quot;fa-rotate-0&quot;, &quot;icon&quot;: &quot;info-sign&quot;, &quot;iconColor&quot;: &quot;white&quot;, &quot;markerColor&quot;: &quot;green&quot;, &quot;prefix&quot;: &quot;glyphicon&quot;}\n",
       "            );\n",
       "            marker_95508ef5e18427ace425fb566c47868c.setIcon(icon_5860ba1a29c8c9f91e1e0e027a7b022a);\n",
       "        \n",
       "    \n",
       "        var popup_460e10870fa4de0a25169b37705dd849 = L.popup({&quot;maxWidth&quot;: &quot;100%&quot;});\n",
       "\n",
       "        \n",
       "            \n",
       "                var html_5ae2bf00da38ff5b654be45f39ea33cd = $(`&lt;div id=&quot;html_5ae2bf00da38ff5b654be45f39ea33cd&quot; style=&quot;width: 100.0%; height: 100.0%;&quot;&gt;&lt;div style=&quot;width:150px&quot;&gt;AVホール・CALL教室を持ち、授業開講時は8:50から19:00（閉講期間中は9:00から16:45）まで利用可能。開架式を採用しており、貴重書を除くほとんどの資料を、自由に閲覧することができます。&lt;br&gt;&lt;br&gt; 開館時間は8：50～19：00（月～金）&lt;br&gt; ※授業閉講時は9：00～16：45まで開館（月～金）&lt;/div&gt;&lt;/div&gt;`)[0];\n",
       "                popup_460e10870fa4de0a25169b37705dd849.setContent(html_5ae2bf00da38ff5b654be45f39ea33cd);\n",
       "            \n",
       "        \n",
       "\n",
       "        marker_95508ef5e18427ace425fb566c47868c.bindPopup(popup_460e10870fa4de0a25169b37705dd849)\n",
       "        ;\n",
       "\n",
       "        \n",
       "    \n",
       "    \n",
       "            marker_95508ef5e18427ace425fb566c47868c.bindTooltip(\n",
       "                `&lt;div&gt;\n",
       "                     図書館\n",
       "                 &lt;/div&gt;`,\n",
       "                {&quot;sticky&quot;: true}\n",
       "            );\n",
       "        \n",
       "    \n",
       "            var marker_2b06438b02a86aa2e8ae4ec75d3ad34a = L.marker(\n",
       "                [35.83430366, 139.9549849],\n",
       "                {}\n",
       "            ).addTo(map_07da6f3014a1e6aef86d3a76b33673d3);\n",
       "        \n",
       "    \n",
       "            var icon_b4dfb0c58d6edf028e317c023f57550a = L.AwesomeMarkers.icon(\n",
       "                {&quot;extraClasses&quot;: &quot;fa-rotate-0&quot;, &quot;icon&quot;: &quot;info-sign&quot;, &quot;iconColor&quot;: &quot;white&quot;, &quot;markerColor&quot;: &quot;yellow&quot;, &quot;prefix&quot;: &quot;glyphicon&quot;}\n",
       "            );\n",
       "            marker_2b06438b02a86aa2e8ae4ec75d3ad34a.setIcon(icon_b4dfb0c58d6edf028e317c023f57550a);\n",
       "        \n",
       "    \n",
       "        var popup_4a82a3b7b86302c94725ede62ae8e6e2 = L.popup({&quot;maxWidth&quot;: &quot;100%&quot;});\n",
       "\n",
       "        \n",
       "            \n",
       "                var html_98a8018bc20c79742d10ada2f7e2eff9 = $(`&lt;div id=&quot;html_98a8018bc20c79742d10ada2f7e2eff9&quot; style=&quot;width: 100.0%; height: 100.0%;&quot;&gt;&lt;div style=&quot;width:150px&quot;&gt;2022年9月にリニューアルオープン。木目とグリーンを基調としたアットホームな雰囲気で、窓から見える「緑」の景色とも調和した作りとなっています。「1人席」や「ソファ席」、「ベンチ席」、「ミーティングルーム」等の様々な空間で過ごせるような工夫がされています。 2階にはカフェコーナーを設置し、焼き立てパン、淹れ立てコーヒー、サーティーワンアイスが購入できます。&lt;/div&gt;&lt;/div&gt;`)[0];\n",
       "                popup_4a82a3b7b86302c94725ede62ae8e6e2.setContent(html_98a8018bc20c79742d10ada2f7e2eff9);\n",
       "            \n",
       "        \n",
       "\n",
       "        marker_2b06438b02a86aa2e8ae4ec75d3ad34a.bindPopup(popup_4a82a3b7b86302c94725ede62ae8e6e2)\n",
       "        ;\n",
       "\n",
       "        \n",
       "    \n",
       "    \n",
       "            marker_2b06438b02a86aa2e8ae4ec75d3ad34a.bindTooltip(\n",
       "                `&lt;div&gt;\n",
       "                     学生会館「ひいらぎ」\n",
       "                 &lt;/div&gt;`,\n",
       "                {&quot;sticky&quot;: true}\n",
       "            );\n",
       "        \n",
       "    \n",
       "            var marker_4f710e98abc5053985f7049e3567092f = L.marker(\n",
       "                [35.83193431, 139.9568801],\n",
       "                {}\n",
       "            ).addTo(map_07da6f3014a1e6aef86d3a76b33673d3);\n",
       "        \n",
       "    \n",
       "            var icon_ff4ef51d6cf6bd40cf47c6e3b0cc3ef2 = L.AwesomeMarkers.icon(\n",
       "                {&quot;extraClasses&quot;: &quot;fa-rotate-0&quot;, &quot;icon&quot;: &quot;info-sign&quot;, &quot;iconColor&quot;: &quot;white&quot;, &quot;markerColor&quot;: &quot;green&quot;, &quot;prefix&quot;: &quot;glyphicon&quot;}\n",
       "            );\n",
       "            marker_4f710e98abc5053985f7049e3567092f.setIcon(icon_ff4ef51d6cf6bd40cf47c6e3b0cc3ef2);\n",
       "        \n",
       "    \n",
       "        var popup_ccf8e069bf5f98aacf17294594d5beb2 = L.popup({&quot;maxWidth&quot;: &quot;100%&quot;});\n",
       "\n",
       "        \n",
       "            \n",
       "                var html_851d3c59bd792c700f8cce5c5e1f4042 = $(`&lt;div id=&quot;html_851d3c59bd792c700f8cce5c5e1f4042&quot; style=&quot;width: 100.0%; height: 100.0%;&quot;&gt;&lt;div style=&quot;width:150px&quot;&gt;2006年（平成18年）2月竣工。大学院、研究センター、情報システム部、麗澤オープンカレッジが入る複合施設。教育活動、研究活動、社会貢献活動を積極的に推進し、これからの生涯学習への需要に的確に応えていくことを目的とした建物です。&lt;/div&gt;&lt;/div&gt;`)[0];\n",
       "                popup_ccf8e069bf5f98aacf17294594d5beb2.setContent(html_851d3c59bd792c700f8cce5c5e1f4042);\n",
       "            \n",
       "        \n",
       "\n",
       "        marker_4f710e98abc5053985f7049e3567092f.bindPopup(popup_ccf8e069bf5f98aacf17294594d5beb2)\n",
       "        ;\n",
       "\n",
       "        \n",
       "    \n",
       "    \n",
       "            marker_4f710e98abc5053985f7049e3567092f.bindTooltip(\n",
       "                `&lt;div&gt;\n",
       "                     麗澤大学生涯教育プラザ\n",
       "                 &lt;/div&gt;`,\n",
       "                {&quot;sticky&quot;: true}\n",
       "            );\n",
       "        \n",
       "&lt;/script&gt;\n",
       "&lt;/html&gt;\" style=\"position:absolute;width:100%;height:100%;left:0;top:0;border:none !important;\" allowfullscreen webkitallowfullscreen mozallowfullscreen></iframe></div></div>"
      ],
      "text/plain": [
       "<folium.folium.Map at 0x116999f50>"
      ]
     },
     "execution_count": 22,
     "metadata": {},
     "output_type": "execute_result"
    }
   ],
   "source": [
    "# make the map\n",
    "m = folium.Map(location=[center_lat,center_lon], \n",
    "               zoom_start=17,\n",
    "               attr = '国土地理院')\n",
    "\n",
    "# add basemaps\n",
    "folium.TileLayer(name='2007年以降',tiles='https://cyberjapandata.gsi.go.jp/xyz/seamlessphoto/{z}/{x}/{y}.jpg',attr='国土地理院').add_to(m)\n",
    "folium.TileLayer(name='1987年～1990年',tiles='https://cyberjapandata.gsi.go.jp/xyz/gazo4/{z}/{x}/{y}.jpg',attr='国土地理院').add_to(m)\n",
    "folium.TileLayer(name='1984年～1986年',tiles='https://cyberjapandata.gsi.go.jp/xyz/gazo3/{z}/{x}/{y}.jpg',attr='国土地理院').add_to(m)\n",
    "folium.TileLayer(name='1979年～1983年',tiles='https://cyberjapandata.gsi.go.jp/xyz/gazo2/{z}/{x}/{y}.jpg',attr='国土地理院').add_to(m)\n",
    "folium.TileLayer(name='1974年～1978年',tiles='https://cyberjapandata.gsi.go.jp/xyz/gazo1/{z}/{x}/{y}.jpg',attr='国土地理院').add_to(m)\n",
    "folium.TileLayer(name='1961年～1969年',tiles='https://cyberjapandata.gsi.go.jp/xyz/ort_old10/{z}/{x}/{y}.png',attr='国土地理院').add_to(m)\n",
    "\n",
    "# basemapが選べるボタンをマップに足す\n",
    "folium.LayerControl().add_to(m)\n",
    "\n",
    "# add points\n",
    "for index, row in df.iterrows():\n",
    "    latlon = [row['latitude'],row['longitude']]\n",
    "    folium.Marker(latlon, popup='<div style=\"width:150px\">'+row['description']+'</div>', tooltip=row['name'],icon=folium.Icon(color=row['color'])).add_to(m)\n",
    "\n",
    "# show the map\n",
    "m\n",
    "\n"
   ]
  },
  {
   "attachments": {},
   "cell_type": "markdown",
   "metadata": {},
   "source": [
    "# Extra topic: Mapping Earthquakes\n",
    "\n",
    "世界の地震のデータをリアルタイムで提供しているのは United States Geological Survey (USGS)。このデータをcsv fileとしてダウンロードできるが、直接アクセスすることも可能である。この場合、 `csv` ではなく `geojson` というファイルフォーマットを使う。`geojson` はこれからも使うので、とりあえず、ここで紹介！\n",
    "\n",
    "`geojson` を扱うには新しいライブラリー【geopandas】を使う必要がある。\n",
    "\n",
    "[USGSの地震マップ](https://earthquake.usgs.gov/earthquakes/map/?extent=-82.76537,-120.23438&extent=84.9593,298.47656)"
   ]
  },
  {
   "cell_type": "code",
   "execution_count": 23,
   "metadata": {},
   "outputs": [],
   "source": [
    "import geopandas as gpd"
   ]
  },
  {
   "attachments": {},
   "cell_type": "markdown",
   "metadata": {},
   "source": [
    "`geopandas` を使ってUSGSからのリアルタイムデータを読み込む。`gdf` とは `geodataframe` の略である。"
   ]
  },
  {
   "cell_type": "code",
   "execution_count": 24,
   "metadata": {},
   "outputs": [],
   "source": [
    "gdf = gpd.read_file('https://earthquake.usgs.gov/earthquakes/feed/v1.0/summary/2.5_day.geojson')"
   ]
  },
  {
   "cell_type": "code",
   "execution_count": 25,
   "metadata": {},
   "outputs": [
    {
     "data": {
      "text/html": [
       "<div>\n",
       "<style scoped>\n",
       "    .dataframe tbody tr th:only-of-type {\n",
       "        vertical-align: middle;\n",
       "    }\n",
       "\n",
       "    .dataframe tbody tr th {\n",
       "        vertical-align: top;\n",
       "    }\n",
       "\n",
       "    .dataframe thead th {\n",
       "        text-align: right;\n",
       "    }\n",
       "</style>\n",
       "<table border=\"1\" class=\"dataframe\">\n",
       "  <thead>\n",
       "    <tr style=\"text-align: right;\">\n",
       "      <th></th>\n",
       "      <th>id</th>\n",
       "      <th>mag</th>\n",
       "      <th>place</th>\n",
       "      <th>time</th>\n",
       "      <th>updated</th>\n",
       "      <th>tz</th>\n",
       "      <th>url</th>\n",
       "      <th>detail</th>\n",
       "      <th>felt</th>\n",
       "      <th>cdi</th>\n",
       "      <th>...</th>\n",
       "      <th>sources</th>\n",
       "      <th>types</th>\n",
       "      <th>nst</th>\n",
       "      <th>dmin</th>\n",
       "      <th>rms</th>\n",
       "      <th>gap</th>\n",
       "      <th>magType</th>\n",
       "      <th>type</th>\n",
       "      <th>title</th>\n",
       "      <th>geometry</th>\n",
       "    </tr>\n",
       "  </thead>\n",
       "  <tbody>\n",
       "    <tr>\n",
       "      <th>0</th>\n",
       "      <td>us7000k3e0</td>\n",
       "      <td>2.90</td>\n",
       "      <td>56 km S of Whites City, New Mexico</td>\n",
       "      <td>1684897693621</td>\n",
       "      <td>1684898053040</td>\n",
       "      <td>NaN</td>\n",
       "      <td>https://earthquake.usgs.gov/earthquakes/eventp...</td>\n",
       "      <td>https://earthquake.usgs.gov/earthquakes/feed/v...</td>\n",
       "      <td>NaN</td>\n",
       "      <td>NaN</td>\n",
       "      <td>...</td>\n",
       "      <td>,us,</td>\n",
       "      <td>,origin,phase-data,</td>\n",
       "      <td>32.0</td>\n",
       "      <td>0.1430</td>\n",
       "      <td>0.66</td>\n",
       "      <td>54.0</td>\n",
       "      <td>ml</td>\n",
       "      <td>earthquake</td>\n",
       "      <td>M 2.9 - 56 km S of Whites City, New Mexico</td>\n",
       "      <td>POINT Z (-104.33360 31.66390 6.59000)</td>\n",
       "    </tr>\n",
       "    <tr>\n",
       "      <th>1</th>\n",
       "      <td>pr71410688</td>\n",
       "      <td>2.50</td>\n",
       "      <td>20 km S of Guánica, Puerto Rico</td>\n",
       "      <td>1684895635890</td>\n",
       "      <td>1684896220160</td>\n",
       "      <td>NaN</td>\n",
       "      <td>https://earthquake.usgs.gov/earthquakes/eventp...</td>\n",
       "      <td>https://earthquake.usgs.gov/earthquakes/feed/v...</td>\n",
       "      <td>NaN</td>\n",
       "      <td>NaN</td>\n",
       "      <td>...</td>\n",
       "      <td>,pr,</td>\n",
       "      <td>,origin,phase-data,</td>\n",
       "      <td>7.0</td>\n",
       "      <td>0.1842</td>\n",
       "      <td>0.10</td>\n",
       "      <td>270.0</td>\n",
       "      <td>md</td>\n",
       "      <td>earthquake</td>\n",
       "      <td>M 2.5 - 20 km S of Guánica, Puerto Rico</td>\n",
       "      <td>POINT Z (-66.89567 17.79050 6.23000)</td>\n",
       "    </tr>\n",
       "    <tr>\n",
       "      <th>2</th>\n",
       "      <td>nc73889245</td>\n",
       "      <td>2.96</td>\n",
       "      <td>3km NNE of Almanor, CA</td>\n",
       "      <td>1684894542450</td>\n",
       "      <td>1684897148749</td>\n",
       "      <td>NaN</td>\n",
       "      <td>https://earthquake.usgs.gov/earthquakes/eventp...</td>\n",
       "      <td>https://earthquake.usgs.gov/earthquakes/feed/v...</td>\n",
       "      <td>14.0</td>\n",
       "      <td>3.8</td>\n",
       "      <td>...</td>\n",
       "      <td>,nc,</td>\n",
       "      <td>,dyfi,focal-mechanism,nearby-cities,origin,pha...</td>\n",
       "      <td>33.0</td>\n",
       "      <td>0.3279</td>\n",
       "      <td>0.16</td>\n",
       "      <td>37.0</td>\n",
       "      <td>ml</td>\n",
       "      <td>earthquake</td>\n",
       "      <td>M 3.0 - 3km NNE of Almanor, CA</td>\n",
       "      <td>POINT Z (-121.16450 40.23833 -1.06000)</td>\n",
       "    </tr>\n",
       "    <tr>\n",
       "      <th>3</th>\n",
       "      <td>us7000k3ds</td>\n",
       "      <td>4.70</td>\n",
       "      <td>Southwest Indian Ridge</td>\n",
       "      <td>1684892906501</td>\n",
       "      <td>1684893822040</td>\n",
       "      <td>NaN</td>\n",
       "      <td>https://earthquake.usgs.gov/earthquakes/eventp...</td>\n",
       "      <td>https://earthquake.usgs.gov/earthquakes/feed/v...</td>\n",
       "      <td>NaN</td>\n",
       "      <td>NaN</td>\n",
       "      <td>...</td>\n",
       "      <td>,us,</td>\n",
       "      <td>,origin,phase-data,</td>\n",
       "      <td>22.0</td>\n",
       "      <td>19.4860</td>\n",
       "      <td>0.77</td>\n",
       "      <td>89.0</td>\n",
       "      <td>mb</td>\n",
       "      <td>earthquake</td>\n",
       "      <td>M 4.7 - Southwest Indian Ridge</td>\n",
       "      <td>POINT Z (42.72360 -40.87200 10.00000)</td>\n",
       "    </tr>\n",
       "    <tr>\n",
       "      <th>4</th>\n",
       "      <td>us7000k3d7</td>\n",
       "      <td>5.20</td>\n",
       "      <td>40 km SSW of Maitum, Philippines</td>\n",
       "      <td>1684889046683</td>\n",
       "      <td>1684891507505</td>\n",
       "      <td>NaN</td>\n",
       "      <td>https://earthquake.usgs.gov/earthquakes/eventp...</td>\n",
       "      <td>https://earthquake.usgs.gov/earthquakes/feed/v...</td>\n",
       "      <td>4.0</td>\n",
       "      <td>4.3</td>\n",
       "      <td>...</td>\n",
       "      <td>,us,</td>\n",
       "      <td>,dyfi,origin,phase-data,</td>\n",
       "      <td>80.0</td>\n",
       "      <td>1.8150</td>\n",
       "      <td>0.75</td>\n",
       "      <td>75.0</td>\n",
       "      <td>mww</td>\n",
       "      <td>earthquake</td>\n",
       "      <td>M 5.2 - 40 km SSW of Maitum, Philippines</td>\n",
       "      <td>POINT Z (124.37850 5.69260 10.00000)</td>\n",
       "    </tr>\n",
       "  </tbody>\n",
       "</table>\n",
       "<p>5 rows × 28 columns</p>\n",
       "</div>"
      ],
      "text/plain": [
       "           id   mag                               place           time  \\\n",
       "0  us7000k3e0  2.90  56 km S of Whites City, New Mexico  1684897693621   \n",
       "1  pr71410688  2.50     20 km S of Guánica, Puerto Rico  1684895635890   \n",
       "2  nc73889245  2.96              3km NNE of Almanor, CA  1684894542450   \n",
       "3  us7000k3ds  4.70              Southwest Indian Ridge  1684892906501   \n",
       "4  us7000k3d7  5.20    40 km SSW of Maitum, Philippines  1684889046683   \n",
       "\n",
       "         updated  tz                                                url  \\\n",
       "0  1684898053040 NaN  https://earthquake.usgs.gov/earthquakes/eventp...   \n",
       "1  1684896220160 NaN  https://earthquake.usgs.gov/earthquakes/eventp...   \n",
       "2  1684897148749 NaN  https://earthquake.usgs.gov/earthquakes/eventp...   \n",
       "3  1684893822040 NaN  https://earthquake.usgs.gov/earthquakes/eventp...   \n",
       "4  1684891507505 NaN  https://earthquake.usgs.gov/earthquakes/eventp...   \n",
       "\n",
       "                                              detail  felt  cdi  ...  sources  \\\n",
       "0  https://earthquake.usgs.gov/earthquakes/feed/v...   NaN  NaN  ...     ,us,   \n",
       "1  https://earthquake.usgs.gov/earthquakes/feed/v...   NaN  NaN  ...     ,pr,   \n",
       "2  https://earthquake.usgs.gov/earthquakes/feed/v...  14.0  3.8  ...     ,nc,   \n",
       "3  https://earthquake.usgs.gov/earthquakes/feed/v...   NaN  NaN  ...     ,us,   \n",
       "4  https://earthquake.usgs.gov/earthquakes/feed/v...   4.0  4.3  ...     ,us,   \n",
       "\n",
       "                                               types   nst     dmin   rms  \\\n",
       "0                                ,origin,phase-data,  32.0   0.1430  0.66   \n",
       "1                                ,origin,phase-data,   7.0   0.1842  0.10   \n",
       "2  ,dyfi,focal-mechanism,nearby-cities,origin,pha...  33.0   0.3279  0.16   \n",
       "3                                ,origin,phase-data,  22.0  19.4860  0.77   \n",
       "4                           ,dyfi,origin,phase-data,  80.0   1.8150  0.75   \n",
       "\n",
       "     gap magType        type                                       title  \\\n",
       "0   54.0      ml  earthquake  M 2.9 - 56 km S of Whites City, New Mexico   \n",
       "1  270.0      md  earthquake     M 2.5 - 20 km S of Guánica, Puerto Rico   \n",
       "2   37.0      ml  earthquake              M 3.0 - 3km NNE of Almanor, CA   \n",
       "3   89.0      mb  earthquake              M 4.7 - Southwest Indian Ridge   \n",
       "4   75.0     mww  earthquake    M 5.2 - 40 km SSW of Maitum, Philippines   \n",
       "\n",
       "                                 geometry  \n",
       "0   POINT Z (-104.33360 31.66390 6.59000)  \n",
       "1    POINT Z (-66.89567 17.79050 6.23000)  \n",
       "2  POINT Z (-121.16450 40.23833 -1.06000)  \n",
       "3   POINT Z (42.72360 -40.87200 10.00000)  \n",
       "4    POINT Z (124.37850 5.69260 10.00000)  \n",
       "\n",
       "[5 rows x 28 columns]"
      ]
     },
     "execution_count": 25,
     "metadata": {},
     "output_type": "execute_result"
    }
   ],
   "source": [
    "# use head to output first 5 rows\n",
    "gdf.head()"
   ]
  },
  {
   "cell_type": "code",
   "execution_count": 26,
   "metadata": {},
   "outputs": [
    {
     "data": {
      "text/html": [
       "<div style=\"width:100%;\"><div style=\"position:relative;width:100%;height:0;padding-bottom:60%;\"><span style=\"color:#565656\">Make this Notebook Trusted to load map: File -> Trust Notebook</span><iframe srcdoc=\"&lt;!DOCTYPE html&gt;\n",
       "&lt;html&gt;\n",
       "&lt;head&gt;\n",
       "    \n",
       "    &lt;meta http-equiv=&quot;content-type&quot; content=&quot;text/html; charset=UTF-8&quot; /&gt;\n",
       "    \n",
       "        &lt;script&gt;\n",
       "            L_NO_TOUCH = false;\n",
       "            L_DISABLE_3D = false;\n",
       "        &lt;/script&gt;\n",
       "    \n",
       "    &lt;style&gt;html, body {width: 100%;height: 100%;margin: 0;padding: 0;}&lt;/style&gt;\n",
       "    &lt;style&gt;#map {position:absolute;top:0;bottom:0;right:0;left:0;}&lt;/style&gt;\n",
       "    &lt;script src=&quot;https://cdn.jsdelivr.net/npm/leaflet@1.9.3/dist/leaflet.js&quot;&gt;&lt;/script&gt;\n",
       "    &lt;script src=&quot;https://code.jquery.com/jquery-1.12.4.min.js&quot;&gt;&lt;/script&gt;\n",
       "    &lt;script src=&quot;https://cdn.jsdelivr.net/npm/bootstrap@5.2.2/dist/js/bootstrap.bundle.min.js&quot;&gt;&lt;/script&gt;\n",
       "    &lt;script src=&quot;https://cdnjs.cloudflare.com/ajax/libs/Leaflet.awesome-markers/2.0.2/leaflet.awesome-markers.js&quot;&gt;&lt;/script&gt;\n",
       "    &lt;link rel=&quot;stylesheet&quot; href=&quot;https://cdn.jsdelivr.net/npm/leaflet@1.9.3/dist/leaflet.css&quot;/&gt;\n",
       "    &lt;link rel=&quot;stylesheet&quot; href=&quot;https://cdn.jsdelivr.net/npm/bootstrap@5.2.2/dist/css/bootstrap.min.css&quot;/&gt;\n",
       "    &lt;link rel=&quot;stylesheet&quot; href=&quot;https://netdna.bootstrapcdn.com/bootstrap/3.0.0/css/bootstrap.min.css&quot;/&gt;\n",
       "    &lt;link rel=&quot;stylesheet&quot; href=&quot;https://cdn.jsdelivr.net/npm/@fortawesome/fontawesome-free@6.2.0/css/all.min.css&quot;/&gt;\n",
       "    &lt;link rel=&quot;stylesheet&quot; href=&quot;https://cdnjs.cloudflare.com/ajax/libs/Leaflet.awesome-markers/2.0.2/leaflet.awesome-markers.css&quot;/&gt;\n",
       "    &lt;link rel=&quot;stylesheet&quot; href=&quot;https://cdn.jsdelivr.net/gh/python-visualization/folium/folium/templates/leaflet.awesome.rotate.min.css&quot;/&gt;\n",
       "    \n",
       "            &lt;meta name=&quot;viewport&quot; content=&quot;width=device-width,\n",
       "                initial-scale=1.0, maximum-scale=1.0, user-scalable=no&quot; /&gt;\n",
       "            &lt;style&gt;\n",
       "                #map_94b87e65adc80c419378536dfe558156 {\n",
       "                    position: relative;\n",
       "                    width: 100.0%;\n",
       "                    height: 100.0%;\n",
       "                    left: 0.0%;\n",
       "                    top: 0.0%;\n",
       "                }\n",
       "                .leaflet-container { font-size: 1rem; }\n",
       "            &lt;/style&gt;\n",
       "        \n",
       "    \n",
       "                    &lt;style&gt;\n",
       "                        .foliumtooltip {\n",
       "                            \n",
       "                        }\n",
       "                       .foliumtooltip table{\n",
       "                            margin: auto;\n",
       "                        }\n",
       "                        .foliumtooltip tr{\n",
       "                            text-align: left;\n",
       "                        }\n",
       "                        .foliumtooltip th{\n",
       "                            padding: 2px; padding-right: 8px;\n",
       "                        }\n",
       "                    &lt;/style&gt;\n",
       "            \n",
       "&lt;/head&gt;\n",
       "&lt;body&gt;\n",
       "    \n",
       "    \n",
       "            &lt;div class=&quot;folium-map&quot; id=&quot;map_94b87e65adc80c419378536dfe558156&quot; &gt;&lt;/div&gt;\n",
       "        \n",
       "&lt;/body&gt;\n",
       "&lt;script&gt;\n",
       "    \n",
       "    \n",
       "            var map_94b87e65adc80c419378536dfe558156 = L.map(\n",
       "                &quot;map_94b87e65adc80c419378536dfe558156&quot;,\n",
       "                {\n",
       "                    center: [0.0, 0.0],\n",
       "                    crs: L.CRS.EPSG3857,\n",
       "                    zoom: 1,\n",
       "                    zoomControl: true,\n",
       "                    preferCanvas: false,\n",
       "                }\n",
       "            );\n",
       "\n",
       "            \n",
       "\n",
       "        \n",
       "    \n",
       "            var tile_layer_faa63b9eb75e93a05bfec23e47e7fc8f = L.tileLayer(\n",
       "                &quot;https://server.arcgisonline.com/ArcGIS/rest/services/World_Imagery/MapServer/tile/{z}/{y}/{x}&quot;,\n",
       "                {&quot;attribution&quot;: &quot;ESRI&quot;, &quot;detectRetina&quot;: false, &quot;maxNativeZoom&quot;: 18, &quot;maxZoom&quot;: 18, &quot;minZoom&quot;: 0, &quot;noWrap&quot;: false, &quot;opacity&quot;: 1, &quot;subdomains&quot;: &quot;abc&quot;, &quot;tms&quot;: false}\n",
       "            ).addTo(map_94b87e65adc80c419378536dfe558156);\n",
       "        \n",
       "    \n",
       "\n",
       "        function geo_json_0b8136bc686b2452832051d5185e520c_onEachFeature(feature, layer) {\n",
       "            layer.on({\n",
       "            });\n",
       "        };\n",
       "        var geo_json_0b8136bc686b2452832051d5185e520c = L.geoJson(null, {\n",
       "                onEachFeature: geo_json_0b8136bc686b2452832051d5185e520c_onEachFeature,\n",
       "            \n",
       "        });\n",
       "\n",
       "        function geo_json_0b8136bc686b2452832051d5185e520c_add (data) {\n",
       "            geo_json_0b8136bc686b2452832051d5185e520c\n",
       "                .addData(data)\n",
       "                .addTo(map_94b87e65adc80c419378536dfe558156);\n",
       "        }\n",
       "            geo_json_0b8136bc686b2452832051d5185e520c_add({&quot;bbox&quot;: [-179.5808, -40.872, 178.5681, 60.4206], &quot;features&quot;: [{&quot;bbox&quot;: [-104.3336, 31.6639, -104.3336, 31.6639], &quot;geometry&quot;: {&quot;coordinates&quot;: [-104.3336, 31.6639, 6.59], &quot;type&quot;: &quot;Point&quot;}, &quot;id&quot;: &quot;0&quot;, &quot;properties&quot;: {&quot;alert&quot;: null, &quot;cdi&quot;: null, &quot;code&quot;: &quot;7000k3e0&quot;, &quot;detail&quot;: &quot;https://earthquake.usgs.gov/earthquakes/feed/v1.0/detail/us7000k3e0.geojson&quot;, &quot;dmin&quot;: 0.143, &quot;felt&quot;: null, &quot;gap&quot;: 54.0, &quot;id&quot;: &quot;us7000k3e0&quot;, &quot;ids&quot;: &quot;,us7000k3e0,&quot;, &quot;mag&quot;: 2.9, &quot;magType&quot;: &quot;ml&quot;, &quot;mmi&quot;: null, &quot;net&quot;: &quot;us&quot;, &quot;nst&quot;: 32.0, &quot;place&quot;: &quot;56 km S of Whites City, New Mexico&quot;, &quot;rms&quot;: 0.66, &quot;sig&quot;: 129, &quot;sources&quot;: &quot;,us,&quot;, &quot;status&quot;: &quot;reviewed&quot;, &quot;time&quot;: 1684897693621, &quot;title&quot;: &quot;M 2.9 - 56 km S of Whites City, New Mexico&quot;, &quot;tsunami&quot;: 0, &quot;type&quot;: &quot;earthquake&quot;, &quot;types&quot;: &quot;,origin,phase-data,&quot;, &quot;tz&quot;: null, &quot;updated&quot;: 1684898053040, &quot;url&quot;: &quot;https://earthquake.usgs.gov/earthquakes/eventpage/us7000k3e0&quot;}, &quot;type&quot;: &quot;Feature&quot;}, {&quot;bbox&quot;: [-66.8956666666667, 17.7905, -66.8956666666667, 17.7905], &quot;geometry&quot;: {&quot;coordinates&quot;: [-66.8956666666667, 17.7905, 6.23], &quot;type&quot;: &quot;Point&quot;}, &quot;id&quot;: &quot;1&quot;, &quot;properties&quot;: {&quot;alert&quot;: null, &quot;cdi&quot;: null, &quot;code&quot;: &quot;71410688&quot;, &quot;detail&quot;: &quot;https://earthquake.usgs.gov/earthquakes/feed/v1.0/detail/pr71410688.geojson&quot;, &quot;dmin&quot;: 0.1842, &quot;felt&quot;: null, &quot;gap&quot;: 270.0, &quot;id&quot;: &quot;pr71410688&quot;, &quot;ids&quot;: &quot;,pr71410688,&quot;, &quot;mag&quot;: 2.5, &quot;magType&quot;: &quot;md&quot;, &quot;mmi&quot;: null, &quot;net&quot;: &quot;pr&quot;, &quot;nst&quot;: 7.0, &quot;place&quot;: &quot;20 km S of Gu\\u00e1nica, Puerto Rico&quot;, &quot;rms&quot;: 0.1, &quot;sig&quot;: 96, &quot;sources&quot;: &quot;,pr,&quot;, &quot;status&quot;: &quot;reviewed&quot;, &quot;time&quot;: 1684895635890, &quot;title&quot;: &quot;M 2.5 - 20 km S of Gu\\u00e1nica, Puerto Rico&quot;, &quot;tsunami&quot;: 0, &quot;type&quot;: &quot;earthquake&quot;, &quot;types&quot;: &quot;,origin,phase-data,&quot;, &quot;tz&quot;: null, &quot;updated&quot;: 1684896220160, &quot;url&quot;: &quot;https://earthquake.usgs.gov/earthquakes/eventpage/pr71410688&quot;}, &quot;type&quot;: &quot;Feature&quot;}, {&quot;bbox&quot;: [-121.1644974, 40.2383347, -121.1644974, 40.2383347], &quot;geometry&quot;: {&quot;coordinates&quot;: [-121.1644974, 40.2383347, -1.06], &quot;type&quot;: &quot;Point&quot;}, &quot;id&quot;: &quot;2&quot;, &quot;properties&quot;: {&quot;alert&quot;: null, &quot;cdi&quot;: 3.8, &quot;code&quot;: &quot;73889245&quot;, &quot;detail&quot;: &quot;https://earthquake.usgs.gov/earthquakes/feed/v1.0/detail/nc73889245.geojson&quot;, &quot;dmin&quot;: 0.3279, &quot;felt&quot;: 14.0, &quot;gap&quot;: 37.0, &quot;id&quot;: &quot;nc73889245&quot;, &quot;ids&quot;: &quot;,nc73889245,&quot;, &quot;mag&quot;: 2.96, &quot;magType&quot;: &quot;ml&quot;, &quot;mmi&quot;: null, &quot;net&quot;: &quot;nc&quot;, &quot;nst&quot;: 33.0, &quot;place&quot;: &quot;3km NNE of Almanor, CA&quot;, &quot;rms&quot;: 0.16, &quot;sig&quot;: 140, &quot;sources&quot;: &quot;,nc,&quot;, &quot;status&quot;: &quot;automatic&quot;, &quot;time&quot;: 1684894542450, &quot;title&quot;: &quot;M 3.0 - 3km NNE of Almanor, CA&quot;, &quot;tsunami&quot;: 0, &quot;type&quot;: &quot;earthquake&quot;, &quot;types&quot;: &quot;,dyfi,focal-mechanism,nearby-cities,origin,phase-data,scitech-link,&quot;, &quot;tz&quot;: null, &quot;updated&quot;: 1684897148749, &quot;url&quot;: &quot;https://earthquake.usgs.gov/earthquakes/eventpage/nc73889245&quot;}, &quot;type&quot;: &quot;Feature&quot;}, {&quot;bbox&quot;: [42.7236, -40.872, 42.7236, -40.872], &quot;geometry&quot;: {&quot;coordinates&quot;: [42.7236, -40.872, 10.0], &quot;type&quot;: &quot;Point&quot;}, &quot;id&quot;: &quot;3&quot;, &quot;properties&quot;: {&quot;alert&quot;: null, &quot;cdi&quot;: null, &quot;code&quot;: &quot;7000k3ds&quot;, &quot;detail&quot;: &quot;https://earthquake.usgs.gov/earthquakes/feed/v1.0/detail/us7000k3ds.geojson&quot;, &quot;dmin&quot;: 19.486, &quot;felt&quot;: null, &quot;gap&quot;: 89.0, &quot;id&quot;: &quot;us7000k3ds&quot;, &quot;ids&quot;: &quot;,us7000k3ds,&quot;, &quot;mag&quot;: 4.7, &quot;magType&quot;: &quot;mb&quot;, &quot;mmi&quot;: null, &quot;net&quot;: &quot;us&quot;, &quot;nst&quot;: 22.0, &quot;place&quot;: &quot;Southwest Indian Ridge&quot;, &quot;rms&quot;: 0.77, &quot;sig&quot;: 340, &quot;sources&quot;: &quot;,us,&quot;, &quot;status&quot;: &quot;reviewed&quot;, &quot;time&quot;: 1684892906501, &quot;title&quot;: &quot;M 4.7 - Southwest Indian Ridge&quot;, &quot;tsunami&quot;: 0, &quot;type&quot;: &quot;earthquake&quot;, &quot;types&quot;: &quot;,origin,phase-data,&quot;, &quot;tz&quot;: null, &quot;updated&quot;: 1684893822040, &quot;url&quot;: &quot;https://earthquake.usgs.gov/earthquakes/eventpage/us7000k3ds&quot;}, &quot;type&quot;: &quot;Feature&quot;}, {&quot;bbox&quot;: [124.3785, 5.6926, 124.3785, 5.6926], &quot;geometry&quot;: {&quot;coordinates&quot;: [124.3785, 5.6926, 10.0], &quot;type&quot;: &quot;Point&quot;}, &quot;id&quot;: &quot;4&quot;, &quot;properties&quot;: {&quot;alert&quot;: null, &quot;cdi&quot;: 4.3, &quot;code&quot;: &quot;7000k3d7&quot;, &quot;detail&quot;: &quot;https://earthquake.usgs.gov/earthquakes/feed/v1.0/detail/us7000k3d7.geojson&quot;, &quot;dmin&quot;: 1.815, &quot;felt&quot;: 4.0, &quot;gap&quot;: 75.0, &quot;id&quot;: &quot;us7000k3d7&quot;, &quot;ids&quot;: &quot;,us7000k3d7,&quot;, &quot;mag&quot;: 5.2, &quot;magType&quot;: &quot;mww&quot;, &quot;mmi&quot;: null, &quot;net&quot;: &quot;us&quot;, &quot;nst&quot;: 80.0, &quot;place&quot;: &quot;40 km SSW of Maitum, Philippines&quot;, &quot;rms&quot;: 0.75, &quot;sig&quot;: 418, &quot;sources&quot;: &quot;,us,&quot;, &quot;status&quot;: &quot;reviewed&quot;, &quot;time&quot;: 1684889046683, &quot;title&quot;: &quot;M 5.2 - 40 km SSW of Maitum, Philippines&quot;, &quot;tsunami&quot;: 0, &quot;type&quot;: &quot;earthquake&quot;, &quot;types&quot;: &quot;,dyfi,origin,phase-data,&quot;, &quot;tz&quot;: null, &quot;updated&quot;: 1684891507505, &quot;url&quot;: &quot;https://earthquake.usgs.gov/earthquakes/eventpage/us7000k3d7&quot;}, &quot;type&quot;: &quot;Feature&quot;}, {&quot;bbox&quot;: [-117.5841667, 37.2783333, -117.5841667, 37.2783333], &quot;geometry&quot;: {&quot;coordinates&quot;: [-117.5841667, 37.2783333, 6.16], &quot;type&quot;: &quot;Point&quot;}, &quot;id&quot;: &quot;5&quot;, &quot;properties&quot;: {&quot;alert&quot;: null, &quot;cdi&quot;: 2.2, &quot;code&quot;: &quot;40232623&quot;, &quot;detail&quot;: &quot;https://earthquake.usgs.gov/earthquakes/feed/v1.0/detail/ci40232623.geojson&quot;, &quot;dmin&quot;: 0.06695, &quot;felt&quot;: 1.0, &quot;gap&quot;: 170.0, &quot;id&quot;: &quot;ci40232623&quot;, &quot;ids&quot;: &quot;,us7000k3d6,nc73889220,ci40232623,nn00860230,&quot;, &quot;mag&quot;: 3.04, &quot;magType&quot;: &quot;ml&quot;, &quot;mmi&quot;: null, &quot;net&quot;: &quot;ci&quot;, &quot;nst&quot;: 14.0, &quot;place&quot;: &quot;64km ENE of Big Pine, CA&quot;, &quot;rms&quot;: 0.16, &quot;sig&quot;: 142, &quot;sources&quot;: &quot;,us,nc,ci,nn,&quot;, &quot;status&quot;: &quot;reviewed&quot;, &quot;time&quot;: 1684888225200, &quot;title&quot;: &quot;M 3.0 - 64km ENE of Big Pine, CA&quot;, &quot;tsunami&quot;: 0, &quot;type&quot;: &quot;earthquake&quot;, &quot;types&quot;: &quot;,dyfi,focal-mechanism,nearby-cities,origin,phase-data,scitech-link,&quot;, &quot;tz&quot;: null, &quot;updated&quot;: 1684891254300, &quot;url&quot;: &quot;https://earthquake.usgs.gov/earthquakes/eventpage/ci40232623&quot;}, &quot;type&quot;: &quot;Feature&quot;}, {&quot;bbox&quot;: [-179.5808, -24.4148, -179.5808, -24.4148], &quot;geometry&quot;: {&quot;coordinates&quot;: [-179.5808, -24.4148, 441.059], &quot;type&quot;: &quot;Point&quot;}, &quot;id&quot;: &quot;6&quot;, &quot;properties&quot;: {&quot;alert&quot;: null, &quot;cdi&quot;: null, &quot;code&quot;: &quot;7000k3cw&quot;, &quot;detail&quot;: &quot;https://earthquake.usgs.gov/earthquakes/feed/v1.0/detail/us7000k3cw.geojson&quot;, &quot;dmin&quot;: 5.05, &quot;felt&quot;: null, &quot;gap&quot;: 103.0, &quot;id&quot;: &quot;us7000k3cw&quot;, &quot;ids&quot;: &quot;,us7000k3cw,&quot;, &quot;mag&quot;: 4.8, &quot;magType&quot;: &quot;mb&quot;, &quot;mmi&quot;: null, &quot;net&quot;: &quot;us&quot;, &quot;nst&quot;: 75.0, &quot;place&quot;: &quot;south of the Fiji Islands&quot;, &quot;rms&quot;: 0.92, &quot;sig&quot;: 354, &quot;sources&quot;: &quot;,us,&quot;, &quot;status&quot;: &quot;reviewed&quot;, &quot;time&quot;: 1684885695229, &quot;title&quot;: &quot;M 4.8 - south of the Fiji Islands&quot;, &quot;tsunami&quot;: 0, &quot;type&quot;: &quot;earthquake&quot;, &quot;types&quot;: &quot;,origin,phase-data,&quot;, &quot;tz&quot;: null, &quot;updated&quot;: 1684886680040, &quot;url&quot;: &quot;https://earthquake.usgs.gov/earthquakes/eventpage/us7000k3cw&quot;}, &quot;type&quot;: &quot;Feature&quot;}, {&quot;bbox&quot;: [-82.887, 35.5665, -82.887, 35.5665], &quot;geometry&quot;: {&quot;coordinates&quot;: [-82.887, 35.5665, 1.054], &quot;type&quot;: &quot;Point&quot;}, &quot;id&quot;: &quot;7&quot;, &quot;properties&quot;: {&quot;alert&quot;: null, &quot;cdi&quot;: 4.3, &quot;code&quot;: &quot;7000k3cu&quot;, &quot;detail&quot;: &quot;https://earthquake.usgs.gov/earthquakes/feed/v1.0/detail/us7000k3cu.geojson&quot;, &quot;dmin&quot;: 0.119, &quot;felt&quot;: 132.0, &quot;gap&quot;: 44.0, &quot;id&quot;: &quot;us7000k3cu&quot;, &quot;ids&quot;: &quot;,us7000k3cu,&quot;, &quot;mag&quot;: 2.6, &quot;magType&quot;: &quot;mb_lg&quot;, &quot;mmi&quot;: null, &quot;net&quot;: &quot;us&quot;, &quot;nst&quot;: 29.0, &quot;place&quot;: &quot;4 km NW of West Canton, North Carolina&quot;, &quot;rms&quot;: 0.86, &quot;sig&quot;: 161, &quot;sources&quot;: &quot;,us,&quot;, &quot;status&quot;: &quot;reviewed&quot;, &quot;time&quot;: 1684884535026, &quot;title&quot;: &quot;M 2.6 - 4 km NW of West Canton, North Carolina&quot;, &quot;tsunami&quot;: 0, &quot;type&quot;: &quot;earthquake&quot;, &quot;types&quot;: &quot;,dyfi,origin,phase-data,&quot;, &quot;tz&quot;: null, &quot;updated&quot;: 1684898751192, &quot;url&quot;: &quot;https://earthquake.usgs.gov/earthquakes/eventpage/us7000k3cu&quot;}, &quot;type&quot;: &quot;Feature&quot;}, {&quot;bbox&quot;: [-73.728, -36.7806, -73.728, -36.7806], &quot;geometry&quot;: {&quot;coordinates&quot;: [-73.728, -36.7806, 18.222], &quot;type&quot;: &quot;Point&quot;}, &quot;id&quot;: &quot;8&quot;, &quot;properties&quot;: {&quot;alert&quot;: null, &quot;cdi&quot;: null, &quot;code&quot;: &quot;7000k3cp&quot;, &quot;detail&quot;: &quot;https://earthquake.usgs.gov/earthquakes/feed/v1.0/detail/us7000k3cp.geojson&quot;, &quot;dmin&quot;: 0.433, &quot;felt&quot;: null, &quot;gap&quot;: 135.0, &quot;id&quot;: &quot;us7000k3cp&quot;, &quot;ids&quot;: &quot;,us7000k3cp,&quot;, &quot;mag&quot;: 4.2, &quot;magType&quot;: &quot;mb&quot;, &quot;mmi&quot;: null, &quot;net&quot;: &quot;us&quot;, &quot;nst&quot;: 24.0, &quot;place&quot;: &quot;54 km W of Talcahuano, Chile&quot;, &quot;rms&quot;: 0.54, &quot;sig&quot;: 271, &quot;sources&quot;: &quot;,us,&quot;, &quot;status&quot;: &quot;reviewed&quot;, &quot;time&quot;: 1684883899907, &quot;title&quot;: &quot;M 4.2 - 54 km W of Talcahuano, Chile&quot;, &quot;tsunami&quot;: 0, &quot;type&quot;: &quot;earthquake&quot;, &quot;types&quot;: &quot;,origin,phase-data,&quot;, &quot;tz&quot;: null, &quot;updated&quot;: 1684884547040, &quot;url&quot;: &quot;https://earthquake.usgs.gov/earthquakes/eventpage/us7000k3cp&quot;}, &quot;type&quot;: &quot;Feature&quot;}, {&quot;bbox&quot;: [-175.9455, 51.6425, -175.9455, 51.6425], &quot;geometry&quot;: {&quot;coordinates&quot;: [-175.9455, 51.6425, 35.0], &quot;type&quot;: &quot;Point&quot;}, &quot;id&quot;: &quot;9&quot;, &quot;properties&quot;: {&quot;alert&quot;: null, &quot;cdi&quot;: null, &quot;code&quot;: &quot;7000k3cs&quot;, &quot;detail&quot;: &quot;https://earthquake.usgs.gov/earthquakes/feed/v1.0/detail/us7000k3cs.geojson&quot;, &quot;dmin&quot;: 0.345, &quot;felt&quot;: null, &quot;gap&quot;: 216.0, &quot;id&quot;: &quot;us7000k3cs&quot;, &quot;ids&quot;: &quot;,ak0236kvl0ci,us7000k3cs,&quot;, &quot;mag&quot;: 3.2, &quot;magType&quot;: &quot;ml&quot;, &quot;mmi&quot;: null, &quot;net&quot;: &quot;us&quot;, &quot;nst&quot;: 16.0, &quot;place&quot;: &quot;54 km ESE of Adak, Alaska&quot;, &quot;rms&quot;: 0.5, &quot;sig&quot;: 158, &quot;sources&quot;: &quot;,ak,us,&quot;, &quot;status&quot;: &quot;reviewed&quot;, &quot;time&quot;: 1684883218824, &quot;title&quot;: &quot;M 3.2 - 54 km ESE of Adak, Alaska&quot;, &quot;tsunami&quot;: 0, &quot;type&quot;: &quot;earthquake&quot;, &quot;types&quot;: &quot;,origin,phase-data,&quot;, &quot;tz&quot;: null, &quot;updated&quot;: 1684887035040, &quot;url&quot;: &quot;https://earthquake.usgs.gov/earthquakes/eventpage/us7000k3cs&quot;}, &quot;type&quot;: &quot;Feature&quot;}, {&quot;bbox&quot;: [-73.7412, -36.799, -73.7412, -36.799], &quot;geometry&quot;: {&quot;coordinates&quot;: [-73.7412, -36.799, 17.164], &quot;type&quot;: &quot;Point&quot;}, &quot;id&quot;: &quot;10&quot;, &quot;properties&quot;: {&quot;alert&quot;: null, &quot;cdi&quot;: 2.5, &quot;code&quot;: &quot;7000k3ck&quot;, &quot;detail&quot;: &quot;https://earthquake.usgs.gov/earthquakes/feed/v1.0/detail/us7000k3ck.geojson&quot;, &quot;dmin&quot;: 0.445, &quot;felt&quot;: 2.0, &quot;gap&quot;: 194.0, &quot;id&quot;: &quot;us7000k3ck&quot;, &quot;ids&quot;: &quot;,us7000k3ck,&quot;, &quot;mag&quot;: 4.5, &quot;magType&quot;: &quot;mb&quot;, &quot;mmi&quot;: null, &quot;net&quot;: &quot;us&quot;, &quot;nst&quot;: 25.0, &quot;place&quot;: &quot;56 km W of Talcahuano, Chile&quot;, &quot;rms&quot;: 0.59, &quot;sig&quot;: 312, &quot;sources&quot;: &quot;,us,&quot;, &quot;status&quot;: &quot;reviewed&quot;, &quot;time&quot;: 1684882652310, &quot;title&quot;: &quot;M 4.5 - 56 km W of Talcahuano, Chile&quot;, &quot;tsunami&quot;: 0, &quot;type&quot;: &quot;earthquake&quot;, &quot;types&quot;: &quot;,dyfi,origin,phase-data,&quot;, &quot;tz&quot;: null, &quot;updated&quot;: 1684887909731, &quot;url&quot;: &quot;https://earthquake.usgs.gov/earthquakes/eventpage/us7000k3ck&quot;}, &quot;type&quot;: &quot;Feature&quot;}, {&quot;bbox&quot;: [81.2361, 29.6995, 81.2361, 29.6995], &quot;geometry&quot;: {&quot;coordinates&quot;: [81.2361, 29.6995, 10.0], &quot;type&quot;: &quot;Point&quot;}, &quot;id&quot;: &quot;11&quot;, &quot;properties&quot;: {&quot;alert&quot;: null, &quot;cdi&quot;: null, &quot;code&quot;: &quot;7000k3ch&quot;, &quot;detail&quot;: &quot;https://earthquake.usgs.gov/earthquakes/feed/v1.0/detail/us7000k3ch.geojson&quot;, &quot;dmin&quot;: 4.023, &quot;felt&quot;: null, &quot;gap&quot;: 179.0, &quot;id&quot;: &quot;us7000k3ch&quot;, &quot;ids&quot;: &quot;,us7000k3ch,&quot;, &quot;mag&quot;: 4.3, &quot;magType&quot;: &quot;mb&quot;, &quot;mmi&quot;: null, &quot;net&quot;: &quot;us&quot;, &quot;nst&quot;: 36.0, &quot;place&quot;: &quot;56 km NNE of Dipayal, Nepal&quot;, &quot;rms&quot;: 0.51, &quot;sig&quot;: 284, &quot;sources&quot;: &quot;,us,&quot;, &quot;status&quot;: &quot;reviewed&quot;, &quot;time&quot;: 1684880509169, &quot;title&quot;: &quot;M 4.3 - 56 km NNE of Dipayal, Nepal&quot;, &quot;tsunami&quot;: 0, &quot;type&quot;: &quot;earthquake&quot;, &quot;types&quot;: &quot;,origin,phase-data,&quot;, &quot;tz&quot;: null, &quot;updated&quot;: 1684884052040, &quot;url&quot;: &quot;https://earthquake.usgs.gov/earthquakes/eventpage/us7000k3ch&quot;}, &quot;type&quot;: &quot;Feature&quot;}, {&quot;bbox&quot;: [178.5681, 51.798, 178.5681, 51.798], &quot;geometry&quot;: {&quot;coordinates&quot;: [178.5681, 51.798, 94.003], &quot;type&quot;: &quot;Point&quot;}, &quot;id&quot;: &quot;12&quot;, &quot;properties&quot;: {&quot;alert&quot;: null, &quot;cdi&quot;: null, &quot;code&quot;: &quot;7000k3cr&quot;, &quot;detail&quot;: &quot;https://earthquake.usgs.gov/earthquakes/feed/v1.0/detail/us7000k3cr.geojson&quot;, &quot;dmin&quot;: 0.155, &quot;felt&quot;: null, &quot;gap&quot;: 158.0, &quot;id&quot;: &quot;us7000k3cr&quot;, &quot;ids&quot;: &quot;,ak0236kuhpoc,us7000k3cr,&quot;, &quot;mag&quot;: 3.7, &quot;magType&quot;: &quot;mb&quot;, &quot;mmi&quot;: null, &quot;net&quot;: &quot;us&quot;, &quot;nst&quot;: 43.0, &quot;place&quot;: &quot;Rat Islands, Aleutian Islands, Alaska&quot;, &quot;rms&quot;: 0.43, &quot;sig&quot;: 211, &quot;sources&quot;: &quot;,ak,us,&quot;, &quot;status&quot;: &quot;reviewed&quot;, &quot;time&quot;: 1684877002329, &quot;title&quot;: &quot;M 3.7 - Rat Islands, Aleutian Islands, Alaska&quot;, &quot;tsunami&quot;: 0, &quot;type&quot;: &quot;earthquake&quot;, &quot;types&quot;: &quot;,origin,phase-data,&quot;, &quot;tz&quot;: null, &quot;updated&quot;: 1684887531040, &quot;url&quot;: &quot;https://earthquake.usgs.gov/earthquakes/eventpage/us7000k3cr&quot;}, &quot;type&quot;: &quot;Feature&quot;}, {&quot;bbox&quot;: [119.277, -7.5848, 119.277, -7.5848], &quot;geometry&quot;: {&quot;coordinates&quot;: [119.277, -7.5848, 280.969], &quot;type&quot;: &quot;Point&quot;}, &quot;id&quot;: &quot;13&quot;, &quot;properties&quot;: {&quot;alert&quot;: null, &quot;cdi&quot;: null, &quot;code&quot;: &quot;7000k3c4&quot;, &quot;detail&quot;: &quot;https://earthquake.usgs.gov/earthquakes/feed/v1.0/detail/us7000k3c4.geojson&quot;, &quot;dmin&quot;: 1.932, &quot;felt&quot;: null, &quot;gap&quot;: 137.0, &quot;id&quot;: &quot;us7000k3c4&quot;, &quot;ids&quot;: &quot;,us7000k3c4,&quot;, &quot;mag&quot;: 4.3, &quot;magType&quot;: &quot;mb&quot;, &quot;mmi&quot;: null, &quot;net&quot;: &quot;us&quot;, &quot;nst&quot;: 27.0, &quot;place&quot;: &quot;Flores Sea&quot;, &quot;rms&quot;: 0.51, &quot;sig&quot;: 284, &quot;sources&quot;: &quot;,us,&quot;, &quot;status&quot;: &quot;reviewed&quot;, &quot;time&quot;: 1684876324659, &quot;title&quot;: &quot;M 4.3 - Flores Sea&quot;, &quot;tsunami&quot;: 0, &quot;type&quot;: &quot;earthquake&quot;, &quot;types&quot;: &quot;,origin,phase-data,&quot;, &quot;tz&quot;: null, &quot;updated&quot;: 1684879449040, &quot;url&quot;: &quot;https://earthquake.usgs.gov/earthquakes/eventpage/us7000k3c4&quot;}, &quot;type&quot;: &quot;Feature&quot;}, {&quot;bbox&quot;: [-71.6017, -29.604, -71.6017, -29.604], &quot;geometry&quot;: {&quot;coordinates&quot;: [-71.6017, -29.604, 35.0], &quot;type&quot;: &quot;Point&quot;}, &quot;id&quot;: &quot;14&quot;, &quot;properties&quot;: {&quot;alert&quot;: null, &quot;cdi&quot;: null, &quot;code&quot;: &quot;7000k3c1&quot;, &quot;detail&quot;: &quot;https://earthquake.usgs.gov/earthquakes/feed/v1.0/detail/us7000k3c1.geojson&quot;, &quot;dmin&quot;: 0.445, &quot;felt&quot;: null, &quot;gap&quot;: 143.0, &quot;id&quot;: &quot;us7000k3c1&quot;, &quot;ids&quot;: &quot;,us7000k3c1,&quot;, &quot;mag&quot;: 4.3, &quot;magType&quot;: &quot;mb&quot;, &quot;mmi&quot;: null, &quot;net&quot;: &quot;us&quot;, &quot;nst&quot;: 24.0, &quot;place&quot;: &quot;46 km NNW of Coquimbo, Chile&quot;, &quot;rms&quot;: 0.67, &quot;sig&quot;: 284, &quot;sources&quot;: &quot;,us,&quot;, &quot;status&quot;: &quot;reviewed&quot;, &quot;time&quot;: 1684875718282, &quot;title&quot;: &quot;M 4.3 - 46 km NNW of Coquimbo, Chile&quot;, &quot;tsunami&quot;: 0, &quot;type&quot;: &quot;earthquake&quot;, &quot;types&quot;: &quot;,origin,phase-data,&quot;, &quot;tz&quot;: null, &quot;updated&quot;: 1684879068040, &quot;url&quot;: &quot;https://earthquake.usgs.gov/earthquakes/eventpage/us7000k3c1&quot;}, &quot;type&quot;: &quot;Feature&quot;}, {&quot;bbox&quot;: [-98.26068474, 28.64959717, -98.26068474, 28.64959717], &quot;geometry&quot;: {&quot;coordinates&quot;: [-98.26068474, 28.64959717, 2.176472982], &quot;type&quot;: &quot;Point&quot;}, &quot;id&quot;: &quot;15&quot;, &quot;properties&quot;: {&quot;alert&quot;: null, &quot;cdi&quot;: null, &quot;code&quot;: &quot;2023kaxs&quot;, &quot;detail&quot;: &quot;https://earthquake.usgs.gov/earthquakes/feed/v1.0/detail/tx2023kaxs.geojson&quot;, &quot;dmin&quot;: 0.02331310989, &quot;felt&quot;: null, &quot;gap&quot;: 68.0, &quot;id&quot;: &quot;tx2023kaxs&quot;, &quot;ids&quot;: &quot;,us7000k3bx,tx2023kaxs,&quot;, &quot;mag&quot;: 2.8, &quot;magType&quot;: &quot;ml&quot;, &quot;mmi&quot;: null, &quot;net&quot;: &quot;tx&quot;, &quot;nst&quot;: 13.0, &quot;place&quot;: &quot;22 km NNW of Three Rivers, Texas&quot;, &quot;rms&quot;: 0.2, &quot;sig&quot;: 121, &quot;sources&quot;: &quot;,us,tx,&quot;, &quot;status&quot;: &quot;reviewed&quot;, &quot;time&quot;: 1684869600784, &quot;title&quot;: &quot;M 2.8 - 22 km NNW of Three Rivers, Texas&quot;, &quot;tsunami&quot;: 0, &quot;type&quot;: &quot;earthquake&quot;, &quot;types&quot;: &quot;,origin,phase-data,&quot;, &quot;tz&quot;: null, &quot;updated&quot;: 1684878225040, &quot;url&quot;: &quot;https://earthquake.usgs.gov/earthquakes/eventpage/tx2023kaxs&quot;}, &quot;type&quot;: &quot;Feature&quot;}, {&quot;bbox&quot;: [-151.0631, 60.4206, -151.0631, 60.4206], &quot;geometry&quot;: {&quot;coordinates&quot;: [-151.0631, 60.4206, 46.1], &quot;type&quot;: &quot;Point&quot;}, &quot;id&quot;: &quot;16&quot;, &quot;properties&quot;: {&quot;alert&quot;: null, &quot;cdi&quot;: null, &quot;code&quot;: &quot;0236ksrdld&quot;, &quot;detail&quot;: &quot;https://earthquake.usgs.gov/earthquakes/feed/v1.0/detail/ak0236ksrdld.geojson&quot;, &quot;dmin&quot;: null, &quot;felt&quot;: null, &quot;gap&quot;: null, &quot;id&quot;: &quot;ak0236ksrdld&quot;, &quot;ids&quot;: &quot;,us7000k3b4,ak0236ksrdld,&quot;, &quot;mag&quot;: 3.0, &quot;magType&quot;: &quot;ml&quot;, &quot;mmi&quot;: null, &quot;net&quot;: &quot;ak&quot;, &quot;nst&quot;: null, &quot;place&quot;: &quot;7 km S of Soldotna, Alaska&quot;, &quot;rms&quot;: 0.36, &quot;sig&quot;: 138, &quot;sources&quot;: &quot;,us,ak,&quot;, &quot;status&quot;: &quot;automatic&quot;, &quot;time&quot;: 1684866761132, &quot;title&quot;: &quot;M 3.0 - 7 km S of Soldotna, Alaska&quot;, &quot;tsunami&quot;: 0, &quot;type&quot;: &quot;earthquake&quot;, &quot;types&quot;: &quot;,origin,phase-data,&quot;, &quot;tz&quot;: null, &quot;updated&quot;: 1684870172040, &quot;url&quot;: &quot;https://earthquake.usgs.gov/earthquakes/eventpage/ak0236ksrdld&quot;}, &quot;type&quot;: &quot;Feature&quot;}, {&quot;bbox&quot;: [124.4945, 5.7205, 124.4945, 5.7205], &quot;geometry&quot;: {&quot;coordinates&quot;: [124.4945, 5.7205, 63.536], &quot;type&quot;: &quot;Point&quot;}, &quot;id&quot;: &quot;17&quot;, &quot;properties&quot;: {&quot;alert&quot;: null, &quot;cdi&quot;: 2.0, &quot;code&quot;: &quot;7000k3b3&quot;, &quot;detail&quot;: &quot;https://earthquake.usgs.gov/earthquakes/feed/v1.0/detail/us7000k3b3.geojson&quot;, &quot;dmin&quot;: 1.72, &quot;felt&quot;: 1.0, &quot;gap&quot;: 76.0, &quot;id&quot;: &quot;us7000k3b3&quot;, &quot;ids&quot;: &quot;,us7000k3b3,&quot;, &quot;mag&quot;: 4.8, &quot;magType&quot;: &quot;mb&quot;, &quot;mmi&quot;: null, &quot;net&quot;: &quot;us&quot;, &quot;nst&quot;: 79.0, &quot;place&quot;: &quot;33 km SSW of Kiamba, Philippines&quot;, &quot;rms&quot;: 0.69, &quot;sig&quot;: 355, &quot;sources&quot;: &quot;,us,&quot;, &quot;status&quot;: &quot;reviewed&quot;, &quot;time&quot;: 1684866184025, &quot;title&quot;: &quot;M 4.8 - 33 km SSW of Kiamba, Philippines&quot;, &quot;tsunami&quot;: 0, &quot;type&quot;: &quot;earthquake&quot;, &quot;types&quot;: &quot;,dyfi,origin,phase-data,&quot;, &quot;tz&quot;: null, &quot;updated&quot;: 1684887370974, &quot;url&quot;: &quot;https://earthquake.usgs.gov/earthquakes/eventpage/us7000k3b3&quot;}, &quot;type&quot;: &quot;Feature&quot;}, {&quot;bbox&quot;: [-117.5813, 37.2695, -117.5813, 37.2695], &quot;geometry&quot;: {&quot;coordinates&quot;: [-117.5813, 37.2695, 12.485], &quot;type&quot;: &quot;Point&quot;}, &quot;id&quot;: &quot;18&quot;, &quot;properties&quot;: {&quot;alert&quot;: null, &quot;cdi&quot;: null, &quot;code&quot;: &quot;7000k3av&quot;, &quot;detail&quot;: &quot;https://earthquake.usgs.gov/earthquakes/feed/v1.0/detail/us7000k3av.geojson&quot;, &quot;dmin&quot;: 0.063, &quot;felt&quot;: null, &quot;gap&quot;: 38.0, &quot;id&quot;: &quot;us7000k3av&quot;, &quot;ids&quot;: &quot;,nn00860199,us7000k3av,&quot;, &quot;mag&quot;: 2.7, &quot;magType&quot;: &quot;ml&quot;, &quot;mmi&quot;: null, &quot;net&quot;: &quot;us&quot;, &quot;nst&quot;: 74.0, &quot;place&quot;: &quot;54 km S of Silver Peak, Nevada&quot;, &quot;rms&quot;: 0.48, &quot;sig&quot;: 112, &quot;sources&quot;: &quot;,nn,us,&quot;, &quot;status&quot;: &quot;reviewed&quot;, &quot;time&quot;: 1684863214171, &quot;title&quot;: &quot;M 2.7 - 54 km S of Silver Peak, Nevada&quot;, &quot;tsunami&quot;: 0, &quot;type&quot;: &quot;earthquake&quot;, &quot;types&quot;: &quot;,origin,phase-data,&quot;, &quot;tz&quot;: null, &quot;updated&quot;: 1684865941040, &quot;url&quot;: &quot;https://earthquake.usgs.gov/earthquakes/eventpage/us7000k3av&quot;}, &quot;type&quot;: &quot;Feature&quot;}, {&quot;bbox&quot;: [124.5511, 5.7954, 124.5511, 5.7954], &quot;geometry&quot;: {&quot;coordinates&quot;: [124.5511, 5.7954, 76.132], &quot;type&quot;: &quot;Point&quot;}, &quot;id&quot;: &quot;19&quot;, &quot;properties&quot;: {&quot;alert&quot;: null, &quot;cdi&quot;: 2.0, &quot;code&quot;: &quot;7000k3aq&quot;, &quot;detail&quot;: &quot;https://earthquake.usgs.gov/earthquakes/feed/v1.0/detail/us7000k3aq.geojson&quot;, &quot;dmin&quot;: 1.627, &quot;felt&quot;: 1.0, &quot;gap&quot;: 43.0, &quot;id&quot;: &quot;us7000k3aq&quot;, &quot;ids&quot;: &quot;,us7000k3aq,&quot;, &quot;mag&quot;: 4.5, &quot;magType&quot;: &quot;mb&quot;, &quot;mmi&quot;: null, &quot;net&quot;: &quot;us&quot;, &quot;nst&quot;: 91.0, &quot;place&quot;: &quot;22 km SW of Tambilil, Philippines&quot;, &quot;rms&quot;: 0.7, &quot;sig&quot;: 312, &quot;sources&quot;: &quot;,us,&quot;, &quot;status&quot;: &quot;reviewed&quot;, &quot;time&quot;: 1684861916279, &quot;title&quot;: &quot;M 4.5 - 22 km SW of Tambilil, Philippines&quot;, &quot;tsunami&quot;: 0, &quot;type&quot;: &quot;earthquake&quot;, &quot;types&quot;: &quot;,dyfi,origin,phase-data,&quot;, &quot;tz&quot;: null, &quot;updated&quot;: 1684865109265, &quot;url&quot;: &quot;https://earthquake.usgs.gov/earthquakes/eventpage/us7000k3aq&quot;}, &quot;type&quot;: &quot;Feature&quot;}, {&quot;bbox&quot;: [-171.1534, 51.8019, -171.1534, 51.8019], &quot;geometry&quot;: {&quot;coordinates&quot;: [-171.1534, 51.8019, 35.0], &quot;type&quot;: &quot;Point&quot;}, &quot;id&quot;: &quot;20&quot;, &quot;properties&quot;: {&quot;alert&quot;: null, &quot;cdi&quot;: null, &quot;code&quot;: &quot;7000k3b9&quot;, &quot;detail&quot;: &quot;https://earthquake.usgs.gov/earthquakes/feed/v1.0/detail/us7000k3b9.geojson&quot;, &quot;dmin&quot;: 1.285, &quot;felt&quot;: null, &quot;gap&quot;: 180.0, &quot;id&quot;: &quot;us7000k3b9&quot;, &quot;ids&quot;: &quot;,ak0236ks175u,us7000k3b9,&quot;, &quot;mag&quot;: 3.7, &quot;magType&quot;: &quot;mb&quot;, &quot;mmi&quot;: 1.0, &quot;net&quot;: &quot;us&quot;, &quot;nst&quot;: 66.0, &quot;place&quot;: &quot;200 km SW of Nikolski, Alaska&quot;, &quot;rms&quot;: 1.08, &quot;sig&quot;: 211, &quot;sources&quot;: &quot;,ak,us,&quot;, &quot;status&quot;: &quot;reviewed&quot;, &quot;time&quot;: 1684861827064, &quot;title&quot;: &quot;M 3.7 - 200 km SW of Nikolski, Alaska&quot;, &quot;tsunami&quot;: 0, &quot;type&quot;: &quot;earthquake&quot;, &quot;types&quot;: &quot;,origin,phase-data,shakemap,&quot;, &quot;tz&quot;: null, &quot;updated&quot;: 1684875850040, &quot;url&quot;: &quot;https://earthquake.usgs.gov/earthquakes/eventpage/us7000k3b9&quot;}, &quot;type&quot;: &quot;Feature&quot;}, {&quot;bbox&quot;: [124.5428, 5.7618, 124.5428, 5.7618], &quot;geometry&quot;: {&quot;coordinates&quot;: [124.5428, 5.7618, 73.433], &quot;type&quot;: &quot;Point&quot;}, &quot;id&quot;: &quot;21&quot;, &quot;properties&quot;: {&quot;alert&quot;: null, &quot;cdi&quot;: 2.5, &quot;code&quot;: &quot;7000k3an&quot;, &quot;detail&quot;: &quot;https://earthquake.usgs.gov/earthquakes/feed/v1.0/detail/us7000k3an.geojson&quot;, &quot;dmin&quot;: 1.658, &quot;felt&quot;: 3.0, &quot;gap&quot;: 76.0, &quot;id&quot;: &quot;us7000k3an&quot;, &quot;ids&quot;: &quot;,us7000k3an,&quot;, &quot;mag&quot;: 4.9, &quot;magType&quot;: &quot;mb&quot;, &quot;mmi&quot;: null, &quot;net&quot;: &quot;us&quot;, &quot;nst&quot;: 155.0, &quot;place&quot;: &quot;26 km SSW of Tambilil, Philippines&quot;, &quot;rms&quot;: 0.66, &quot;sig&quot;: 370, &quot;sources&quot;: &quot;,us,&quot;, &quot;status&quot;: &quot;reviewed&quot;, &quot;time&quot;: 1684861441483, &quot;title&quot;: &quot;M 4.9 - 26 km SSW of Tambilil, Philippines&quot;, &quot;tsunami&quot;: 0, &quot;type&quot;: &quot;earthquake&quot;, &quot;types&quot;: &quot;,dyfi,origin,phase-data,&quot;, &quot;tz&quot;: null, &quot;updated&quot;: 1684865087857, &quot;url&quot;: &quot;https://earthquake.usgs.gov/earthquakes/eventpage/us7000k3an&quot;}, &quot;type&quot;: &quot;Feature&quot;}, {&quot;bbox&quot;: [82.3269, 41.6023, 82.3269, 41.6023], &quot;geometry&quot;: {&quot;coordinates&quot;: [82.3269, 41.6023, 10.0], &quot;type&quot;: &quot;Point&quot;}, &quot;id&quot;: &quot;22&quot;, &quot;properties&quot;: {&quot;alert&quot;: null, &quot;cdi&quot;: null, &quot;code&quot;: &quot;7000k39g&quot;, &quot;detail&quot;: &quot;https://earthquake.usgs.gov/earthquakes/feed/v1.0/detail/us7000k39g.geojson&quot;, &quot;dmin&quot;: 2.719, &quot;felt&quot;: null, &quot;gap&quot;: 95.0, &quot;id&quot;: &quot;us7000k39g&quot;, &quot;ids&quot;: &quot;,us7000k39g,&quot;, &quot;mag&quot;: 4.5, &quot;magType&quot;: &quot;mb&quot;, &quot;mmi&quot;: null, &quot;net&quot;: &quot;us&quot;, &quot;nst&quot;: 34.0, &quot;place&quot;: &quot;51 km WSW of Kuqa, China&quot;, &quot;rms&quot;: 0.39, &quot;sig&quot;: 312, &quot;sources&quot;: &quot;,us,&quot;, &quot;status&quot;: &quot;reviewed&quot;, &quot;time&quot;: 1684855082365, &quot;title&quot;: &quot;M 4.5 - 51 km WSW of Kuqa, China&quot;, &quot;tsunami&quot;: 0, &quot;type&quot;: &quot;earthquake&quot;, &quot;types&quot;: &quot;,origin,phase-data,&quot;, &quot;tz&quot;: null, &quot;updated&quot;: 1684856489040, &quot;url&quot;: &quot;https://earthquake.usgs.gov/earthquakes/eventpage/us7000k39g&quot;}, &quot;type&quot;: &quot;Feature&quot;}, {&quot;bbox&quot;: [126.7521, 3.1135, 126.7521, 3.1135], &quot;geometry&quot;: {&quot;coordinates&quot;: [126.7521, 3.1135, 45.939], &quot;type&quot;: &quot;Point&quot;}, &quot;id&quot;: &quot;23&quot;, &quot;properties&quot;: {&quot;alert&quot;: null, &quot;cdi&quot;: null, &quot;code&quot;: &quot;7000k39d&quot;, &quot;detail&quot;: &quot;https://earthquake.usgs.gov/earthquakes/feed/v1.0/detail/us7000k39d.geojson&quot;, &quot;dmin&quot;: 2.406, &quot;felt&quot;: null, &quot;gap&quot;: 41.0, &quot;id&quot;: &quot;us7000k39d&quot;, &quot;ids&quot;: &quot;,us7000k39d,&quot;, &quot;mag&quot;: 5.1, &quot;magType&quot;: &quot;mb&quot;, &quot;mmi&quot;: null, &quot;net&quot;: &quot;us&quot;, &quot;nst&quot;: 96.0, &quot;place&quot;: &quot;207 km NW of Tobelo, Indonesia&quot;, &quot;rms&quot;: 0.79, &quot;sig&quot;: 400, &quot;sources&quot;: &quot;,us,&quot;, &quot;status&quot;: &quot;reviewed&quot;, &quot;time&quot;: 1684854295321, &quot;title&quot;: &quot;M 5.1 - 207 km NW of Tobelo, Indonesia&quot;, &quot;tsunami&quot;: 0, &quot;type&quot;: &quot;earthquake&quot;, &quot;types&quot;: &quot;,origin,phase-data,&quot;, &quot;tz&quot;: null, &quot;updated&quot;: 1684855364040, &quot;url&quot;: &quot;https://earthquake.usgs.gov/earthquakes/eventpage/us7000k39d&quot;}, &quot;type&quot;: &quot;Feature&quot;}, {&quot;bbox&quot;: [82.3892, 41.7297, 82.3892, 41.7297], &quot;geometry&quot;: {&quot;coordinates&quot;: [82.3892, 41.7297, 10.0], &quot;type&quot;: &quot;Point&quot;}, &quot;id&quot;: &quot;24&quot;, &quot;properties&quot;: {&quot;alert&quot;: null, &quot;cdi&quot;: null, &quot;code&quot;: &quot;7000k398&quot;, &quot;detail&quot;: &quot;https://earthquake.usgs.gov/earthquakes/feed/v1.0/detail/us7000k398.geojson&quot;, &quot;dmin&quot;: 2.675, &quot;felt&quot;: null, &quot;gap&quot;: 88.0, &quot;id&quot;: &quot;us7000k398&quot;, &quot;ids&quot;: &quot;,us7000k398,&quot;, &quot;mag&quot;: 4.7, &quot;magType&quot;: &quot;mb&quot;, &quot;mmi&quot;: null, &quot;net&quot;: &quot;us&quot;, &quot;nst&quot;: 68.0, &quot;place&quot;: &quot;45 km W of Kuqa, China&quot;, &quot;rms&quot;: 1.1, &quot;sig&quot;: 340, &quot;sources&quot;: &quot;,us,&quot;, &quot;status&quot;: &quot;reviewed&quot;, &quot;time&quot;: 1684852975595, &quot;title&quot;: &quot;M 4.7 - 45 km W of Kuqa, China&quot;, &quot;tsunami&quot;: 0, &quot;type&quot;: &quot;earthquake&quot;, &quot;types&quot;: &quot;,origin,phase-data,&quot;, &quot;tz&quot;: null, &quot;updated&quot;: 1684854120040, &quot;url&quot;: &quot;https://earthquake.usgs.gov/earthquakes/eventpage/us7000k398&quot;}, &quot;type&quot;: &quot;Feature&quot;}, {&quot;bbox&quot;: [170.2164, -22.9155, 170.2164, -22.9155], &quot;geometry&quot;: {&quot;coordinates&quot;: [170.2164, -22.9155, 10.0], &quot;type&quot;: &quot;Point&quot;}, &quot;id&quot;: &quot;25&quot;, &quot;properties&quot;: {&quot;alert&quot;: null, &quot;cdi&quot;: null, &quot;code&quot;: &quot;7000k38w&quot;, &quot;detail&quot;: &quot;https://earthquake.usgs.gov/earthquakes/feed/v1.0/detail/us7000k38w.geojson&quot;, &quot;dmin&quot;: 2.574, &quot;felt&quot;: null, &quot;gap&quot;: 207.0, &quot;id&quot;: &quot;us7000k38w&quot;, &quot;ids&quot;: &quot;,us7000k38w,&quot;, &quot;mag&quot;: 4.8, &quot;magType&quot;: &quot;mb&quot;, &quot;mmi&quot;: null, &quot;net&quot;: &quot;us&quot;, &quot;nst&quot;: 37.0, &quot;place&quot;: &quot;280 km E of Vao, New Caledonia&quot;, &quot;rms&quot;: 0.95, &quot;sig&quot;: 354, &quot;sources&quot;: &quot;,us,&quot;, &quot;status&quot;: &quot;reviewed&quot;, &quot;time&quot;: 1684847202829, &quot;title&quot;: &quot;M 4.8 - 280 km E of Vao, New Caledonia&quot;, &quot;tsunami&quot;: 0, &quot;type&quot;: &quot;earthquake&quot;, &quot;types&quot;: &quot;,origin,phase-data,&quot;, &quot;tz&quot;: null, &quot;updated&quot;: 1684848768040, &quot;url&quot;: &quot;https://earthquake.usgs.gov/earthquakes/eventpage/us7000k38w&quot;}, &quot;type&quot;: &quot;Feature&quot;}, {&quot;bbox&quot;: [151.5509, -3.8346, 151.5509, -3.8346], &quot;geometry&quot;: {&quot;coordinates&quot;: [151.5509, -3.8346, 10.0], &quot;type&quot;: &quot;Point&quot;}, &quot;id&quot;: &quot;26&quot;, &quot;properties&quot;: {&quot;alert&quot;: null, &quot;cdi&quot;: null, &quot;code&quot;: &quot;7000k38v&quot;, &quot;detail&quot;: &quot;https://earthquake.usgs.gov/earthquakes/feed/v1.0/detail/us7000k38v.geojson&quot;, &quot;dmin&quot;: 0.707, &quot;felt&quot;: null, &quot;gap&quot;: 77.0, &quot;id&quot;: &quot;us7000k38v&quot;, &quot;ids&quot;: &quot;,us7000k38v,&quot;, &quot;mag&quot;: 5.0, &quot;magType&quot;: &quot;mb&quot;, &quot;mmi&quot;: null, &quot;net&quot;: &quot;us&quot;, &quot;nst&quot;: 56.0, &quot;place&quot;: &quot;New Ireland region, Papua New Guinea&quot;, &quot;rms&quot;: 0.68, &quot;sig&quot;: 385, &quot;sources&quot;: &quot;,us,&quot;, &quot;status&quot;: &quot;reviewed&quot;, &quot;time&quot;: 1684846837559, &quot;title&quot;: &quot;M 5.0 - New Ireland region, Papua New Guinea&quot;, &quot;tsunami&quot;: 0, &quot;type&quot;: &quot;earthquake&quot;, &quot;types&quot;: &quot;,origin,phase-data,&quot;, &quot;tz&quot;: null, &quot;updated&quot;: 1684848056040, &quot;url&quot;: &quot;https://earthquake.usgs.gov/earthquakes/eventpage/us7000k38v&quot;}, &quot;type&quot;: &quot;Feature&quot;}, {&quot;bbox&quot;: [-65.6566666666667, 19.804, -65.6566666666667, 19.804], &quot;geometry&quot;: {&quot;coordinates&quot;: [-65.6566666666667, 19.804, 19.26], &quot;type&quot;: &quot;Point&quot;}, &quot;id&quot;: &quot;27&quot;, &quot;properties&quot;: {&quot;alert&quot;: null, &quot;cdi&quot;: null, &quot;code&quot;: &quot;71410663&quot;, &quot;detail&quot;: &quot;https://earthquake.usgs.gov/earthquakes/feed/v1.0/detail/pr71410663.geojson&quot;, &quot;dmin&quot;: 1.53, &quot;felt&quot;: null, &quot;gap&quot;: 318.0, &quot;id&quot;: &quot;pr71410663&quot;, &quot;ids&quot;: &quot;,pr71410663,&quot;, &quot;mag&quot;: 3.27, &quot;magType&quot;: &quot;md&quot;, &quot;mmi&quot;: null, &quot;net&quot;: &quot;pr&quot;, &quot;nst&quot;: 5.0, &quot;place&quot;: &quot;Puerto Rico region&quot;, &quot;rms&quot;: 0.25, &quot;sig&quot;: 165, &quot;sources&quot;: &quot;,pr,&quot;, &quot;status&quot;: &quot;reviewed&quot;, &quot;time&quot;: 1684846188270, &quot;title&quot;: &quot;M 3.3 - Puerto Rico region&quot;, &quot;tsunami&quot;: 0, &quot;type&quot;: &quot;earthquake&quot;, &quot;types&quot;: &quot;,origin,phase-data,&quot;, &quot;tz&quot;: null, &quot;updated&quot;: 1684847746250, &quot;url&quot;: &quot;https://earthquake.usgs.gov/earthquakes/eventpage/pr71410663&quot;}, &quot;type&quot;: &quot;Feature&quot;}, {&quot;bbox&quot;: [-117.5827, 37.2868, -117.5827, 37.2868], &quot;geometry&quot;: {&quot;coordinates&quot;: [-117.5827, 37.2868, 6.5], &quot;type&quot;: &quot;Point&quot;}, &quot;id&quot;: &quot;28&quot;, &quot;properties&quot;: {&quot;alert&quot;: null, &quot;cdi&quot;: null, &quot;code&quot;: &quot;00860180&quot;, &quot;detail&quot;: &quot;https://earthquake.usgs.gov/earthquakes/feed/v1.0/detail/nn00860180.geojson&quot;, &quot;dmin&quot;: 0.074, &quot;felt&quot;: null, &quot;gap&quot;: 92.98, &quot;id&quot;: &quot;nn00860180&quot;, &quot;ids&quot;: &quot;,nn00860180,&quot;, &quot;mag&quot;: 2.8, &quot;magType&quot;: &quot;ml&quot;, &quot;mmi&quot;: null, &quot;net&quot;: &quot;nn&quot;, &quot;nst&quot;: 11.0, &quot;place&quot;: &quot;52 km S of Silver Peak, Nevada&quot;, &quot;rms&quot;: 0.1455, &quot;sig&quot;: 121, &quot;sources&quot;: &quot;,nn,&quot;, &quot;status&quot;: &quot;reviewed&quot;, &quot;time&quot;: 1684844607277, &quot;title&quot;: &quot;M 2.8 - 52 km S of Silver Peak, Nevada&quot;, &quot;tsunami&quot;: 0, &quot;type&quot;: &quot;earthquake&quot;, &quot;types&quot;: &quot;,origin,phase-data,&quot;, &quot;tz&quot;: null, &quot;updated&quot;: 1684847130817, &quot;url&quot;: &quot;https://earthquake.usgs.gov/earthquakes/eventpage/nn00860180&quot;}, &quot;type&quot;: &quot;Feature&quot;}, {&quot;bbox&quot;: [171.0622, -22.6019, 171.0622, -22.6019], &quot;geometry&quot;: {&quot;coordinates&quot;: [171.0622, -22.6019, 43.354], &quot;type&quot;: &quot;Point&quot;}, &quot;id&quot;: &quot;29&quot;, &quot;properties&quot;: {&quot;alert&quot;: null, &quot;cdi&quot;: null, &quot;code&quot;: &quot;7000k38m&quot;, &quot;detail&quot;: &quot;https://earthquake.usgs.gov/earthquakes/feed/v1.0/detail/us7000k38m.geojson&quot;, &quot;dmin&quot;: 3.341, &quot;felt&quot;: null, &quot;gap&quot;: 108.0, &quot;id&quot;: &quot;us7000k38m&quot;, &quot;ids&quot;: &quot;,us7000k38m,&quot;, &quot;mag&quot;: 4.8, &quot;magType&quot;: &quot;mb&quot;, &quot;mmi&quot;: null, &quot;net&quot;: &quot;us&quot;, &quot;nst&quot;: 29.0, &quot;place&quot;: &quot;southeast of the Loyalty Islands&quot;, &quot;rms&quot;: 0.53, &quot;sig&quot;: 354, &quot;sources&quot;: &quot;,us,&quot;, &quot;status&quot;: &quot;reviewed&quot;, &quot;time&quot;: 1684842596306, &quot;title&quot;: &quot;M 4.8 - southeast of the Loyalty Islands&quot;, &quot;tsunami&quot;: 0, &quot;type&quot;: &quot;earthquake&quot;, &quot;types&quot;: &quot;,origin,phase-data,&quot;, &quot;tz&quot;: null, &quot;updated&quot;: 1684843683040, &quot;url&quot;: &quot;https://earthquake.usgs.gov/earthquakes/eventpage/us7000k38m&quot;}, &quot;type&quot;: &quot;Feature&quot;}, {&quot;bbox&quot;: [-65.0335, 18.555, -65.0335, 18.555], &quot;geometry&quot;: {&quot;coordinates&quot;: [-65.0335, 18.555, 23.87], &quot;type&quot;: &quot;Point&quot;}, &quot;id&quot;: &quot;30&quot;, &quot;properties&quot;: {&quot;alert&quot;: null, &quot;cdi&quot;: null, &quot;code&quot;: &quot;71410658&quot;, &quot;detail&quot;: &quot;https://earthquake.usgs.gov/earthquakes/feed/v1.0/detail/pr71410658.geojson&quot;, &quot;dmin&quot;: 0.2144, &quot;felt&quot;: null, &quot;gap&quot;: 248.0, &quot;id&quot;: &quot;pr71410658&quot;, &quot;ids&quot;: &quot;,pr71410658,&quot;, &quot;mag&quot;: 2.63, &quot;magType&quot;: &quot;md&quot;, &quot;mmi&quot;: null, &quot;net&quot;: &quot;pr&quot;, &quot;nst&quot;: 4.0, &quot;place&quot;: &quot;25 km NNW of Charlotte Amalie, U.S. Virgin Islands&quot;, &quot;rms&quot;: 0.08, &quot;sig&quot;: 106, &quot;sources&quot;: &quot;,pr,&quot;, &quot;status&quot;: &quot;reviewed&quot;, &quot;time&quot;: 1684841933870, &quot;title&quot;: &quot;M 2.6 - 25 km NNW of Charlotte Amalie, U.S. Virgin Islands&quot;, &quot;tsunami&quot;: 0, &quot;type&quot;: &quot;earthquake&quot;, &quot;types&quot;: &quot;,origin,phase-data,&quot;, &quot;tz&quot;: null, &quot;updated&quot;: 1684852191830, &quot;url&quot;: &quot;https://earthquake.usgs.gov/earthquakes/eventpage/pr71410658&quot;}, &quot;type&quot;: &quot;Feature&quot;}, {&quot;bbox&quot;: [-176.2349, -20.1221, -176.2349, -20.1221], &quot;geometry&quot;: {&quot;coordinates&quot;: [-176.2349, -20.1221, 217.994], &quot;type&quot;: &quot;Point&quot;}, &quot;id&quot;: &quot;31&quot;, &quot;properties&quot;: {&quot;alert&quot;: null, &quot;cdi&quot;: null, &quot;code&quot;: &quot;7000k38b&quot;, &quot;detail&quot;: &quot;https://earthquake.usgs.gov/earthquakes/feed/v1.0/detail/us7000k38b.geojson&quot;, &quot;dmin&quot;: 1.421, &quot;felt&quot;: null, &quot;gap&quot;: 80.0, &quot;id&quot;: &quot;us7000k38b&quot;, &quot;ids&quot;: &quot;,us7000k38b,&quot;, &quot;mag&quot;: 4.5, &quot;magType&quot;: &quot;mb&quot;, &quot;mmi&quot;: null, &quot;net&quot;: &quot;us&quot;, &quot;nst&quot;: 42.0, &quot;place&quot;: &quot;151 km NW of Houma, Tonga&quot;, &quot;rms&quot;: 0.55, &quot;sig&quot;: 312, &quot;sources&quot;: &quot;,us,&quot;, &quot;status&quot;: &quot;reviewed&quot;, &quot;time&quot;: 1684839099876, &quot;title&quot;: &quot;M 4.5 - 151 km NW of Houma, Tonga&quot;, &quot;tsunami&quot;: 0, &quot;type&quot;: &quot;earthquake&quot;, &quot;types&quot;: &quot;,origin,phase-data,&quot;, &quot;tz&quot;: null, &quot;updated&quot;: 1684840342040, &quot;url&quot;: &quot;https://earthquake.usgs.gov/earthquakes/eventpage/us7000k38b&quot;}, &quot;type&quot;: &quot;Feature&quot;}, {&quot;bbox&quot;: [-104.5454604, 31.70887325, -104.5454604, 31.70887325], &quot;geometry&quot;: {&quot;coordinates&quot;: [-104.5454604, 31.70887325, 3.380810547], &quot;type&quot;: &quot;Point&quot;}, &quot;id&quot;: &quot;32&quot;, &quot;properties&quot;: {&quot;alert&quot;: null, &quot;cdi&quot;: null, &quot;code&quot;: &quot;2023kaga&quot;, &quot;detail&quot;: &quot;https://earthquake.usgs.gov/earthquakes/feed/v1.0/detail/tx2023kaga.geojson&quot;, &quot;dmin&quot;: 0.01743116345, &quot;felt&quot;: null, &quot;gap&quot;: 83.0, &quot;id&quot;: &quot;tx2023kaga&quot;, &quot;ids&quot;: &quot;,tx2023kaga,&quot;, &quot;mag&quot;: 2.533342813, &quot;magType&quot;: &quot;mlv&quot;, &quot;mmi&quot;: null, &quot;net&quot;: &quot;tx&quot;, &quot;nst&quot;: 29.0, &quot;place&quot;: &quot;54 km SSW of Whites City, New Mexico&quot;, &quot;rms&quot;: 0.3, &quot;sig&quot;: 99, &quot;sources&quot;: &quot;,tx,&quot;, &quot;status&quot;: &quot;reviewed&quot;, &quot;time&quot;: 1684837342718, &quot;title&quot;: &quot;M 2.5 - 54 km SSW of Whites City, New Mexico&quot;, &quot;tsunami&quot;: 0, &quot;type&quot;: &quot;earthquake&quot;, &quot;types&quot;: &quot;,origin,phase-data,&quot;, &quot;tz&quot;: null, &quot;updated&quot;: 1684851088062, &quot;url&quot;: &quot;https://earthquake.usgs.gov/earthquakes/eventpage/tx2023kaga&quot;}, &quot;type&quot;: &quot;Feature&quot;}, {&quot;bbox&quot;: [170.4094, -23.0928, 170.4094, -23.0928], &quot;geometry&quot;: {&quot;coordinates&quot;: [170.4094, -23.0928, 36.562], &quot;type&quot;: &quot;Point&quot;}, &quot;id&quot;: &quot;33&quot;, &quot;properties&quot;: {&quot;alert&quot;: null, &quot;cdi&quot;: null, &quot;code&quot;: &quot;7000k386&quot;, &quot;detail&quot;: &quot;https://earthquake.usgs.gov/earthquakes/feed/v1.0/detail/us7000k386.geojson&quot;, &quot;dmin&quot;: 2.774, &quot;felt&quot;: null, &quot;gap&quot;: 98.0, &quot;id&quot;: &quot;us7000k386&quot;, &quot;ids&quot;: &quot;,us7000k386,&quot;, &quot;mag&quot;: 4.6, &quot;magType&quot;: &quot;mb&quot;, &quot;mmi&quot;: null, &quot;net&quot;: &quot;us&quot;, &quot;nst&quot;: 25.0, &quot;place&quot;: &quot;southeast of the Loyalty Islands&quot;, &quot;rms&quot;: 0.49, &quot;sig&quot;: 326, &quot;sources&quot;: &quot;,us,&quot;, &quot;status&quot;: &quot;reviewed&quot;, &quot;time&quot;: 1684837236668, &quot;title&quot;: &quot;M 4.6 - southeast of the Loyalty Islands&quot;, &quot;tsunami&quot;: 0, &quot;type&quot;: &quot;earthquake&quot;, &quot;types&quot;: &quot;,origin,phase-data,&quot;, &quot;tz&quot;: null, &quot;updated&quot;: 1684839188040, &quot;url&quot;: &quot;https://earthquake.usgs.gov/earthquakes/eventpage/us7000k386&quot;}, &quot;type&quot;: &quot;Feature&quot;}, {&quot;bbox&quot;: [170.8394, -22.8565, 170.8394, -22.8565], &quot;geometry&quot;: {&quot;coordinates&quot;: [170.8394, -22.8565, 42.876], &quot;type&quot;: &quot;Point&quot;}, &quot;id&quot;: &quot;34&quot;, &quot;properties&quot;: {&quot;alert&quot;: null, &quot;cdi&quot;: null, &quot;code&quot;: &quot;7000k38e&quot;, &quot;detail&quot;: &quot;https://earthquake.usgs.gov/earthquakes/feed/v1.0/detail/us7000k38e.geojson&quot;, &quot;dmin&quot;: 3.142, &quot;felt&quot;: null, &quot;gap&quot;: 87.0, &quot;id&quot;: &quot;us7000k38e&quot;, &quot;ids&quot;: &quot;,us7000k38e,&quot;, &quot;mag&quot;: 5.0, &quot;magType&quot;: &quot;mb&quot;, &quot;mmi&quot;: null, &quot;net&quot;: &quot;us&quot;, &quot;nst&quot;: 32.0, &quot;place&quot;: &quot;southeast of the Loyalty Islands&quot;, &quot;rms&quot;: 0.54, &quot;sig&quot;: 385, &quot;sources&quot;: &quot;,us,&quot;, &quot;status&quot;: &quot;reviewed&quot;, &quot;time&quot;: 1684834003241, &quot;title&quot;: &quot;M 5.0 - southeast of the Loyalty Islands&quot;, &quot;tsunami&quot;: 0, &quot;type&quot;: &quot;earthquake&quot;, &quot;types&quot;: &quot;,origin,phase-data,&quot;, &quot;tz&quot;: null, &quot;updated&quot;: 1684841443040, &quot;url&quot;: &quot;https://earthquake.usgs.gov/earthquakes/eventpage/us7000k38e&quot;}, &quot;type&quot;: &quot;Feature&quot;}, {&quot;bbox&quot;: [-104.9267, 36.998, -104.9267, 36.998], &quot;geometry&quot;: {&quot;coordinates&quot;: [-104.9267, 36.998, 6.47], &quot;type&quot;: &quot;Point&quot;}, &quot;id&quot;: &quot;35&quot;, &quot;properties&quot;: {&quot;alert&quot;: null, &quot;cdi&quot;: null, &quot;code&quot;: &quot;7000k37h&quot;, &quot;detail&quot;: &quot;https://earthquake.usgs.gov/earthquakes/feed/v1.0/detail/us7000k37h.geojson&quot;, &quot;dmin&quot;: 0.169, &quot;felt&quot;: null, &quot;gap&quot;: 63.0, &quot;id&quot;: &quot;us7000k37h&quot;, &quot;ids&quot;: &quot;,us7000k37h,&quot;, &quot;mag&quot;: 2.7, &quot;magType&quot;: &quot;ml&quot;, &quot;mmi&quot;: null, &quot;net&quot;: &quot;us&quot;, &quot;nst&quot;: 16.0, &quot;place&quot;: &quot;16 km SSW of Weston, Colorado&quot;, &quot;rms&quot;: 0.49, &quot;sig&quot;: 112, &quot;sources&quot;: &quot;,us,&quot;, &quot;status&quot;: &quot;reviewed&quot;, &quot;time&quot;: 1684833065623, &quot;title&quot;: &quot;M 2.7 - 16 km SSW of Weston, Colorado&quot;, &quot;tsunami&quot;: 0, &quot;type&quot;: &quot;earthquake&quot;, &quot;types&quot;: &quot;,origin,phase-data,&quot;, &quot;tz&quot;: null, &quot;updated&quot;: 1684833962040, &quot;url&quot;: &quot;https://earthquake.usgs.gov/earthquakes/eventpage/us7000k37h&quot;}, &quot;type&quot;: &quot;Feature&quot;}, {&quot;bbox&quot;: [-154.803166666667, 19.3988333333333, -154.803166666667, 19.3988333333333], &quot;geometry&quot;: {&quot;coordinates&quot;: [-154.803166666667, 19.3988333333333, 36.85], &quot;type&quot;: &quot;Point&quot;}, &quot;id&quot;: &quot;36&quot;, &quot;properties&quot;: {&quot;alert&quot;: null, &quot;cdi&quot;: null, &quot;code&quot;: &quot;73417047&quot;, &quot;detail&quot;: &quot;https://earthquake.usgs.gov/earthquakes/feed/v1.0/detail/hv73417047.geojson&quot;, &quot;dmin&quot;: null, &quot;felt&quot;: null, &quot;gap&quot;: 255.0, &quot;id&quot;: &quot;hv73417047&quot;, &quot;ids&quot;: &quot;,hv73417047,&quot;, &quot;mag&quot;: 2.56, &quot;magType&quot;: &quot;ml&quot;, &quot;mmi&quot;: null, &quot;net&quot;: &quot;hv&quot;, &quot;nst&quot;: 53.0, &quot;place&quot;: &quot;14 km ESE of Leilani Estates, Hawaii&quot;, &quot;rms&quot;: 0.13, &quot;sig&quot;: 101, &quot;sources&quot;: &quot;,hv,&quot;, &quot;status&quot;: &quot;reviewed&quot;, &quot;time&quot;: 1684832483740, &quot;title&quot;: &quot;M 2.6 - 14 km ESE of Leilani Estates, Hawaii&quot;, &quot;tsunami&quot;: 0, &quot;type&quot;: &quot;earthquake&quot;, &quot;types&quot;: &quot;,origin,phase-data,&quot;, &quot;tz&quot;: null, &quot;updated&quot;: 1684878578610, &quot;url&quot;: &quot;https://earthquake.usgs.gov/earthquakes/eventpage/hv73417047&quot;}, &quot;type&quot;: &quot;Feature&quot;}, {&quot;bbox&quot;: [-64.3606666666667, 18.903, -64.3606666666667, 18.903], &quot;geometry&quot;: {&quot;coordinates&quot;: [-64.3606666666667, 18.903, 18.51], &quot;type&quot;: &quot;Point&quot;}, &quot;id&quot;: &quot;37&quot;, &quot;properties&quot;: {&quot;alert&quot;: null, &quot;cdi&quot;: null, &quot;code&quot;: &quot;71410608&quot;, &quot;detail&quot;: &quot;https://earthquake.usgs.gov/earthquakes/feed/v1.0/detail/pr71410608.geojson&quot;, &quot;dmin&quot;: 0.6893, &quot;felt&quot;: null, &quot;gap&quot;: 316.0, &quot;id&quot;: &quot;pr71410608&quot;, &quot;ids&quot;: &quot;,pr71410608,&quot;, &quot;mag&quot;: 3.39, &quot;magType&quot;: &quot;md&quot;, &quot;mmi&quot;: null, &quot;net&quot;: &quot;pr&quot;, &quot;nst&quot;: 6.0, &quot;place&quot;: &quot;Virgin Islands&quot;, &quot;rms&quot;: 0.23, &quot;sig&quot;: 177, &quot;sources&quot;: &quot;,pr,&quot;, &quot;status&quot;: &quot;reviewed&quot;, &quot;time&quot;: 1684827252550, &quot;title&quot;: &quot;M 3.4 - Virgin Islands&quot;, &quot;tsunami&quot;: 0, &quot;type&quot;: &quot;earthquake&quot;, &quot;types&quot;: &quot;,origin,phase-data,&quot;, &quot;tz&quot;: null, &quot;updated&quot;: 1684828250900, &quot;url&quot;: &quot;https://earthquake.usgs.gov/earthquakes/eventpage/pr71410608&quot;}, &quot;type&quot;: &quot;Feature&quot;}, {&quot;bbox&quot;: [-122.5215, 48.232, -122.5215, 48.232], &quot;geometry&quot;: {&quot;coordinates&quot;: [-122.5215, 48.232, 60.58], &quot;type&quot;: &quot;Point&quot;}, &quot;id&quot;: &quot;38&quot;, &quot;properties&quot;: {&quot;alert&quot;: null, &quot;cdi&quot;: 4.3, &quot;code&quot;: &quot;61918522&quot;, &quot;detail&quot;: &quot;https://earthquake.usgs.gov/earthquakes/feed/v1.0/detail/uw61918522.geojson&quot;, &quot;dmin&quot;: 0.09404, &quot;felt&quot;: 24.0, &quot;gap&quot;: 24.0, &quot;id&quot;: &quot;uw61918522&quot;, &quot;ids&quot;: &quot;,us7000k36w,uw61918522,&quot;, &quot;mag&quot;: 3.11, &quot;magType&quot;: &quot;ml&quot;, &quot;mmi&quot;: 2.969, &quot;net&quot;: &quot;uw&quot;, &quot;nst&quot;: 63.0, &quot;place&quot;: &quot;6 km N of Camano, Washington&quot;, &quot;rms&quot;: 0.21, &quot;sig&quot;: 159, &quot;sources&quot;: &quot;,us,uw,&quot;, &quot;status&quot;: &quot;reviewed&quot;, &quot;time&quot;: 1684826494690, &quot;title&quot;: &quot;M 3.1 - 6 km N of Camano, Washington&quot;, &quot;tsunami&quot;: 0, &quot;type&quot;: &quot;earthquake&quot;, &quot;types&quot;: &quot;,dyfi,origin,phase-data,shakemap,&quot;, &quot;tz&quot;: null, &quot;updated&quot;: 1684879445024, &quot;url&quot;: &quot;https://earthquake.usgs.gov/earthquakes/eventpage/uw61918522&quot;}, &quot;type&quot;: &quot;Feature&quot;}, {&quot;bbox&quot;: [-65.7136, 19.114, -65.7136, 19.114], &quot;geometry&quot;: {&quot;coordinates&quot;: [-65.7136, 19.114, 136.0], &quot;type&quot;: &quot;Point&quot;}, &quot;id&quot;: &quot;39&quot;, &quot;properties&quot;: {&quot;alert&quot;: null, &quot;cdi&quot;: null, &quot;code&quot;: &quot;2023143000&quot;, &quot;detail&quot;: &quot;https://earthquake.usgs.gov/earthquakes/feed/v1.0/detail/pr2023143000.geojson&quot;, &quot;dmin&quot;: 0.9145, &quot;felt&quot;: null, &quot;gap&quot;: 257.0, &quot;id&quot;: &quot;pr2023143000&quot;, &quot;ids&quot;: &quot;,pr2023143000,&quot;, &quot;mag&quot;: 3.93, &quot;magType&quot;: &quot;md&quot;, &quot;mmi&quot;: null, &quot;net&quot;: &quot;pr&quot;, &quot;nst&quot;: 9.0, &quot;place&quot;: &quot;Puerto Rico region&quot;, &quot;rms&quot;: 0.56, &quot;sig&quot;: 238, &quot;sources&quot;: &quot;,pr,&quot;, &quot;status&quot;: &quot;reviewed&quot;, &quot;time&quot;: 1684826042160, &quot;title&quot;: &quot;M 3.9 - Puerto Rico region&quot;, &quot;tsunami&quot;: 0, &quot;type&quot;: &quot;earthquake&quot;, &quot;types&quot;: &quot;,origin,phase-data,&quot;, &quot;tz&quot;: null, &quot;updated&quot;: 1684827968762, &quot;url&quot;: &quot;https://earthquake.usgs.gov/earthquakes/eventpage/pr2023143000&quot;}, &quot;type&quot;: &quot;Feature&quot;}, {&quot;bbox&quot;: [170.2882, -22.9987, 170.2882, -22.9987], &quot;geometry&quot;: {&quot;coordinates&quot;: [170.2882, -22.9987, 12.143], &quot;type&quot;: &quot;Point&quot;}, &quot;id&quot;: &quot;40&quot;, &quot;properties&quot;: {&quot;alert&quot;: &quot;green&quot;, &quot;cdi&quot;: 5.8, &quot;code&quot;: &quot;7000k36n&quot;, &quot;detail&quot;: &quot;https://earthquake.usgs.gov/earthquakes/feed/v1.0/detail/us7000k36n.geojson&quot;, &quot;dmin&quot;: 2.65, &quot;felt&quot;: 1.0, &quot;gap&quot;: 47.0, &quot;id&quot;: &quot;us7000k36n&quot;, &quot;ids&quot;: &quot;,us7000k36n,&quot;, &quot;mag&quot;: 6.1, &quot;magType&quot;: &quot;mww&quot;, &quot;mmi&quot;: 0.0, &quot;net&quot;: &quot;us&quot;, &quot;nst&quot;: 89.0, &quot;place&quot;: &quot;288 km E of Vao, New Caledonia&quot;, &quot;rms&quot;: 0.6, &quot;sig&quot;: 573, &quot;sources&quot;: &quot;,us,&quot;, &quot;status&quot;: &quot;reviewed&quot;, &quot;time&quot;: 1684824118975, &quot;title&quot;: &quot;M 6.1 - 288 km E of Vao, New Caledonia&quot;, &quot;tsunami&quot;: 0, &quot;type&quot;: &quot;earthquake&quot;, &quot;types&quot;: &quot;,dyfi,ground-failure,losspager,moment-tensor,origin,phase-data,shakemap,&quot;, &quot;tz&quot;: null, &quot;updated&quot;: 1684870155811, &quot;url&quot;: &quot;https://earthquake.usgs.gov/earthquakes/eventpage/us7000k36n&quot;}, &quot;type&quot;: &quot;Feature&quot;}, {&quot;bbox&quot;: [170.6168, -23.2515, 170.6168, -23.2515], &quot;geometry&quot;: {&quot;coordinates&quot;: [170.6168, -23.2515, 32.825], &quot;type&quot;: &quot;Point&quot;}, &quot;id&quot;: &quot;41&quot;, &quot;properties&quot;: {&quot;alert&quot;: null, &quot;cdi&quot;: null, &quot;code&quot;: &quot;7000k36l&quot;, &quot;detail&quot;: &quot;https://earthquake.usgs.gov/earthquakes/feed/v1.0/detail/us7000k36l.geojson&quot;, &quot;dmin&quot;: 2.991, &quot;felt&quot;: null, &quot;gap&quot;: 82.0, &quot;id&quot;: &quot;us7000k36l&quot;, &quot;ids&quot;: &quot;,us7000k36l,&quot;, &quot;mag&quot;: 5.1, &quot;magType&quot;: &quot;mww&quot;, &quot;mmi&quot;: null, &quot;net&quot;: &quot;us&quot;, &quot;nst&quot;: 57.0, &quot;place&quot;: &quot;southeast of the Loyalty Islands&quot;, &quot;rms&quot;: 0.68, &quot;sig&quot;: 400, &quot;sources&quot;: &quot;,us,&quot;, &quot;status&quot;: &quot;reviewed&quot;, &quot;time&quot;: 1684822934145, &quot;title&quot;: &quot;M 5.1 - southeast of the Loyalty Islands&quot;, &quot;tsunami&quot;: 0, &quot;type&quot;: &quot;earthquake&quot;, &quot;types&quot;: &quot;,origin,phase-data,&quot;, &quot;tz&quot;: null, &quot;updated&quot;: 1684823962040, &quot;url&quot;: &quot;https://earthquake.usgs.gov/earthquakes/eventpage/us7000k36l&quot;}, &quot;type&quot;: &quot;Feature&quot;}], &quot;type&quot;: &quot;FeatureCollection&quot;});\n",
       "\n",
       "        \n",
       "    \n",
       "    geo_json_0b8136bc686b2452832051d5185e520c.bindTooltip(\n",
       "    function(layer){\n",
       "    let div = L.DomUtil.create(&#x27;div&#x27;);\n",
       "    \n",
       "    let handleObject = feature=&gt;typeof(feature)==&#x27;object&#x27; ? JSON.stringify(feature) : feature;\n",
       "    let fields = [&quot;place&quot;, &quot;mag&quot;];\n",
       "    let aliases = [&quot;place&quot;, &quot;mag&quot;];\n",
       "    let table = &#x27;&lt;table&gt;&#x27; +\n",
       "        String(\n",
       "        fields.map(\n",
       "        (v,i)=&gt;\n",
       "        `&lt;tr&gt;\n",
       "            &lt;th&gt;${aliases[i]}&lt;/th&gt;\n",
       "            \n",
       "            &lt;td&gt;${handleObject(layer.feature.properties[v])}&lt;/td&gt;\n",
       "        &lt;/tr&gt;`).join(&#x27;&#x27;))\n",
       "    +&#x27;&lt;/table&gt;&#x27;;\n",
       "    div.innerHTML=table;\n",
       "    \n",
       "    return div\n",
       "    }\n",
       "    ,{&quot;className&quot;: &quot;foliumtooltip&quot;, &quot;sticky&quot;: true});\n",
       "                     \n",
       "&lt;/script&gt;\n",
       "&lt;/html&gt;\" style=\"position:absolute;width:100%;height:100%;left:0;top:0;border:none !important;\" allowfullscreen webkitallowfullscreen mozallowfullscreen></iframe></div></div>"
      ],
      "text/plain": [
       "<folium.folium.Map at 0x1195c4510>"
      ]
     },
     "execution_count": 26,
     "metadata": {},
     "output_type": "execute_result"
    }
   ],
   "source": [
    "# make the map\n",
    "eqmap = folium.Map(location=[0,0], \n",
    "               zoom_start=1,\n",
    "               tiles = 'https://server.arcgisonline.com/ArcGIS/rest/services/World_Imagery/MapServer/tile/{z}/{y}/{x}',\n",
    "               attr = 'ESRI')\n",
    "\n",
    "folium.GeoJson(gdf,\n",
    "               tooltip=folium.GeoJsonTooltip(fields=['place','mag'])).add_to(eqmap)\n",
    "eqmap"
   ]
  }
 ],
 "metadata": {
  "kernelspec": {
   "display_name": "geos",
   "language": "python",
   "name": "python3"
  },
  "language_info": {
   "codemirror_mode": {
    "name": "ipython",
    "version": 3
   },
   "file_extension": ".py",
   "mimetype": "text/x-python",
   "name": "python",
   "nbconvert_exporter": "python",
   "pygments_lexer": "ipython3",
   "version": "3.11.0"
  },
  "orig_nbformat": 4
 },
 "nbformat": 4,
 "nbformat_minor": 2
}
