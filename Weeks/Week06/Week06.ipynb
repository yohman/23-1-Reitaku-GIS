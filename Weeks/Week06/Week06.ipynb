{
 "cells": [
  {
   "attachments": {},
   "cell_type": "markdown",
   "metadata": {},
   "source": [
    "# Data Exploration: Spreadsheet からデータを持ってくる\n",
    "\n",
    "![Alt text](https://raw.githubusercontent.com/yohman/23-1-Reitaku-GIS/main/Weeks/Week06/images/csv%20to%20map.png)\n",
    "\n",
    "先週の課題では一つの地図に複数のマーカーを作りましたね。作る過程で、おそらくマーカーを一つ一つコーディングをしたのではないでしょうか。\n",
    "\n",
    "```python\n",
    "# from Chikashi's homework\n",
    "kaede = [35.83304899572845, 139.9550263688704]\n",
    "asunaro = [35.83218389343381, 139.9559046419524]\n",
    "hiiragi = [35.83432746243043, 139.95492044150396]\n",
    "library = [35.83288620720931, 139.9560383893833]\n",
    "parking = [35.83477548217266, 139.9561361979999]\n",
    "bukastu = [35.83480867733186, 139.95489801198133]\n",
    "```\n",
    "\n",
    "でも、もし100個のマーカーを地図に載せるように言われたらどうする？大変だね！コーディングでやると要領が悪いので、データをspreadsheetで作って、Pythonでインポートしましょう。"
   ]
  },
  {
   "attachments": {},
   "cell_type": "markdown",
   "metadata": {},
   "source": [
    "## CSV ファイルのインポート\n",
    "\n",
    "Google Sheetで作ったデータは[こちらでアクセス](https://docs.google.com/spreadsheets/d/1gtQqvep0ULTZ3K1W8fpZoO9ovTg5DfMN3wx1l6Bebcw/edit?usp=sharing)。\n",
    "\n",
    "では、`mydata.csv`　ファイルをインポートしましょう。クラスのサイトからダウンロードするか、上のファイルを csv としてダウンロードする。\n",
    "\n",
    "確認！\n",
    "- `mydata.csv` ファイルがこのノートブックファイルと同じルーツであることを再確認\n"
   ]
  },
  {
   "attachments": {},
   "cell_type": "markdown",
   "metadata": {},
   "source": [
    "### Library import\n",
    "\n",
    "モジュールを三つ使います：\n",
    "- pandas: to import and work with dataframes\n",
    "- folium: to create interactive maps\n",
    "- matplotlib: to create charts"
   ]
  },
  {
   "cell_type": "code",
   "execution_count": 1,
   "metadata": {},
   "outputs": [],
   "source": [
    "# library import\n",
    "import pandas as pd\n",
    "import folium\n",
    "import matplotlib.pyplot as plt"
   ]
  },
  {
   "attachments": {},
   "cell_type": "markdown",
   "metadata": {},
   "source": [
    "このようにデータを取り込みます。ちなみに `df` は 【dataframe】の略："
   ]
  },
  {
   "cell_type": "code",
   "execution_count": 2,
   "metadata": {},
   "outputs": [],
   "source": [
    "# import the csv file\n",
    "df = pd.read_csv('mydata.csv')"
   ]
  },
  {
   "cell_type": "code",
   "execution_count": 3,
   "metadata": {},
   "outputs": [
    {
     "data": {
      "text/html": [
       "<div>\n",
       "<style scoped>\n",
       "    .dataframe tbody tr th:only-of-type {\n",
       "        vertical-align: middle;\n",
       "    }\n",
       "\n",
       "    .dataframe tbody tr th {\n",
       "        vertical-align: top;\n",
       "    }\n",
       "\n",
       "    .dataframe thead th {\n",
       "        text-align: right;\n",
       "    }\n",
       "</style>\n",
       "<table border=\"1\" class=\"dataframe\">\n",
       "  <thead>\n",
       "    <tr style=\"text-align: right;\">\n",
       "      <th></th>\n",
       "      <th>name</th>\n",
       "      <th>description</th>\n",
       "      <th>latitude</th>\n",
       "      <th>longitude</th>\n",
       "      <th>color</th>\n",
       "    </tr>\n",
       "  </thead>\n",
       "  <tbody>\n",
       "    <tr>\n",
       "      <th>0</th>\n",
       "      <td>校舎「かえで」</td>\n",
       "      <td>校舎名の「かえで」には「楓の果実が2つの種子が密着した姿で、それぞれから翼が伸びる翼果である...</td>\n",
       "      <td>35.833049</td>\n",
       "      <td>139.955026</td>\n",
       "      <td>green</td>\n",
       "    </tr>\n",
       "    <tr>\n",
       "      <th>1</th>\n",
       "      <td>校舎「あすなろ」</td>\n",
       "      <td>麗澤大学開学50周年記念事業の一環として2011年4月\"森と共生するキャンパス\"をコンセプト...</td>\n",
       "      <td>35.832201</td>\n",
       "      <td>139.955906</td>\n",
       "      <td>green</td>\n",
       "    </tr>\n",
       "    <tr>\n",
       "      <th>2</th>\n",
       "      <td>図書館</td>\n",
       "      <td>AVホール・CALL教室を持ち、授業開講時は8:50から19:00（閉講期間中は9:00から...</td>\n",
       "      <td>35.832862</td>\n",
       "      <td>139.955925</td>\n",
       "      <td>green</td>\n",
       "    </tr>\n",
       "    <tr>\n",
       "      <th>3</th>\n",
       "      <td>学生会館「ひいらぎ」</td>\n",
       "      <td>2022年9月にリニューアルオープン。木目とグリーンを基調としたアットホームな雰囲気で、窓か...</td>\n",
       "      <td>35.834304</td>\n",
       "      <td>139.954985</td>\n",
       "      <td>orange</td>\n",
       "    </tr>\n",
       "    <tr>\n",
       "      <th>4</th>\n",
       "      <td>麗澤大学生涯教育プラザ</td>\n",
       "      <td>2006年（平成18年）2月竣工。大学院、研究センター、情報システム部、麗澤オープンカレッジ...</td>\n",
       "      <td>35.831934</td>\n",
       "      <td>139.956880</td>\n",
       "      <td>green</td>\n",
       "    </tr>\n",
       "  </tbody>\n",
       "</table>\n",
       "</div>"
      ],
      "text/plain": [
       "          name                                        description   latitude  \\\n",
       "0      校舎「かえで」  校舎名の「かえで」には「楓の果実が2つの種子が密着した姿で、それぞれから翼が伸びる翼果である...  35.833049   \n",
       "1     校舎「あすなろ」  麗澤大学開学50周年記念事業の一環として2011年4月\"森と共生するキャンパス\"をコンセプト...  35.832201   \n",
       "2          図書館  AVホール・CALL教室を持ち、授業開講時は8:50から19:00（閉講期間中は9:00から...  35.832862   \n",
       "3   学生会館「ひいらぎ」  2022年9月にリニューアルオープン。木目とグリーンを基調としたアットホームな雰囲気で、窓か...  35.834304   \n",
       "4  麗澤大学生涯教育プラザ  2006年（平成18年）2月竣工。大学院、研究センター、情報システム部、麗澤オープンカレッジ...  35.831934   \n",
       "\n",
       "    longitude   color  \n",
       "0  139.955026   green  \n",
       "1  139.955906   green  \n",
       "2  139.955925   green  \n",
       "3  139.954985  orange  \n",
       "4  139.956880   green  "
      ]
     },
     "execution_count": 3,
     "metadata": {},
     "output_type": "execute_result"
    }
   ],
   "source": [
    "df"
   ]
  },
  {
   "attachments": {},
   "cell_type": "markdown",
   "metadata": {},
   "source": [
    "## Working with dataframes\n",
    "\n",
    "おめでとう！データの取り込みに成功。それでは基本的なデータを explore するコマンドをいくつか紹介。"
   ]
  },
  {
   "cell_type": "code",
   "execution_count": 4,
   "metadata": {},
   "outputs": [
    {
     "data": {
      "text/plain": [
       "(5, 5)"
      ]
     },
     "execution_count": 4,
     "metadata": {},
     "output_type": "execute_result"
    }
   ],
   "source": [
    "# size of the data (rows, columns)\n",
    "df.shape"
   ]
  },
  {
   "cell_type": "code",
   "execution_count": 5,
   "metadata": {},
   "outputs": [
    {
     "name": "stdout",
     "output_type": "stream",
     "text": [
      "<class 'pandas.core.frame.DataFrame'>\n",
      "RangeIndex: 5 entries, 0 to 4\n",
      "Data columns (total 5 columns):\n",
      " #   Column       Non-Null Count  Dtype  \n",
      "---  ------       --------------  -----  \n",
      " 0   name         5 non-null      object \n",
      " 1   description  5 non-null      object \n",
      " 2   latitude     5 non-null      float64\n",
      " 3   longitude    5 non-null      float64\n",
      " 4   color        5 non-null      object \n",
      "dtypes: float64(2), object(3)\n",
      "memory usage: 328.0+ bytes\n"
     ]
    }
   ],
   "source": [
    "# information about the data\n",
    "df.info()"
   ]
  },
  {
   "attachments": {},
   "cell_type": "markdown",
   "metadata": {},
   "source": [
    "↑ここで確認するのは `latitude` and `longitude` が `float` であること。もし `object` であればデータを作り直す必要がある。"
   ]
  },
  {
   "cell_type": "code",
   "execution_count": 6,
   "metadata": {},
   "outputs": [
    {
     "data": {
      "text/plain": [
       "['name', 'description', 'latitude', 'longitude', 'color']"
      ]
     },
     "execution_count": 6,
     "metadata": {},
     "output_type": "execute_result"
    }
   ],
   "source": [
    "# list of columns\n",
    "df.columns.to_list()"
   ]
  },
  {
   "cell_type": "code",
   "execution_count": 7,
   "metadata": {},
   "outputs": [
    {
     "data": {
      "text/html": [
       "<div>\n",
       "<style scoped>\n",
       "    .dataframe tbody tr th:only-of-type {\n",
       "        vertical-align: middle;\n",
       "    }\n",
       "\n",
       "    .dataframe tbody tr th {\n",
       "        vertical-align: top;\n",
       "    }\n",
       "\n",
       "    .dataframe thead th {\n",
       "        text-align: right;\n",
       "    }\n",
       "</style>\n",
       "<table border=\"1\" class=\"dataframe\">\n",
       "  <thead>\n",
       "    <tr style=\"text-align: right;\">\n",
       "      <th></th>\n",
       "      <th>name</th>\n",
       "      <th>latitude</th>\n",
       "      <th>longitude</th>\n",
       "    </tr>\n",
       "  </thead>\n",
       "  <tbody>\n",
       "    <tr>\n",
       "      <th>0</th>\n",
       "      <td>校舎「かえで」</td>\n",
       "      <td>35.833049</td>\n",
       "      <td>139.955026</td>\n",
       "    </tr>\n",
       "    <tr>\n",
       "      <th>1</th>\n",
       "      <td>校舎「あすなろ」</td>\n",
       "      <td>35.832201</td>\n",
       "      <td>139.955906</td>\n",
       "    </tr>\n",
       "    <tr>\n",
       "      <th>2</th>\n",
       "      <td>図書館</td>\n",
       "      <td>35.832862</td>\n",
       "      <td>139.955925</td>\n",
       "    </tr>\n",
       "    <tr>\n",
       "      <th>3</th>\n",
       "      <td>学生会館「ひいらぎ」</td>\n",
       "      <td>35.834304</td>\n",
       "      <td>139.954985</td>\n",
       "    </tr>\n",
       "    <tr>\n",
       "      <th>4</th>\n",
       "      <td>麗澤大学生涯教育プラザ</td>\n",
       "      <td>35.831934</td>\n",
       "      <td>139.956880</td>\n",
       "    </tr>\n",
       "  </tbody>\n",
       "</table>\n",
       "</div>"
      ],
      "text/plain": [
       "          name   latitude   longitude\n",
       "0      校舎「かえで」  35.833049  139.955026\n",
       "1     校舎「あすなろ」  35.832201  139.955906\n",
       "2          図書館  35.832862  139.955925\n",
       "3   学生会館「ひいらぎ」  35.834304  139.954985\n",
       "4  麗澤大学生涯教育プラザ  35.831934  139.956880"
      ]
     },
     "execution_count": 7,
     "metadata": {},
     "output_type": "execute_result"
    }
   ],
   "source": [
    "# show only specific columns\n",
    "df[['name','latitude','longitude']]"
   ]
  },
  {
   "cell_type": "code",
   "execution_count": 8,
   "metadata": {},
   "outputs": [
    {
     "data": {
      "text/plain": [
       "0    139.955026\n",
       "1    139.955906\n",
       "2    139.955925\n",
       "3    139.954985\n",
       "4    139.956880\n",
       "Name: longitude, dtype: float64"
      ]
     },
     "execution_count": 8,
     "metadata": {},
     "output_type": "execute_result"
    }
   ],
   "source": [
    "# get values for a single column\n",
    "df['longitude']"
   ]
  },
  {
   "cell_type": "code",
   "execution_count": 9,
   "metadata": {},
   "outputs": [
    {
     "data": {
      "text/plain": [
       "[35.833049, 35.83220147, 35.83286248, 35.83430366, 35.83193431]"
      ]
     },
     "execution_count": 9,
     "metadata": {},
     "output_type": "execute_result"
    }
   ],
   "source": [
    "# put those values in a list\n",
    "df['latitude'].to_list()"
   ]
  },
  {
   "attachments": {},
   "cell_type": "markdown",
   "metadata": {},
   "source": [
    "### Charts\n",
    "\n",
    "`matplotlib` を使ってグラフを作成。"
   ]
  },
  {
   "cell_type": "code",
   "execution_count": 10,
   "metadata": {},
   "outputs": [
    {
     "data": {
      "text/plain": [
       "<AxesSubplot: >"
      ]
     },
     "execution_count": 10,
     "metadata": {},
     "output_type": "execute_result"
    },
    {
     "data": {
      "image/png": "[encoded data removed]",
      "text/plain": [
       "<Figure size 640x480 with 1 Axes>"
      ]
     },
     "metadata": {},
     "output_type": "display_data"
    }
   ],
   "source": [
    "# line chart\n",
    "df['latitude'].plot()"
   ]
  },
  {
   "cell_type": "code",
   "execution_count": 11,
   "metadata": {},
   "outputs": [
    {
     "data": {
      "text/plain": [
       "<AxesSubplot: >"
      ]
     },
     "execution_count": 11,
     "metadata": {},
     "output_type": "execute_result"
    },
    {
     "data": {
      "image/png": "[encoded data removed]",
      "text/plain": [
       "<Figure size 640x480 with 1 Axes>"
      ]
     },
     "metadata": {},
     "output_type": "display_data"
    }
   ],
   "source": [
    "# boxplot 箱ヒゲ図\n",
    "df['latitude'].plot.box(color='red')"
   ]
  },
  {
   "cell_type": "code",
   "execution_count": 12,
   "metadata": {},
   "outputs": [
    {
     "data": {
      "text/plain": [
       "<AxesSubplot: >"
      ]
     },
     "execution_count": 12,
     "metadata": {},
     "output_type": "execute_result"
    },
    {
     "data": {
      "image/png": "[encoded data removed]",
      "text/plain": [
       "<Figure size 640x480 with 1 Axes>"
      ]
     },
     "metadata": {},
     "output_type": "display_data"
    }
   ],
   "source": [
    "# bar graph\n",
    "df['latitude'].plot.bar(color='green')"
   ]
  },
  {
   "cell_type": "code",
   "execution_count": 13,
   "metadata": {},
   "outputs": [
    {
     "data": {
      "text/plain": [
       "<AxesSubplot: xlabel='longitude', ylabel='latitude'>"
      ]
     },
     "execution_count": 13,
     "metadata": {},
     "output_type": "execute_result"
    },
    {
     "data": {
      "image/png": "[encoded data removed]",
      "text/plain": [
       "<Figure size 640x480 with 1 Axes>"
      ]
     },
     "metadata": {},
     "output_type": "display_data"
    }
   ],
   "source": [
    "# scatterplot 散布図\n",
    "# ここの 'c' は df の変数の 'color' を指定\n",
    "# size(s) を変えてみよう\n",
    "df.plot.scatter(x='longitude',y='latitude',c='color',s=50)"
   ]
  },
  {
   "attachments": {},
   "cell_type": "markdown",
   "metadata": {},
   "source": [
    "### Statistics\n",
    "\n",
    "Pythonは簡単な統計もできます。"
   ]
  },
  {
   "cell_type": "code",
   "execution_count": 14,
   "metadata": {},
   "outputs": [
    {
     "data": {
      "text/plain": [
       "count     5.000000\n",
       "mean     35.832870\n",
       "std       0.000923\n",
       "min      35.831934\n",
       "25%      35.832201\n",
       "50%      35.832862\n",
       "75%      35.833049\n",
       "max      35.834304\n",
       "Name: latitude, dtype: float64"
      ]
     },
     "execution_count": 14,
     "metadata": {},
     "output_type": "execute_result"
    }
   ],
   "source": [
    "# summary stats\n",
    "df['latitude'].describe()"
   ]
  },
  {
   "cell_type": "code",
   "execution_count": 15,
   "metadata": {},
   "outputs": [
    {
     "data": {
      "text/plain": [
       "count      5.000000\n",
       "mean     139.955745\n",
       "std        0.000781\n",
       "min      139.954985\n",
       "25%      139.955026\n",
       "50%      139.955906\n",
       "75%      139.955925\n",
       "max      139.956880\n",
       "Name: longitude, dtype: float64"
      ]
     },
     "execution_count": 15,
     "metadata": {},
     "output_type": "execute_result"
    }
   ],
   "source": [
    "# summary stats\n",
    "df['longitude'].describe()"
   ]
  },
  {
   "cell_type": "code",
   "execution_count": 16,
   "metadata": {},
   "outputs": [
    {
     "data": {
      "text/plain": [
       "35.832870184"
      ]
     },
     "execution_count": 16,
     "metadata": {},
     "output_type": "execute_result"
    }
   ],
   "source": [
    "# mean 平均値\n",
    "df['latitude'].mean()"
   ]
  },
  {
   "cell_type": "code",
   "execution_count": 17,
   "metadata": {},
   "outputs": [
    {
     "data": {
      "text/plain": [
       "35.83286248"
      ]
     },
     "execution_count": 17,
     "metadata": {},
     "output_type": "execute_result"
    }
   ],
   "source": [
    "# median 中央値\n",
    "df['latitude'].median()"
   ]
  },
  {
   "attachments": {},
   "cell_type": "markdown",
   "metadata": {},
   "source": [
    "では統計を使って、`latitude` and `longitude` の平均値を変数に入れましょう。\n",
    "\n",
    "さて、この平均値は何を意味するのでしょうか？"
   ]
  },
  {
   "cell_type": "code",
   "execution_count": 18,
   "metadata": {},
   "outputs": [
    {
     "name": "stdout",
     "output_type": "stream",
     "text": [
      "35.832870184 139.95574458000002\n"
     ]
    }
   ],
   "source": [
    "# get center lat/lon\n",
    "center_lat = df['latitude'].mean()\n",
    "center_lon = df['longitude'].mean()\n",
    "\n",
    "print(center_lat,center_lon)"
   ]
  },
  {
   "attachments": {},
   "cell_type": "markdown",
   "metadata": {},
   "source": [
    "## Let's loop!\n",
    "\n",
    "プログラミングの基礎の一つである　`for loop`　があります。「ループ」の言葉通り、何かを【繰り返す】という意味である。\n"
   ]
  },
  {
   "cell_type": "code",
   "execution_count": 19,
   "metadata": {},
   "outputs": [
    {
     "name": "stdout",
     "output_type": "stream",
     "text": [
      "1\n",
      "4\n",
      "9\n",
      "16\n"
     ]
    }
   ],
   "source": [
    "# my students\n",
    "students = ['Akari','Chikashi','Hanxue','Kasumi']\n",
    "\n",
    "numbers = [1,2,3,4]\n",
    "\n",
    "# print their names\n",
    "for x in numbers:\n",
    "    print(x*x)"
   ]
  },
  {
   "attachments": {},
   "cell_type": "markdown",
   "metadata": {},
   "source": [
    "さて、この「ループ」の概念を使ってデータ `df` の１行ずつアウトプットするには `iterrows()` メソッドを使う。例えば、データの `name` を全部アウトプットするには："
   ]
  },
  {
   "cell_type": "code",
   "execution_count": 20,
   "metadata": {},
   "outputs": [
    {
     "name": "stdout",
     "output_type": "stream",
     "text": [
      "校舎「かえで」\n",
      "校舎「あすなろ」\n",
      "図書館\n",
      "学生会館「ひいらぎ」\n",
      "麗澤大学生涯教育プラザ\n"
     ]
    }
   ],
   "source": [
    "# loop through your data\n",
    "for index, row in df.iterrows():\n",
    "    print(row['name'])"
   ]
  },
  {
   "attachments": {},
   "cell_type": "markdown",
   "metadata": {},
   "source": [
    "このように、`row` の変数は【各行】を意味するので、`for loop` に入っているときは変数名と共に各行の値をアウトプットすることができる。複数の変数をアウトプットも可能："
   ]
  },
  {
   "cell_type": "code",
   "execution_count": 21,
   "metadata": {},
   "outputs": [
    {
     "name": "stdout",
     "output_type": "stream",
     "text": [
      "校舎「かえで」 35.833049 139.9550264\n",
      "校舎「あすなろ」 35.83220147 139.9559064\n",
      "図書館 35.83286248 139.9559251\n",
      "学生会館「ひいらぎ」 35.83430366 139.9549849\n",
      "麗澤大学生涯教育プラザ 35.83193431 139.9568801\n"
     ]
    }
   ],
   "source": [
    "# loop and output multiple column values\n",
    "for index, row in df.iterrows():\n",
    "    print(row['name'],row['latitude'],row['longitude'])"
   ]
  },
  {
   "attachments": {},
   "cell_type": "markdown",
   "metadata": {},
   "source": [
    "### Use the loop in a map\n",
    "\n",
    "それでは、`for loop` を使って、`df` のポイントを一気にマッピングしよう。"
   ]
  },
  {
   "cell_type": "code",
   "execution_count": 22,
   "metadata": {},
   "outputs": [
    {
     "data": {
      "text/html": [
       "<div style=\"width:100%;\"><div style=\"position:relative;width:100%;height:0;padding-bottom:60%;\"><span style=\"color:#565656\">Make this Notebook Trusted to load map: File -> Trust Notebook</span><iframe srcdoc=\"&lt;!DOCTYPE html&gt;\n",
       "&lt;html&gt;\n",
       "&lt;head&gt;\n",
       "    \n",
       "    &lt;meta http-equiv=&quot;content-type&quot; content=&quot;text/html; charset=UTF-8&quot; /&gt;\n",
       "    \n",
       "        &lt;script&gt;\n",
       "            L_NO_TOUCH = false;\n",
       "            L_DISABLE_3D = false;\n",
       "        &lt;/script&gt;\n",
       "    \n",
       "    &lt;style&gt;html, body {width: 100%;height: 100%;margin: 0;padding: 0;}&lt;/style&gt;\n",
       "    &lt;style&gt;#map {position:absolute;top:0;bottom:0;right:0;left:0;}&lt;/style&gt;\n",
       "    &lt;script src=&quot;https://cdn.jsdelivr.net/npm/leaflet@1.9.3/dist/leaflet.js&quot;&gt;&lt;/script&gt;\n",
       "    &lt;script src=&quot;https://code.jquery.com/jquery-1.12.4.min.js&quot;&gt;&lt;/script&gt;\n",
       "    &lt;script src=&quot;https://cdn.jsdelivr.net/npm/bootstrap@5.2.2/dist/js/bootstrap.bundle.min.js&quot;&gt;&lt;/script&gt;\n",
       "    &lt;script src=&quot;https://cdnjs.cloudflare.com/ajax/libs/Leaflet.awesome-markers/2.0.2/leaflet.awesome-markers.js&quot;&gt;&lt;/script&gt;\n",
       "    &lt;link rel=&quot;stylesheet&quot; href=&quot;https://cdn.jsdelivr.net/npm/leaflet@1.9.3/dist/leaflet.css&quot;/&gt;\n",
       "    &lt;link rel=&quot;stylesheet&quot; href=&quot;https://cdn.jsdelivr.net/npm/bootstrap@5.2.2/dist/css/bootstrap.min.css&quot;/&gt;\n",
       "    &lt;link rel=&quot;stylesheet&quot; href=&quot;https://netdna.bootstrapcdn.com/bootstrap/3.0.0/css/bootstrap.min.css&quot;/&gt;\n",
       "    &lt;link rel=&quot;stylesheet&quot; href=&quot;https://cdn.jsdelivr.net/npm/@fortawesome/fontawesome-free@6.2.0/css/all.min.css&quot;/&gt;\n",
       "    &lt;link rel=&quot;stylesheet&quot; href=&quot;https://cdnjs.cloudflare.com/ajax/libs/Leaflet.awesome-markers/2.0.2/leaflet.awesome-markers.css&quot;/&gt;\n",
       "    &lt;link rel=&quot;stylesheet&quot; href=&quot;https://cdn.jsdelivr.net/gh/python-visualization/folium/folium/templates/leaflet.awesome.rotate.min.css&quot;/&gt;\n",
       "    \n",
       "            &lt;meta name=&quot;viewport&quot; content=&quot;width=device-width,\n",
       "                initial-scale=1.0, maximum-scale=1.0, user-scalable=no&quot; /&gt;\n",
       "            &lt;style&gt;\n",
       "                #map_a947b68e527b61cbb282636eb1821125 {\n",
       "                    position: relative;\n",
       "                    width: 100.0%;\n",
       "                    height: 100.0%;\n",
       "                    left: 0.0%;\n",
       "                    top: 0.0%;\n",
       "                }\n",
       "                .leaflet-container { font-size: 1rem; }\n",
       "            &lt;/style&gt;\n",
       "        \n",
       "&lt;/head&gt;\n",
       "&lt;body&gt;\n",
       "    \n",
       "    \n",
       "            &lt;div class=&quot;folium-map&quot; id=&quot;map_a947b68e527b61cbb282636eb1821125&quot; &gt;&lt;/div&gt;\n",
       "        \n",
       "&lt;/body&gt;\n",
       "&lt;script&gt;\n",
       "    \n",
       "    \n",
       "            var map_a947b68e527b61cbb282636eb1821125 = L.map(\n",
       "                &quot;map_a947b68e527b61cbb282636eb1821125&quot;,\n",
       "                {\n",
       "                    center: [35.832870184, 139.95574458000002],\n",
       "                    crs: L.CRS.EPSG3857,\n",
       "                    zoom: 17,\n",
       "                    zoomControl: true,\n",
       "                    preferCanvas: false,\n",
       "                }\n",
       "            );\n",
       "\n",
       "            \n",
       "\n",
       "        \n",
       "    \n",
       "            var tile_layer_f53ab62875c9f86dd728d17a06715ade = L.tileLayer(\n",
       "                &quot;https://{s}.tile.openstreetmap.org/{z}/{x}/{y}.png&quot;,\n",
       "                {&quot;attribution&quot;: &quot;Data by \\u0026copy; \\u003ca target=\\&quot;_blank\\&quot; href=\\&quot;http://openstreetmap.org\\&quot;\\u003eOpenStreetMap\\u003c/a\\u003e, under \\u003ca target=\\&quot;_blank\\&quot; href=\\&quot;http://www.openstreetmap.org/copyright\\&quot;\\u003eODbL\\u003c/a\\u003e.&quot;, &quot;detectRetina&quot;: false, &quot;maxNativeZoom&quot;: 18, &quot;maxZoom&quot;: 18, &quot;minZoom&quot;: 0, &quot;noWrap&quot;: false, &quot;opacity&quot;: 1, &quot;subdomains&quot;: &quot;abc&quot;, &quot;tms&quot;: false}\n",
       "            ).addTo(map_a947b68e527b61cbb282636eb1821125);\n",
       "        \n",
       "    \n",
       "            var marker_d01000ba441ec6320f3ec48d2ed1cb23 = L.marker(\n",
       "                [35.833049, 139.9550264],\n",
       "                {}\n",
       "            ).addTo(map_a947b68e527b61cbb282636eb1821125);\n",
       "        \n",
       "    \n",
       "            var icon_8c42e465ea4d35a66bd0a2ba70640ccf = L.AwesomeMarkers.icon(\n",
       "                {&quot;extraClasses&quot;: &quot;fa-rotate-0&quot;, &quot;icon&quot;: &quot;info-sign&quot;, &quot;iconColor&quot;: &quot;white&quot;, &quot;markerColor&quot;: &quot;green&quot;, &quot;prefix&quot;: &quot;glyphicon&quot;}\n",
       "            );\n",
       "            marker_d01000ba441ec6320f3ec48d2ed1cb23.setIcon(icon_8c42e465ea4d35a66bd0a2ba70640ccf);\n",
       "        \n",
       "    \n",
       "        var popup_a81c4a954f7505cce00836dc373cce52 = L.popup({&quot;maxWidth&quot;: &quot;100%&quot;});\n",
       "\n",
       "        \n",
       "            \n",
       "                var html_ec0e609d82932e8c1f759cd2c5c94051 = $(`&lt;div id=&quot;html_ec0e609d82932e8c1f759cd2c5c94051&quot; style=&quot;width: 100.0%; height: 100.0%;&quot;&gt;&lt;div style=&quot;width:350px&quot;&gt;校舎名の「かえで」には「楓の果実が2つの種子が密着した姿で、それぞれから翼が伸びる翼果であることから、仲間同士で切磋琢磨し合い、成長を遂げていくことができる人材の育成を行う」という願いが込められています。&lt;/div&gt;&lt;/div&gt;`)[0];\n",
       "                popup_a81c4a954f7505cce00836dc373cce52.setContent(html_ec0e609d82932e8c1f759cd2c5c94051);\n",
       "            \n",
       "        \n",
       "\n",
       "        marker_d01000ba441ec6320f3ec48d2ed1cb23.bindPopup(popup_a81c4a954f7505cce00836dc373cce52)\n",
       "        ;\n",
       "\n",
       "        \n",
       "    \n",
       "    \n",
       "            marker_d01000ba441ec6320f3ec48d2ed1cb23.bindTooltip(\n",
       "                `&lt;div&gt;\n",
       "                     校舎「かえで」\n",
       "                 &lt;/div&gt;`,\n",
       "                {&quot;sticky&quot;: true}\n",
       "            );\n",
       "        \n",
       "    \n",
       "            var marker_ef11f362d4d70970ffa6d699f57b532e = L.marker(\n",
       "                [35.83220147, 139.9559064],\n",
       "                {}\n",
       "            ).addTo(map_a947b68e527b61cbb282636eb1821125);\n",
       "        \n",
       "    \n",
       "            var icon_2c9691285b3c13a5a7dec4531bec445f = L.AwesomeMarkers.icon(\n",
       "                {&quot;extraClasses&quot;: &quot;fa-rotate-0&quot;, &quot;icon&quot;: &quot;info-sign&quot;, &quot;iconColor&quot;: &quot;white&quot;, &quot;markerColor&quot;: &quot;green&quot;, &quot;prefix&quot;: &quot;glyphicon&quot;}\n",
       "            );\n",
       "            marker_ef11f362d4d70970ffa6d699f57b532e.setIcon(icon_2c9691285b3c13a5a7dec4531bec445f);\n",
       "        \n",
       "    \n",
       "        var popup_3a8b49dbc1c821a7b3d1f532eb6453c3 = L.popup({&quot;maxWidth&quot;: &quot;100%&quot;});\n",
       "\n",
       "        \n",
       "            \n",
       "                var html_9c744e4df7b10f306b8967af487a8a3b = $(`&lt;div id=&quot;html_9c744e4df7b10f306b8967af487a8a3b&quot; style=&quot;width: 100.0%; height: 100.0%;&quot;&gt;&lt;div style=&quot;width:350px&quot;&gt;麗澤大学開学50周年記念事業の一環として2011年4月&quot;森と共生するキャンパス&quot;をコンセプトに建設された校舎「あすなろ」。このコンセプトが高く評価され、2012年度グッドデザイン賞を受賞しました。&lt;/div&gt;&lt;/div&gt;`)[0];\n",
       "                popup_3a8b49dbc1c821a7b3d1f532eb6453c3.setContent(html_9c744e4df7b10f306b8967af487a8a3b);\n",
       "            \n",
       "        \n",
       "\n",
       "        marker_ef11f362d4d70970ffa6d699f57b532e.bindPopup(popup_3a8b49dbc1c821a7b3d1f532eb6453c3)\n",
       "        ;\n",
       "\n",
       "        \n",
       "    \n",
       "    \n",
       "            marker_ef11f362d4d70970ffa6d699f57b532e.bindTooltip(\n",
       "                `&lt;div&gt;\n",
       "                     校舎「あすなろ」\n",
       "                 &lt;/div&gt;`,\n",
       "                {&quot;sticky&quot;: true}\n",
       "            );\n",
       "        \n",
       "    \n",
       "            var marker_87ec77315f31d781da041a35152c9f4f = L.marker(\n",
       "                [35.83286248, 139.9559251],\n",
       "                {}\n",
       "            ).addTo(map_a947b68e527b61cbb282636eb1821125);\n",
       "        \n",
       "    \n",
       "            var icon_80d90f7d4602ed75f294f69bf273b8a5 = L.AwesomeMarkers.icon(\n",
       "                {&quot;extraClasses&quot;: &quot;fa-rotate-0&quot;, &quot;icon&quot;: &quot;info-sign&quot;, &quot;iconColor&quot;: &quot;white&quot;, &quot;markerColor&quot;: &quot;green&quot;, &quot;prefix&quot;: &quot;glyphicon&quot;}\n",
       "            );\n",
       "            marker_87ec77315f31d781da041a35152c9f4f.setIcon(icon_80d90f7d4602ed75f294f69bf273b8a5);\n",
       "        \n",
       "    \n",
       "        var popup_73f61182e03cb7f5fd9552615c9810b1 = L.popup({&quot;maxWidth&quot;: &quot;100%&quot;});\n",
       "\n",
       "        \n",
       "            \n",
       "                var html_42d3428493823d7de00cec7cd10b85b3 = $(`&lt;div id=&quot;html_42d3428493823d7de00cec7cd10b85b3&quot; style=&quot;width: 100.0%; height: 100.0%;&quot;&gt;&lt;div style=&quot;width:350px&quot;&gt;AVホール・CALL教室を持ち、授業開講時は8:50から19:00（閉講期間中は9:00から16:45）まで利用可能。開架式を採用しており、貴重書を除くほとんどの資料を、自由に閲覧することができます。&lt;br&gt;&lt;br&gt;\n",
       " 開館時間は8：50～19：00（月～金）&lt;br&gt;\n",
       " ※授業閉講時は9：00～16：45まで開館（月～金）&lt;/div&gt;&lt;/div&gt;`)[0];\n",
       "                popup_73f61182e03cb7f5fd9552615c9810b1.setContent(html_42d3428493823d7de00cec7cd10b85b3);\n",
       "            \n",
       "        \n",
       "\n",
       "        marker_87ec77315f31d781da041a35152c9f4f.bindPopup(popup_73f61182e03cb7f5fd9552615c9810b1)\n",
       "        ;\n",
       "\n",
       "        \n",
       "    \n",
       "    \n",
       "            marker_87ec77315f31d781da041a35152c9f4f.bindTooltip(\n",
       "                `&lt;div&gt;\n",
       "                     図書館\n",
       "                 &lt;/div&gt;`,\n",
       "                {&quot;sticky&quot;: true}\n",
       "            );\n",
       "        \n",
       "    \n",
       "            var marker_689e29e33f8b29f5c644106ea911ac18 = L.marker(\n",
       "                [35.83430366, 139.9549849],\n",
       "                {}\n",
       "            ).addTo(map_a947b68e527b61cbb282636eb1821125);\n",
       "        \n",
       "    \n",
       "            var icon_06d2ff047e2e2a03262993c637a262a5 = L.AwesomeMarkers.icon(\n",
       "                {&quot;extraClasses&quot;: &quot;fa-rotate-0&quot;, &quot;icon&quot;: &quot;info-sign&quot;, &quot;iconColor&quot;: &quot;white&quot;, &quot;markerColor&quot;: &quot;orange&quot;, &quot;prefix&quot;: &quot;glyphicon&quot;}\n",
       "            );\n",
       "            marker_689e29e33f8b29f5c644106ea911ac18.setIcon(icon_06d2ff047e2e2a03262993c637a262a5);\n",
       "        \n",
       "    \n",
       "        var popup_a749e875a975ae3bd3f5e0182c7e33bd = L.popup({&quot;maxWidth&quot;: &quot;100%&quot;});\n",
       "\n",
       "        \n",
       "            \n",
       "                var html_f3c1e33e29c5f510ac778ebd564f8220 = $(`&lt;div id=&quot;html_f3c1e33e29c5f510ac778ebd564f8220&quot; style=&quot;width: 100.0%; height: 100.0%;&quot;&gt;&lt;div style=&quot;width:350px&quot;&gt;2022年9月にリニューアルオープン。木目とグリーンを基調としたアットホームな雰囲気で、窓から見える「緑」の景色とも調和した作りとなっています。「1人席」や「ソファ席」、「ベンチ席」、「ミーティングルーム」等の様々な空間で過ごせるような工夫がされています。\n",
       " 2階にはカフェコーナーを設置し、焼き立てパン、淹れ立てコーヒー、サーティーワンアイスが購入できます。&lt;/div&gt;&lt;/div&gt;`)[0];\n",
       "                popup_a749e875a975ae3bd3f5e0182c7e33bd.setContent(html_f3c1e33e29c5f510ac778ebd564f8220);\n",
       "            \n",
       "        \n",
       "\n",
       "        marker_689e29e33f8b29f5c644106ea911ac18.bindPopup(popup_a749e875a975ae3bd3f5e0182c7e33bd)\n",
       "        ;\n",
       "\n",
       "        \n",
       "    \n",
       "    \n",
       "            marker_689e29e33f8b29f5c644106ea911ac18.bindTooltip(\n",
       "                `&lt;div&gt;\n",
       "                     学生会館「ひいらぎ」\n",
       "                 &lt;/div&gt;`,\n",
       "                {&quot;sticky&quot;: true}\n",
       "            );\n",
       "        \n",
       "    \n",
       "            var marker_23adb824c5f4c069b3670d5aefaa6b14 = L.marker(\n",
       "                [35.83193431, 139.9568801],\n",
       "                {}\n",
       "            ).addTo(map_a947b68e527b61cbb282636eb1821125);\n",
       "        \n",
       "    \n",
       "            var icon_29a272a192add61fd10685fc5331254b = L.AwesomeMarkers.icon(\n",
       "                {&quot;extraClasses&quot;: &quot;fa-rotate-0&quot;, &quot;icon&quot;: &quot;info-sign&quot;, &quot;iconColor&quot;: &quot;white&quot;, &quot;markerColor&quot;: &quot;green&quot;, &quot;prefix&quot;: &quot;glyphicon&quot;}\n",
       "            );\n",
       "            marker_23adb824c5f4c069b3670d5aefaa6b14.setIcon(icon_29a272a192add61fd10685fc5331254b);\n",
       "        \n",
       "    \n",
       "        var popup_a6805221a19b3b54414330b695a20eb9 = L.popup({&quot;maxWidth&quot;: &quot;100%&quot;});\n",
       "\n",
       "        \n",
       "            \n",
       "                var html_ad7f6cf39c7d8de5419a70c331181658 = $(`&lt;div id=&quot;html_ad7f6cf39c7d8de5419a70c331181658&quot; style=&quot;width: 100.0%; height: 100.0%;&quot;&gt;&lt;div style=&quot;width:350px&quot;&gt;2006年（平成18年）2月竣工。大学院、研究センター、情報システム部、麗澤オープンカレッジが入る複合施設。教育活動、研究活動、社会貢献活動を積極的に推進し、これからの生涯学習への需要に的確に応えていくことを目的とした建物です。&lt;/div&gt;&lt;/div&gt;`)[0];\n",
       "                popup_a6805221a19b3b54414330b695a20eb9.setContent(html_ad7f6cf39c7d8de5419a70c331181658);\n",
       "            \n",
       "        \n",
       "\n",
       "        marker_23adb824c5f4c069b3670d5aefaa6b14.bindPopup(popup_a6805221a19b3b54414330b695a20eb9)\n",
       "        ;\n",
       "\n",
       "        \n",
       "    \n",
       "    \n",
       "            marker_23adb824c5f4c069b3670d5aefaa6b14.bindTooltip(\n",
       "                `&lt;div&gt;\n",
       "                     麗澤大学生涯教育プラザ\n",
       "                 &lt;/div&gt;`,\n",
       "                {&quot;sticky&quot;: true}\n",
       "            );\n",
       "        \n",
       "&lt;/script&gt;\n",
       "&lt;/html&gt;\" style=\"position:absolute;width:100%;height:100%;left:0;top:0;border:none !important;\" allowfullscreen webkitallowfullscreen mozallowfullscreen></iframe></div></div>"
      ],
      "text/plain": [
       "<folium.folium.Map at 0x11b742f50>"
      ]
     },
     "execution_count": 22,
     "metadata": {},
     "output_type": "execute_result"
    }
   ],
   "source": [
    "# make the map\n",
    "m = folium.Map(location=[center_lat,center_lon], zoom_start=17)\n",
    "\n",
    "# df をループしてマーカーを作る\n",
    "for index, row in df.iterrows():\n",
    "    latlon = [row['latitude'],row['longitude']]\n",
    "    folium.Marker(latlon, \n",
    "                  popup='<div style=\"width:350px\">'+row['description']+'</div>', \n",
    "                  tooltip=row['name'],\n",
    "                  icon=folium.Icon(color=row['color']\n",
    "                )).add_to(m)\n",
    "\n",
    "# show the map\n",
    "m"
   ]
  },
  {
   "attachments": {},
   "cell_type": "markdown",
   "metadata": {},
   "source": [
    "`popup` の値に注目！そうなんです。日本語のテキストだと、popupが縦に表示されるため、これを回避するにはテキストの周りにHTMLで強引に `width` を設定します。\n",
    "\n",
    "<img src=\"https://raw.githubusercontent.com/yohman/23-1-Reitaku-GIS/main/Weeks/Week06/images/tate%20to%20yoko.png\" width=\"400\">"
   ]
  },
  {
   "attachments": {},
   "cell_type": "markdown",
   "metadata": {},
   "source": [
    "### Basemap 色々\n",
    "\n",
    "デフォルトで使うベースマップは Open Street Map から。でも他にもオプションがいっぱいある。`folium` でマップを作るときに `tiles` と `attr` を指定することによってベースマップの変更が可能になる。\n",
    "\n",
    "日本では国土交通省の国土地理院が様々なベースマップを提供している。以下のURLを `tiles` 変数に指定する。`attr` は `attribute` の略なので、必ず出所を指定する。この場合は `attr=\"国土地理院\"`\n",
    "\n",
    "2007年以降\n",
    "- https://cyberjapandata.gsi.go.jp/xyz/seamlessphoto/{z}/{x}/{y}.jpg\n",
    "\n",
    "1987年～1990年\n",
    "- https://cyberjapandata.gsi.go.jp/xyz/gazo4/{z}/{x}/{y}.jpg\n",
    "\n",
    "1984年～1986年\n",
    "- https://cyberjapandata.gsi.go.jp/xyz/gazo3/{z}/{x}/{y}.jpg\n",
    "\n",
    "1979年～1983年\n",
    "- https://cyberjapandata.gsi.go.jp/xyz/gazo2/{z}/{x}/{y}.jpg\n",
    "\n",
    "1974年～1978年\n",
    "- https://cyberjapandata.gsi.go.jp/xyz/gazo1/{z}/{x}/{y}.jpg\n",
    "\n",
    "1961年～1969年\n",
    "- https://cyberjapandata.gsi.go.jp/xyz/ort_old10/{z}/{x}/{y}.png\n"
   ]
  },
  {
   "cell_type": "code",
   "execution_count": 23,
   "metadata": {},
   "outputs": [
    {
     "data": {
      "text/html": [
       "<div style=\"width:100%;\"><div style=\"position:relative;width:100%;height:0;padding-bottom:60%;\"><span style=\"color:#565656\">Make this Notebook Trusted to load map: File -> Trust Notebook</span><iframe srcdoc=\"&lt;!DOCTYPE html&gt;\n",
       "&lt;html&gt;\n",
       "&lt;head&gt;\n",
       "    \n",
       "    &lt;meta http-equiv=&quot;content-type&quot; content=&quot;text/html; charset=UTF-8&quot; /&gt;\n",
       "    \n",
       "        &lt;script&gt;\n",
       "            L_NO_TOUCH = false;\n",
       "            L_DISABLE_3D = false;\n",
       "        &lt;/script&gt;\n",
       "    \n",
       "    &lt;style&gt;html, body {width: 100%;height: 100%;margin: 0;padding: 0;}&lt;/style&gt;\n",
       "    &lt;style&gt;#map {position:absolute;top:0;bottom:0;right:0;left:0;}&lt;/style&gt;\n",
       "    &lt;script src=&quot;https://cdn.jsdelivr.net/npm/leaflet@1.9.3/dist/leaflet.js&quot;&gt;&lt;/script&gt;\n",
       "    &lt;script src=&quot;https://code.jquery.com/jquery-1.12.4.min.js&quot;&gt;&lt;/script&gt;\n",
       "    &lt;script src=&quot;https://cdn.jsdelivr.net/npm/bootstrap@5.2.2/dist/js/bootstrap.bundle.min.js&quot;&gt;&lt;/script&gt;\n",
       "    &lt;script src=&quot;https://cdnjs.cloudflare.com/ajax/libs/Leaflet.awesome-markers/2.0.2/leaflet.awesome-markers.js&quot;&gt;&lt;/script&gt;\n",
       "    &lt;link rel=&quot;stylesheet&quot; href=&quot;https://cdn.jsdelivr.net/npm/leaflet@1.9.3/dist/leaflet.css&quot;/&gt;\n",
       "    &lt;link rel=&quot;stylesheet&quot; href=&quot;https://cdn.jsdelivr.net/npm/bootstrap@5.2.2/dist/css/bootstrap.min.css&quot;/&gt;\n",
       "    &lt;link rel=&quot;stylesheet&quot; href=&quot;https://netdna.bootstrapcdn.com/bootstrap/3.0.0/css/bootstrap.min.css&quot;/&gt;\n",
       "    &lt;link rel=&quot;stylesheet&quot; href=&quot;https://cdn.jsdelivr.net/npm/@fortawesome/fontawesome-free@6.2.0/css/all.min.css&quot;/&gt;\n",
       "    &lt;link rel=&quot;stylesheet&quot; href=&quot;https://cdnjs.cloudflare.com/ajax/libs/Leaflet.awesome-markers/2.0.2/leaflet.awesome-markers.css&quot;/&gt;\n",
       "    &lt;link rel=&quot;stylesheet&quot; href=&quot;https://cdn.jsdelivr.net/gh/python-visualization/folium/folium/templates/leaflet.awesome.rotate.min.css&quot;/&gt;\n",
       "    \n",
       "            &lt;meta name=&quot;viewport&quot; content=&quot;width=device-width,\n",
       "                initial-scale=1.0, maximum-scale=1.0, user-scalable=no&quot; /&gt;\n",
       "            &lt;style&gt;\n",
       "                #map_562e72309579ad7afca6db28ded9b402 {\n",
       "                    position: relative;\n",
       "                    width: 100.0%;\n",
       "                    height: 100.0%;\n",
       "                    left: 0.0%;\n",
       "                    top: 0.0%;\n",
       "                }\n",
       "                .leaflet-container { font-size: 1rem; }\n",
       "            &lt;/style&gt;\n",
       "        \n",
       "&lt;/head&gt;\n",
       "&lt;body&gt;\n",
       "    \n",
       "    \n",
       "            &lt;div class=&quot;folium-map&quot; id=&quot;map_562e72309579ad7afca6db28ded9b402&quot; &gt;&lt;/div&gt;\n",
       "        \n",
       "&lt;/body&gt;\n",
       "&lt;script&gt;\n",
       "    \n",
       "    \n",
       "            var map_562e72309579ad7afca6db28ded9b402 = L.map(\n",
       "                &quot;map_562e72309579ad7afca6db28ded9b402&quot;,\n",
       "                {\n",
       "                    center: [35.832870184, 139.95574458000002],\n",
       "                    crs: L.CRS.EPSG3857,\n",
       "                    zoom: 17,\n",
       "                    zoomControl: true,\n",
       "                    preferCanvas: false,\n",
       "                }\n",
       "            );\n",
       "\n",
       "            \n",
       "\n",
       "        \n",
       "    \n",
       "            var tile_layer_06e43b8e85662626d02218bc13f9b176 = L.tileLayer(\n",
       "                &quot;https://{s}.tile.openstreetmap.org/{z}/{x}/{y}.png&quot;,\n",
       "                {&quot;attribution&quot;: &quot;Data by \\u0026copy; \\u003ca target=\\&quot;_blank\\&quot; href=\\&quot;http://openstreetmap.org\\&quot;\\u003eOpenStreetMap\\u003c/a\\u003e, under \\u003ca target=\\&quot;_blank\\&quot; href=\\&quot;http://www.openstreetmap.org/copyright\\&quot;\\u003eODbL\\u003c/a\\u003e.&quot;, &quot;detectRetina&quot;: false, &quot;maxNativeZoom&quot;: 18, &quot;maxZoom&quot;: 18, &quot;minZoom&quot;: 0, &quot;noWrap&quot;: false, &quot;opacity&quot;: 1, &quot;subdomains&quot;: &quot;abc&quot;, &quot;tms&quot;: false}\n",
       "            ).addTo(map_562e72309579ad7afca6db28ded9b402);\n",
       "        \n",
       "    \n",
       "            var tile_layer_7d16ac78f875c06e67573b93c204909e = L.tileLayer(\n",
       "                &quot;https://cyberjapandata.gsi.go.jp/xyz/seamlessphoto/{z}/{x}/{y}.jpg&quot;,\n",
       "                {&quot;attribution&quot;: &quot;\\u56fd\\u571f\\u5730\\u7406\\u9662&quot;, &quot;detectRetina&quot;: false, &quot;maxNativeZoom&quot;: 18, &quot;maxZoom&quot;: 18, &quot;minZoom&quot;: 0, &quot;noWrap&quot;: false, &quot;opacity&quot;: 1, &quot;subdomains&quot;: &quot;abc&quot;, &quot;tms&quot;: false}\n",
       "            ).addTo(map_562e72309579ad7afca6db28ded9b402);\n",
       "        \n",
       "    \n",
       "            var tile_layer_a956c1f8791c4bee858405bd174c64d0 = L.tileLayer(\n",
       "                &quot;https://cyberjapandata.gsi.go.jp/xyz/gazo4/{z}/{x}/{y}.jpg&quot;,\n",
       "                {&quot;attribution&quot;: &quot;\\u56fd\\u571f\\u5730\\u7406\\u9662&quot;, &quot;detectRetina&quot;: false, &quot;maxNativeZoom&quot;: 18, &quot;maxZoom&quot;: 18, &quot;minZoom&quot;: 0, &quot;noWrap&quot;: false, &quot;opacity&quot;: 1, &quot;subdomains&quot;: &quot;abc&quot;, &quot;tms&quot;: false}\n",
       "            ).addTo(map_562e72309579ad7afca6db28ded9b402);\n",
       "        \n",
       "    \n",
       "            var tile_layer_0edafe969df903b1aae6ed5c69ca9a24 = L.tileLayer(\n",
       "                &quot;https://cyberjapandata.gsi.go.jp/xyz/gazo3/{z}/{x}/{y}.jpg&quot;,\n",
       "                {&quot;attribution&quot;: &quot;\\u56fd\\u571f\\u5730\\u7406\\u9662&quot;, &quot;detectRetina&quot;: false, &quot;maxNativeZoom&quot;: 18, &quot;maxZoom&quot;: 18, &quot;minZoom&quot;: 0, &quot;noWrap&quot;: false, &quot;opacity&quot;: 1, &quot;subdomains&quot;: &quot;abc&quot;, &quot;tms&quot;: false}\n",
       "            ).addTo(map_562e72309579ad7afca6db28ded9b402);\n",
       "        \n",
       "    \n",
       "            var tile_layer_27d3063fa0f9e347d5a7d6e6eaa86c1d = L.tileLayer(\n",
       "                &quot;https://cyberjapandata.gsi.go.jp/xyz/gazo2/{z}/{x}/{y}.jpg&quot;,\n",
       "                {&quot;attribution&quot;: &quot;\\u56fd\\u571f\\u5730\\u7406\\u9662&quot;, &quot;detectRetina&quot;: false, &quot;maxNativeZoom&quot;: 18, &quot;maxZoom&quot;: 18, &quot;minZoom&quot;: 0, &quot;noWrap&quot;: false, &quot;opacity&quot;: 1, &quot;subdomains&quot;: &quot;abc&quot;, &quot;tms&quot;: false}\n",
       "            ).addTo(map_562e72309579ad7afca6db28ded9b402);\n",
       "        \n",
       "    \n",
       "            var tile_layer_defc0df43f964a1169179486067f3316 = L.tileLayer(\n",
       "                &quot;https://cyberjapandata.gsi.go.jp/xyz/gazo1/{z}/{x}/{y}.jpg&quot;,\n",
       "                {&quot;attribution&quot;: &quot;\\u56fd\\u571f\\u5730\\u7406\\u9662&quot;, &quot;detectRetina&quot;: false, &quot;maxNativeZoom&quot;: 18, &quot;maxZoom&quot;: 18, &quot;minZoom&quot;: 0, &quot;noWrap&quot;: false, &quot;opacity&quot;: 1, &quot;subdomains&quot;: &quot;abc&quot;, &quot;tms&quot;: false}\n",
       "            ).addTo(map_562e72309579ad7afca6db28ded9b402);\n",
       "        \n",
       "    \n",
       "            var tile_layer_40bd57273dbd0c87a6aed60ebd4f2ead = L.tileLayer(\n",
       "                &quot;https://cyberjapandata.gsi.go.jp/xyz/ort_old10/{z}/{x}/{y}.png&quot;,\n",
       "                {&quot;attribution&quot;: &quot;\\u56fd\\u571f\\u5730\\u7406\\u9662&quot;, &quot;detectRetina&quot;: false, &quot;maxNativeZoom&quot;: 18, &quot;maxZoom&quot;: 18, &quot;minZoom&quot;: 0, &quot;noWrap&quot;: false, &quot;opacity&quot;: 1, &quot;subdomains&quot;: &quot;abc&quot;, &quot;tms&quot;: false}\n",
       "            ).addTo(map_562e72309579ad7afca6db28ded9b402);\n",
       "        \n",
       "    \n",
       "            var layer_control_7f5dfbc83111f13b376510c862192602 = {\n",
       "                base_layers : {\n",
       "                    &quot;openstreetmap&quot; : tile_layer_06e43b8e85662626d02218bc13f9b176,\n",
       "                    &quot;2007\\u5e74\\u4ee5\\u964d&quot; : tile_layer_7d16ac78f875c06e67573b93c204909e,\n",
       "                    &quot;1987\\u5e74\\uff5e1990\\u5e74&quot; : tile_layer_a956c1f8791c4bee858405bd174c64d0,\n",
       "                    &quot;1984\\u5e74\\uff5e1986\\u5e74&quot; : tile_layer_0edafe969df903b1aae6ed5c69ca9a24,\n",
       "                    &quot;1979\\u5e74\\uff5e1983\\u5e74&quot; : tile_layer_27d3063fa0f9e347d5a7d6e6eaa86c1d,\n",
       "                    &quot;1974\\u5e74\\uff5e1978\\u5e74&quot; : tile_layer_defc0df43f964a1169179486067f3316,\n",
       "                    &quot;1961\\u5e74\\uff5e1969\\u5e74&quot; : tile_layer_40bd57273dbd0c87a6aed60ebd4f2ead,\n",
       "                },\n",
       "                overlays :  {\n",
       "                },\n",
       "            };\n",
       "            L.control.layers(\n",
       "                layer_control_7f5dfbc83111f13b376510c862192602.base_layers,\n",
       "                layer_control_7f5dfbc83111f13b376510c862192602.overlays,\n",
       "                {&quot;autoZIndex&quot;: true, &quot;collapsed&quot;: true, &quot;position&quot;: &quot;topright&quot;}\n",
       "            ).addTo(map_562e72309579ad7afca6db28ded9b402);\n",
       "            tile_layer_7d16ac78f875c06e67573b93c204909e.remove();\n",
       "            tile_layer_a956c1f8791c4bee858405bd174c64d0.remove();\n",
       "            tile_layer_0edafe969df903b1aae6ed5c69ca9a24.remove();\n",
       "            tile_layer_27d3063fa0f9e347d5a7d6e6eaa86c1d.remove();\n",
       "            tile_layer_defc0df43f964a1169179486067f3316.remove();\n",
       "            tile_layer_40bd57273dbd0c87a6aed60ebd4f2ead.remove();\n",
       "        \n",
       "    \n",
       "            var marker_c054dbc13aa4dee8af23f6a99b6eae9f = L.marker(\n",
       "                [35.833049, 139.9550264],\n",
       "                {}\n",
       "            ).addTo(map_562e72309579ad7afca6db28ded9b402);\n",
       "        \n",
       "    \n",
       "            var icon_059f0126cb5abcda6ee557f42d194e53 = L.AwesomeMarkers.icon(\n",
       "                {&quot;extraClasses&quot;: &quot;fa-rotate-0&quot;, &quot;icon&quot;: &quot;info-sign&quot;, &quot;iconColor&quot;: &quot;white&quot;, &quot;markerColor&quot;: &quot;green&quot;, &quot;prefix&quot;: &quot;glyphicon&quot;}\n",
       "            );\n",
       "            marker_c054dbc13aa4dee8af23f6a99b6eae9f.setIcon(icon_059f0126cb5abcda6ee557f42d194e53);\n",
       "        \n",
       "    \n",
       "        var popup_bbefe50303d42dde6dcf826b74a47826 = L.popup({&quot;maxWidth&quot;: &quot;100%&quot;});\n",
       "\n",
       "        \n",
       "            \n",
       "                var html_a9424a2b90539a9a8a462639337dcd9a = $(`&lt;div id=&quot;html_a9424a2b90539a9a8a462639337dcd9a&quot; style=&quot;width: 100.0%; height: 100.0%;&quot;&gt;&lt;div style=&quot;width:150px&quot;&gt;校舎名の「かえで」には「楓の果実が2つの種子が密着した姿で、それぞれから翼が伸びる翼果であることから、仲間同士で切磋琢磨し合い、成長を遂げていくことができる人材の育成を行う」という願いが込められています。&lt;/div&gt;&lt;/div&gt;`)[0];\n",
       "                popup_bbefe50303d42dde6dcf826b74a47826.setContent(html_a9424a2b90539a9a8a462639337dcd9a);\n",
       "            \n",
       "        \n",
       "\n",
       "        marker_c054dbc13aa4dee8af23f6a99b6eae9f.bindPopup(popup_bbefe50303d42dde6dcf826b74a47826)\n",
       "        ;\n",
       "\n",
       "        \n",
       "    \n",
       "    \n",
       "            marker_c054dbc13aa4dee8af23f6a99b6eae9f.bindTooltip(\n",
       "                `&lt;div&gt;\n",
       "                     校舎「かえで」\n",
       "                 &lt;/div&gt;`,\n",
       "                {&quot;sticky&quot;: true}\n",
       "            );\n",
       "        \n",
       "    \n",
       "            var marker_1cbf1885971e1f4619c4c1472f83608d = L.marker(\n",
       "                [35.83220147, 139.9559064],\n",
       "                {}\n",
       "            ).addTo(map_562e72309579ad7afca6db28ded9b402);\n",
       "        \n",
       "    \n",
       "            var icon_1460e3a4a8be69359c0278bc8dc4b8f6 = L.AwesomeMarkers.icon(\n",
       "                {&quot;extraClasses&quot;: &quot;fa-rotate-0&quot;, &quot;icon&quot;: &quot;info-sign&quot;, &quot;iconColor&quot;: &quot;white&quot;, &quot;markerColor&quot;: &quot;green&quot;, &quot;prefix&quot;: &quot;glyphicon&quot;}\n",
       "            );\n",
       "            marker_1cbf1885971e1f4619c4c1472f83608d.setIcon(icon_1460e3a4a8be69359c0278bc8dc4b8f6);\n",
       "        \n",
       "    \n",
       "        var popup_a69bd3e522b68481a8a4a13ff5360aef = L.popup({&quot;maxWidth&quot;: &quot;100%&quot;});\n",
       "\n",
       "        \n",
       "            \n",
       "                var html_cd07ec8a89e77b288593256223962266 = $(`&lt;div id=&quot;html_cd07ec8a89e77b288593256223962266&quot; style=&quot;width: 100.0%; height: 100.0%;&quot;&gt;&lt;div style=&quot;width:150px&quot;&gt;麗澤大学開学50周年記念事業の一環として2011年4月&quot;森と共生するキャンパス&quot;をコンセプトに建設された校舎「あすなろ」。このコンセプトが高く評価され、2012年度グッドデザイン賞を受賞しました。&lt;/div&gt;&lt;/div&gt;`)[0];\n",
       "                popup_a69bd3e522b68481a8a4a13ff5360aef.setContent(html_cd07ec8a89e77b288593256223962266);\n",
       "            \n",
       "        \n",
       "\n",
       "        marker_1cbf1885971e1f4619c4c1472f83608d.bindPopup(popup_a69bd3e522b68481a8a4a13ff5360aef)\n",
       "        ;\n",
       "\n",
       "        \n",
       "    \n",
       "    \n",
       "            marker_1cbf1885971e1f4619c4c1472f83608d.bindTooltip(\n",
       "                `&lt;div&gt;\n",
       "                     校舎「あすなろ」\n",
       "                 &lt;/div&gt;`,\n",
       "                {&quot;sticky&quot;: true}\n",
       "            );\n",
       "        \n",
       "    \n",
       "            var marker_b2f4cf7b72c4e3d264e7230849f5af80 = L.marker(\n",
       "                [35.83286248, 139.9559251],\n",
       "                {}\n",
       "            ).addTo(map_562e72309579ad7afca6db28ded9b402);\n",
       "        \n",
       "    \n",
       "            var icon_9b2c4482621e8b0626e7f19ccdf94ea5 = L.AwesomeMarkers.icon(\n",
       "                {&quot;extraClasses&quot;: &quot;fa-rotate-0&quot;, &quot;icon&quot;: &quot;info-sign&quot;, &quot;iconColor&quot;: &quot;white&quot;, &quot;markerColor&quot;: &quot;green&quot;, &quot;prefix&quot;: &quot;glyphicon&quot;}\n",
       "            );\n",
       "            marker_b2f4cf7b72c4e3d264e7230849f5af80.setIcon(icon_9b2c4482621e8b0626e7f19ccdf94ea5);\n",
       "        \n",
       "    \n",
       "        var popup_598585bdab411dd14d2d086b6f143a5f = L.popup({&quot;maxWidth&quot;: &quot;100%&quot;});\n",
       "\n",
       "        \n",
       "            \n",
       "                var html_fd9bf7a2514aa7c46ec9e4ca17c15366 = $(`&lt;div id=&quot;html_fd9bf7a2514aa7c46ec9e4ca17c15366&quot; style=&quot;width: 100.0%; height: 100.0%;&quot;&gt;&lt;div style=&quot;width:150px&quot;&gt;AVホール・CALL教室を持ち、授業開講時は8:50から19:00（閉講期間中は9:00から16:45）まで利用可能。開架式を採用しており、貴重書を除くほとんどの資料を、自由に閲覧することができます。&lt;br&gt;&lt;br&gt;\n",
       " 開館時間は8：50～19：00（月～金）&lt;br&gt;\n",
       " ※授業閉講時は9：00～16：45まで開館（月～金）&lt;/div&gt;&lt;/div&gt;`)[0];\n",
       "                popup_598585bdab411dd14d2d086b6f143a5f.setContent(html_fd9bf7a2514aa7c46ec9e4ca17c15366);\n",
       "            \n",
       "        \n",
       "\n",
       "        marker_b2f4cf7b72c4e3d264e7230849f5af80.bindPopup(popup_598585bdab411dd14d2d086b6f143a5f)\n",
       "        ;\n",
       "\n",
       "        \n",
       "    \n",
       "    \n",
       "            marker_b2f4cf7b72c4e3d264e7230849f5af80.bindTooltip(\n",
       "                `&lt;div&gt;\n",
       "                     図書館\n",
       "                 &lt;/div&gt;`,\n",
       "                {&quot;sticky&quot;: true}\n",
       "            );\n",
       "        \n",
       "    \n",
       "            var marker_8a83ac6b0df5c60263978afa09085391 = L.marker(\n",
       "                [35.83430366, 139.9549849],\n",
       "                {}\n",
       "            ).addTo(map_562e72309579ad7afca6db28ded9b402);\n",
       "        \n",
       "    \n",
       "            var icon_4f78f3bc33b0ffaa3f107978564ffdb4 = L.AwesomeMarkers.icon(\n",
       "                {&quot;extraClasses&quot;: &quot;fa-rotate-0&quot;, &quot;icon&quot;: &quot;info-sign&quot;, &quot;iconColor&quot;: &quot;white&quot;, &quot;markerColor&quot;: &quot;orange&quot;, &quot;prefix&quot;: &quot;glyphicon&quot;}\n",
       "            );\n",
       "            marker_8a83ac6b0df5c60263978afa09085391.setIcon(icon_4f78f3bc33b0ffaa3f107978564ffdb4);\n",
       "        \n",
       "    \n",
       "        var popup_93439d00754d1634d4406ade1dae17e6 = L.popup({&quot;maxWidth&quot;: &quot;100%&quot;});\n",
       "\n",
       "        \n",
       "            \n",
       "                var html_4743c6c85f5915aa9dc76f47ac386e44 = $(`&lt;div id=&quot;html_4743c6c85f5915aa9dc76f47ac386e44&quot; style=&quot;width: 100.0%; height: 100.0%;&quot;&gt;&lt;div style=&quot;width:150px&quot;&gt;2022年9月にリニューアルオープン。木目とグリーンを基調としたアットホームな雰囲気で、窓から見える「緑」の景色とも調和した作りとなっています。「1人席」や「ソファ席」、「ベンチ席」、「ミーティングルーム」等の様々な空間で過ごせるような工夫がされています。\n",
       " 2階にはカフェコーナーを設置し、焼き立てパン、淹れ立てコーヒー、サーティーワンアイスが購入できます。&lt;/div&gt;&lt;/div&gt;`)[0];\n",
       "                popup_93439d00754d1634d4406ade1dae17e6.setContent(html_4743c6c85f5915aa9dc76f47ac386e44);\n",
       "            \n",
       "        \n",
       "\n",
       "        marker_8a83ac6b0df5c60263978afa09085391.bindPopup(popup_93439d00754d1634d4406ade1dae17e6)\n",
       "        ;\n",
       "\n",
       "        \n",
       "    \n",
       "    \n",
       "            marker_8a83ac6b0df5c60263978afa09085391.bindTooltip(\n",
       "                `&lt;div&gt;\n",
       "                     学生会館「ひいらぎ」\n",
       "                 &lt;/div&gt;`,\n",
       "                {&quot;sticky&quot;: true}\n",
       "            );\n",
       "        \n",
       "    \n",
       "            var marker_63573131229a2d6f355cac993a16484d = L.marker(\n",
       "                [35.83193431, 139.9568801],\n",
       "                {}\n",
       "            ).addTo(map_562e72309579ad7afca6db28ded9b402);\n",
       "        \n",
       "    \n",
       "            var icon_b9ea95cb8ad5c7c1ae9cd339fea72bde = L.AwesomeMarkers.icon(\n",
       "                {&quot;extraClasses&quot;: &quot;fa-rotate-0&quot;, &quot;icon&quot;: &quot;info-sign&quot;, &quot;iconColor&quot;: &quot;white&quot;, &quot;markerColor&quot;: &quot;green&quot;, &quot;prefix&quot;: &quot;glyphicon&quot;}\n",
       "            );\n",
       "            marker_63573131229a2d6f355cac993a16484d.setIcon(icon_b9ea95cb8ad5c7c1ae9cd339fea72bde);\n",
       "        \n",
       "    \n",
       "        var popup_37ef45bfe8dfdc898fa475b989f4f507 = L.popup({&quot;maxWidth&quot;: &quot;100%&quot;});\n",
       "\n",
       "        \n",
       "            \n",
       "                var html_496d78650355be7e5df6c997bc6792e9 = $(`&lt;div id=&quot;html_496d78650355be7e5df6c997bc6792e9&quot; style=&quot;width: 100.0%; height: 100.0%;&quot;&gt;&lt;div style=&quot;width:150px&quot;&gt;2006年（平成18年）2月竣工。大学院、研究センター、情報システム部、麗澤オープンカレッジが入る複合施設。教育活動、研究活動、社会貢献活動を積極的に推進し、これからの生涯学習への需要に的確に応えていくことを目的とした建物です。&lt;/div&gt;&lt;/div&gt;`)[0];\n",
       "                popup_37ef45bfe8dfdc898fa475b989f4f507.setContent(html_496d78650355be7e5df6c997bc6792e9);\n",
       "            \n",
       "        \n",
       "\n",
       "        marker_63573131229a2d6f355cac993a16484d.bindPopup(popup_37ef45bfe8dfdc898fa475b989f4f507)\n",
       "        ;\n",
       "\n",
       "        \n",
       "    \n",
       "    \n",
       "            marker_63573131229a2d6f355cac993a16484d.bindTooltip(\n",
       "                `&lt;div&gt;\n",
       "                     麗澤大学生涯教育プラザ\n",
       "                 &lt;/div&gt;`,\n",
       "                {&quot;sticky&quot;: true}\n",
       "            );\n",
       "        \n",
       "&lt;/script&gt;\n",
       "&lt;/html&gt;\" style=\"position:absolute;width:100%;height:100%;left:0;top:0;border:none !important;\" allowfullscreen webkitallowfullscreen mozallowfullscreen></iframe></div></div>"
      ],
      "text/plain": [
       "<folium.folium.Map at 0x11b92e710>"
      ]
     },
     "execution_count": 23,
     "metadata": {},
     "output_type": "execute_result"
    }
   ],
   "source": [
    "# make the map\n",
    "m = folium.Map(location=[center_lat,center_lon], \n",
    "               zoom_start=17,\n",
    "               attr = '国土地理院')\n",
    "\n",
    "# add basemaps\n",
    "folium.TileLayer(name='2007年以降',tiles='https://cyberjapandata.gsi.go.jp/xyz/seamlessphoto/{z}/{x}/{y}.jpg',attr='国土地理院').add_to(m)\n",
    "folium.TileLayer(name='1987年～1990年',tiles='https://cyberjapandata.gsi.go.jp/xyz/gazo4/{z}/{x}/{y}.jpg',attr='国土地理院').add_to(m)\n",
    "folium.TileLayer(name='1984年～1986年',tiles='https://cyberjapandata.gsi.go.jp/xyz/gazo3/{z}/{x}/{y}.jpg',attr='国土地理院').add_to(m)\n",
    "folium.TileLayer(name='1979年～1983年',tiles='https://cyberjapandata.gsi.go.jp/xyz/gazo2/{z}/{x}/{y}.jpg',attr='国土地理院').add_to(m)\n",
    "folium.TileLayer(name='1974年～1978年',tiles='https://cyberjapandata.gsi.go.jp/xyz/gazo1/{z}/{x}/{y}.jpg',attr='国土地理院').add_to(m)\n",
    "folium.TileLayer(name='1961年～1969年',tiles='https://cyberjapandata.gsi.go.jp/xyz/ort_old10/{z}/{x}/{y}.png',attr='国土地理院').add_to(m)\n",
    "\n",
    "# basemapが選べるボタンをマップに足す\n",
    "folium.LayerControl().add_to(m)\n",
    "\n",
    "# add points\n",
    "for index, row in df.iterrows():\n",
    "    latlon = [row['latitude'],row['longitude']]\n",
    "    folium.Marker(latlon, popup='<div style=\"width:150px\">'+row['description']+'</div>', tooltip=row['name'],icon=folium.Icon(color=row['color'])).add_to(m)\n",
    "\n",
    "# show the map\n",
    "m\n",
    "\n"
   ]
  },
  {
   "attachments": {},
   "cell_type": "markdown",
   "metadata": {},
   "source": [
    "このように同じ「場所」を違う視点から観察することができる。これを見て、何を感じますか？"
   ]
  },
  {
   "attachments": {},
   "cell_type": "markdown",
   "metadata": {},
   "source": [
    "# Extra topic: Mapping Earthquakes\n",
    "\n",
    "世界の地震のデータをリアルタイムで提供しているのは United States Geological Survey (USGS)。このデータをcsv fileとしてダウンロードできるが、直接アクセスすることも可能である。この場合、 `csv` ではなく `geojson` というファイルフォーマットを使う。`geojson` はこれからも使うので、とりあえず、ここで紹介！\n",
    "\n",
    "`geojson` を扱うには新しいライブラリー【geopandas】を使う必要がある。\n",
    "\n",
    "[USGSの地震マップ](https://earthquake.usgs.gov/earthquakes/map/?extent=-82.76537,-120.23438&extent=84.9593,298.47656)"
   ]
  },
  {
   "cell_type": "code",
   "execution_count": 24,
   "metadata": {},
   "outputs": [],
   "source": [
    "import geopandas as gpd"
   ]
  },
  {
   "attachments": {},
   "cell_type": "markdown",
   "metadata": {},
   "source": [
    "`geopandas` を使ってUSGSからのリアルタイムデータを読み込む。`gdf` とは `geodataframe` の略である。"
   ]
  },
  {
   "cell_type": "code",
   "execution_count": 25,
   "metadata": {},
   "outputs": [],
   "source": [
    "gdf = gpd.read_file('https://earthquake.usgs.gov/earthquakes/feed/v1.0/summary/2.5_day.geojson')"
   ]
  },
  {
   "cell_type": "code",
   "execution_count": 26,
   "metadata": {},
   "outputs": [
    {
     "data": {
      "text/html": [
       "<div>\n",
       "<style scoped>\n",
       "    .dataframe tbody tr th:only-of-type {\n",
       "        vertical-align: middle;\n",
       "    }\n",
       "\n",
       "    .dataframe tbody tr th {\n",
       "        vertical-align: top;\n",
       "    }\n",
       "\n",
       "    .dataframe thead th {\n",
       "        text-align: right;\n",
       "    }\n",
       "</style>\n",
       "<table border=\"1\" class=\"dataframe\">\n",
       "  <thead>\n",
       "    <tr style=\"text-align: right;\">\n",
       "      <th></th>\n",
       "      <th>id</th>\n",
       "      <th>mag</th>\n",
       "      <th>place</th>\n",
       "      <th>time</th>\n",
       "      <th>updated</th>\n",
       "      <th>tz</th>\n",
       "      <th>url</th>\n",
       "      <th>detail</th>\n",
       "      <th>felt</th>\n",
       "      <th>cdi</th>\n",
       "      <th>...</th>\n",
       "      <th>sources</th>\n",
       "      <th>types</th>\n",
       "      <th>nst</th>\n",
       "      <th>dmin</th>\n",
       "      <th>rms</th>\n",
       "      <th>gap</th>\n",
       "      <th>magType</th>\n",
       "      <th>type</th>\n",
       "      <th>title</th>\n",
       "      <th>geometry</th>\n",
       "    </tr>\n",
       "  </thead>\n",
       "  <tbody>\n",
       "    <tr>\n",
       "      <th>0</th>\n",
       "      <td>us7000kf1p</td>\n",
       "      <td>5.00</td>\n",
       "      <td>102 km SSW of Tambolaka, Indonesia</td>\n",
       "      <td>1689151175016</td>\n",
       "      <td>1689152166040</td>\n",
       "      <td>NaN</td>\n",
       "      <td>https://earthquake.usgs.gov/earthquakes/eventp...</td>\n",
       "      <td>https://earthquake.usgs.gov/earthquakes/feed/v...</td>\n",
       "      <td>NaN</td>\n",
       "      <td>NaN</td>\n",
       "      <td>...</td>\n",
       "      <td>,us,</td>\n",
       "      <td>,origin,phase-data,</td>\n",
       "      <td>59.0</td>\n",
       "      <td>1.7300</td>\n",
       "      <td>0.73</td>\n",
       "      <td>84.0</td>\n",
       "      <td>mww</td>\n",
       "      <td>earthquake</td>\n",
       "      <td>M 5.0 - 102 km SSW of Tambolaka, Indonesia</td>\n",
       "      <td>POINT Z (118.79940 -10.24210 49.25300)</td>\n",
       "    </tr>\n",
       "    <tr>\n",
       "      <th>1</th>\n",
       "      <td>us7000kf1q</td>\n",
       "      <td>2.80</td>\n",
       "      <td>50 km W of Mentone, Texas</td>\n",
       "      <td>1689149849303</td>\n",
       "      <td>1689152254040</td>\n",
       "      <td>NaN</td>\n",
       "      <td>https://earthquake.usgs.gov/earthquakes/eventp...</td>\n",
       "      <td>https://earthquake.usgs.gov/earthquakes/feed/v...</td>\n",
       "      <td>NaN</td>\n",
       "      <td>NaN</td>\n",
       "      <td>...</td>\n",
       "      <td>,us,</td>\n",
       "      <td>,origin,phase-data,</td>\n",
       "      <td>34.0</td>\n",
       "      <td>0.1770</td>\n",
       "      <td>0.49</td>\n",
       "      <td>56.0</td>\n",
       "      <td>ml</td>\n",
       "      <td>earthquake</td>\n",
       "      <td>M 2.8 - 50 km W of Mentone, Texas</td>\n",
       "      <td>POINT Z (-104.13390 31.68990 5.00000)</td>\n",
       "    </tr>\n",
       "    <tr>\n",
       "      <th>2</th>\n",
       "      <td>ak0238v9wqev</td>\n",
       "      <td>3.40</td>\n",
       "      <td>15 km ESE of Eagle River, Alaska</td>\n",
       "      <td>1689140139193</td>\n",
       "      <td>1689153400085</td>\n",
       "      <td>NaN</td>\n",
       "      <td>https://earthquake.usgs.gov/earthquakes/eventp...</td>\n",
       "      <td>https://earthquake.usgs.gov/earthquakes/feed/v...</td>\n",
       "      <td>357.0</td>\n",
       "      <td>3.0</td>\n",
       "      <td>...</td>\n",
       "      <td>,ak,us,</td>\n",
       "      <td>,dyfi,origin,phase-data,shakemap,</td>\n",
       "      <td>NaN</td>\n",
       "      <td>NaN</td>\n",
       "      <td>0.41</td>\n",
       "      <td>NaN</td>\n",
       "      <td>ml</td>\n",
       "      <td>earthquake</td>\n",
       "      <td>M 3.4 - 15 km ESE of Eagle River, Alaska</td>\n",
       "      <td>POINT Z (-149.31820 61.25640 28.20000)</td>\n",
       "    </tr>\n",
       "    <tr>\n",
       "      <th>3</th>\n",
       "      <td>pr2023193001</td>\n",
       "      <td>3.77</td>\n",
       "      <td>47 km ESE of Boca de Yuma, Dominican Republic</td>\n",
       "      <td>1689139984600</td>\n",
       "      <td>1689149997040</td>\n",
       "      <td>NaN</td>\n",
       "      <td>https://earthquake.usgs.gov/earthquakes/eventp...</td>\n",
       "      <td>https://earthquake.usgs.gov/earthquakes/feed/v...</td>\n",
       "      <td>NaN</td>\n",
       "      <td>NaN</td>\n",
       "      <td>...</td>\n",
       "      <td>,us,pr,</td>\n",
       "      <td>,origin,phase-data,</td>\n",
       "      <td>15.0</td>\n",
       "      <td>0.2955</td>\n",
       "      <td>0.43</td>\n",
       "      <td>184.0</td>\n",
       "      <td>md</td>\n",
       "      <td>earthquake</td>\n",
       "      <td>M 3.8 - 47 km ESE of Boca de Yuma, Dominican R...</td>\n",
       "      <td>POINT Z (-68.20160 18.19610 74.00000)</td>\n",
       "    </tr>\n",
       "    <tr>\n",
       "      <th>4</th>\n",
       "      <td>ak0238v9uy7f</td>\n",
       "      <td>2.50</td>\n",
       "      <td>41 km ENE of Pedro Bay, Alaska</td>\n",
       "      <td>1689139626999</td>\n",
       "      <td>1689143312040</td>\n",
       "      <td>NaN</td>\n",
       "      <td>https://earthquake.usgs.gov/earthquakes/eventp...</td>\n",
       "      <td>https://earthquake.usgs.gov/earthquakes/feed/v...</td>\n",
       "      <td>0.0</td>\n",
       "      <td>1.0</td>\n",
       "      <td>...</td>\n",
       "      <td>,ak,us,</td>\n",
       "      <td>,dyfi,origin,phase-data,</td>\n",
       "      <td>NaN</td>\n",
       "      <td>NaN</td>\n",
       "      <td>0.12</td>\n",
       "      <td>NaN</td>\n",
       "      <td>ml</td>\n",
       "      <td>earthquake</td>\n",
       "      <td>M 2.5 - 41 km ENE of Pedro Bay, Alaska</td>\n",
       "      <td>POINT Z (-153.46260 59.97360 127.40000)</td>\n",
       "    </tr>\n",
       "  </tbody>\n",
       "</table>\n",
       "<p>5 rows × 28 columns</p>\n",
       "</div>"
      ],
      "text/plain": [
       "             id   mag                                          place  \\\n",
       "0    us7000kf1p  5.00             102 km SSW of Tambolaka, Indonesia   \n",
       "1    us7000kf1q  2.80                      50 km W of Mentone, Texas   \n",
       "2  ak0238v9wqev  3.40               15 km ESE of Eagle River, Alaska   \n",
       "3  pr2023193001  3.77  47 km ESE of Boca de Yuma, Dominican Republic   \n",
       "4  ak0238v9uy7f  2.50                 41 km ENE of Pedro Bay, Alaska   \n",
       "\n",
       "            time        updated  tz  \\\n",
       "0  1689151175016  1689152166040 NaN   \n",
       "1  1689149849303  1689152254040 NaN   \n",
       "2  1689140139193  1689153400085 NaN   \n",
       "3  1689139984600  1689149997040 NaN   \n",
       "4  1689139626999  1689143312040 NaN   \n",
       "\n",
       "                                                 url  \\\n",
       "0  https://earthquake.usgs.gov/earthquakes/eventp...   \n",
       "1  https://earthquake.usgs.gov/earthquakes/eventp...   \n",
       "2  https://earthquake.usgs.gov/earthquakes/eventp...   \n",
       "3  https://earthquake.usgs.gov/earthquakes/eventp...   \n",
       "4  https://earthquake.usgs.gov/earthquakes/eventp...   \n",
       "\n",
       "                                              detail   felt  cdi  ...  \\\n",
       "0  https://earthquake.usgs.gov/earthquakes/feed/v...    NaN  NaN  ...   \n",
       "1  https://earthquake.usgs.gov/earthquakes/feed/v...    NaN  NaN  ...   \n",
       "2  https://earthquake.usgs.gov/earthquakes/feed/v...  357.0  3.0  ...   \n",
       "3  https://earthquake.usgs.gov/earthquakes/feed/v...    NaN  NaN  ...   \n",
       "4  https://earthquake.usgs.gov/earthquakes/feed/v...    0.0  1.0  ...   \n",
       "\n",
       "   sources                              types   nst    dmin   rms    gap  \\\n",
       "0     ,us,                ,origin,phase-data,  59.0  1.7300  0.73   84.0   \n",
       "1     ,us,                ,origin,phase-data,  34.0  0.1770  0.49   56.0   \n",
       "2  ,ak,us,  ,dyfi,origin,phase-data,shakemap,   NaN     NaN  0.41    NaN   \n",
       "3  ,us,pr,                ,origin,phase-data,  15.0  0.2955  0.43  184.0   \n",
       "4  ,ak,us,           ,dyfi,origin,phase-data,   NaN     NaN  0.12    NaN   \n",
       "\n",
       "  magType        type                                              title  \\\n",
       "0     mww  earthquake         M 5.0 - 102 km SSW of Tambolaka, Indonesia   \n",
       "1      ml  earthquake                  M 2.8 - 50 km W of Mentone, Texas   \n",
       "2      ml  earthquake           M 3.4 - 15 km ESE of Eagle River, Alaska   \n",
       "3      md  earthquake  M 3.8 - 47 km ESE of Boca de Yuma, Dominican R...   \n",
       "4      ml  earthquake             M 2.5 - 41 km ENE of Pedro Bay, Alaska   \n",
       "\n",
       "                                  geometry  \n",
       "0   POINT Z (118.79940 -10.24210 49.25300)  \n",
       "1    POINT Z (-104.13390 31.68990 5.00000)  \n",
       "2   POINT Z (-149.31820 61.25640 28.20000)  \n",
       "3    POINT Z (-68.20160 18.19610 74.00000)  \n",
       "4  POINT Z (-153.46260 59.97360 127.40000)  \n",
       "\n",
       "[5 rows x 28 columns]"
      ]
     },
     "execution_count": 26,
     "metadata": {},
     "output_type": "execute_result"
    }
   ],
   "source": [
    "# use head to output first 5 rows\n",
    "gdf.head()"
   ]
  },
  {
   "cell_type": "code",
   "execution_count": 27,
   "metadata": {},
   "outputs": [
    {
     "data": {
      "text/html": [
       "<div style=\"width:100%;\"><div style=\"position:relative;width:100%;height:0;padding-bottom:60%;\"><span style=\"color:#565656\">Make this Notebook Trusted to load map: File -> Trust Notebook</span><iframe srcdoc=\"&lt;!DOCTYPE html&gt;\n",
       "&lt;html&gt;\n",
       "&lt;head&gt;\n",
       "    \n",
       "    &lt;meta http-equiv=&quot;content-type&quot; content=&quot;text/html; charset=UTF-8&quot; /&gt;\n",
       "    \n",
       "        &lt;script&gt;\n",
       "            L_NO_TOUCH = false;\n",
       "            L_DISABLE_3D = false;\n",
       "        &lt;/script&gt;\n",
       "    \n",
       "    &lt;style&gt;html, body {width: 100%;height: 100%;margin: 0;padding: 0;}&lt;/style&gt;\n",
       "    &lt;style&gt;#map {position:absolute;top:0;bottom:0;right:0;left:0;}&lt;/style&gt;\n",
       "    &lt;script src=&quot;https://cdn.jsdelivr.net/npm/leaflet@1.9.3/dist/leaflet.js&quot;&gt;&lt;/script&gt;\n",
       "    &lt;script src=&quot;https://code.jquery.com/jquery-1.12.4.min.js&quot;&gt;&lt;/script&gt;\n",
       "    &lt;script src=&quot;https://cdn.jsdelivr.net/npm/bootstrap@5.2.2/dist/js/bootstrap.bundle.min.js&quot;&gt;&lt;/script&gt;\n",
       "    &lt;script src=&quot;https://cdnjs.cloudflare.com/ajax/libs/Leaflet.awesome-markers/2.0.2/leaflet.awesome-markers.js&quot;&gt;&lt;/script&gt;\n",
       "    &lt;link rel=&quot;stylesheet&quot; href=&quot;https://cdn.jsdelivr.net/npm/leaflet@1.9.3/dist/leaflet.css&quot;/&gt;\n",
       "    &lt;link rel=&quot;stylesheet&quot; href=&quot;https://cdn.jsdelivr.net/npm/bootstrap@5.2.2/dist/css/bootstrap.min.css&quot;/&gt;\n",
       "    &lt;link rel=&quot;stylesheet&quot; href=&quot;https://netdna.bootstrapcdn.com/bootstrap/3.0.0/css/bootstrap.min.css&quot;/&gt;\n",
       "    &lt;link rel=&quot;stylesheet&quot; href=&quot;https://cdn.jsdelivr.net/npm/@fortawesome/fontawesome-free@6.2.0/css/all.min.css&quot;/&gt;\n",
       "    &lt;link rel=&quot;stylesheet&quot; href=&quot;https://cdnjs.cloudflare.com/ajax/libs/Leaflet.awesome-markers/2.0.2/leaflet.awesome-markers.css&quot;/&gt;\n",
       "    &lt;link rel=&quot;stylesheet&quot; href=&quot;https://cdn.jsdelivr.net/gh/python-visualization/folium/folium/templates/leaflet.awesome.rotate.min.css&quot;/&gt;\n",
       "    \n",
       "            &lt;meta name=&quot;viewport&quot; content=&quot;width=device-width,\n",
       "                initial-scale=1.0, maximum-scale=1.0, user-scalable=no&quot; /&gt;\n",
       "            &lt;style&gt;\n",
       "                #map_cb0f5f89ec381be7d40808f48c29b75d {\n",
       "                    position: relative;\n",
       "                    width: 100.0%;\n",
       "                    height: 100.0%;\n",
       "                    left: 0.0%;\n",
       "                    top: 0.0%;\n",
       "                }\n",
       "                .leaflet-container { font-size: 1rem; }\n",
       "            &lt;/style&gt;\n",
       "        \n",
       "    \n",
       "                    &lt;style&gt;\n",
       "                        .foliumtooltip {\n",
       "                            \n",
       "                        }\n",
       "                       .foliumtooltip table{\n",
       "                            margin: auto;\n",
       "                        }\n",
       "                        .foliumtooltip tr{\n",
       "                            text-align: left;\n",
       "                        }\n",
       "                        .foliumtooltip th{\n",
       "                            padding: 2px; padding-right: 8px;\n",
       "                        }\n",
       "                    &lt;/style&gt;\n",
       "            \n",
       "&lt;/head&gt;\n",
       "&lt;body&gt;\n",
       "    \n",
       "    \n",
       "            &lt;div class=&quot;folium-map&quot; id=&quot;map_cb0f5f89ec381be7d40808f48c29b75d&quot; &gt;&lt;/div&gt;\n",
       "        \n",
       "&lt;/body&gt;\n",
       "&lt;script&gt;\n",
       "    \n",
       "    \n",
       "            var map_cb0f5f89ec381be7d40808f48c29b75d = L.map(\n",
       "                &quot;map_cb0f5f89ec381be7d40808f48c29b75d&quot;,\n",
       "                {\n",
       "                    center: [0.0, 0.0],\n",
       "                    crs: L.CRS.EPSG3857,\n",
       "                    zoom: 1,\n",
       "                    zoomControl: true,\n",
       "                    preferCanvas: false,\n",
       "                }\n",
       "            );\n",
       "\n",
       "            \n",
       "\n",
       "        \n",
       "    \n",
       "            var tile_layer_2bcfebe3f81272afc333eae26218cbdd = L.tileLayer(\n",
       "                &quot;https://server.arcgisonline.com/ArcGIS/rest/services/World_Imagery/MapServer/tile/{z}/{y}/{x}&quot;,\n",
       "                {&quot;attribution&quot;: &quot;ESRI&quot;, &quot;detectRetina&quot;: false, &quot;maxNativeZoom&quot;: 18, &quot;maxZoom&quot;: 18, &quot;minZoom&quot;: 0, &quot;noWrap&quot;: false, &quot;opacity&quot;: 1, &quot;subdomains&quot;: &quot;abc&quot;, &quot;tms&quot;: false}\n",
       "            ).addTo(map_cb0f5f89ec381be7d40808f48c29b75d);\n",
       "        \n",
       "    \n",
       "\n",
       "        function geo_json_831e34fa5a7b91247916732c2d4e8474_onEachFeature(feature, layer) {\n",
       "            layer.on({\n",
       "            });\n",
       "        };\n",
       "        var geo_json_831e34fa5a7b91247916732c2d4e8474 = L.geoJson(null, {\n",
       "                onEachFeature: geo_json_831e34fa5a7b91247916732c2d4e8474_onEachFeature,\n",
       "            \n",
       "        });\n",
       "\n",
       "        function geo_json_831e34fa5a7b91247916732c2d4e8474_add (data) {\n",
       "            geo_json_831e34fa5a7b91247916732c2d4e8474\n",
       "                .addData(data)\n",
       "                .addTo(map_cb0f5f89ec381be7d40808f48c29b75d);\n",
       "        }\n",
       "            geo_json_831e34fa5a7b91247916732c2d4e8474_add({&quot;bbox&quot;: [-179.9443, -59.6484, 179.1896, 69.1784], &quot;features&quot;: [{&quot;bbox&quot;: [118.7994, -10.2421, 118.7994, -10.2421], &quot;geometry&quot;: {&quot;coordinates&quot;: [118.7994, -10.2421, 49.253], &quot;type&quot;: &quot;Point&quot;}, &quot;id&quot;: &quot;0&quot;, &quot;properties&quot;: {&quot;alert&quot;: null, &quot;cdi&quot;: null, &quot;code&quot;: &quot;7000kf1p&quot;, &quot;detail&quot;: &quot;https://earthquake.usgs.gov/earthquakes/feed/v1.0/detail/us7000kf1p.geojson&quot;, &quot;dmin&quot;: 1.73, &quot;felt&quot;: null, &quot;gap&quot;: 84.0, &quot;id&quot;: &quot;us7000kf1p&quot;, &quot;ids&quot;: &quot;,us7000kf1p,&quot;, &quot;mag&quot;: 5.0, &quot;magType&quot;: &quot;mww&quot;, &quot;mmi&quot;: null, &quot;net&quot;: &quot;us&quot;, &quot;nst&quot;: 59.0, &quot;place&quot;: &quot;102 km SSW of Tambolaka, Indonesia&quot;, &quot;rms&quot;: 0.73, &quot;sig&quot;: 385, &quot;sources&quot;: &quot;,us,&quot;, &quot;status&quot;: &quot;reviewed&quot;, &quot;time&quot;: 1689151175016, &quot;title&quot;: &quot;M 5.0 - 102 km SSW of Tambolaka, Indonesia&quot;, &quot;tsunami&quot;: 0, &quot;type&quot;: &quot;earthquake&quot;, &quot;types&quot;: &quot;,origin,phase-data,&quot;, &quot;tz&quot;: null, &quot;updated&quot;: 1689152166040, &quot;url&quot;: &quot;https://earthquake.usgs.gov/earthquakes/eventpage/us7000kf1p&quot;}, &quot;type&quot;: &quot;Feature&quot;}, {&quot;bbox&quot;: [-104.1339, 31.6899, -104.1339, 31.6899], &quot;geometry&quot;: {&quot;coordinates&quot;: [-104.1339, 31.6899, 5.0], &quot;type&quot;: &quot;Point&quot;}, &quot;id&quot;: &quot;1&quot;, &quot;properties&quot;: {&quot;alert&quot;: null, &quot;cdi&quot;: null, &quot;code&quot;: &quot;7000kf1q&quot;, &quot;detail&quot;: &quot;https://earthquake.usgs.gov/earthquakes/feed/v1.0/detail/us7000kf1q.geojson&quot;, &quot;dmin&quot;: 0.177, &quot;felt&quot;: null, &quot;gap&quot;: 56.0, &quot;id&quot;: &quot;us7000kf1q&quot;, &quot;ids&quot;: &quot;,us7000kf1q,&quot;, &quot;mag&quot;: 2.8, &quot;magType&quot;: &quot;ml&quot;, &quot;mmi&quot;: null, &quot;net&quot;: &quot;us&quot;, &quot;nst&quot;: 34.0, &quot;place&quot;: &quot;50 km W of Mentone, Texas&quot;, &quot;rms&quot;: 0.49, &quot;sig&quot;: 121, &quot;sources&quot;: &quot;,us,&quot;, &quot;status&quot;: &quot;reviewed&quot;, &quot;time&quot;: 1689149849303, &quot;title&quot;: &quot;M 2.8 - 50 km W of Mentone, Texas&quot;, &quot;tsunami&quot;: 0, &quot;type&quot;: &quot;earthquake&quot;, &quot;types&quot;: &quot;,origin,phase-data,&quot;, &quot;tz&quot;: null, &quot;updated&quot;: 1689152254040, &quot;url&quot;: &quot;https://earthquake.usgs.gov/earthquakes/eventpage/us7000kf1q&quot;}, &quot;type&quot;: &quot;Feature&quot;}, {&quot;bbox&quot;: [-149.3182, 61.2564, -149.3182, 61.2564], &quot;geometry&quot;: {&quot;coordinates&quot;: [-149.3182, 61.2564, 28.2], &quot;type&quot;: &quot;Point&quot;}, &quot;id&quot;: &quot;2&quot;, &quot;properties&quot;: {&quot;alert&quot;: null, &quot;cdi&quot;: 3.0, &quot;code&quot;: &quot;0238v9wqev&quot;, &quot;detail&quot;: &quot;https://earthquake.usgs.gov/earthquakes/feed/v1.0/detail/ak0238v9wqev.geojson&quot;, &quot;dmin&quot;: null, &quot;felt&quot;: 357.0, &quot;gap&quot;: null, &quot;id&quot;: &quot;ak0238v9wqev&quot;, &quot;ids&quot;: &quot;,ak0238v9wqev,us7000kf15,&quot;, &quot;mag&quot;: 3.4, &quot;magType&quot;: &quot;ml&quot;, &quot;mmi&quot;: 3.057, &quot;net&quot;: &quot;ak&quot;, &quot;nst&quot;: null, &quot;place&quot;: &quot;15 km ESE of Eagle River, Alaska&quot;, &quot;rms&quot;: 0.41, &quot;sig&quot;: 285, &quot;sources&quot;: &quot;,ak,us,&quot;, &quot;status&quot;: &quot;automatic&quot;, &quot;time&quot;: 1689140139193, &quot;title&quot;: &quot;M 3.4 - 15 km ESE of Eagle River, Alaska&quot;, &quot;tsunami&quot;: 0, &quot;type&quot;: &quot;earthquake&quot;, &quot;types&quot;: &quot;,dyfi,origin,phase-data,shakemap,&quot;, &quot;tz&quot;: null, &quot;updated&quot;: 1689153400085, &quot;url&quot;: &quot;https://earthquake.usgs.gov/earthquakes/eventpage/ak0238v9wqev&quot;}, &quot;type&quot;: &quot;Feature&quot;}, {&quot;bbox&quot;: [-68.2016, 18.1961, -68.2016, 18.1961], &quot;geometry&quot;: {&quot;coordinates&quot;: [-68.2016, 18.1961, 74.0], &quot;type&quot;: &quot;Point&quot;}, &quot;id&quot;: &quot;3&quot;, &quot;properties&quot;: {&quot;alert&quot;: null, &quot;cdi&quot;: null, &quot;code&quot;: &quot;2023193001&quot;, &quot;detail&quot;: &quot;https://earthquake.usgs.gov/earthquakes/feed/v1.0/detail/pr2023193001.geojson&quot;, &quot;dmin&quot;: 0.2955, &quot;felt&quot;: null, &quot;gap&quot;: 184.0, &quot;id&quot;: &quot;pr2023193001&quot;, &quot;ids&quot;: &quot;,us7000kf14,pr2023193001,&quot;, &quot;mag&quot;: 3.77, &quot;magType&quot;: &quot;md&quot;, &quot;mmi&quot;: null, &quot;net&quot;: &quot;pr&quot;, &quot;nst&quot;: 15.0, &quot;place&quot;: &quot;47 km ESE of Boca de Yuma, Dominican Republic&quot;, &quot;rms&quot;: 0.43, &quot;sig&quot;: 219, &quot;sources&quot;: &quot;,us,pr,&quot;, &quot;status&quot;: &quot;reviewed&quot;, &quot;time&quot;: 1689139984600, &quot;title&quot;: &quot;M 3.8 - 47 km ESE of Boca de Yuma, Dominican Republic&quot;, &quot;tsunami&quot;: 0, &quot;type&quot;: &quot;earthquake&quot;, &quot;types&quot;: &quot;,origin,phase-data,&quot;, &quot;tz&quot;: null, &quot;updated&quot;: 1689149997040, &quot;url&quot;: &quot;https://earthquake.usgs.gov/earthquakes/eventpage/pr2023193001&quot;}, &quot;type&quot;: &quot;Feature&quot;}, {&quot;bbox&quot;: [-153.4626, 59.9736, -153.4626, 59.9736], &quot;geometry&quot;: {&quot;coordinates&quot;: [-153.4626, 59.9736, 127.4], &quot;type&quot;: &quot;Point&quot;}, &quot;id&quot;: &quot;4&quot;, &quot;properties&quot;: {&quot;alert&quot;: null, &quot;cdi&quot;: 1.0, &quot;code&quot;: &quot;0238v9uy7f&quot;, &quot;detail&quot;: &quot;https://earthquake.usgs.gov/earthquakes/feed/v1.0/detail/ak0238v9uy7f.geojson&quot;, &quot;dmin&quot;: null, &quot;felt&quot;: 0.0, &quot;gap&quot;: null, &quot;id&quot;: &quot;ak0238v9uy7f&quot;, &quot;ids&quot;: &quot;,ak0238v9uy7f,us7000kf13,&quot;, &quot;mag&quot;: 2.5, &quot;magType&quot;: &quot;ml&quot;, &quot;mmi&quot;: null, &quot;net&quot;: &quot;ak&quot;, &quot;nst&quot;: null, &quot;place&quot;: &quot;41 km ENE of Pedro Bay, Alaska&quot;, &quot;rms&quot;: 0.12, &quot;sig&quot;: 96, &quot;sources&quot;: &quot;,ak,us,&quot;, &quot;status&quot;: &quot;automatic&quot;, &quot;time&quot;: 1689139626999, &quot;title&quot;: &quot;M 2.5 - 41 km ENE of Pedro Bay, Alaska&quot;, &quot;tsunami&quot;: 0, &quot;type&quot;: &quot;earthquake&quot;, &quot;types&quot;: &quot;,dyfi,origin,phase-data,&quot;, &quot;tz&quot;: null, &quot;updated&quot;: 1689143312040, &quot;url&quot;: &quot;https://earthquake.usgs.gov/earthquakes/eventpage/ak0238v9uy7f&quot;}, &quot;type&quot;: &quot;Feature&quot;}, {&quot;bbox&quot;: [-68.79, -21.9831, -68.79, -21.9831], &quot;geometry&quot;: {&quot;coordinates&quot;: [-68.79, -21.9831, 124.714], &quot;type&quot;: &quot;Point&quot;}, &quot;id&quot;: &quot;5&quot;, &quot;properties&quot;: {&quot;alert&quot;: null, &quot;cdi&quot;: null, &quot;code&quot;: &quot;7000kf12&quot;, &quot;detail&quot;: &quot;https://earthquake.usgs.gov/earthquakes/feed/v1.0/detail/us7000kf12.geojson&quot;, &quot;dmin&quot;: 0.896, &quot;felt&quot;: null, &quot;gap&quot;: 46.0, &quot;id&quot;: &quot;us7000kf12&quot;, &quot;ids&quot;: &quot;,us7000kf12,&quot;, &quot;mag&quot;: 4.2, &quot;magType&quot;: &quot;mb&quot;, &quot;mmi&quot;: null, &quot;net&quot;: &quot;us&quot;, &quot;nst&quot;: 22.0, &quot;place&quot;: &quot;54 km NNE of Calama, Chile&quot;, &quot;rms&quot;: 0.6, &quot;sig&quot;: 271, &quot;sources&quot;: &quot;,us,&quot;, &quot;status&quot;: &quot;reviewed&quot;, &quot;time&quot;: 1689139081401, &quot;title&quot;: &quot;M 4.2 - 54 km NNE of Calama, Chile&quot;, &quot;tsunami&quot;: 0, &quot;type&quot;: &quot;earthquake&quot;, &quot;types&quot;: &quot;,origin,phase-data,&quot;, &quot;tz&quot;: null, &quot;updated&quot;: 1689142721040, &quot;url&quot;: &quot;https://earthquake.usgs.gov/earthquakes/eventpage/us7000kf12&quot;}, &quot;type&quot;: &quot;Feature&quot;}, {&quot;bbox&quot;: [-144.581, 69.1784, -144.581, 69.1784], &quot;geometry&quot;: {&quot;coordinates&quot;: [-144.581, 69.1784, 4.7], &quot;type&quot;: &quot;Point&quot;}, &quot;id&quot;: &quot;6&quot;, &quot;properties&quot;: {&quot;alert&quot;: null, &quot;cdi&quot;: null, &quot;code&quot;: &quot;0238v8smch&quot;, &quot;detail&quot;: &quot;https://earthquake.usgs.gov/earthquakes/feed/v1.0/detail/ak0238v8smch.geojson&quot;, &quot;dmin&quot;: null, &quot;felt&quot;: null, &quot;gap&quot;: null, &quot;id&quot;: &quot;ak0238v8smch&quot;, &quot;ids&quot;: &quot;,ak0238v8smch,&quot;, &quot;mag&quot;: 2.9, &quot;magType&quot;: &quot;ml&quot;, &quot;mmi&quot;: null, &quot;net&quot;: &quot;ak&quot;, &quot;nst&quot;: null, &quot;place&quot;: &quot;112 km SSW of Kaktovik, Alaska&quot;, &quot;rms&quot;: 0.74, &quot;sig&quot;: 129, &quot;sources&quot;: &quot;,ak,&quot;, &quot;status&quot;: &quot;automatic&quot;, &quot;time&quot;: 1689133703774, &quot;title&quot;: &quot;M 2.9 - 112 km SSW of Kaktovik, Alaska&quot;, &quot;tsunami&quot;: 0, &quot;type&quot;: &quot;earthquake&quot;, &quot;types&quot;: &quot;,origin,phase-data,&quot;, &quot;tz&quot;: null, &quot;updated&quot;: 1689133956851, &quot;url&quot;: &quot;https://earthquake.usgs.gov/earthquakes/eventpage/ak0238v8smch&quot;}, &quot;type&quot;: &quot;Feature&quot;}, {&quot;bbox&quot;: [-67.7298, 19.1473, -67.7298, 19.1473], &quot;geometry&quot;: {&quot;coordinates&quot;: [-67.7298, 19.1473, 14.0], &quot;type&quot;: &quot;Point&quot;}, &quot;id&quot;: &quot;7&quot;, &quot;properties&quot;: {&quot;alert&quot;: null, &quot;cdi&quot;: null, &quot;code&quot;: &quot;2023193000&quot;, &quot;detail&quot;: &quot;https://earthquake.usgs.gov/earthquakes/feed/v1.0/detail/pr2023193000.geojson&quot;, &quot;dmin&quot;: 0.803, &quot;felt&quot;: null, &quot;gap&quot;: 244.0, &quot;id&quot;: &quot;pr2023193000&quot;, &quot;ids&quot;: &quot;,pr2023193000,&quot;, &quot;mag&quot;: 3.68, &quot;magType&quot;: &quot;md&quot;, &quot;mmi&quot;: null, &quot;net&quot;: &quot;pr&quot;, &quot;nst&quot;: 18.0, &quot;place&quot;: &quot;94 km NE of Punta Cana, Dominican Republic&quot;, &quot;rms&quot;: 0.46, &quot;sig&quot;: 208, &quot;sources&quot;: &quot;,pr,&quot;, &quot;status&quot;: &quot;reviewed&quot;, &quot;time&quot;: 1689131589680, &quot;title&quot;: &quot;M 3.7 - 94 km NE of Punta Cana, Dominican Republic&quot;, &quot;tsunami&quot;: 0, &quot;type&quot;: &quot;earthquake&quot;, &quot;types&quot;: &quot;,origin,phase-data,&quot;, &quot;tz&quot;: null, &quot;updated&quot;: 1689133148458, &quot;url&quot;: &quot;https://earthquake.usgs.gov/earthquakes/eventpage/pr2023193000&quot;}, &quot;type&quot;: &quot;Feature&quot;}, {&quot;bbox&quot;: [-116.6925, 33.9698333, -116.6925, 33.9698333], &quot;geometry&quot;: {&quot;coordinates&quot;: [-116.6925, 33.9698333, 13.69], &quot;type&quot;: &quot;Point&quot;}, &quot;id&quot;: &quot;8&quot;, &quot;properties&quot;: {&quot;alert&quot;: null, &quot;cdi&quot;: 3.4, &quot;code&quot;: &quot;39610434&quot;, &quot;detail&quot;: &quot;https://earthquake.usgs.gov/earthquakes/feed/v1.0/detail/ci39610434.geojson&quot;, &quot;dmin&quot;: 0.07787, &quot;felt&quot;: 4.0, &quot;gap&quot;: 22.0, &quot;id&quot;: &quot;ci39610434&quot;, &quot;ids&quot;: &quot;,ci39610434,&quot;, &quot;mag&quot;: 2.47, &quot;magType&quot;: &quot;ml&quot;, &quot;mmi&quot;: null, &quot;net&quot;: &quot;ci&quot;, &quot;nst&quot;: 76.0, &quot;place&quot;: &quot;10km ENE of Cabazon, CA&quot;, &quot;rms&quot;: 0.24, &quot;sig&quot;: 95, &quot;sources&quot;: &quot;,ci,&quot;, &quot;status&quot;: &quot;automatic&quot;, &quot;time&quot;: 1689128945050, &quot;title&quot;: &quot;M 2.5 - 10km ENE of Cabazon, CA&quot;, &quot;tsunami&quot;: 0, &quot;type&quot;: &quot;earthquake&quot;, &quot;types&quot;: &quot;,dyfi,focal-mechanism,nearby-cities,origin,phase-data,scitech-link,&quot;, &quot;tz&quot;: null, &quot;updated&quot;: 1689138195038, &quot;url&quot;: &quot;https://earthquake.usgs.gov/earthquakes/eventpage/ci39610434&quot;}, &quot;type&quot;: &quot;Feature&quot;}, {&quot;bbox&quot;: [-66.1018333333333, 18.2223333333333, -66.1018333333333, 18.2223333333333], &quot;geometry&quot;: {&quot;coordinates&quot;: [-66.1018333333333, 18.2223333333333, 17.24], &quot;type&quot;: &quot;Point&quot;}, &quot;id&quot;: &quot;9&quot;, &quot;properties&quot;: {&quot;alert&quot;: null, &quot;cdi&quot;: 2.0, &quot;code&quot;: &quot;71417483&quot;, &quot;detail&quot;: &quot;https://earthquake.usgs.gov/earthquakes/feed/v1.0/detail/pr71417483.geojson&quot;, &quot;dmin&quot;: 0.088, &quot;felt&quot;: 1.0, &quot;gap&quot;: 99.0, &quot;id&quot;: &quot;pr71417483&quot;, &quot;ids&quot;: &quot;,pr71417483,&quot;, &quot;mag&quot;: 2.71, &quot;magType&quot;: &quot;md&quot;, &quot;mmi&quot;: null, &quot;net&quot;: &quot;pr&quot;, &quot;nst&quot;: 10.0, &quot;place&quot;: &quot;2 km E of Santa Clara, Puerto Rico&quot;, &quot;rms&quot;: 0.21, &quot;sig&quot;: 113, &quot;sources&quot;: &quot;,pr,&quot;, &quot;status&quot;: &quot;reviewed&quot;, &quot;time&quot;: 1689127521420, &quot;title&quot;: &quot;M 2.7 - 2 km E of Santa Clara, Puerto Rico&quot;, &quot;tsunami&quot;: 0, &quot;type&quot;: &quot;earthquake&quot;, &quot;types&quot;: &quot;,dyfi,origin,phase-data,&quot;, &quot;tz&quot;: null, &quot;updated&quot;: 1689133658497, &quot;url&quot;: &quot;https://earthquake.usgs.gov/earthquakes/eventpage/pr71417483&quot;}, &quot;type&quot;: &quot;Feature&quot;}, {&quot;bbox&quot;: [-60.7752, 20.5423, -60.7752, 20.5423], &quot;geometry&quot;: {&quot;coordinates&quot;: [-60.7752, 20.5423, 9.914], &quot;type&quot;: &quot;Point&quot;}, &quot;id&quot;: &quot;10&quot;, &quot;properties&quot;: {&quot;alert&quot;: null, &quot;cdi&quot;: null, &quot;code&quot;: &quot;7000kf05&quot;, &quot;detail&quot;: &quot;https://earthquake.usgs.gov/earthquakes/feed/v1.0/detail/us7000kf05.geojson&quot;, &quot;dmin&quot;: 3.014, &quot;felt&quot;: null, &quot;gap&quot;: 214.0, &quot;id&quot;: &quot;us7000kf05&quot;, &quot;ids&quot;: &quot;,us7000kf05,&quot;, &quot;mag&quot;: 5.0, &quot;magType&quot;: &quot;mb&quot;, &quot;mmi&quot;: null, &quot;net&quot;: &quot;us&quot;, &quot;nst&quot;: 25.0, &quot;place&quot;: &quot;North Atlantic Ocean&quot;, &quot;rms&quot;: 0.5, &quot;sig&quot;: 385, &quot;sources&quot;: &quot;,us,&quot;, &quot;status&quot;: &quot;reviewed&quot;, &quot;time&quot;: 1689122081379, &quot;title&quot;: &quot;M 5.0 - North Atlantic Ocean&quot;, &quot;tsunami&quot;: 0, &quot;type&quot;: &quot;earthquake&quot;, &quot;types&quot;: &quot;,origin,phase-data,&quot;, &quot;tz&quot;: null, &quot;updated&quot;: 1689123469040, &quot;url&quot;: &quot;https://earthquake.usgs.gov/earthquakes/eventpage/us7000kf05&quot;}, &quot;type&quot;: &quot;Feature&quot;}, {&quot;bbox&quot;: [-98.05506134, 35.87566376, -98.05506134, 35.87566376], &quot;geometry&quot;: {&quot;coordinates&quot;: [-98.05506134, 35.87566376, 0.9042702913], &quot;type&quot;: &quot;Point&quot;}, &quot;id&quot;: &quot;11&quot;, &quot;properties&quot;: {&quot;alert&quot;: null, &quot;cdi&quot;: null, &quot;code&quot;: &quot;2023nmud&quot;, &quot;detail&quot;: &quot;https://earthquake.usgs.gov/earthquakes/feed/v1.0/detail/ok2023nmud.geojson&quot;, &quot;dmin&quot;: 0.0954477489, &quot;felt&quot;: null, &quot;gap&quot;: 32.14279914, &quot;id&quot;: &quot;ok2023nmud&quot;, &quot;ids&quot;: &quot;,us7000kezw,ok2023nmud,&quot;, &quot;mag&quot;: 2.61, &quot;magType&quot;: &quot;ml&quot;, &quot;mmi&quot;: null, &quot;net&quot;: &quot;ok&quot;, &quot;nst&quot;: 65.0, &quot;place&quot;: &quot;Oklahoma&quot;, &quot;rms&quot;: 0.7290183028, &quot;sig&quot;: 105, &quot;sources&quot;: &quot;,us,ok,&quot;, &quot;status&quot;: &quot;automatic&quot;, &quot;time&quot;: 1689119199885, &quot;title&quot;: &quot;M 2.6 - Oklahoma&quot;, &quot;tsunami&quot;: 0, &quot;type&quot;: &quot;earthquake&quot;, &quot;types&quot;: &quot;,origin,phase-data,&quot;, &quot;tz&quot;: null, &quot;updated&quot;: 1689131067040, &quot;url&quot;: &quot;https://earthquake.usgs.gov/earthquakes/eventpage/ok2023nmud&quot;}, &quot;type&quot;: &quot;Feature&quot;}, {&quot;bbox&quot;: [-67.1533, -24.3301, -67.1533, -24.3301], &quot;geometry&quot;: {&quot;coordinates&quot;: [-67.1533, -24.3301, 203.286], &quot;type&quot;: &quot;Point&quot;}, &quot;id&quot;: &quot;12&quot;, &quot;properties&quot;: {&quot;alert&quot;: null, &quot;cdi&quot;: null, &quot;code&quot;: &quot;7000kezp&quot;, &quot;detail&quot;: &quot;https://earthquake.usgs.gov/earthquakes/feed/v1.0/detail/us7000kezp.geojson&quot;, &quot;dmin&quot;: 1.663, &quot;felt&quot;: null, &quot;gap&quot;: 99.0, &quot;id&quot;: &quot;us7000kezp&quot;, &quot;ids&quot;: &quot;,us7000kezp,&quot;, &quot;mag&quot;: 4.3, &quot;magType&quot;: &quot;mb&quot;, &quot;mmi&quot;: null, &quot;net&quot;: &quot;us&quot;, &quot;nst&quot;: 18.0, &quot;place&quot;: &quot;85 km W of San Antonio de los Cobres, Argentina&quot;, &quot;rms&quot;: 0.88, &quot;sig&quot;: 284, &quot;sources&quot;: &quot;,us,&quot;, &quot;status&quot;: &quot;reviewed&quot;, &quot;time&quot;: 1689117199588, &quot;title&quot;: &quot;M 4.3 - 85 km W of San Antonio de los Cobres, Argentina&quot;, &quot;tsunami&quot;: 0, &quot;type&quot;: &quot;earthquake&quot;, &quot;types&quot;: &quot;,origin,phase-data,&quot;, &quot;tz&quot;: null, &quot;updated&quot;: 1689132895040, &quot;url&quot;: &quot;https://earthquake.usgs.gov/earthquakes/eventpage/us7000kezp&quot;}, &quot;type&quot;: &quot;Feature&quot;}, {&quot;bbox&quot;: [130.0755, -6.5576, 130.0755, -6.5576], &quot;geometry&quot;: {&quot;coordinates&quot;: [130.0755, -6.5576, 128.337], &quot;type&quot;: &quot;Point&quot;}, &quot;id&quot;: &quot;13&quot;, &quot;properties&quot;: {&quot;alert&quot;: null, &quot;cdi&quot;: null, &quot;code&quot;: &quot;7000kezh&quot;, &quot;detail&quot;: &quot;https://earthquake.usgs.gov/earthquakes/feed/v1.0/detail/us7000kezh.geojson&quot;, &quot;dmin&quot;: 2.029, &quot;felt&quot;: null, &quot;gap&quot;: 101.0, &quot;id&quot;: &quot;us7000kezh&quot;, &quot;ids&quot;: &quot;,us7000kezh,&quot;, &quot;mag&quot;: 4.4, &quot;magType&quot;: &quot;mb&quot;, &quot;mmi&quot;: null, &quot;net&quot;: &quot;us&quot;, &quot;nst&quot;: 21.0, &quot;place&quot;: &quot;Banda Sea&quot;, &quot;rms&quot;: 0.41, &quot;sig&quot;: 298, &quot;sources&quot;: &quot;,us,&quot;, &quot;status&quot;: &quot;reviewed&quot;, &quot;time&quot;: 1689115364058, &quot;title&quot;: &quot;M 4.4 - Banda Sea&quot;, &quot;tsunami&quot;: 0, &quot;type&quot;: &quot;earthquake&quot;, &quot;types&quot;: &quot;,origin,phase-data,&quot;, &quot;tz&quot;: null, &quot;updated&quot;: 1689116724040, &quot;url&quot;: &quot;https://earthquake.usgs.gov/earthquakes/eventpage/us7000kezh&quot;}, &quot;type&quot;: &quot;Feature&quot;}, {&quot;bbox&quot;: [179.1896, 51.0677, 179.1896, 51.0677], &quot;geometry&quot;: {&quot;coordinates&quot;: [179.1896, 51.0677, 32.153], &quot;type&quot;: &quot;Point&quot;}, &quot;id&quot;: &quot;14&quot;, &quot;properties&quot;: {&quot;alert&quot;: null, &quot;cdi&quot;: null, &quot;code&quot;: &quot;7000kezm&quot;, &quot;detail&quot;: &quot;https://earthquake.usgs.gov/earthquakes/feed/v1.0/detail/us7000kezm.geojson&quot;, &quot;dmin&quot;: 0.319, &quot;felt&quot;: null, &quot;gap&quot;: 228.0, &quot;id&quot;: &quot;us7000kezm&quot;, &quot;ids&quot;: &quot;,ak0238twhgox,us7000kezm,&quot;, &quot;mag&quot;: 4.0, &quot;magType&quot;: &quot;ml&quot;, &quot;mmi&quot;: 1.461, &quot;net&quot;: &quot;us&quot;, &quot;nst&quot;: 39.0, &quot;place&quot;: &quot;Rat Islands, Aleutian Islands, Alaska&quot;, &quot;rms&quot;: 0.48, &quot;sig&quot;: 246, &quot;sources&quot;: &quot;,ak,us,&quot;, &quot;status&quot;: &quot;reviewed&quot;, &quot;time&quot;: 1689114844687, &quot;title&quot;: &quot;M 4.0 - Rat Islands, Aleutian Islands, Alaska&quot;, &quot;tsunami&quot;: 0, &quot;type&quot;: &quot;earthquake&quot;, &quot;types&quot;: &quot;,origin,phase-data,shakemap,&quot;, &quot;tz&quot;: null, &quot;updated&quot;: 1689118675040, &quot;url&quot;: &quot;https://earthquake.usgs.gov/earthquakes/eventpage/us7000kezm&quot;}, &quot;type&quot;: &quot;Feature&quot;}, {&quot;bbox&quot;: [-141.0084, 60.9863, -141.0084, 60.9863], &quot;geometry&quot;: {&quot;coordinates&quot;: [-141.0084, 60.9863, 10.4], &quot;type&quot;: &quot;Point&quot;}, &quot;id&quot;: &quot;15&quot;, &quot;properties&quot;: {&quot;alert&quot;: null, &quot;cdi&quot;: null, &quot;code&quot;: &quot;0238tw1a7v&quot;, &quot;detail&quot;: &quot;https://earthquake.usgs.gov/earthquakes/feed/v1.0/detail/ak0238tw1a7v.geojson&quot;, &quot;dmin&quot;: null, &quot;felt&quot;: null, &quot;gap&quot;: null, &quot;id&quot;: &quot;ak0238tw1a7v&quot;, &quot;ids&quot;: &quot;,ak0238tw1a7v,&quot;, &quot;mag&quot;: 2.5, &quot;magType&quot;: &quot;ml&quot;, &quot;mmi&quot;: null, &quot;net&quot;: &quot;ak&quot;, &quot;nst&quot;: null, &quot;place&quot;: &quot;114 km ESE of McCarthy, Alaska&quot;, &quot;rms&quot;: 0.5, &quot;sig&quot;: 96, &quot;sources&quot;: &quot;,ak,&quot;, &quot;status&quot;: &quot;automatic&quot;, &quot;time&quot;: 1689112734034, &quot;title&quot;: &quot;M 2.5 - 114 km ESE of McCarthy, Alaska&quot;, &quot;tsunami&quot;: 0, &quot;type&quot;: &quot;earthquake&quot;, &quot;types&quot;: &quot;,origin,phase-data,&quot;, &quot;tz&quot;: null, &quot;updated&quot;: 1689112846326, &quot;url&quot;: &quot;https://earthquake.usgs.gov/earthquakes/eventpage/ak0238tw1a7v&quot;}, &quot;type&quot;: &quot;Feature&quot;}, {&quot;bbox&quot;: [-97.437, 34.0685, -97.437, 34.0685], &quot;geometry&quot;: {&quot;coordinates&quot;: [-97.437, 34.0685, 12.6], &quot;type&quot;: &quot;Point&quot;}, &quot;id&quot;: &quot;16&quot;, &quot;properties&quot;: {&quot;alert&quot;: null, &quot;cdi&quot;: 4.1, &quot;code&quot;: &quot;2023nmqp&quot;, &quot;detail&quot;: &quot;https://earthquake.usgs.gov/earthquakes/feed/v1.0/detail/ok2023nmqp.geojson&quot;, &quot;dmin&quot;: 0.1709664506, &quot;felt&quot;: 4.0, &quot;gap&quot;: 67.0, &quot;id&quot;: &quot;ok2023nmqp&quot;, &quot;ids&quot;: &quot;,ok2023nmqp,us7000kezb,&quot;, &quot;mag&quot;: 2.9, &quot;magType&quot;: &quot;ml&quot;, &quot;mmi&quot;: null, &quot;net&quot;: &quot;ok&quot;, &quot;nst&quot;: 63.0, &quot;place&quot;: &quot;10 km S of Wilson, Oklahoma&quot;, &quot;rms&quot;: 0.28, &quot;sig&quot;: 131, &quot;sources&quot;: &quot;,ok,us,&quot;, &quot;status&quot;: &quot;reviewed&quot;, &quot;time&quot;: 1689112722920, &quot;title&quot;: &quot;M 2.9 - 10 km S of Wilson, Oklahoma&quot;, &quot;tsunami&quot;: 0, &quot;type&quot;: &quot;earthquake&quot;, &quot;types&quot;: &quot;,dyfi,origin,phase-data,&quot;, &quot;tz&quot;: null, &quot;updated&quot;: 1689116194849, &quot;url&quot;: &quot;https://earthquake.usgs.gov/earthquakes/eventpage/ok2023nmqp&quot;}, &quot;type&quot;: &quot;Feature&quot;}, {&quot;bbox&quot;: [-66.8124, -24.0913, -66.8124, -24.0913], &quot;geometry&quot;: {&quot;coordinates&quot;: [-66.8124, -24.0913, 196.619], &quot;type&quot;: &quot;Point&quot;}, &quot;id&quot;: &quot;17&quot;, &quot;properties&quot;: {&quot;alert&quot;: null, &quot;cdi&quot;: null, &quot;code&quot;: &quot;7000kezc&quot;, &quot;detail&quot;: &quot;https://earthquake.usgs.gov/earthquakes/feed/v1.0/detail/us7000kezc.geojson&quot;, &quot;dmin&quot;: 1.691, &quot;felt&quot;: null, &quot;gap&quot;: 37.0, &quot;id&quot;: &quot;us7000kezc&quot;, &quot;ids&quot;: &quot;,us7000kezc,&quot;, &quot;mag&quot;: 4.5, &quot;magType&quot;: &quot;mb&quot;, &quot;mmi&quot;: null, &quot;net&quot;: &quot;us&quot;, &quot;nst&quot;: 39.0, &quot;place&quot;: &quot;52 km WNW of San Antonio de los Cobres, Argentina&quot;, &quot;rms&quot;: 0.79, &quot;sig&quot;: 312, &quot;sources&quot;: &quot;,us,&quot;, &quot;status&quot;: &quot;reviewed&quot;, &quot;time&quot;: 1689112688030, &quot;title&quot;: &quot;M 4.5 - 52 km WNW of San Antonio de los Cobres, Argentina&quot;, &quot;tsunami&quot;: 0, &quot;type&quot;: &quot;earthquake&quot;, &quot;types&quot;: &quot;,origin,phase-data,&quot;, &quot;tz&quot;: null, &quot;updated&quot;: 1689114556040, &quot;url&quot;: &quot;https://earthquake.usgs.gov/earthquakes/eventpage/us7000kezc&quot;}, &quot;type&quot;: &quot;Feature&quot;}, {&quot;bbox&quot;: [-112.57, 44.6118, -112.57, 44.6118], &quot;geometry&quot;: {&quot;coordinates&quot;: [-112.57, 44.6118, 9.521], &quot;type&quot;: &quot;Point&quot;}, &quot;id&quot;: &quot;18&quot;, &quot;properties&quot;: {&quot;alert&quot;: null, &quot;cdi&quot;: null, &quot;code&quot;: &quot;7000kez8&quot;, &quot;detail&quot;: &quot;https://earthquake.usgs.gov/earthquakes/feed/v1.0/detail/us7000kez8.geojson&quot;, &quot;dmin&quot;: 0.053, &quot;felt&quot;: null, &quot;gap&quot;: 89.0, &quot;id&quot;: &quot;us7000kez8&quot;, &quot;ids&quot;: &quot;,mb90021183,us7000kez8,&quot;, &quot;mag&quot;: 3.3, &quot;magType&quot;: &quot;ml&quot;, &quot;mmi&quot;: null, &quot;net&quot;: &quot;us&quot;, &quot;nst&quot;: 27.0, &quot;place&quot;: &quot;Idaho-Montana border region&quot;, &quot;rms&quot;: 0.31, &quot;sig&quot;: 168, &quot;sources&quot;: &quot;,mb,us,&quot;, &quot;status&quot;: &quot;reviewed&quot;, &quot;time&quot;: 1689111867046, &quot;title&quot;: &quot;M 3.3 - Idaho-Montana border region&quot;, &quot;tsunami&quot;: 0, &quot;type&quot;: &quot;earthquake&quot;, &quot;types&quot;: &quot;,origin,phase-data,&quot;, &quot;tz&quot;: null, &quot;updated&quot;: 1689130296040, &quot;url&quot;: &quot;https://earthquake.usgs.gov/earthquakes/eventpage/us7000kez8&quot;}, &quot;type&quot;: &quot;Feature&quot;}, {&quot;bbox&quot;: [-112.5692, 44.6152, -112.5692, 44.6152], &quot;geometry&quot;: {&quot;coordinates&quot;: [-112.5692, 44.6152, 9.631], &quot;type&quot;: &quot;Point&quot;}, &quot;id&quot;: &quot;19&quot;, &quot;properties&quot;: {&quot;alert&quot;: null, &quot;cdi&quot;: null, &quot;code&quot;: &quot;7000kez9&quot;, &quot;detail&quot;: &quot;https://earthquake.usgs.gov/earthquakes/feed/v1.0/detail/us7000kez9.geojson&quot;, &quot;dmin&quot;: 0.053, &quot;felt&quot;: null, &quot;gap&quot;: 92.0, &quot;id&quot;: &quot;us7000kez9&quot;, &quot;ids&quot;: &quot;,mb90021188,us7000kez9,&quot;, &quot;mag&quot;: 2.5, &quot;magType&quot;: &quot;ml&quot;, &quot;mmi&quot;: null, &quot;net&quot;: &quot;us&quot;, &quot;nst&quot;: 30.0, &quot;place&quot;: &quot;3 km SE of Lima, Montana&quot;, &quot;rms&quot;: 0.46, &quot;sig&quot;: 96, &quot;sources&quot;: &quot;,mb,us,&quot;, &quot;status&quot;: &quot;reviewed&quot;, &quot;time&quot;: 1689111851550, &quot;title&quot;: &quot;M 2.5 - 3 km SE of Lima, Montana&quot;, &quot;tsunami&quot;: 0, &quot;type&quot;: &quot;earthquake&quot;, &quot;types&quot;: &quot;,origin,phase-data,&quot;, &quot;tz&quot;: null, &quot;updated&quot;: 1689129816040, &quot;url&quot;: &quot;https://earthquake.usgs.gov/earthquakes/eventpage/us7000kez9&quot;}, &quot;type&quot;: &quot;Feature&quot;}, {&quot;bbox&quot;: [-179.9443, -25.6564, -179.9443, -25.6564], &quot;geometry&quot;: {&quot;coordinates&quot;: [-179.9443, -25.6564, 527.103], &quot;type&quot;: &quot;Point&quot;}, &quot;id&quot;: &quot;20&quot;, &quot;properties&quot;: {&quot;alert&quot;: null, &quot;cdi&quot;: null, &quot;code&quot;: &quot;7000keyk&quot;, &quot;detail&quot;: &quot;https://earthquake.usgs.gov/earthquakes/feed/v1.0/detail/us7000keyk.geojson&quot;, &quot;dmin&quot;: 4.017, &quot;felt&quot;: null, &quot;gap&quot;: 108.0, &quot;id&quot;: &quot;us7000keyk&quot;, &quot;ids&quot;: &quot;,us7000keyk,&quot;, &quot;mag&quot;: 4.7, &quot;magType&quot;: &quot;mb&quot;, &quot;mmi&quot;: null, &quot;net&quot;: &quot;us&quot;, &quot;nst&quot;: 25.0, &quot;place&quot;: &quot;south of the Fiji Islands&quot;, &quot;rms&quot;: 0.65, &quot;sig&quot;: 340, &quot;sources&quot;: &quot;,us,&quot;, &quot;status&quot;: &quot;reviewed&quot;, &quot;time&quot;: 1689105834962, &quot;title&quot;: &quot;M 4.7 - south of the Fiji Islands&quot;, &quot;tsunami&quot;: 0, &quot;type&quot;: &quot;earthquake&quot;, &quot;types&quot;: &quot;,origin,phase-data,&quot;, &quot;tz&quot;: null, &quot;updated&quot;: 1689107436040, &quot;url&quot;: &quot;https://earthquake.usgs.gov/earthquakes/eventpage/us7000keyk&quot;}, &quot;type&quot;: &quot;Feature&quot;}, {&quot;bbox&quot;: [-29.794, -59.6484, -29.794, -59.6484], &quot;geometry&quot;: {&quot;coordinates&quot;: [-29.794, -59.6484, 10.0], &quot;type&quot;: &quot;Point&quot;}, &quot;id&quot;: &quot;21&quot;, &quot;properties&quot;: {&quot;alert&quot;: null, &quot;cdi&quot;: null, &quot;code&quot;: &quot;7000key8&quot;, &quot;detail&quot;: &quot;https://earthquake.usgs.gov/earthquakes/feed/v1.0/detail/us7000key8.geojson&quot;, &quot;dmin&quot;: 6.503, &quot;felt&quot;: null, &quot;gap&quot;: 75.0, &quot;id&quot;: &quot;us7000key8&quot;, &quot;ids&quot;: &quot;,us7000key8,&quot;, &quot;mag&quot;: 5.2, &quot;magType&quot;: &quot;mb&quot;, &quot;mmi&quot;: null, &quot;net&quot;: &quot;us&quot;, &quot;nst&quot;: 54.0, &quot;place&quot;: &quot;South Sandwich Islands region&quot;, &quot;rms&quot;: 0.73, &quot;sig&quot;: 416, &quot;sources&quot;: &quot;,us,&quot;, &quot;status&quot;: &quot;reviewed&quot;, &quot;time&quot;: 1689104292405, &quot;title&quot;: &quot;M 5.2 - South Sandwich Islands region&quot;, &quot;tsunami&quot;: 0, &quot;type&quot;: &quot;earthquake&quot;, &quot;types&quot;: &quot;,origin,phase-data,&quot;, &quot;tz&quot;: null, &quot;updated&quot;: 1689105359040, &quot;url&quot;: &quot;https://earthquake.usgs.gov/earthquakes/eventpage/us7000key8&quot;}, &quot;type&quot;: &quot;Feature&quot;}, {&quot;bbox&quot;: [-73.7953, -38.1732, -73.7953, -38.1732], &quot;geometry&quot;: {&quot;coordinates&quot;: [-73.7953, -38.1732, 24.804], &quot;type&quot;: &quot;Point&quot;}, &quot;id&quot;: &quot;22&quot;, &quot;properties&quot;: {&quot;alert&quot;: null, &quot;cdi&quot;: null, &quot;code&quot;: &quot;7000kexx&quot;, &quot;detail&quot;: &quot;https://earthquake.usgs.gov/earthquakes/feed/v1.0/detail/us7000kexx.geojson&quot;, &quot;dmin&quot;: 1.502, &quot;felt&quot;: null, &quot;gap&quot;: 137.0, &quot;id&quot;: &quot;us7000kexx&quot;, &quot;ids&quot;: &quot;,us7000kexx,&quot;, &quot;mag&quot;: 4.5, &quot;magType&quot;: &quot;mwr&quot;, &quot;mmi&quot;: null, &quot;net&quot;: &quot;us&quot;, &quot;nst&quot;: 83.0, &quot;place&quot;: &quot;54 km SW of Ca\\u00f1ete, Chile&quot;, &quot;rms&quot;: 0.79, &quot;sig&quot;: 312, &quot;sources&quot;: &quot;,us,&quot;, &quot;status&quot;: &quot;reviewed&quot;, &quot;time&quot;: 1689100544364, &quot;title&quot;: &quot;M 4.5 - 54 km SW of Ca\\u00f1ete, Chile&quot;, &quot;tsunami&quot;: 0, &quot;type&quot;: &quot;earthquake&quot;, &quot;types&quot;: &quot;,moment-tensor,origin,phase-data,&quot;, &quot;tz&quot;: null, &quot;updated&quot;: 1689102660040, &quot;url&quot;: &quot;https://earthquake.usgs.gov/earthquakes/eventpage/us7000kexx&quot;}, &quot;type&quot;: &quot;Feature&quot;}, {&quot;bbox&quot;: [-122.92216666666667, 47.52616666666667, -122.92216666666667, 47.52616666666667], &quot;geometry&quot;: {&quot;coordinates&quot;: [-122.92216666666667, 47.52616666666667, 22.95], &quot;type&quot;: &quot;Point&quot;}, &quot;id&quot;: &quot;23&quot;, &quot;properties&quot;: {&quot;alert&quot;: null, &quot;cdi&quot;: 2.7, &quot;code&quot;: &quot;61939771&quot;, &quot;detail&quot;: &quot;https://earthquake.usgs.gov/earthquakes/feed/v1.0/detail/uw61939771.geojson&quot;, &quot;dmin&quot;: 0.01366, &quot;felt&quot;: 1.0, &quot;gap&quot;: 75.0, &quot;id&quot;: &quot;uw61939771&quot;, &quot;ids&quot;: &quot;,uw61939771,&quot;, &quot;mag&quot;: 2.58, &quot;magType&quot;: &quot;ml&quot;, &quot;mmi&quot;: null, &quot;net&quot;: &quot;uw&quot;, &quot;nst&quot;: 16.0, &quot;place&quot;: &quot;Puget Sound region, Washington&quot;, &quot;rms&quot;: 0.22, &quot;sig&quot;: 103, &quot;sources&quot;: &quot;,uw,&quot;, &quot;status&quot;: &quot;reviewed&quot;, &quot;time&quot;: 1689099178050, &quot;title&quot;: &quot;M 2.6 - Puget Sound region, Washington&quot;, &quot;tsunami&quot;: 0, &quot;type&quot;: &quot;earthquake&quot;, &quot;types&quot;: &quot;,dyfi,origin,phase-data,&quot;, &quot;tz&quot;: null, &quot;updated&quot;: 1689149267776, &quot;url&quot;: &quot;https://earthquake.usgs.gov/earthquakes/eventpage/uw61939771&quot;}, &quot;type&quot;: &quot;Feature&quot;}, {&quot;bbox&quot;: [-67.2345, -24.2543, -67.2345, -24.2543], &quot;geometry&quot;: {&quot;coordinates&quot;: [-67.2345, -24.2543, 195.682], &quot;type&quot;: &quot;Point&quot;}, &quot;id&quot;: &quot;24&quot;, &quot;properties&quot;: {&quot;alert&quot;: null, &quot;cdi&quot;: null, &quot;code&quot;: &quot;7000kexj&quot;, &quot;detail&quot;: &quot;https://earthquake.usgs.gov/earthquakes/feed/v1.0/detail/us7000kexj.geojson&quot;, &quot;dmin&quot;: 1.559, &quot;felt&quot;: null, &quot;gap&quot;: 159.0, &quot;id&quot;: &quot;us7000kexj&quot;, &quot;ids&quot;: &quot;,us7000kexj,&quot;, &quot;mag&quot;: 4.4, &quot;magType&quot;: &quot;mb&quot;, &quot;mmi&quot;: null, &quot;net&quot;: &quot;us&quot;, &quot;nst&quot;: 16.0, &quot;place&quot;: &quot;93 km W of San Antonio de los Cobres, Argentina&quot;, &quot;rms&quot;: 1.09, &quot;sig&quot;: 298, &quot;sources&quot;: &quot;,us,&quot;, &quot;status&quot;: &quot;reviewed&quot;, &quot;time&quot;: 1689099056785, &quot;title&quot;: &quot;M 4.4 - 93 km W of San Antonio de los Cobres, Argentina&quot;, &quot;tsunami&quot;: 0, &quot;type&quot;: &quot;earthquake&quot;, &quot;types&quot;: &quot;,origin,phase-data,&quot;, &quot;tz&quot;: null, &quot;updated&quot;: 1689110370040, &quot;url&quot;: &quot;https://earthquake.usgs.gov/earthquakes/eventpage/us7000kexj&quot;}, &quot;type&quot;: &quot;Feature&quot;}, {&quot;bbox&quot;: [-67.3799, -24.1888, -67.3799, -24.1888], &quot;geometry&quot;: {&quot;coordinates&quot;: [-67.3799, -24.1888, 221.733], &quot;type&quot;: &quot;Point&quot;}, &quot;id&quot;: &quot;25&quot;, &quot;properties&quot;: {&quot;alert&quot;: null, &quot;cdi&quot;: null, &quot;code&quot;: &quot;7000kexg&quot;, &quot;detail&quot;: &quot;https://earthquake.usgs.gov/earthquakes/feed/v1.0/detail/us7000kexg.geojson&quot;, &quot;dmin&quot;: 1.433, &quot;felt&quot;: null, &quot;gap&quot;: 87.0, &quot;id&quot;: &quot;us7000kexg&quot;, &quot;ids&quot;: &quot;,us7000kexg,&quot;, &quot;mag&quot;: 4.4, &quot;magType&quot;: &quot;mb&quot;, &quot;mmi&quot;: null, &quot;net&quot;: &quot;us&quot;, &quot;nst&quot;: 21.0, &quot;place&quot;: &quot;107 km W of San Antonio de los Cobres, Argentina&quot;, &quot;rms&quot;: 0.91, &quot;sig&quot;: 298, &quot;sources&quot;: &quot;,us,&quot;, &quot;status&quot;: &quot;reviewed&quot;, &quot;time&quot;: 1689098721827, &quot;title&quot;: &quot;M 4.4 - 107 km W of San Antonio de los Cobres, Argentina&quot;, &quot;tsunami&quot;: 0, &quot;type&quot;: &quot;earthquake&quot;, &quot;types&quot;: &quot;,origin,phase-data,&quot;, &quot;tz&quot;: null, &quot;updated&quot;: 1689109382040, &quot;url&quot;: &quot;https://earthquake.usgs.gov/earthquakes/eventpage/us7000kexg&quot;}, &quot;type&quot;: &quot;Feature&quot;}, {&quot;bbox&quot;: [-107.3982, -34.7883, -107.3982, -34.7883], &quot;geometry&quot;: {&quot;coordinates&quot;: [-107.3982, -34.7883, 10.0], &quot;type&quot;: &quot;Point&quot;}, &quot;id&quot;: &quot;26&quot;, &quot;properties&quot;: {&quot;alert&quot;: null, &quot;cdi&quot;: null, &quot;code&quot;: &quot;7000kexf&quot;, &quot;detail&quot;: &quot;https://earthquake.usgs.gov/earthquakes/feed/v1.0/detail/us7000kexf.geojson&quot;, &quot;dmin&quot;: 28.706, &quot;felt&quot;: null, &quot;gap&quot;: 57.0, &quot;id&quot;: &quot;us7000kexf&quot;, &quot;ids&quot;: &quot;,us7000kexf,&quot;, &quot;mag&quot;: 5.0, &quot;magType&quot;: &quot;mb&quot;, &quot;mmi&quot;: null, &quot;net&quot;: &quot;us&quot;, &quot;nst&quot;: 140.0, &quot;place&quot;: &quot;southern East Pacific Rise&quot;, &quot;rms&quot;: 0.65, &quot;sig&quot;: 385, &quot;sources&quot;: &quot;,us,&quot;, &quot;status&quot;: &quot;reviewed&quot;, &quot;time&quot;: 1689096388348, &quot;title&quot;: &quot;M 5.0 - southern East Pacific Rise&quot;, &quot;tsunami&quot;: 0, &quot;type&quot;: &quot;earthquake&quot;, &quot;types&quot;: &quot;,origin,phase-data,&quot;, &quot;tz&quot;: null, &quot;updated&quot;: 1689100670040, &quot;url&quot;: &quot;https://earthquake.usgs.gov/earthquakes/eventpage/us7000kexf&quot;}, &quot;type&quot;: &quot;Feature&quot;}, {&quot;bbox&quot;: [-121.1688333, 40.2298333, -121.1688333, 40.2298333], &quot;geometry&quot;: {&quot;coordinates&quot;: [-121.1688333, 40.2298333, 5.71], &quot;type&quot;: &quot;Point&quot;}, &quot;id&quot;: &quot;27&quot;, &quot;properties&quot;: {&quot;alert&quot;: null, &quot;cdi&quot;: null, &quot;code&quot;: &quot;73911481&quot;, &quot;detail&quot;: &quot;https://earthquake.usgs.gov/earthquakes/feed/v1.0/detail/nc73911481.geojson&quot;, &quot;dmin&quot;: 0.0253, &quot;felt&quot;: null, &quot;gap&quot;: 33.0, &quot;id&quot;: &quot;nc73911481&quot;, &quot;ids&quot;: &quot;,nc73911481,nn00862437,&quot;, &quot;mag&quot;: 2.54, &quot;magType&quot;: &quot;md&quot;, &quot;mmi&quot;: null, &quot;net&quot;: &quot;nc&quot;, &quot;nst&quot;: 39.0, &quot;place&quot;: &quot;2 km NNE of Almanor, CA&quot;, &quot;rms&quot;: 0.17, &quot;sig&quot;: 99, &quot;sources&quot;: &quot;,nc,nn,&quot;, &quot;status&quot;: &quot;reviewed&quot;, &quot;time&quot;: 1689095884050, &quot;title&quot;: &quot;M 2.5 - 2 km NNE of Almanor, CA&quot;, &quot;tsunami&quot;: 0, &quot;type&quot;: &quot;earthquake&quot;, &quot;types&quot;: &quot;,focal-mechanism,nearby-cities,origin,phase-data,scitech-link,&quot;, &quot;tz&quot;: null, &quot;updated&quot;: 1689116774113, &quot;url&quot;: &quot;https://earthquake.usgs.gov/earthquakes/eventpage/nc73911481&quot;}, &quot;type&quot;: &quot;Feature&quot;}, {&quot;bbox&quot;: [17.3651, 43.2962, 17.3651, 43.2962], &quot;geometry&quot;: {&quot;coordinates&quot;: [17.3651, 43.2962, 10.0], &quot;type&quot;: &quot;Point&quot;}, &quot;id&quot;: &quot;28&quot;, &quot;properties&quot;: {&quot;alert&quot;: null, &quot;cdi&quot;: 3.1, &quot;code&quot;: &quot;7000kewy&quot;, &quot;detail&quot;: &quot;https://earthquake.usgs.gov/earthquakes/feed/v1.0/detail/us7000kewy.geojson&quot;, &quot;dmin&quot;: 1.458, &quot;felt&quot;: 6.0, &quot;gap&quot;: 25.0, &quot;id&quot;: &quot;us7000kewy&quot;, &quot;ids&quot;: &quot;,us7000kewy,&quot;, &quot;mag&quot;: 4.5, &quot;magType&quot;: &quot;mb&quot;, &quot;mmi&quot;: null, &quot;net&quot;: &quot;us&quot;, &quot;nst&quot;: 51.0, &quot;place&quot;: &quot;7 km SSE of Drinovci, Bosnia and Herzegovina&quot;, &quot;rms&quot;: 0.86, &quot;sig&quot;: 313, &quot;sources&quot;: &quot;,us,&quot;, &quot;status&quot;: &quot;reviewed&quot;, &quot;time&quot;: 1689092884223, &quot;title&quot;: &quot;M 4.5 - 7 km SSE of Drinovci, Bosnia and Herzegovina&quot;, &quot;tsunami&quot;: 0, &quot;type&quot;: &quot;earthquake&quot;, &quot;types&quot;: &quot;,dyfi,origin,phase-data,&quot;, &quot;tz&quot;: null, &quot;updated&quot;: 1689149290941, &quot;url&quot;: &quot;https://earthquake.usgs.gov/earthquakes/eventpage/us7000kewy&quot;}, &quot;type&quot;: &quot;Feature&quot;}, {&quot;bbox&quot;: [-156.8091, 56.2326, -156.8091, 56.2326], &quot;geometry&quot;: {&quot;coordinates&quot;: [-156.8091, 56.2326, 29.7], &quot;type&quot;: &quot;Point&quot;}, &quot;id&quot;: &quot;29&quot;, &quot;properties&quot;: {&quot;alert&quot;: null, &quot;cdi&quot;: null, &quot;code&quot;: &quot;0238ts8fbe&quot;, &quot;detail&quot;: &quot;https://earthquake.usgs.gov/earthquakes/feed/v1.0/detail/ak0238ts8fbe.geojson&quot;, &quot;dmin&quot;: null, &quot;felt&quot;: null, &quot;gap&quot;: null, &quot;id&quot;: &quot;ak0238ts8fbe&quot;, &quot;ids&quot;: &quot;,ak0238ts8fbe,&quot;, &quot;mag&quot;: 2.5, &quot;magType&quot;: &quot;ml&quot;, &quot;mmi&quot;: null, &quot;net&quot;: &quot;ak&quot;, &quot;nst&quot;: null, &quot;place&quot;: &quot;99 km E of Chignik, Alaska&quot;, &quot;rms&quot;: 1.01, &quot;sig&quot;: 96, &quot;sources&quot;: &quot;,ak,&quot;, &quot;status&quot;: &quot;automatic&quot;, &quot;time&quot;: 1689088801385, &quot;title&quot;: &quot;M 2.5 - 99 km E of Chignik, Alaska&quot;, &quot;tsunami&quot;: 0, &quot;type&quot;: &quot;earthquake&quot;, &quot;types&quot;: &quot;,origin,phase-data,&quot;, &quot;tz&quot;: null, &quot;updated&quot;: 1689088962925, &quot;url&quot;: &quot;https://earthquake.usgs.gov/earthquakes/eventpage/ak0238ts8fbe&quot;}, &quot;type&quot;: &quot;Feature&quot;}, {&quot;bbox&quot;: [-67.0636666666667, 18.0503333333333, -67.0636666666667, 18.0503333333333], &quot;geometry&quot;: {&quot;coordinates&quot;: [-67.0636666666667, 18.0503333333333, 15.56], &quot;type&quot;: &quot;Point&quot;}, &quot;id&quot;: &quot;30&quot;, &quot;properties&quot;: {&quot;alert&quot;: null, &quot;cdi&quot;: null, &quot;code&quot;: &quot;71417403&quot;, &quot;detail&quot;: &quot;https://earthquake.usgs.gov/earthquakes/feed/v1.0/detail/pr71417403.geojson&quot;, &quot;dmin&quot;: 0.03699, &quot;felt&quot;: null, &quot;gap&quot;: 87.0, &quot;id&quot;: &quot;pr71417403&quot;, &quot;ids&quot;: &quot;,pr71417403,&quot;, &quot;mag&quot;: 2.5, &quot;magType&quot;: &quot;md&quot;, &quot;mmi&quot;: null, &quot;net&quot;: &quot;pr&quot;, &quot;nst&quot;: 11.0, &quot;place&quot;: &quot;0 km W of Lajas, Puerto Rico&quot;, &quot;rms&quot;: 0.15, &quot;sig&quot;: 96, &quot;sources&quot;: &quot;,pr,&quot;, &quot;status&quot;: &quot;reviewed&quot;, &quot;time&quot;: 1689086731860, &quot;title&quot;: &quot;M 2.5 - 0 km W of Lajas, Puerto Rico&quot;, &quot;tsunami&quot;: 0, &quot;type&quot;: &quot;earthquake&quot;, &quot;types&quot;: &quot;,origin,phase-data,&quot;, &quot;tz&quot;: null, &quot;updated&quot;: 1689087314400, &quot;url&quot;: &quot;https://earthquake.usgs.gov/earthquakes/eventpage/pr71417403&quot;}, &quot;type&quot;: &quot;Feature&quot;}, {&quot;bbox&quot;: [-25.2991, -57.0061, -25.2991, -57.0061], &quot;geometry&quot;: {&quot;coordinates&quot;: [-25.2991, -57.0061, 29.307], &quot;type&quot;: &quot;Point&quot;}, &quot;id&quot;: &quot;31&quot;, &quot;properties&quot;: {&quot;alert&quot;: null, &quot;cdi&quot;: null, &quot;code&quot;: &quot;7000kevb&quot;, &quot;detail&quot;: &quot;https://earthquake.usgs.gov/earthquakes/feed/v1.0/detail/us7000kevb.geojson&quot;, &quot;dmin&quot;: 6.895, &quot;felt&quot;: null, &quot;gap&quot;: 185.0, &quot;id&quot;: &quot;us7000kevb&quot;, &quot;ids&quot;: &quot;,us7000kevb,&quot;, &quot;mag&quot;: 5.1, &quot;magType&quot;: &quot;mb&quot;, &quot;mmi&quot;: null, &quot;net&quot;: &quot;us&quot;, &quot;nst&quot;: 37.0, &quot;place&quot;: &quot;South Sandwich Islands region&quot;, &quot;rms&quot;: 0.85, &quot;sig&quot;: 400, &quot;sources&quot;: &quot;,us,&quot;, &quot;status&quot;: &quot;reviewed&quot;, &quot;time&quot;: 1689084486542, &quot;title&quot;: &quot;M 5.1 - South Sandwich Islands region&quot;, &quot;tsunami&quot;: 0, &quot;type&quot;: &quot;earthquake&quot;, &quot;types&quot;: &quot;,origin,phase-data,&quot;, &quot;tz&quot;: null, &quot;updated&quot;: 1689085461040, &quot;url&quot;: &quot;https://earthquake.usgs.gov/earthquakes/eventpage/us7000kevb&quot;}, &quot;type&quot;: &quot;Feature&quot;}, {&quot;bbox&quot;: [93.9972, 23.1111, 93.9972, 23.1111], &quot;geometry&quot;: {&quot;coordinates&quot;: [93.9972, 23.1111, 77.884], &quot;type&quot;: &quot;Point&quot;}, &quot;id&quot;: &quot;32&quot;, &quot;properties&quot;: {&quot;alert&quot;: null, &quot;cdi&quot;: null, &quot;code&quot;: &quot;7000keva&quot;, &quot;detail&quot;: &quot;https://earthquake.usgs.gov/earthquakes/feed/v1.0/detail/us7000keva.geojson&quot;, &quot;dmin&quot;: 3.658, &quot;felt&quot;: null, &quot;gap&quot;: 153.0, &quot;id&quot;: &quot;us7000keva&quot;, &quot;ids&quot;: &quot;,us7000keva,&quot;, &quot;mag&quot;: 4.3, &quot;magType&quot;: &quot;mb&quot;, &quot;mmi&quot;: null, &quot;net&quot;: &quot;us&quot;, &quot;nst&quot;: 57.0, &quot;place&quot;: &quot;39 km ENE of Falam, Myanmar&quot;, &quot;rms&quot;: 0.69, &quot;sig&quot;: 284, &quot;sources&quot;: &quot;,us,&quot;, &quot;status&quot;: &quot;reviewed&quot;, &quot;time&quot;: 1689084359998, &quot;title&quot;: &quot;M 4.3 - 39 km ENE of Falam, Myanmar&quot;, &quot;tsunami&quot;: 0, &quot;type&quot;: &quot;earthquake&quot;, &quot;types&quot;: &quot;,origin,phase-data,&quot;, &quot;tz&quot;: null, &quot;updated&quot;: 1689086598040, &quot;url&quot;: &quot;https://earthquake.usgs.gov/earthquakes/eventpage/us7000keva&quot;}, &quot;type&quot;: &quot;Feature&quot;}, {&quot;bbox&quot;: [-67.4531666666667, 18.2253333333333, -67.4531666666667, 18.2253333333333], &quot;geometry&quot;: {&quot;coordinates&quot;: [-67.4531666666667, 18.2253333333333, 26.96], &quot;type&quot;: &quot;Point&quot;}, &quot;id&quot;: &quot;33&quot;, &quot;properties&quot;: {&quot;alert&quot;: null, &quot;cdi&quot;: null, &quot;code&quot;: &quot;71417393&quot;, &quot;detail&quot;: &quot;https://earthquake.usgs.gov/earthquakes/feed/v1.0/detail/pr71417393.geojson&quot;, &quot;dmin&quot;: 0.1602, &quot;felt&quot;: null, &quot;gap&quot;: 233.0, &quot;id&quot;: &quot;pr71417393&quot;, &quot;ids&quot;: &quot;,pr71417393,&quot;, &quot;mag&quot;: 2.66, &quot;magType&quot;: &quot;md&quot;, &quot;mmi&quot;: null, &quot;net&quot;: &quot;pr&quot;, &quot;nst&quot;: 6.0, &quot;place&quot;: &quot;24 km WSW of Stella, Puerto Rico&quot;, &quot;rms&quot;: 0.09, &quot;sig&quot;: 109, &quot;sources&quot;: &quot;,pr,&quot;, &quot;status&quot;: &quot;reviewed&quot;, &quot;time&quot;: 1689080124730, &quot;title&quot;: &quot;M 2.7 - 24 km WSW of Stella, Puerto Rico&quot;, &quot;tsunami&quot;: 0, &quot;type&quot;: &quot;earthquake&quot;, &quot;types&quot;: &quot;,origin,phase-data,&quot;, &quot;tz&quot;: null, &quot;updated&quot;: 1689081575970, &quot;url&quot;: &quot;https://earthquake.usgs.gov/earthquakes/eventpage/pr71417393&quot;}, &quot;type&quot;: &quot;Feature&quot;}, {&quot;bbox&quot;: [121.5466, 24.0417, 121.5466, 24.0417], &quot;geometry&quot;: {&quot;coordinates&quot;: [121.5466, 24.0417, 22.435], &quot;type&quot;: &quot;Point&quot;}, &quot;id&quot;: &quot;34&quot;, &quot;properties&quot;: {&quot;alert&quot;: null, &quot;cdi&quot;: 2.5, &quot;code&quot;: &quot;7000keun&quot;, &quot;detail&quot;: &quot;https://earthquake.usgs.gov/earthquakes/feed/v1.0/detail/us7000keun.geojson&quot;, &quot;dmin&quot;: 0.139, &quot;felt&quot;: 1.0, &quot;gap&quot;: 117.0, &quot;id&quot;: &quot;us7000keun&quot;, &quot;ids&quot;: &quot;,us7000keun,&quot;, &quot;mag&quot;: 3.1, &quot;magType&quot;: &quot;ml&quot;, &quot;mmi&quot;: null, &quot;net&quot;: &quot;us&quot;, &quot;nst&quot;: 11.0, &quot;place&quot;: &quot;9 km NW of Hualien City, Taiwan&quot;, &quot;rms&quot;: 0.45, &quot;sig&quot;: 148, &quot;sources&quot;: &quot;,us,&quot;, &quot;status&quot;: &quot;reviewed&quot;, &quot;time&quot;: 1689075727159, &quot;title&quot;: &quot;M 3.1 - 9 km NW of Hualien City, Taiwan&quot;, &quot;tsunami&quot;: 0, &quot;type&quot;: &quot;earthquake&quot;, &quot;types&quot;: &quot;,dyfi,origin,phase-data,&quot;, &quot;tz&quot;: null, &quot;updated&quot;: 1689082643484, &quot;url&quot;: &quot;https://earthquake.usgs.gov/earthquakes/eventpage/us7000keun&quot;}, &quot;type&quot;: &quot;Feature&quot;}, {&quot;bbox&quot;: [-93.9075, 16.91, -93.9075, 16.91], &quot;geometry&quot;: {&quot;coordinates&quot;: [-93.9075, 16.91, 150.022], &quot;type&quot;: &quot;Point&quot;}, &quot;id&quot;: &quot;35&quot;, &quot;properties&quot;: {&quot;alert&quot;: null, &quot;cdi&quot;: null, &quot;code&quot;: &quot;7000keuc&quot;, &quot;detail&quot;: &quot;https://earthquake.usgs.gov/earthquakes/feed/v1.0/detail/us7000keuc.geojson&quot;, &quot;dmin&quot;: 1.809, &quot;felt&quot;: null, &quot;gap&quot;: 119.0, &quot;id&quot;: &quot;us7000keuc&quot;, &quot;ids&quot;: &quot;,us7000keuc,&quot;, &quot;mag&quot;: 4.5, &quot;magType&quot;: &quot;mb&quot;, &quot;mmi&quot;: null, &quot;net&quot;: &quot;us&quot;, &quot;nst&quot;: 54.0, &quot;place&quot;: &quot;19 km NW of Francisco I. Madero, Mexico&quot;, &quot;rms&quot;: 1.05, &quot;sig&quot;: 312, &quot;sources&quot;: &quot;,us,&quot;, &quot;status&quot;: &quot;reviewed&quot;, &quot;time&quot;: 1689074096421, &quot;title&quot;: &quot;M 4.5 - 19 km NW of Francisco I. Madero, Mexico&quot;, &quot;tsunami&quot;: 0, &quot;type&quot;: &quot;earthquake&quot;, &quot;types&quot;: &quot;,origin,phase-data,&quot;, &quot;tz&quot;: null, &quot;updated&quot;: 1689075297040, &quot;url&quot;: &quot;https://earthquake.usgs.gov/earthquakes/eventpage/us7000keuc&quot;}, &quot;type&quot;: &quot;Feature&quot;}, {&quot;bbox&quot;: [26.2615, 39.3973, 26.2615, 39.3973], &quot;geometry&quot;: {&quot;coordinates&quot;: [26.2615, 39.3973, 10.0], &quot;type&quot;: &quot;Point&quot;}, &quot;id&quot;: &quot;36&quot;, &quot;properties&quot;: {&quot;alert&quot;: null, &quot;cdi&quot;: 2.7, &quot;code&quot;: &quot;7000ketw&quot;, &quot;detail&quot;: &quot;https://earthquake.usgs.gov/earthquakes/feed/v1.0/detail/us7000ketw.geojson&quot;, &quot;dmin&quot;: 0.597, &quot;felt&quot;: 1.0, &quot;gap&quot;: 83.0, &quot;id&quot;: &quot;us7000ketw&quot;, &quot;ids&quot;: &quot;,us7000ketw,&quot;, &quot;mag&quot;: 3.4, &quot;magType&quot;: &quot;ml&quot;, &quot;mmi&quot;: null, &quot;net&quot;: &quot;us&quot;, &quot;nst&quot;: 27.0, &quot;place&quot;: &quot;8 km ENE of M\\u00edthymna, Greece&quot;, &quot;rms&quot;: 0.75, &quot;sig&quot;: 178, &quot;sources&quot;: &quot;,us,&quot;, &quot;status&quot;: &quot;reviewed&quot;, &quot;time&quot;: 1689069139105, &quot;title&quot;: &quot;M 3.4 - 8 km ENE of M\\u00edthymna, Greece&quot;, &quot;tsunami&quot;: 0, &quot;type&quot;: &quot;earthquake&quot;, &quot;types&quot;: &quot;,dyfi,origin,phase-data,&quot;, &quot;tz&quot;: null, &quot;updated&quot;: 1689081584229, &quot;url&quot;: &quot;https://earthquake.usgs.gov/earthquakes/eventpage/us7000ketw&quot;}, &quot;type&quot;: &quot;Feature&quot;}], &quot;type&quot;: &quot;FeatureCollection&quot;});\n",
       "\n",
       "        \n",
       "    \n",
       "    geo_json_831e34fa5a7b91247916732c2d4e8474.bindTooltip(\n",
       "    function(layer){\n",
       "    let div = L.DomUtil.create(&#x27;div&#x27;);\n",
       "    \n",
       "    let handleObject = feature=&gt;typeof(feature)==&#x27;object&#x27; ? JSON.stringify(feature) : feature;\n",
       "    let fields = [&quot;place&quot;, &quot;mag&quot;];\n",
       "    let aliases = [&quot;place&quot;, &quot;mag&quot;];\n",
       "    let table = &#x27;&lt;table&gt;&#x27; +\n",
       "        String(\n",
       "        fields.map(\n",
       "        (v,i)=&gt;\n",
       "        `&lt;tr&gt;\n",
       "            &lt;th&gt;${aliases[i]}&lt;/th&gt;\n",
       "            \n",
       "            &lt;td&gt;${handleObject(layer.feature.properties[v])}&lt;/td&gt;\n",
       "        &lt;/tr&gt;`).join(&#x27;&#x27;))\n",
       "    +&#x27;&lt;/table&gt;&#x27;;\n",
       "    div.innerHTML=table;\n",
       "    \n",
       "    return div\n",
       "    }\n",
       "    ,{&quot;className&quot;: &quot;foliumtooltip&quot;, &quot;sticky&quot;: true});\n",
       "                     \n",
       "&lt;/script&gt;\n",
       "&lt;/html&gt;\" style=\"position:absolute;width:100%;height:100%;left:0;top:0;border:none !important;\" allowfullscreen webkitallowfullscreen mozallowfullscreen></iframe></div></div>"
      ],
      "text/plain": [
       "<folium.folium.Map at 0x11c212f50>"
      ]
     },
     "execution_count": 27,
     "metadata": {},
     "output_type": "execute_result"
    }
   ],
   "source": [
    "# make the map\n",
    "eqmap = folium.Map(location=[0,0], \n",
    "               zoom_start=1,\n",
    "               tiles = 'https://server.arcgisonline.com/ArcGIS/rest/services/World_Imagery/MapServer/tile/{z}/{y}/{x}',\n",
    "               attr = 'ESRI')\n",
    "\n",
    "folium.GeoJson(gdf,\n",
    "               tooltip=folium.GeoJsonTooltip(fields=['place','mag'])).add_to(eqmap)\n",
    "eqmap"
   ]
  },
  {
   "attachments": {},
   "cell_type": "markdown",
   "metadata": {},
   "source": [
    "ここで考えほしいのは、csv をダウンロードした場合と、このように直接出所にリンクしてデータを入手する「違い」とは何か？"
   ]
  },
  {
   "cell_type": "code",
   "execution_count": 28,
   "metadata": {},
   "outputs": [],
   "source": [
    "import folium\n",
    "import random\n",
    "\n",
    "# マップオブジェクトを作成する\n",
    "map_obj = folium.Map(location=[35.6895, 139.6917], zoom_start=12)  # 東京の座標を指定\n",
    "\n",
    "# 100個のランダムなマーカーを追加する\n",
    "for _ in range(100):\n",
    "    # ランダムな緯度と経度を生成する\n",
    "    latitude = random.uniform(35.5, 35.8)  # 緯度の範囲を適宜指定\n",
    "    longitude = random.uniform(139.5, 140.0)  # 経度の範囲を適宜指定\n",
    "    \n",
    "    # マーカーをマップに追加する\n",
    "    folium.Marker([latitude, longitude]).add_to(map_obj)\n",
    "\n",
    "\n",
    "map_obj\n",
    "# マップを保存する\n",
    "map_obj.save('map.html')\n"
   ]
  },
  {
   "cell_type": "code",
   "execution_count": null,
   "metadata": {},
   "outputs": [],
   "source": []
  }
 ],
 "metadata": {
  "kernelspec": {
   "display_name": "geos",
   "language": "python",
   "name": "python3"
  },
  "language_info": {
   "codemirror_mode": {
    "name": "ipython",
    "version": 3
   },
   "file_extension": ".py",
   "mimetype": "text/x-python",
   "name": "python",
   "nbconvert_exporter": "python",
   "pygments_lexer": "ipython3",
   "version": "3.11.0"
  },
  "orig_nbformat": 4
 },
 "nbformat": 4,
 "nbformat_minor": 2
}
