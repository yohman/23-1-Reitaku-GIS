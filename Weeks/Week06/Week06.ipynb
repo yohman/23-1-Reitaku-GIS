{
 "cells": [
  {
   "attachments": {},
   "cell_type": "markdown",
   "metadata": {},
   "source": [
    "# Data Exploration: Spreadsheet からデータを持ってくる\n",
    "\n",
    "![Alt text](https://raw.githubusercontent.com/yohman/23-1-Reitaku-GIS/main/Weeks/Week06/images/csv%20to%20map.png)\n",
    "\n",
    "先週の課題では一つの地図に複数のマーカーを作りましたね。作る過程で、おそらくマーカーを一つ一つコーディングをしたのではないでしょうか。\n",
    "\n",
    "```python\n",
    "# from Chikashi's homework\n",
    "kaede = [35.83304899572845, 139.9550263688704]\n",
    "asunaro = [35.83218389343381, 139.9559046419524]\n",
    "hiiragi = [35.83432746243043, 139.95492044150396]\n",
    "library = [35.83288620720931, 139.9560383893833]\n",
    "parking = [35.83477548217266, 139.9561361979999]\n",
    "bukastu = [35.83480867733186, 139.95489801198133]\n",
    "```\n",
    "\n",
    "でも、もし100個のマーカーを地図に載せるように言われたらどうする？大変だね！コーディングでやると要領が悪いので、データをspreadsheetで作って、Pythonでインポートしましょう。"
   ]
  },
  {
   "attachments": {},
   "cell_type": "markdown",
   "metadata": {},
   "source": [
    "## CSV ファイルのインポート\n",
    "\n",
    "Google Sheetで作ったデータは[こちらでアクセス](https://docs.google.com/spreadsheets/d/1gtQqvep0ULTZ3K1W8fpZoO9ovTg5DfMN3wx1l6Bebcw/edit?usp=sharing)。\n",
    "\n",
    "では、`mydata.csv`　ファイルをインポートしましょう。クラスのサイトからダウンロードするか、上のファイルを csv としてダウンロードする。\n",
    "\n",
    "確認！\n",
    "- `mydata.csv` ファイルがこのノートブックファイルと同じルーツであることを再確認\n"
   ]
  },
  {
   "attachments": {},
   "cell_type": "markdown",
   "metadata": {},
   "source": [
    "### Library import\n",
    "\n",
    "モジュールを三つ使います：\n",
    "- pandas: to import and work with dataframes\n",
    "- folium: to create interactive maps\n",
    "- matplotlib: to create charts"
   ]
  },
  {
   "cell_type": "code",
   "execution_count": 1,
   "metadata": {},
   "outputs": [],
   "source": [
    "# library import\n",
    "import pandas as pd\n",
    "import folium\n",
    "import matplotlib.pyplot as plt"
   ]
  },
  {
   "attachments": {},
   "cell_type": "markdown",
   "metadata": {},
   "source": [
    "このようにデータを取り込みます。ちなみに `df` は 【dataframe】の略："
   ]
  },
  {
   "cell_type": "code",
   "execution_count": 2,
   "metadata": {},
   "outputs": [],
   "source": [
    "# import the csv file\n",
    "df = pd.read_csv('mydata.csv')"
   ]
  },
  {
   "cell_type": "code",
   "execution_count": 3,
   "metadata": {},
   "outputs": [
    {
     "data": {
      "text/html": [
       "<div>\n",
       "<style scoped>\n",
       "    .dataframe tbody tr th:only-of-type {\n",
       "        vertical-align: middle;\n",
       "    }\n",
       "\n",
       "    .dataframe tbody tr th {\n",
       "        vertical-align: top;\n",
       "    }\n",
       "\n",
       "    .dataframe thead th {\n",
       "        text-align: right;\n",
       "    }\n",
       "</style>\n",
       "<table border=\"1\" class=\"dataframe\">\n",
       "  <thead>\n",
       "    <tr style=\"text-align: right;\">\n",
       "      <th></th>\n",
       "      <th>name</th>\n",
       "      <th>description</th>\n",
       "      <th>latitude</th>\n",
       "      <th>longitude</th>\n",
       "      <th>color</th>\n",
       "    </tr>\n",
       "  </thead>\n",
       "  <tbody>\n",
       "    <tr>\n",
       "      <th>0</th>\n",
       "      <td>校舎「かえで」</td>\n",
       "      <td>校舎名の「かえで」には「楓の果実が2つの種子が密着した姿で、それぞれから翼が伸びる翼果である...</td>\n",
       "      <td>35.833049</td>\n",
       "      <td>139.955026</td>\n",
       "      <td>green</td>\n",
       "    </tr>\n",
       "    <tr>\n",
       "      <th>1</th>\n",
       "      <td>校舎「あすなろ」</td>\n",
       "      <td>麗澤大学開学50周年記念事業の一環として2011年4月\"森と共生するキャンパス\"をコンセプト...</td>\n",
       "      <td>35.832201</td>\n",
       "      <td>139.955906</td>\n",
       "      <td>green</td>\n",
       "    </tr>\n",
       "    <tr>\n",
       "      <th>2</th>\n",
       "      <td>図書館</td>\n",
       "      <td>AVホール・CALL教室を持ち、授業開講時は8:50から19:00（閉講期間中は9:00から...</td>\n",
       "      <td>35.832862</td>\n",
       "      <td>139.955925</td>\n",
       "      <td>green</td>\n",
       "    </tr>\n",
       "    <tr>\n",
       "      <th>3</th>\n",
       "      <td>学生会館「ひいらぎ」</td>\n",
       "      <td>2022年9月にリニューアルオープン。木目とグリーンを基調としたアットホームな雰囲気で、窓か...</td>\n",
       "      <td>35.834304</td>\n",
       "      <td>139.954985</td>\n",
       "      <td>orange</td>\n",
       "    </tr>\n",
       "    <tr>\n",
       "      <th>4</th>\n",
       "      <td>麗澤大学生涯教育プラザ</td>\n",
       "      <td>2006年（平成18年）2月竣工。大学院、研究センター、情報システム部、麗澤オープンカレッジ...</td>\n",
       "      <td>35.831934</td>\n",
       "      <td>139.956880</td>\n",
       "      <td>green</td>\n",
       "    </tr>\n",
       "  </tbody>\n",
       "</table>\n",
       "</div>"
      ],
      "text/plain": [
       "          name                                        description   latitude   \n",
       "0      校舎「かえで」  校舎名の「かえで」には「楓の果実が2つの種子が密着した姿で、それぞれから翼が伸びる翼果である...  35.833049  \\\n",
       "1     校舎「あすなろ」  麗澤大学開学50周年記念事業の一環として2011年4月\"森と共生するキャンパス\"をコンセプト...  35.832201   \n",
       "2          図書館  AVホール・CALL教室を持ち、授業開講時は8:50から19:00（閉講期間中は9:00から...  35.832862   \n",
       "3   学生会館「ひいらぎ」  2022年9月にリニューアルオープン。木目とグリーンを基調としたアットホームな雰囲気で、窓か...  35.834304   \n",
       "4  麗澤大学生涯教育プラザ  2006年（平成18年）2月竣工。大学院、研究センター、情報システム部、麗澤オープンカレッジ...  35.831934   \n",
       "\n",
       "    longitude   color  \n",
       "0  139.955026   green  \n",
       "1  139.955906   green  \n",
       "2  139.955925   green  \n",
       "3  139.954985  orange  \n",
       "4  139.956880   green  "
      ]
     },
     "execution_count": 3,
     "metadata": {},
     "output_type": "execute_result"
    }
   ],
   "source": [
    "df"
   ]
  },
  {
   "attachments": {},
   "cell_type": "markdown",
   "metadata": {},
   "source": [
    "## Working with dataframes\n",
    "\n",
    "おめでとう！データの取り込みに成功。それでは基本的なデータを explore するコマンドをいくつか紹介。"
   ]
  },
  {
   "cell_type": "code",
   "execution_count": 4,
   "metadata": {},
   "outputs": [
    {
     "data": {
      "text/plain": [
       "(5, 5)"
      ]
     },
     "execution_count": 4,
     "metadata": {},
     "output_type": "execute_result"
    }
   ],
   "source": [
    "# size of the data (rows, columns)\n",
    "df.shape"
   ]
  },
  {
   "cell_type": "code",
   "execution_count": 5,
   "metadata": {},
   "outputs": [
    {
     "name": "stdout",
     "output_type": "stream",
     "text": [
      "<class 'pandas.core.frame.DataFrame'>\n",
      "RangeIndex: 5 entries, 0 to 4\n",
      "Data columns (total 5 columns):\n",
      " #   Column       Non-Null Count  Dtype  \n",
      "---  ------       --------------  -----  \n",
      " 0   name         5 non-null      object \n",
      " 1   description  5 non-null      object \n",
      " 2   latitude     5 non-null      float64\n",
      " 3   longitude    5 non-null      float64\n",
      " 4   color        5 non-null      object \n",
      "dtypes: float64(2), object(3)\n",
      "memory usage: 332.0+ bytes\n"
     ]
    }
   ],
   "source": [
    "# information about the data\n",
    "df.info()"
   ]
  },
  {
   "attachments": {},
   "cell_type": "markdown",
   "metadata": {},
   "source": [
    "↑ここで確認するのは `latitude` and `longitude` が `float` であること。もし `object` であればデータを作り直す必要がある。"
   ]
  },
  {
   "cell_type": "code",
   "execution_count": 6,
   "metadata": {},
   "outputs": [
    {
     "data": {
      "text/plain": [
       "['name', 'description', 'latitude', 'longitude', 'color']"
      ]
     },
     "execution_count": 6,
     "metadata": {},
     "output_type": "execute_result"
    }
   ],
   "source": [
    "# list of columns\n",
    "df.columns.to_list()"
   ]
  },
  {
   "cell_type": "code",
   "execution_count": 7,
   "metadata": {},
   "outputs": [
    {
     "data": {
      "text/html": [
       "<div>\n",
       "<style scoped>\n",
       "    .dataframe tbody tr th:only-of-type {\n",
       "        vertical-align: middle;\n",
       "    }\n",
       "\n",
       "    .dataframe tbody tr th {\n",
       "        vertical-align: top;\n",
       "    }\n",
       "\n",
       "    .dataframe thead th {\n",
       "        text-align: right;\n",
       "    }\n",
       "</style>\n",
       "<table border=\"1\" class=\"dataframe\">\n",
       "  <thead>\n",
       "    <tr style=\"text-align: right;\">\n",
       "      <th></th>\n",
       "      <th>name</th>\n",
       "      <th>latitude</th>\n",
       "      <th>longitude</th>\n",
       "    </tr>\n",
       "  </thead>\n",
       "  <tbody>\n",
       "    <tr>\n",
       "      <th>0</th>\n",
       "      <td>校舎「かえで」</td>\n",
       "      <td>35.833049</td>\n",
       "      <td>139.955026</td>\n",
       "    </tr>\n",
       "    <tr>\n",
       "      <th>1</th>\n",
       "      <td>校舎「あすなろ」</td>\n",
       "      <td>35.832201</td>\n",
       "      <td>139.955906</td>\n",
       "    </tr>\n",
       "    <tr>\n",
       "      <th>2</th>\n",
       "      <td>図書館</td>\n",
       "      <td>35.832862</td>\n",
       "      <td>139.955925</td>\n",
       "    </tr>\n",
       "    <tr>\n",
       "      <th>3</th>\n",
       "      <td>学生会館「ひいらぎ」</td>\n",
       "      <td>35.834304</td>\n",
       "      <td>139.954985</td>\n",
       "    </tr>\n",
       "    <tr>\n",
       "      <th>4</th>\n",
       "      <td>麗澤大学生涯教育プラザ</td>\n",
       "      <td>35.831934</td>\n",
       "      <td>139.956880</td>\n",
       "    </tr>\n",
       "  </tbody>\n",
       "</table>\n",
       "</div>"
      ],
      "text/plain": [
       "          name   latitude   longitude\n",
       "0      校舎「かえで」  35.833049  139.955026\n",
       "1     校舎「あすなろ」  35.832201  139.955906\n",
       "2          図書館  35.832862  139.955925\n",
       "3   学生会館「ひいらぎ」  35.834304  139.954985\n",
       "4  麗澤大学生涯教育プラザ  35.831934  139.956880"
      ]
     },
     "execution_count": 7,
     "metadata": {},
     "output_type": "execute_result"
    }
   ],
   "source": [
    "# show only specific columns\n",
    "df[['name','latitude','longitude']]"
   ]
  },
  {
   "cell_type": "code",
   "execution_count": 8,
   "metadata": {},
   "outputs": [
    {
     "data": {
      "text/plain": [
       "0    139.955026\n",
       "1    139.955906\n",
       "2    139.955925\n",
       "3    139.954985\n",
       "4    139.956880\n",
       "Name: longitude, dtype: float64"
      ]
     },
     "execution_count": 8,
     "metadata": {},
     "output_type": "execute_result"
    }
   ],
   "source": [
    "# get values for a single column\n",
    "df['longitude']"
   ]
  },
  {
   "cell_type": "code",
   "execution_count": 9,
   "metadata": {},
   "outputs": [
    {
     "data": {
      "text/plain": [
       "[35.833049, 35.83220147, 35.83286248, 35.83430366, 35.83193431]"
      ]
     },
     "execution_count": 9,
     "metadata": {},
     "output_type": "execute_result"
    }
   ],
   "source": [
    "# put those values in a list\n",
    "df['latitude'].to_list()"
   ]
  },
  {
   "attachments": {},
   "cell_type": "markdown",
   "metadata": {},
   "source": [
    "### Charts\n",
    "\n",
    "`matplotlib` を使ってグラフを作成。"
   ]
  },
  {
   "cell_type": "code",
   "execution_count": 10,
   "metadata": {},
   "outputs": [
    {
     "data": {
      "text/plain": [
       "<Axes: >"
      ]
     },
     "execution_count": 10,
     "metadata": {},
     "output_type": "execute_result"
    },
    {
     "data": {
      "image/png": "[encoded data removed]",
      "text/plain": [
       "<Figure size 640x480 with 1 Axes>"
      ]
     },
     "metadata": {},
     "output_type": "display_data"
    }
   ],
   "source": [
    "# line chart\n",
    "df['latitude'].plot()"
   ]
  },
  {
   "cell_type": "code",
   "execution_count": 11,
   "metadata": {},
   "outputs": [
    {
     "data": {
      "text/plain": [
       "<Axes: >"
      ]
     },
     "execution_count": 11,
     "metadata": {},
     "output_type": "execute_result"
    },
    {
     "data": {
      "image/png": "[encoded data removed]",
      "text/plain": [
       "<Figure size 640x480 with 1 Axes>"
      ]
     },
     "metadata": {},
     "output_type": "display_data"
    }
   ],
   "source": [
    "# boxplot 箱ヒゲ図\n",
    "df['latitude'].plot.box(color='red')"
   ]
  },
  {
   "cell_type": "code",
   "execution_count": 12,
   "metadata": {},
   "outputs": [
    {
     "data": {
      "text/plain": [
       "<Axes: >"
      ]
     },
     "execution_count": 12,
     "metadata": {},
     "output_type": "execute_result"
    },
    {
     "data": {
      "image/png": "[encoded data removed]",
      "text/plain": [
       "<Figure size 640x480 with 1 Axes>"
      ]
     },
     "metadata": {},
     "output_type": "display_data"
    }
   ],
   "source": [
    "# bar graph\n",
    "df['latitude'].plot.bar(color='green')"
   ]
  },
  {
   "cell_type": "code",
   "execution_count": 13,
   "metadata": {},
   "outputs": [
    {
     "data": {
      "text/plain": [
       "<Axes: xlabel='longitude', ylabel='latitude'>"
      ]
     },
     "execution_count": 13,
     "metadata": {},
     "output_type": "execute_result"
    },
    {
     "data": {
      "image/png": "[encoded data removed]",
      "text/plain": [
       "<Figure size 640x480 with 1 Axes>"
      ]
     },
     "metadata": {},
     "output_type": "display_data"
    }
   ],
   "source": [
    "# scatterplot 散布図\n",
    "# ここの 'c' は df の変数の 'color' を指定\n",
    "# size(s) を変えてみよう\n",
    "df.plot.scatter(x='longitude',y='latitude',c='color',s=50)"
   ]
  },
  {
   "attachments": {},
   "cell_type": "markdown",
   "metadata": {},
   "source": [
    "### Statistics\n",
    "\n",
    "Pythonは簡単な統計もできます。"
   ]
  },
  {
   "cell_type": "code",
   "execution_count": 14,
   "metadata": {},
   "outputs": [
    {
     "data": {
      "text/plain": [
       "count     5.000000\n",
       "mean     35.832870\n",
       "std       0.000923\n",
       "min      35.831934\n",
       "25%      35.832201\n",
       "50%      35.832862\n",
       "75%      35.833049\n",
       "max      35.834304\n",
       "Name: latitude, dtype: float64"
      ]
     },
     "execution_count": 14,
     "metadata": {},
     "output_type": "execute_result"
    }
   ],
   "source": [
    "# summary stats\n",
    "df['latitude'].describe()"
   ]
  },
  {
   "cell_type": "code",
   "execution_count": 15,
   "metadata": {},
   "outputs": [
    {
     "data": {
      "text/plain": [
       "count      5.000000\n",
       "mean     139.955745\n",
       "std        0.000781\n",
       "min      139.954985\n",
       "25%      139.955026\n",
       "50%      139.955906\n",
       "75%      139.955925\n",
       "max      139.956880\n",
       "Name: longitude, dtype: float64"
      ]
     },
     "execution_count": 15,
     "metadata": {},
     "output_type": "execute_result"
    }
   ],
   "source": [
    "# summary stats\n",
    "df['longitude'].describe()"
   ]
  },
  {
   "cell_type": "code",
   "execution_count": 16,
   "metadata": {},
   "outputs": [
    {
     "data": {
      "text/plain": [
       "35.832870184"
      ]
     },
     "execution_count": 16,
     "metadata": {},
     "output_type": "execute_result"
    }
   ],
   "source": [
    "# mean 平均値\n",
    "df['latitude'].mean()"
   ]
  },
  {
   "cell_type": "code",
   "execution_count": 17,
   "metadata": {},
   "outputs": [
    {
     "data": {
      "text/plain": [
       "35.83286248"
      ]
     },
     "execution_count": 17,
     "metadata": {},
     "output_type": "execute_result"
    }
   ],
   "source": [
    "# median 中央値\n",
    "df['latitude'].median()"
   ]
  },
  {
   "attachments": {},
   "cell_type": "markdown",
   "metadata": {},
   "source": [
    "では統計を使って、`latitude` and `longitude` の平均値を変数に入れましょう。\n",
    "\n",
    "さて、この平均値は何を意味するのでしょうか？"
   ]
  },
  {
   "cell_type": "code",
   "execution_count": 18,
   "metadata": {},
   "outputs": [
    {
     "name": "stdout",
     "output_type": "stream",
     "text": [
      "35.832870184 139.95574458000002\n"
     ]
    }
   ],
   "source": [
    "# get center lat/lon\n",
    "center_lat = df['latitude'].mean()\n",
    "center_lon = df['longitude'].mean()\n",
    "\n",
    "print(center_lat,center_lon)"
   ]
  },
  {
   "attachments": {},
   "cell_type": "markdown",
   "metadata": {},
   "source": [
    "## Let's loop!\n",
    "\n",
    "プログラミングの基礎の一つである　`for loop`　があります。「ループ」の言葉通り、何かを【繰り返す】という意味である。\n"
   ]
  },
  {
   "cell_type": "code",
   "execution_count": 19,
   "metadata": {},
   "outputs": [
    {
     "name": "stdout",
     "output_type": "stream",
     "text": [
      "1\n",
      "4\n",
      "9\n",
      "16\n"
     ]
    }
   ],
   "source": [
    "# my students\n",
    "students = ['Akari','Chikashi','Hanxue','Kasumi']\n",
    "\n",
    "numbers = [1,2,3,4]\n",
    "\n",
    "# print their names\n",
    "for x in numbers:\n",
    "    print(x*x)"
   ]
  },
  {
   "attachments": {},
   "cell_type": "markdown",
   "metadata": {},
   "source": [
    "さて、この「ループ」の概念を使ってデータ `df` の１行ずつアウトプットするには `iterrows()` メソッドを使う。例えば、データの `name` を全部アウトプットするには："
   ]
  },
  {
   "cell_type": "code",
   "execution_count": 20,
   "metadata": {},
   "outputs": [
    {
     "name": "stdout",
     "output_type": "stream",
     "text": [
      "校舎「かえで」\n",
      "校舎「あすなろ」\n",
      "図書館\n",
      "学生会館「ひいらぎ」\n",
      "麗澤大学生涯教育プラザ\n"
     ]
    }
   ],
   "source": [
    "# loop through your data\n",
    "for index, row in df.iterrows():\n",
    "    print(row['name'])"
   ]
  },
  {
   "attachments": {},
   "cell_type": "markdown",
   "metadata": {},
   "source": [
    "このように、`row` の変数は【各行】を意味するので、`for loop` に入っているときは変数名と共に各行の値をアウトプットすることができる。複数の変数をアウトプットも可能："
   ]
  },
  {
   "cell_type": "code",
   "execution_count": 21,
   "metadata": {},
   "outputs": [
    {
     "name": "stdout",
     "output_type": "stream",
     "text": [
      "校舎「かえで」 35.833049 139.9550264\n",
      "校舎「あすなろ」 35.83220147 139.9559064\n",
      "図書館 35.83286248 139.9559251\n",
      "学生会館「ひいらぎ」 35.83430366 139.9549849\n",
      "麗澤大学生涯教育プラザ 35.83193431 139.9568801\n"
     ]
    }
   ],
   "source": [
    "# loop and output multiple column values\n",
    "for index, row in df.iterrows():\n",
    "    print(row['name'],row['latitude'],row['longitude'])"
   ]
  },
  {
   "attachments": {},
   "cell_type": "markdown",
   "metadata": {},
   "source": [
    "### Use the loop in a map\n",
    "\n",
    "それでは、`for loop` を使って、`df` のポイントを一気にマッピングしよう。"
   ]
  },
  {
   "cell_type": "code",
   "execution_count": 22,
   "metadata": {},
   "outputs": [
    {
     "data": {
      "text/html": [
       "<div style=\"width:100%;\"><div style=\"position:relative;width:100%;height:0;padding-bottom:60%;\"><span style=\"color:#565656\">Make this Notebook Trusted to load map: File -> Trust Notebook</span><iframe srcdoc=\"&lt;!DOCTYPE html&gt;\n",
       "&lt;html&gt;\n",
       "&lt;head&gt;\n",
       "    \n",
       "    &lt;meta http-equiv=&quot;content-type&quot; content=&quot;text/html; charset=UTF-8&quot; /&gt;\n",
       "    \n",
       "        &lt;script&gt;\n",
       "            L_NO_TOUCH = false;\n",
       "            L_DISABLE_3D = false;\n",
       "        &lt;/script&gt;\n",
       "    \n",
       "    &lt;style&gt;html, body {width: 100%;height: 100%;margin: 0;padding: 0;}&lt;/style&gt;\n",
       "    &lt;style&gt;#map {position:absolute;top:0;bottom:0;right:0;left:0;}&lt;/style&gt;\n",
       "    &lt;script src=&quot;https://cdn.jsdelivr.net/npm/leaflet@1.9.3/dist/leaflet.js&quot;&gt;&lt;/script&gt;\n",
       "    &lt;script src=&quot;https://code.jquery.com/jquery-1.12.4.min.js&quot;&gt;&lt;/script&gt;\n",
       "    &lt;script src=&quot;https://cdn.jsdelivr.net/npm/bootstrap@5.2.2/dist/js/bootstrap.bundle.min.js&quot;&gt;&lt;/script&gt;\n",
       "    &lt;script src=&quot;https://cdnjs.cloudflare.com/ajax/libs/Leaflet.awesome-markers/2.0.2/leaflet.awesome-markers.js&quot;&gt;&lt;/script&gt;\n",
       "    &lt;link rel=&quot;stylesheet&quot; href=&quot;https://cdn.jsdelivr.net/npm/leaflet@1.9.3/dist/leaflet.css&quot;/&gt;\n",
       "    &lt;link rel=&quot;stylesheet&quot; href=&quot;https://cdn.jsdelivr.net/npm/bootstrap@5.2.2/dist/css/bootstrap.min.css&quot;/&gt;\n",
       "    &lt;link rel=&quot;stylesheet&quot; href=&quot;https://netdna.bootstrapcdn.com/bootstrap/3.0.0/css/bootstrap.min.css&quot;/&gt;\n",
       "    &lt;link rel=&quot;stylesheet&quot; href=&quot;https://cdn.jsdelivr.net/npm/@fortawesome/fontawesome-free@6.2.0/css/all.min.css&quot;/&gt;\n",
       "    &lt;link rel=&quot;stylesheet&quot; href=&quot;https://cdnjs.cloudflare.com/ajax/libs/Leaflet.awesome-markers/2.0.2/leaflet.awesome-markers.css&quot;/&gt;\n",
       "    &lt;link rel=&quot;stylesheet&quot; href=&quot;https://cdn.jsdelivr.net/gh/python-visualization/folium/folium/templates/leaflet.awesome.rotate.min.css&quot;/&gt;\n",
       "    \n",
       "            &lt;meta name=&quot;viewport&quot; content=&quot;width=device-width,\n",
       "                initial-scale=1.0, maximum-scale=1.0, user-scalable=no&quot; /&gt;\n",
       "            &lt;style&gt;\n",
       "                #map_014a1e598f3707eadd34b19581bb550e {\n",
       "                    position: relative;\n",
       "                    width: 100.0%;\n",
       "                    height: 100.0%;\n",
       "                    left: 0.0%;\n",
       "                    top: 0.0%;\n",
       "                }\n",
       "                .leaflet-container { font-size: 1rem; }\n",
       "            &lt;/style&gt;\n",
       "        \n",
       "&lt;/head&gt;\n",
       "&lt;body&gt;\n",
       "    \n",
       "    \n",
       "            &lt;div class=&quot;folium-map&quot; id=&quot;map_014a1e598f3707eadd34b19581bb550e&quot; &gt;&lt;/div&gt;\n",
       "        \n",
       "&lt;/body&gt;\n",
       "&lt;script&gt;\n",
       "    \n",
       "    \n",
       "            var map_014a1e598f3707eadd34b19581bb550e = L.map(\n",
       "                &quot;map_014a1e598f3707eadd34b19581bb550e&quot;,\n",
       "                {\n",
       "                    center: [35.832870184, 139.95574458000002],\n",
       "                    crs: L.CRS.EPSG3857,\n",
       "                    zoom: 17,\n",
       "                    zoomControl: true,\n",
       "                    preferCanvas: false,\n",
       "                }\n",
       "            );\n",
       "\n",
       "            \n",
       "\n",
       "        \n",
       "    \n",
       "            var tile_layer_ba362f6536f4982f31b5773aba0df080 = L.tileLayer(\n",
       "                &quot;https://{s}.tile.openstreetmap.org/{z}/{x}/{y}.png&quot;,\n",
       "                {&quot;attribution&quot;: &quot;Data by \\u0026copy; \\u003ca target=\\&quot;_blank\\&quot; href=\\&quot;http://openstreetmap.org\\&quot;\\u003eOpenStreetMap\\u003c/a\\u003e, under \\u003ca target=\\&quot;_blank\\&quot; href=\\&quot;http://www.openstreetmap.org/copyright\\&quot;\\u003eODbL\\u003c/a\\u003e.&quot;, &quot;detectRetina&quot;: false, &quot;maxNativeZoom&quot;: 18, &quot;maxZoom&quot;: 18, &quot;minZoom&quot;: 0, &quot;noWrap&quot;: false, &quot;opacity&quot;: 1, &quot;subdomains&quot;: &quot;abc&quot;, &quot;tms&quot;: false}\n",
       "            ).addTo(map_014a1e598f3707eadd34b19581bb550e);\n",
       "        \n",
       "    \n",
       "            var marker_882a740a110bb323fcdae28e95fc819e = L.marker(\n",
       "                [35.833049, 139.9550264],\n",
       "                {}\n",
       "            ).addTo(map_014a1e598f3707eadd34b19581bb550e);\n",
       "        \n",
       "    \n",
       "            var icon_61162a42a0a9bf432b83ddb17bb29324 = L.AwesomeMarkers.icon(\n",
       "                {&quot;extraClasses&quot;: &quot;fa-rotate-0&quot;, &quot;icon&quot;: &quot;info-sign&quot;, &quot;iconColor&quot;: &quot;white&quot;, &quot;markerColor&quot;: &quot;green&quot;, &quot;prefix&quot;: &quot;glyphicon&quot;}\n",
       "            );\n",
       "            marker_882a740a110bb323fcdae28e95fc819e.setIcon(icon_61162a42a0a9bf432b83ddb17bb29324);\n",
       "        \n",
       "    \n",
       "        var popup_5a33a979fccfdb329151c856891b0a7b = L.popup({&quot;maxWidth&quot;: &quot;100%&quot;});\n",
       "\n",
       "        \n",
       "            \n",
       "                var html_7104d8ea5052bd9df6c126cb4d2de2b5 = $(`&lt;div id=&quot;html_7104d8ea5052bd9df6c126cb4d2de2b5&quot; style=&quot;width: 100.0%; height: 100.0%;&quot;&gt;&lt;div style=&quot;width:350px&quot;&gt;校舎名の「かえで」には「楓の果実が2つの種子が密着した姿で、それぞれから翼が伸びる翼果であることから、仲間同士で切磋琢磨し合い、成長を遂げていくことができる人材の育成を行う」という願いが込められています。&lt;/div&gt;&lt;/div&gt;`)[0];\n",
       "                popup_5a33a979fccfdb329151c856891b0a7b.setContent(html_7104d8ea5052bd9df6c126cb4d2de2b5);\n",
       "            \n",
       "        \n",
       "\n",
       "        marker_882a740a110bb323fcdae28e95fc819e.bindPopup(popup_5a33a979fccfdb329151c856891b0a7b)\n",
       "        ;\n",
       "\n",
       "        \n",
       "    \n",
       "    \n",
       "            marker_882a740a110bb323fcdae28e95fc819e.bindTooltip(\n",
       "                `&lt;div&gt;\n",
       "                     校舎「かえで」\n",
       "                 &lt;/div&gt;`,\n",
       "                {&quot;sticky&quot;: true}\n",
       "            );\n",
       "        \n",
       "    \n",
       "            var marker_b3ff465241972c1de1a8de9b83bf02c2 = L.marker(\n",
       "                [35.83220147, 139.9559064],\n",
       "                {}\n",
       "            ).addTo(map_014a1e598f3707eadd34b19581bb550e);\n",
       "        \n",
       "    \n",
       "            var icon_7f890e5e6f04c9b2bb80ae25a2e1d8c9 = L.AwesomeMarkers.icon(\n",
       "                {&quot;extraClasses&quot;: &quot;fa-rotate-0&quot;, &quot;icon&quot;: &quot;info-sign&quot;, &quot;iconColor&quot;: &quot;white&quot;, &quot;markerColor&quot;: &quot;green&quot;, &quot;prefix&quot;: &quot;glyphicon&quot;}\n",
       "            );\n",
       "            marker_b3ff465241972c1de1a8de9b83bf02c2.setIcon(icon_7f890e5e6f04c9b2bb80ae25a2e1d8c9);\n",
       "        \n",
       "    \n",
       "        var popup_a6062e0454cd1602e077dba39ea8ce00 = L.popup({&quot;maxWidth&quot;: &quot;100%&quot;});\n",
       "\n",
       "        \n",
       "            \n",
       "                var html_786e447f64e675a6cdeb0fd7e2c25aed = $(`&lt;div id=&quot;html_786e447f64e675a6cdeb0fd7e2c25aed&quot; style=&quot;width: 100.0%; height: 100.0%;&quot;&gt;&lt;div style=&quot;width:350px&quot;&gt;麗澤大学開学50周年記念事業の一環として2011年4月&quot;森と共生するキャンパス&quot;をコンセプトに建設された校舎「あすなろ」。このコンセプトが高く評価され、2012年度グッドデザイン賞を受賞しました。&lt;/div&gt;&lt;/div&gt;`)[0];\n",
       "                popup_a6062e0454cd1602e077dba39ea8ce00.setContent(html_786e447f64e675a6cdeb0fd7e2c25aed);\n",
       "            \n",
       "        \n",
       "\n",
       "        marker_b3ff465241972c1de1a8de9b83bf02c2.bindPopup(popup_a6062e0454cd1602e077dba39ea8ce00)\n",
       "        ;\n",
       "\n",
       "        \n",
       "    \n",
       "    \n",
       "            marker_b3ff465241972c1de1a8de9b83bf02c2.bindTooltip(\n",
       "                `&lt;div&gt;\n",
       "                     校舎「あすなろ」\n",
       "                 &lt;/div&gt;`,\n",
       "                {&quot;sticky&quot;: true}\n",
       "            );\n",
       "        \n",
       "    \n",
       "            var marker_45c33f9df977b3414055f5cfba1adf96 = L.marker(\n",
       "                [35.83286248, 139.9559251],\n",
       "                {}\n",
       "            ).addTo(map_014a1e598f3707eadd34b19581bb550e);\n",
       "        \n",
       "    \n",
       "            var icon_a777be345c3fb71825c376b51791ca00 = L.AwesomeMarkers.icon(\n",
       "                {&quot;extraClasses&quot;: &quot;fa-rotate-0&quot;, &quot;icon&quot;: &quot;info-sign&quot;, &quot;iconColor&quot;: &quot;white&quot;, &quot;markerColor&quot;: &quot;green&quot;, &quot;prefix&quot;: &quot;glyphicon&quot;}\n",
       "            );\n",
       "            marker_45c33f9df977b3414055f5cfba1adf96.setIcon(icon_a777be345c3fb71825c376b51791ca00);\n",
       "        \n",
       "    \n",
       "        var popup_343d6c4ca5474a2b828d5001462a6bb1 = L.popup({&quot;maxWidth&quot;: &quot;100%&quot;});\n",
       "\n",
       "        \n",
       "            \n",
       "                var html_2280abdd1bd5efdc950b57e7bdb59866 = $(`&lt;div id=&quot;html_2280abdd1bd5efdc950b57e7bdb59866&quot; style=&quot;width: 100.0%; height: 100.0%;&quot;&gt;&lt;div style=&quot;width:350px&quot;&gt;AVホール・CALL教室を持ち、授業開講時は8:50から19:00（閉講期間中は9:00から16:45）まで利用可能。開架式を採用しており、貴重書を除くほとんどの資料を、自由に閲覧することができます。&lt;br&gt;&lt;br&gt;\n",
       " 開館時間は8：50～19：00（月～金）&lt;br&gt;\n",
       " ※授業閉講時は9：00～16：45まで開館（月～金）&lt;/div&gt;&lt;/div&gt;`)[0];\n",
       "                popup_343d6c4ca5474a2b828d5001462a6bb1.setContent(html_2280abdd1bd5efdc950b57e7bdb59866);\n",
       "            \n",
       "        \n",
       "\n",
       "        marker_45c33f9df977b3414055f5cfba1adf96.bindPopup(popup_343d6c4ca5474a2b828d5001462a6bb1)\n",
       "        ;\n",
       "\n",
       "        \n",
       "    \n",
       "    \n",
       "            marker_45c33f9df977b3414055f5cfba1adf96.bindTooltip(\n",
       "                `&lt;div&gt;\n",
       "                     図書館\n",
       "                 &lt;/div&gt;`,\n",
       "                {&quot;sticky&quot;: true}\n",
       "            );\n",
       "        \n",
       "    \n",
       "            var marker_cd67e18bece5acb8bec5d782dcd6df77 = L.marker(\n",
       "                [35.83430366, 139.9549849],\n",
       "                {}\n",
       "            ).addTo(map_014a1e598f3707eadd34b19581bb550e);\n",
       "        \n",
       "    \n",
       "            var icon_45bed5906425bedaf1f45ec51e81f1bf = L.AwesomeMarkers.icon(\n",
       "                {&quot;extraClasses&quot;: &quot;fa-rotate-0&quot;, &quot;icon&quot;: &quot;info-sign&quot;, &quot;iconColor&quot;: &quot;white&quot;, &quot;markerColor&quot;: &quot;orange&quot;, &quot;prefix&quot;: &quot;glyphicon&quot;}\n",
       "            );\n",
       "            marker_cd67e18bece5acb8bec5d782dcd6df77.setIcon(icon_45bed5906425bedaf1f45ec51e81f1bf);\n",
       "        \n",
       "    \n",
       "        var popup_208fd3bb8bfa3ce95802dab9f2993df1 = L.popup({&quot;maxWidth&quot;: &quot;100%&quot;});\n",
       "\n",
       "        \n",
       "            \n",
       "                var html_fed017132d3ea548b330fd9837986dc3 = $(`&lt;div id=&quot;html_fed017132d3ea548b330fd9837986dc3&quot; style=&quot;width: 100.0%; height: 100.0%;&quot;&gt;&lt;div style=&quot;width:350px&quot;&gt;2022年9月にリニューアルオープン。木目とグリーンを基調としたアットホームな雰囲気で、窓から見える「緑」の景色とも調和した作りとなっています。「1人席」や「ソファ席」、「ベンチ席」、「ミーティングルーム」等の様々な空間で過ごせるような工夫がされています。\n",
       " 2階にはカフェコーナーを設置し、焼き立てパン、淹れ立てコーヒー、サーティーワンアイスが購入できます。&lt;/div&gt;&lt;/div&gt;`)[0];\n",
       "                popup_208fd3bb8bfa3ce95802dab9f2993df1.setContent(html_fed017132d3ea548b330fd9837986dc3);\n",
       "            \n",
       "        \n",
       "\n",
       "        marker_cd67e18bece5acb8bec5d782dcd6df77.bindPopup(popup_208fd3bb8bfa3ce95802dab9f2993df1)\n",
       "        ;\n",
       "\n",
       "        \n",
       "    \n",
       "    \n",
       "            marker_cd67e18bece5acb8bec5d782dcd6df77.bindTooltip(\n",
       "                `&lt;div&gt;\n",
       "                     学生会館「ひいらぎ」\n",
       "                 &lt;/div&gt;`,\n",
       "                {&quot;sticky&quot;: true}\n",
       "            );\n",
       "        \n",
       "    \n",
       "            var marker_f0bdb6f860c2b5d4a0b360eadc881247 = L.marker(\n",
       "                [35.83193431, 139.9568801],\n",
       "                {}\n",
       "            ).addTo(map_014a1e598f3707eadd34b19581bb550e);\n",
       "        \n",
       "    \n",
       "            var icon_75d6a8582a77f36230e0b24395918e40 = L.AwesomeMarkers.icon(\n",
       "                {&quot;extraClasses&quot;: &quot;fa-rotate-0&quot;, &quot;icon&quot;: &quot;info-sign&quot;, &quot;iconColor&quot;: &quot;white&quot;, &quot;markerColor&quot;: &quot;green&quot;, &quot;prefix&quot;: &quot;glyphicon&quot;}\n",
       "            );\n",
       "            marker_f0bdb6f860c2b5d4a0b360eadc881247.setIcon(icon_75d6a8582a77f36230e0b24395918e40);\n",
       "        \n",
       "    \n",
       "        var popup_3ef5f78e4f6313a77754b4ffd6c37520 = L.popup({&quot;maxWidth&quot;: &quot;100%&quot;});\n",
       "\n",
       "        \n",
       "            \n",
       "                var html_0d6c48e81a22e3a086e9283317639b00 = $(`&lt;div id=&quot;html_0d6c48e81a22e3a086e9283317639b00&quot; style=&quot;width: 100.0%; height: 100.0%;&quot;&gt;&lt;div style=&quot;width:350px&quot;&gt;2006年（平成18年）2月竣工。大学院、研究センター、情報システム部、麗澤オープンカレッジが入る複合施設。教育活動、研究活動、社会貢献活動を積極的に推進し、これからの生涯学習への需要に的確に応えていくことを目的とした建物です。&lt;/div&gt;&lt;/div&gt;`)[0];\n",
       "                popup_3ef5f78e4f6313a77754b4ffd6c37520.setContent(html_0d6c48e81a22e3a086e9283317639b00);\n",
       "            \n",
       "        \n",
       "\n",
       "        marker_f0bdb6f860c2b5d4a0b360eadc881247.bindPopup(popup_3ef5f78e4f6313a77754b4ffd6c37520)\n",
       "        ;\n",
       "\n",
       "        \n",
       "    \n",
       "    \n",
       "            marker_f0bdb6f860c2b5d4a0b360eadc881247.bindTooltip(\n",
       "                `&lt;div&gt;\n",
       "                     麗澤大学生涯教育プラザ\n",
       "                 &lt;/div&gt;`,\n",
       "                {&quot;sticky&quot;: true}\n",
       "            );\n",
       "        \n",
       "&lt;/script&gt;\n",
       "&lt;/html&gt;\" style=\"position:absolute;width:100%;height:100%;left:0;top:0;border:none !important;\" allowfullscreen webkitallowfullscreen mozallowfullscreen></iframe></div></div>"
      ],
      "text/plain": [
       "<folium.folium.Map at 0x1a8e21a6d10>"
      ]
     },
     "execution_count": 22,
     "metadata": {},
     "output_type": "execute_result"
    }
   ],
   "source": [
    "# make the map\n",
    "m = folium.Map(location=[center_lat,center_lon], zoom_start=17)\n",
    "\n",
    "# df をループしてマーカーを作る\n",
    "for index, row in df.iterrows():\n",
    "    latlon = [row['latitude'],row['longitude']]\n",
    "    folium.Marker(latlon, \n",
    "                  popup='<div style=\"width:350px\">'+row['description']+'</div>', \n",
    "                  tooltip=row['name'],\n",
    "                  icon=folium.Icon(color=row['color']\n",
    "                )).add_to(m)\n",
    "\n",
    "# show the map\n",
    "m"
   ]
  },
  {
   "attachments": {},
   "cell_type": "markdown",
   "metadata": {},
   "source": [
    "`popup` の値に注目！そうなんです。日本語のテキストだと、popupが縦に表示されるため、これを回避するにはテキストの周りにHTMLで強引に `width` を設定します。\n",
    "\n",
    "<img src=\"https://raw.githubusercontent.com/yohman/23-1-Reitaku-GIS/main/Weeks/Week06/images/tate%20to%20yoko.png\" width=\"400\">"
   ]
  },
  {
   "attachments": {},
   "cell_type": "markdown",
   "metadata": {},
   "source": [
    "### Basemap 色々\n",
    "\n",
    "デフォルトで使うベースマップは Open Street Map から。でも他にもオプションがいっぱいある。`folium` でマップを作るときに `tiles` と `attr` を指定することによってベースマップの変更が可能になる。\n",
    "\n",
    "日本では国土交通省の国土地理院が様々なベースマップを提供している。以下のURLを `tiles` 変数に指定する。`attr` は `attribute` の略なので、必ず出所を指定する。この場合は `attr=\"国土地理院\"`\n",
    "\n",
    "2007年以降\n",
    "- https://cyberjapandata.gsi.go.jp/xyz/seamlessphoto/{z}/{x}/{y}.jpg\n",
    "\n",
    "1987年～1990年\n",
    "- https://cyberjapandata.gsi.go.jp/xyz/gazo4/{z}/{x}/{y}.jpg\n",
    "\n",
    "1984年～1986年\n",
    "- https://cyberjapandata.gsi.go.jp/xyz/gazo3/{z}/{x}/{y}.jpg\n",
    "\n",
    "1979年～1983年\n",
    "- https://cyberjapandata.gsi.go.jp/xyz/gazo2/{z}/{x}/{y}.jpg\n",
    "\n",
    "1974年～1978年\n",
    "- https://cyberjapandata.gsi.go.jp/xyz/gazo1/{z}/{x}/{y}.jpg\n",
    "\n",
    "1961年～1969年\n",
    "- https://cyberjapandata.gsi.go.jp/xyz/ort_old10/{z}/{x}/{y}.png\n"
   ]
  },
  {
   "cell_type": "code",
   "execution_count": 23,
   "metadata": {},
   "outputs": [
    {
     "data": {
      "text/html": [
       "<div style=\"width:100%;\"><div style=\"position:relative;width:100%;height:0;padding-bottom:60%;\"><span style=\"color:#565656\">Make this Notebook Trusted to load map: File -> Trust Notebook</span><iframe srcdoc=\"&lt;!DOCTYPE html&gt;\n",
       "&lt;html&gt;\n",
       "&lt;head&gt;\n",
       "    \n",
       "    &lt;meta http-equiv=&quot;content-type&quot; content=&quot;text/html; charset=UTF-8&quot; /&gt;\n",
       "    \n",
       "        &lt;script&gt;\n",
       "            L_NO_TOUCH = false;\n",
       "            L_DISABLE_3D = false;\n",
       "        &lt;/script&gt;\n",
       "    \n",
       "    &lt;style&gt;html, body {width: 100%;height: 100%;margin: 0;padding: 0;}&lt;/style&gt;\n",
       "    &lt;style&gt;#map {position:absolute;top:0;bottom:0;right:0;left:0;}&lt;/style&gt;\n",
       "    &lt;script src=&quot;https://cdn.jsdelivr.net/npm/leaflet@1.9.3/dist/leaflet.js&quot;&gt;&lt;/script&gt;\n",
       "    &lt;script src=&quot;https://code.jquery.com/jquery-1.12.4.min.js&quot;&gt;&lt;/script&gt;\n",
       "    &lt;script src=&quot;https://cdn.jsdelivr.net/npm/bootstrap@5.2.2/dist/js/bootstrap.bundle.min.js&quot;&gt;&lt;/script&gt;\n",
       "    &lt;script src=&quot;https://cdnjs.cloudflare.com/ajax/libs/Leaflet.awesome-markers/2.0.2/leaflet.awesome-markers.js&quot;&gt;&lt;/script&gt;\n",
       "    &lt;link rel=&quot;stylesheet&quot; href=&quot;https://cdn.jsdelivr.net/npm/leaflet@1.9.3/dist/leaflet.css&quot;/&gt;\n",
       "    &lt;link rel=&quot;stylesheet&quot; href=&quot;https://cdn.jsdelivr.net/npm/bootstrap@5.2.2/dist/css/bootstrap.min.css&quot;/&gt;\n",
       "    &lt;link rel=&quot;stylesheet&quot; href=&quot;https://netdna.bootstrapcdn.com/bootstrap/3.0.0/css/bootstrap.min.css&quot;/&gt;\n",
       "    &lt;link rel=&quot;stylesheet&quot; href=&quot;https://cdn.jsdelivr.net/npm/@fortawesome/fontawesome-free@6.2.0/css/all.min.css&quot;/&gt;\n",
       "    &lt;link rel=&quot;stylesheet&quot; href=&quot;https://cdnjs.cloudflare.com/ajax/libs/Leaflet.awesome-markers/2.0.2/leaflet.awesome-markers.css&quot;/&gt;\n",
       "    &lt;link rel=&quot;stylesheet&quot; href=&quot;https://cdn.jsdelivr.net/gh/python-visualization/folium/folium/templates/leaflet.awesome.rotate.min.css&quot;/&gt;\n",
       "    \n",
       "            &lt;meta name=&quot;viewport&quot; content=&quot;width=device-width,\n",
       "                initial-scale=1.0, maximum-scale=1.0, user-scalable=no&quot; /&gt;\n",
       "            &lt;style&gt;\n",
       "                #map_c7a76c3c411ed83cfaf447a33f433cd3 {\n",
       "                    position: relative;\n",
       "                    width: 100.0%;\n",
       "                    height: 100.0%;\n",
       "                    left: 0.0%;\n",
       "                    top: 0.0%;\n",
       "                }\n",
       "                .leaflet-container { font-size: 1rem; }\n",
       "            &lt;/style&gt;\n",
       "        \n",
       "&lt;/head&gt;\n",
       "&lt;body&gt;\n",
       "    \n",
       "    \n",
       "            &lt;div class=&quot;folium-map&quot; id=&quot;map_c7a76c3c411ed83cfaf447a33f433cd3&quot; &gt;&lt;/div&gt;\n",
       "        \n",
       "&lt;/body&gt;\n",
       "&lt;script&gt;\n",
       "    \n",
       "    \n",
       "            var map_c7a76c3c411ed83cfaf447a33f433cd3 = L.map(\n",
       "                &quot;map_c7a76c3c411ed83cfaf447a33f433cd3&quot;,\n",
       "                {\n",
       "                    center: [35.832870184, 139.95574458000002],\n",
       "                    crs: L.CRS.EPSG3857,\n",
       "                    zoom: 17,\n",
       "                    zoomControl: true,\n",
       "                    preferCanvas: false,\n",
       "                }\n",
       "            );\n",
       "\n",
       "            \n",
       "\n",
       "        \n",
       "    \n",
       "            var tile_layer_fc6634c6f1b79cf2fbf4ce0ea5981de9 = L.tileLayer(\n",
       "                &quot;https://{s}.tile.openstreetmap.org/{z}/{x}/{y}.png&quot;,\n",
       "                {&quot;attribution&quot;: &quot;Data by \\u0026copy; \\u003ca target=\\&quot;_blank\\&quot; href=\\&quot;http://openstreetmap.org\\&quot;\\u003eOpenStreetMap\\u003c/a\\u003e, under \\u003ca target=\\&quot;_blank\\&quot; href=\\&quot;http://www.openstreetmap.org/copyright\\&quot;\\u003eODbL\\u003c/a\\u003e.&quot;, &quot;detectRetina&quot;: false, &quot;maxNativeZoom&quot;: 18, &quot;maxZoom&quot;: 18, &quot;minZoom&quot;: 0, &quot;noWrap&quot;: false, &quot;opacity&quot;: 1, &quot;subdomains&quot;: &quot;abc&quot;, &quot;tms&quot;: false}\n",
       "            ).addTo(map_c7a76c3c411ed83cfaf447a33f433cd3);\n",
       "        \n",
       "    \n",
       "            var tile_layer_74928b3ff47db796884cfa013fe230bb = L.tileLayer(\n",
       "                &quot;https://cyberjapandata.gsi.go.jp/xyz/seamlessphoto/{z}/{x}/{y}.jpg&quot;,\n",
       "                {&quot;attribution&quot;: &quot;\\u56fd\\u571f\\u5730\\u7406\\u9662&quot;, &quot;detectRetina&quot;: false, &quot;maxNativeZoom&quot;: 18, &quot;maxZoom&quot;: 18, &quot;minZoom&quot;: 0, &quot;noWrap&quot;: false, &quot;opacity&quot;: 1, &quot;subdomains&quot;: &quot;abc&quot;, &quot;tms&quot;: false}\n",
       "            ).addTo(map_c7a76c3c411ed83cfaf447a33f433cd3);\n",
       "        \n",
       "    \n",
       "            var tile_layer_644a9a4acad14d754ddb447eb8bbb4c0 = L.tileLayer(\n",
       "                &quot;https://cyberjapandata.gsi.go.jp/xyz/gazo4/{z}/{x}/{y}.jpg&quot;,\n",
       "                {&quot;attribution&quot;: &quot;\\u56fd\\u571f\\u5730\\u7406\\u9662&quot;, &quot;detectRetina&quot;: false, &quot;maxNativeZoom&quot;: 18, &quot;maxZoom&quot;: 18, &quot;minZoom&quot;: 0, &quot;noWrap&quot;: false, &quot;opacity&quot;: 1, &quot;subdomains&quot;: &quot;abc&quot;, &quot;tms&quot;: false}\n",
       "            ).addTo(map_c7a76c3c411ed83cfaf447a33f433cd3);\n",
       "        \n",
       "    \n",
       "            var tile_layer_750f39389450069f6adb8c9bdf1edabb = L.tileLayer(\n",
       "                &quot;https://cyberjapandata.gsi.go.jp/xyz/gazo3/{z}/{x}/{y}.jpg&quot;,\n",
       "                {&quot;attribution&quot;: &quot;\\u56fd\\u571f\\u5730\\u7406\\u9662&quot;, &quot;detectRetina&quot;: false, &quot;maxNativeZoom&quot;: 18, &quot;maxZoom&quot;: 18, &quot;minZoom&quot;: 0, &quot;noWrap&quot;: false, &quot;opacity&quot;: 1, &quot;subdomains&quot;: &quot;abc&quot;, &quot;tms&quot;: false}\n",
       "            ).addTo(map_c7a76c3c411ed83cfaf447a33f433cd3);\n",
       "        \n",
       "    \n",
       "            var tile_layer_db2f8f4400728c0c721b772cfcbf46cd = L.tileLayer(\n",
       "                &quot;https://cyberjapandata.gsi.go.jp/xyz/gazo2/{z}/{x}/{y}.jpg&quot;,\n",
       "                {&quot;attribution&quot;: &quot;\\u56fd\\u571f\\u5730\\u7406\\u9662&quot;, &quot;detectRetina&quot;: false, &quot;maxNativeZoom&quot;: 18, &quot;maxZoom&quot;: 18, &quot;minZoom&quot;: 0, &quot;noWrap&quot;: false, &quot;opacity&quot;: 1, &quot;subdomains&quot;: &quot;abc&quot;, &quot;tms&quot;: false}\n",
       "            ).addTo(map_c7a76c3c411ed83cfaf447a33f433cd3);\n",
       "        \n",
       "    \n",
       "            var tile_layer_97604ce121e3641183960cadbb57119b = L.tileLayer(\n",
       "                &quot;https://cyberjapandata.gsi.go.jp/xyz/gazo1/{z}/{x}/{y}.jpg&quot;,\n",
       "                {&quot;attribution&quot;: &quot;\\u56fd\\u571f\\u5730\\u7406\\u9662&quot;, &quot;detectRetina&quot;: false, &quot;maxNativeZoom&quot;: 18, &quot;maxZoom&quot;: 18, &quot;minZoom&quot;: 0, &quot;noWrap&quot;: false, &quot;opacity&quot;: 1, &quot;subdomains&quot;: &quot;abc&quot;, &quot;tms&quot;: false}\n",
       "            ).addTo(map_c7a76c3c411ed83cfaf447a33f433cd3);\n",
       "        \n",
       "    \n",
       "            var tile_layer_5c7114fa7fcb0835facce96a7699bf13 = L.tileLayer(\n",
       "                &quot;https://cyberjapandata.gsi.go.jp/xyz/ort_old10/{z}/{x}/{y}.png&quot;,\n",
       "                {&quot;attribution&quot;: &quot;\\u56fd\\u571f\\u5730\\u7406\\u9662&quot;, &quot;detectRetina&quot;: false, &quot;maxNativeZoom&quot;: 18, &quot;maxZoom&quot;: 18, &quot;minZoom&quot;: 0, &quot;noWrap&quot;: false, &quot;opacity&quot;: 1, &quot;subdomains&quot;: &quot;abc&quot;, &quot;tms&quot;: false}\n",
       "            ).addTo(map_c7a76c3c411ed83cfaf447a33f433cd3);\n",
       "        \n",
       "    \n",
       "            var layer_control_17063972341a1eb7010d563b96d3bf19 = {\n",
       "                base_layers : {\n",
       "                    &quot;openstreetmap&quot; : tile_layer_fc6634c6f1b79cf2fbf4ce0ea5981de9,\n",
       "                    &quot;2007\\u5e74\\u4ee5\\u964d&quot; : tile_layer_74928b3ff47db796884cfa013fe230bb,\n",
       "                    &quot;1987\\u5e74\\uff5e1990\\u5e74&quot; : tile_layer_644a9a4acad14d754ddb447eb8bbb4c0,\n",
       "                    &quot;1984\\u5e74\\uff5e1986\\u5e74&quot; : tile_layer_750f39389450069f6adb8c9bdf1edabb,\n",
       "                    &quot;1979\\u5e74\\uff5e1983\\u5e74&quot; : tile_layer_db2f8f4400728c0c721b772cfcbf46cd,\n",
       "                    &quot;1974\\u5e74\\uff5e1978\\u5e74&quot; : tile_layer_97604ce121e3641183960cadbb57119b,\n",
       "                    &quot;1961\\u5e74\\uff5e1969\\u5e74&quot; : tile_layer_5c7114fa7fcb0835facce96a7699bf13,\n",
       "                },\n",
       "                overlays :  {\n",
       "                },\n",
       "            };\n",
       "            L.control.layers(\n",
       "                layer_control_17063972341a1eb7010d563b96d3bf19.base_layers,\n",
       "                layer_control_17063972341a1eb7010d563b96d3bf19.overlays,\n",
       "                {&quot;autoZIndex&quot;: true, &quot;collapsed&quot;: true, &quot;position&quot;: &quot;topright&quot;}\n",
       "            ).addTo(map_c7a76c3c411ed83cfaf447a33f433cd3);\n",
       "            tile_layer_74928b3ff47db796884cfa013fe230bb.remove();\n",
       "            tile_layer_644a9a4acad14d754ddb447eb8bbb4c0.remove();\n",
       "            tile_layer_750f39389450069f6adb8c9bdf1edabb.remove();\n",
       "            tile_layer_db2f8f4400728c0c721b772cfcbf46cd.remove();\n",
       "            tile_layer_97604ce121e3641183960cadbb57119b.remove();\n",
       "            tile_layer_5c7114fa7fcb0835facce96a7699bf13.remove();\n",
       "        \n",
       "    \n",
       "            var marker_8b7fc33556112040cc19b97c945f043b = L.marker(\n",
       "                [35.833049, 139.9550264],\n",
       "                {}\n",
       "            ).addTo(map_c7a76c3c411ed83cfaf447a33f433cd3);\n",
       "        \n",
       "    \n",
       "            var icon_743cb0519634ed1c69687324006e685b = L.AwesomeMarkers.icon(\n",
       "                {&quot;extraClasses&quot;: &quot;fa-rotate-0&quot;, &quot;icon&quot;: &quot;info-sign&quot;, &quot;iconColor&quot;: &quot;white&quot;, &quot;markerColor&quot;: &quot;green&quot;, &quot;prefix&quot;: &quot;glyphicon&quot;}\n",
       "            );\n",
       "            marker_8b7fc33556112040cc19b97c945f043b.setIcon(icon_743cb0519634ed1c69687324006e685b);\n",
       "        \n",
       "    \n",
       "        var popup_8dcdbae8e24a97e88b0f29a7f22f6ac8 = L.popup({&quot;maxWidth&quot;: &quot;100%&quot;});\n",
       "\n",
       "        \n",
       "            \n",
       "                var html_cb5329837ca14889a599fe3fde622d07 = $(`&lt;div id=&quot;html_cb5329837ca14889a599fe3fde622d07&quot; style=&quot;width: 100.0%; height: 100.0%;&quot;&gt;&lt;div style=&quot;width:150px&quot;&gt;校舎名の「かえで」には「楓の果実が2つの種子が密着した姿で、それぞれから翼が伸びる翼果であることから、仲間同士で切磋琢磨し合い、成長を遂げていくことができる人材の育成を行う」という願いが込められています。&lt;/div&gt;&lt;/div&gt;`)[0];\n",
       "                popup_8dcdbae8e24a97e88b0f29a7f22f6ac8.setContent(html_cb5329837ca14889a599fe3fde622d07);\n",
       "            \n",
       "        \n",
       "\n",
       "        marker_8b7fc33556112040cc19b97c945f043b.bindPopup(popup_8dcdbae8e24a97e88b0f29a7f22f6ac8)\n",
       "        ;\n",
       "\n",
       "        \n",
       "    \n",
       "    \n",
       "            marker_8b7fc33556112040cc19b97c945f043b.bindTooltip(\n",
       "                `&lt;div&gt;\n",
       "                     校舎「かえで」\n",
       "                 &lt;/div&gt;`,\n",
       "                {&quot;sticky&quot;: true}\n",
       "            );\n",
       "        \n",
       "    \n",
       "            var marker_5e92e1b5c8621d1499e28d260b7b7b06 = L.marker(\n",
       "                [35.83220147, 139.9559064],\n",
       "                {}\n",
       "            ).addTo(map_c7a76c3c411ed83cfaf447a33f433cd3);\n",
       "        \n",
       "    \n",
       "            var icon_43a40a13902667223aa9dde3b8dfd392 = L.AwesomeMarkers.icon(\n",
       "                {&quot;extraClasses&quot;: &quot;fa-rotate-0&quot;, &quot;icon&quot;: &quot;info-sign&quot;, &quot;iconColor&quot;: &quot;white&quot;, &quot;markerColor&quot;: &quot;green&quot;, &quot;prefix&quot;: &quot;glyphicon&quot;}\n",
       "            );\n",
       "            marker_5e92e1b5c8621d1499e28d260b7b7b06.setIcon(icon_43a40a13902667223aa9dde3b8dfd392);\n",
       "        \n",
       "    \n",
       "        var popup_31254381b6afef097e8176a1008176a7 = L.popup({&quot;maxWidth&quot;: &quot;100%&quot;});\n",
       "\n",
       "        \n",
       "            \n",
       "                var html_c4690cddb3b9bf80291c97958f2a9643 = $(`&lt;div id=&quot;html_c4690cddb3b9bf80291c97958f2a9643&quot; style=&quot;width: 100.0%; height: 100.0%;&quot;&gt;&lt;div style=&quot;width:150px&quot;&gt;麗澤大学開学50周年記念事業の一環として2011年4月&quot;森と共生するキャンパス&quot;をコンセプトに建設された校舎「あすなろ」。このコンセプトが高く評価され、2012年度グッドデザイン賞を受賞しました。&lt;/div&gt;&lt;/div&gt;`)[0];\n",
       "                popup_31254381b6afef097e8176a1008176a7.setContent(html_c4690cddb3b9bf80291c97958f2a9643);\n",
       "            \n",
       "        \n",
       "\n",
       "        marker_5e92e1b5c8621d1499e28d260b7b7b06.bindPopup(popup_31254381b6afef097e8176a1008176a7)\n",
       "        ;\n",
       "\n",
       "        \n",
       "    \n",
       "    \n",
       "            marker_5e92e1b5c8621d1499e28d260b7b7b06.bindTooltip(\n",
       "                `&lt;div&gt;\n",
       "                     校舎「あすなろ」\n",
       "                 &lt;/div&gt;`,\n",
       "                {&quot;sticky&quot;: true}\n",
       "            );\n",
       "        \n",
       "    \n",
       "            var marker_33ae04546414b9e9c7dec630e35e3f65 = L.marker(\n",
       "                [35.83286248, 139.9559251],\n",
       "                {}\n",
       "            ).addTo(map_c7a76c3c411ed83cfaf447a33f433cd3);\n",
       "        \n",
       "    \n",
       "            var icon_0c331d0c1627d4caa5eaf5d9fe0cb2e9 = L.AwesomeMarkers.icon(\n",
       "                {&quot;extraClasses&quot;: &quot;fa-rotate-0&quot;, &quot;icon&quot;: &quot;info-sign&quot;, &quot;iconColor&quot;: &quot;white&quot;, &quot;markerColor&quot;: &quot;green&quot;, &quot;prefix&quot;: &quot;glyphicon&quot;}\n",
       "            );\n",
       "            marker_33ae04546414b9e9c7dec630e35e3f65.setIcon(icon_0c331d0c1627d4caa5eaf5d9fe0cb2e9);\n",
       "        \n",
       "    \n",
       "        var popup_62c9a401e961c026c2808eddc96d6992 = L.popup({&quot;maxWidth&quot;: &quot;100%&quot;});\n",
       "\n",
       "        \n",
       "            \n",
       "                var html_b31e0d82047c04e8c5c111cbd4dc442a = $(`&lt;div id=&quot;html_b31e0d82047c04e8c5c111cbd4dc442a&quot; style=&quot;width: 100.0%; height: 100.0%;&quot;&gt;&lt;div style=&quot;width:150px&quot;&gt;AVホール・CALL教室を持ち、授業開講時は8:50から19:00（閉講期間中は9:00から16:45）まで利用可能。開架式を採用しており、貴重書を除くほとんどの資料を、自由に閲覧することができます。&lt;br&gt;&lt;br&gt;\n",
       " 開館時間は8：50～19：00（月～金）&lt;br&gt;\n",
       " ※授業閉講時は9：00～16：45まで開館（月～金）&lt;/div&gt;&lt;/div&gt;`)[0];\n",
       "                popup_62c9a401e961c026c2808eddc96d6992.setContent(html_b31e0d82047c04e8c5c111cbd4dc442a);\n",
       "            \n",
       "        \n",
       "\n",
       "        marker_33ae04546414b9e9c7dec630e35e3f65.bindPopup(popup_62c9a401e961c026c2808eddc96d6992)\n",
       "        ;\n",
       "\n",
       "        \n",
       "    \n",
       "    \n",
       "            marker_33ae04546414b9e9c7dec630e35e3f65.bindTooltip(\n",
       "                `&lt;div&gt;\n",
       "                     図書館\n",
       "                 &lt;/div&gt;`,\n",
       "                {&quot;sticky&quot;: true}\n",
       "            );\n",
       "        \n",
       "    \n",
       "            var marker_ac9c0594482eb67fcfc50149d55be34c = L.marker(\n",
       "                [35.83430366, 139.9549849],\n",
       "                {}\n",
       "            ).addTo(map_c7a76c3c411ed83cfaf447a33f433cd3);\n",
       "        \n",
       "    \n",
       "            var icon_9e6cedd9773c91e0d090effefba91bc5 = L.AwesomeMarkers.icon(\n",
       "                {&quot;extraClasses&quot;: &quot;fa-rotate-0&quot;, &quot;icon&quot;: &quot;info-sign&quot;, &quot;iconColor&quot;: &quot;white&quot;, &quot;markerColor&quot;: &quot;orange&quot;, &quot;prefix&quot;: &quot;glyphicon&quot;}\n",
       "            );\n",
       "            marker_ac9c0594482eb67fcfc50149d55be34c.setIcon(icon_9e6cedd9773c91e0d090effefba91bc5);\n",
       "        \n",
       "    \n",
       "        var popup_d2e86179de7cfdfc3c66ef90c47d3dd8 = L.popup({&quot;maxWidth&quot;: &quot;100%&quot;});\n",
       "\n",
       "        \n",
       "            \n",
       "                var html_e5a9e0a5f334d1f56d15c4a964865b0e = $(`&lt;div id=&quot;html_e5a9e0a5f334d1f56d15c4a964865b0e&quot; style=&quot;width: 100.0%; height: 100.0%;&quot;&gt;&lt;div style=&quot;width:150px&quot;&gt;2022年9月にリニューアルオープン。木目とグリーンを基調としたアットホームな雰囲気で、窓から見える「緑」の景色とも調和した作りとなっています。「1人席」や「ソファ席」、「ベンチ席」、「ミーティングルーム」等の様々な空間で過ごせるような工夫がされています。\n",
       " 2階にはカフェコーナーを設置し、焼き立てパン、淹れ立てコーヒー、サーティーワンアイスが購入できます。&lt;/div&gt;&lt;/div&gt;`)[0];\n",
       "                popup_d2e86179de7cfdfc3c66ef90c47d3dd8.setContent(html_e5a9e0a5f334d1f56d15c4a964865b0e);\n",
       "            \n",
       "        \n",
       "\n",
       "        marker_ac9c0594482eb67fcfc50149d55be34c.bindPopup(popup_d2e86179de7cfdfc3c66ef90c47d3dd8)\n",
       "        ;\n",
       "\n",
       "        \n",
       "    \n",
       "    \n",
       "            marker_ac9c0594482eb67fcfc50149d55be34c.bindTooltip(\n",
       "                `&lt;div&gt;\n",
       "                     学生会館「ひいらぎ」\n",
       "                 &lt;/div&gt;`,\n",
       "                {&quot;sticky&quot;: true}\n",
       "            );\n",
       "        \n",
       "    \n",
       "            var marker_912c1a857671f719f8e448c9cbf31e29 = L.marker(\n",
       "                [35.83193431, 139.9568801],\n",
       "                {}\n",
       "            ).addTo(map_c7a76c3c411ed83cfaf447a33f433cd3);\n",
       "        \n",
       "    \n",
       "            var icon_02136478c3ec8506dc17b4943c0f34ee = L.AwesomeMarkers.icon(\n",
       "                {&quot;extraClasses&quot;: &quot;fa-rotate-0&quot;, &quot;icon&quot;: &quot;info-sign&quot;, &quot;iconColor&quot;: &quot;white&quot;, &quot;markerColor&quot;: &quot;green&quot;, &quot;prefix&quot;: &quot;glyphicon&quot;}\n",
       "            );\n",
       "            marker_912c1a857671f719f8e448c9cbf31e29.setIcon(icon_02136478c3ec8506dc17b4943c0f34ee);\n",
       "        \n",
       "    \n",
       "        var popup_6c5f0bfba5e7ae3bc519b70c22ed56e3 = L.popup({&quot;maxWidth&quot;: &quot;100%&quot;});\n",
       "\n",
       "        \n",
       "            \n",
       "                var html_d39229130beab7a366cd3050f0ba6a81 = $(`&lt;div id=&quot;html_d39229130beab7a366cd3050f0ba6a81&quot; style=&quot;width: 100.0%; height: 100.0%;&quot;&gt;&lt;div style=&quot;width:150px&quot;&gt;2006年（平成18年）2月竣工。大学院、研究センター、情報システム部、麗澤オープンカレッジが入る複合施設。教育活動、研究活動、社会貢献活動を積極的に推進し、これからの生涯学習への需要に的確に応えていくことを目的とした建物です。&lt;/div&gt;&lt;/div&gt;`)[0];\n",
       "                popup_6c5f0bfba5e7ae3bc519b70c22ed56e3.setContent(html_d39229130beab7a366cd3050f0ba6a81);\n",
       "            \n",
       "        \n",
       "\n",
       "        marker_912c1a857671f719f8e448c9cbf31e29.bindPopup(popup_6c5f0bfba5e7ae3bc519b70c22ed56e3)\n",
       "        ;\n",
       "\n",
       "        \n",
       "    \n",
       "    \n",
       "            marker_912c1a857671f719f8e448c9cbf31e29.bindTooltip(\n",
       "                `&lt;div&gt;\n",
       "                     麗澤大学生涯教育プラザ\n",
       "                 &lt;/div&gt;`,\n",
       "                {&quot;sticky&quot;: true}\n",
       "            );\n",
       "        \n",
       "&lt;/script&gt;\n",
       "&lt;/html&gt;\" style=\"position:absolute;width:100%;height:100%;left:0;top:0;border:none !important;\" allowfullscreen webkitallowfullscreen mozallowfullscreen></iframe></div></div>"
      ],
      "text/plain": [
       "<folium.folium.Map at 0x1a8e1ff4210>"
      ]
     },
     "execution_count": 23,
     "metadata": {},
     "output_type": "execute_result"
    }
   ],
   "source": [
    "# make the map\n",
    "m = folium.Map(location=[center_lat,center_lon], \n",
    "               zoom_start=17,\n",
    "               attr = '国土地理院')\n",
    "\n",
    "# add basemaps\n",
    "folium.TileLayer(name='2007年以降',tiles='https://cyberjapandata.gsi.go.jp/xyz/seamlessphoto/{z}/{x}/{y}.jpg',attr='国土地理院').add_to(m)\n",
    "folium.TileLayer(name='1987年～1990年',tiles='https://cyberjapandata.gsi.go.jp/xyz/gazo4/{z}/{x}/{y}.jpg',attr='国土地理院').add_to(m)\n",
    "folium.TileLayer(name='1984年～1986年',tiles='https://cyberjapandata.gsi.go.jp/xyz/gazo3/{z}/{x}/{y}.jpg',attr='国土地理院').add_to(m)\n",
    "folium.TileLayer(name='1979年～1983年',tiles='https://cyberjapandata.gsi.go.jp/xyz/gazo2/{z}/{x}/{y}.jpg',attr='国土地理院').add_to(m)\n",
    "folium.TileLayer(name='1974年～1978年',tiles='https://cyberjapandata.gsi.go.jp/xyz/gazo1/{z}/{x}/{y}.jpg',attr='国土地理院').add_to(m)\n",
    "folium.TileLayer(name='1961年～1969年',tiles='https://cyberjapandata.gsi.go.jp/xyz/ort_old10/{z}/{x}/{y}.png',attr='国土地理院').add_to(m)\n",
    "\n",
    "# basemapが選べるボタンをマップに足す\n",
    "folium.LayerControl().add_to(m)\n",
    "\n",
    "# add points\n",
    "for index, row in df.iterrows():\n",
    "    latlon = [row['latitude'],row['longitude']]\n",
    "    folium.Marker(latlon, popup='<div style=\"width:150px\">'+row['description']+'</div>', tooltip=row['name'],icon=folium.Icon(color=row['color'])).add_to(m)\n",
    "\n",
    "# show the map\n",
    "m\n",
    "\n"
   ]
  },
  {
   "attachments": {},
   "cell_type": "markdown",
   "metadata": {},
   "source": [
    "このように同じ「場所」を違う視点から観察することができる。これを見て、何を感じますか？"
   ]
  },
  {
   "attachments": {},
   "cell_type": "markdown",
   "metadata": {},
   "source": [
    "# Extra topic: Mapping Earthquakes\n",
    "\n",
    "世界の地震のデータをリアルタイムで提供しているのは United States Geological Survey (USGS)。このデータをcsv fileとしてダウンロードできるが、直接アクセスすることも可能である。この場合、 `csv` ではなく `geojson` というファイルフォーマットを使う。`geojson` はこれからも使うので、とりあえず、ここで紹介！\n",
    "\n",
    "`geojson` を扱うには新しいライブラリー【geopandas】を使う必要がある。\n",
    "\n",
    "[USGSの地震マップ](https://earthquake.usgs.gov/earthquakes/map/?extent=-82.76537,-120.23438&extent=84.9593,298.47656)"
   ]
  },
  {
   "cell_type": "code",
   "execution_count": 24,
   "metadata": {},
   "outputs": [],
   "source": [
    "import geopandas as gpd"
   ]
  },
  {
   "attachments": {},
   "cell_type": "markdown",
   "metadata": {},
   "source": [
    "`geopandas` を使ってUSGSからのリアルタイムデータを読み込む。`gdf` とは `geodataframe` の略である。"
   ]
  },
  {
   "cell_type": "code",
   "execution_count": 28,
   "metadata": {},
   "outputs": [
    {
     "ename": "DriverError",
     "evalue": "'/vsicurl/https://earthquake.usgs.gov/earthquakes/feed/v1.0/summary/2.5_day.geojson' not recognized as a supported file format.",
     "output_type": "error",
     "traceback": [
      "\u001b[1;31m---------------------------------------------------------------------------\u001b[0m",
      "\u001b[1;31mCPLE_OpenFailedError\u001b[0m                      Traceback (most recent call last)",
      "File \u001b[1;32mfiona\\ogrext.pyx:136\u001b[0m, in \u001b[0;36mfiona.ogrext.gdal_open_vector\u001b[1;34m()\u001b[0m\n",
      "File \u001b[1;32mfiona\\_err.pyx:291\u001b[0m, in \u001b[0;36mfiona._err.exc_wrap_pointer\u001b[1;34m()\u001b[0m\n",
      "\u001b[1;31mCPLE_OpenFailedError\u001b[0m: '/vsicurl/https://earthquake.usgs.gov/earthquakes/feed/v1.0/summary/2.5_day.geojson' not recognized as a supported file format.",
      "\nDuring handling of the above exception, another exception occurred:\n",
      "\u001b[1;31mDriverError\u001b[0m                               Traceback (most recent call last)",
      "\u001b[1;32mg:\\マイドライブ\\Classroom\\2023 2nd Semester\\23-2-Reitaku-GIS\\Weeks\\Week06\\Week06.ipynb Cell 43\u001b[0m line \u001b[0;36m1\n\u001b[1;32m----> <a href='vscode-notebook-cell:/g%3A/%E3%83%9E%E3%82%A4%E3%83%89%E3%83%A9%E3%82%A4%E3%83%96/Classroom/2023%202nd%20Semester/23-2-Reitaku-GIS/Weeks/Week06/Week06.ipynb#X60sZmlsZQ%3D%3D?line=0'>1</a>\u001b[0m gdf \u001b[39m=\u001b[39m gpd\u001b[39m.\u001b[39;49mread_file(\u001b[39m'\u001b[39;49m\u001b[39mhttps://earthquake.usgs.gov/earthquakes/feed/v1.0/summary/2.5_day.geojson\u001b[39;49m\u001b[39m'\u001b[39;49m)\n",
      "File \u001b[1;32mc:\\Users\\yohma\\miniconda3\\envs\\gis\\Lib\\site-packages\\geopandas\\io\\file.py:248\u001b[0m, in \u001b[0;36m_read_file\u001b[1;34m(filename, bbox, mask, rows, engine, **kwargs)\u001b[0m\n\u001b[0;32m    245\u001b[0m     \u001b[39melse\u001b[39;00m:\n\u001b[0;32m    246\u001b[0m         path_or_bytes \u001b[39m=\u001b[39m filename\n\u001b[1;32m--> 248\u001b[0m     \u001b[39mreturn\u001b[39;00m _read_file_fiona(\n\u001b[0;32m    249\u001b[0m         path_or_bytes, from_bytes, bbox\u001b[39m=\u001b[39;49mbbox, mask\u001b[39m=\u001b[39;49mmask, rows\u001b[39m=\u001b[39;49mrows, \u001b[39m*\u001b[39;49m\u001b[39m*\u001b[39;49mkwargs\n\u001b[0;32m    250\u001b[0m     )\n\u001b[0;32m    252\u001b[0m \u001b[39melse\u001b[39;00m:\n\u001b[0;32m    253\u001b[0m     \u001b[39mraise\u001b[39;00m \u001b[39mValueError\u001b[39;00m(\u001b[39mf\u001b[39m\u001b[39m\"\u001b[39m\u001b[39munknown engine \u001b[39m\u001b[39m'\u001b[39m\u001b[39m{\u001b[39;00mengine\u001b[39m}\u001b[39;00m\u001b[39m'\u001b[39m\u001b[39m\"\u001b[39m)\n",
      "File \u001b[1;32mc:\\Users\\yohma\\miniconda3\\envs\\gis\\Lib\\site-packages\\geopandas\\io\\file.py:289\u001b[0m, in \u001b[0;36m_read_file_fiona\u001b[1;34m(path_or_bytes, from_bytes, bbox, mask, rows, where, **kwargs)\u001b[0m\n\u001b[0;32m    286\u001b[0m     reader \u001b[39m=\u001b[39m fiona\u001b[39m.\u001b[39mopen\n\u001b[0;32m    288\u001b[0m \u001b[39mwith\u001b[39;00m fiona_env():\n\u001b[1;32m--> 289\u001b[0m     \u001b[39mwith\u001b[39;00m reader(path_or_bytes, \u001b[39m*\u001b[39;49m\u001b[39m*\u001b[39;49mkwargs) \u001b[39mas\u001b[39;00m features:\n\u001b[0;32m    290\u001b[0m         crs \u001b[39m=\u001b[39m features\u001b[39m.\u001b[39mcrs_wkt\n\u001b[0;32m    291\u001b[0m         \u001b[39m# attempt to get EPSG code\u001b[39;00m\n",
      "File \u001b[1;32mc:\\Users\\yohma\\miniconda3\\envs\\gis\\Lib\\site-packages\\fiona\\env.py:457\u001b[0m, in \u001b[0;36mensure_env_with_credentials.<locals>.wrapper\u001b[1;34m(*args, **kwds)\u001b[0m\n\u001b[0;32m    454\u001b[0m     session \u001b[39m=\u001b[39m DummySession()\n\u001b[0;32m    456\u001b[0m \u001b[39mwith\u001b[39;00m env_ctor(session\u001b[39m=\u001b[39msession):\n\u001b[1;32m--> 457\u001b[0m     \u001b[39mreturn\u001b[39;00m f(\u001b[39m*\u001b[39;49margs, \u001b[39m*\u001b[39;49m\u001b[39m*\u001b[39;49mkwds)\n",
      "File \u001b[1;32mc:\\Users\\yohma\\miniconda3\\envs\\gis\\Lib\\site-packages\\fiona\\__init__.py:308\u001b[0m, in \u001b[0;36mopen\u001b[1;34m(fp, mode, driver, schema, crs, encoding, layer, vfs, enabled_drivers, crs_wkt, allow_unsupported_drivers, **kwargs)\u001b[0m\n\u001b[0;32m    305\u001b[0m     path \u001b[39m=\u001b[39m parse_path(fp)\n\u001b[0;32m    307\u001b[0m \u001b[39mif\u001b[39;00m mode \u001b[39min\u001b[39;00m (\u001b[39m\"\u001b[39m\u001b[39ma\u001b[39m\u001b[39m\"\u001b[39m, \u001b[39m\"\u001b[39m\u001b[39mr\u001b[39m\u001b[39m\"\u001b[39m):\n\u001b[1;32m--> 308\u001b[0m     colxn \u001b[39m=\u001b[39m Collection(\n\u001b[0;32m    309\u001b[0m         path,\n\u001b[0;32m    310\u001b[0m         mode,\n\u001b[0;32m    311\u001b[0m         driver\u001b[39m=\u001b[39;49mdriver,\n\u001b[0;32m    312\u001b[0m         encoding\u001b[39m=\u001b[39;49mencoding,\n\u001b[0;32m    313\u001b[0m         layer\u001b[39m=\u001b[39;49mlayer,\n\u001b[0;32m    314\u001b[0m         enabled_drivers\u001b[39m=\u001b[39;49menabled_drivers,\n\u001b[0;32m    315\u001b[0m         allow_unsupported_drivers\u001b[39m=\u001b[39;49mallow_unsupported_drivers,\n\u001b[0;32m    316\u001b[0m         \u001b[39m*\u001b[39;49m\u001b[39m*\u001b[39;49mkwargs\n\u001b[0;32m    317\u001b[0m     )\n\u001b[0;32m    318\u001b[0m \u001b[39melif\u001b[39;00m mode \u001b[39m==\u001b[39m \u001b[39m\"\u001b[39m\u001b[39mw\u001b[39m\u001b[39m\"\u001b[39m:\n\u001b[0;32m    319\u001b[0m     colxn \u001b[39m=\u001b[39m Collection(\n\u001b[0;32m    320\u001b[0m         path,\n\u001b[0;32m    321\u001b[0m         mode,\n\u001b[1;32m   (...)\u001b[0m\n\u001b[0;32m    330\u001b[0m         \u001b[39m*\u001b[39m\u001b[39m*\u001b[39mkwargs\n\u001b[0;32m    331\u001b[0m     )\n",
      "File \u001b[1;32mc:\\Users\\yohma\\miniconda3\\envs\\gis\\Lib\\site-packages\\fiona\\collection.py:243\u001b[0m, in \u001b[0;36mCollection.__init__\u001b[1;34m(self, path, mode, driver, schema, crs, encoding, layer, vsi, archive, enabled_drivers, crs_wkt, ignore_fields, ignore_geometry, include_fields, wkt_version, allow_unsupported_drivers, **kwargs)\u001b[0m\n\u001b[0;32m    241\u001b[0m \u001b[39mif\u001b[39;00m \u001b[39mself\u001b[39m\u001b[39m.\u001b[39mmode \u001b[39m==\u001b[39m \u001b[39m\"\u001b[39m\u001b[39mr\u001b[39m\u001b[39m\"\u001b[39m:\n\u001b[0;32m    242\u001b[0m     \u001b[39mself\u001b[39m\u001b[39m.\u001b[39msession \u001b[39m=\u001b[39m Session()\n\u001b[1;32m--> 243\u001b[0m     \u001b[39mself\u001b[39;49m\u001b[39m.\u001b[39;49msession\u001b[39m.\u001b[39;49mstart(\u001b[39mself\u001b[39;49m, \u001b[39m*\u001b[39;49m\u001b[39m*\u001b[39;49mkwargs)\n\u001b[0;32m    244\u001b[0m \u001b[39melif\u001b[39;00m \u001b[39mself\u001b[39m\u001b[39m.\u001b[39mmode \u001b[39min\u001b[39;00m (\u001b[39m\"\u001b[39m\u001b[39ma\u001b[39m\u001b[39m\"\u001b[39m, \u001b[39m\"\u001b[39m\u001b[39mw\u001b[39m\u001b[39m\"\u001b[39m):\n\u001b[0;32m    245\u001b[0m     \u001b[39mself\u001b[39m\u001b[39m.\u001b[39msession \u001b[39m=\u001b[39m WritingSession()\n",
      "File \u001b[1;32mfiona\\ogrext.pyx:588\u001b[0m, in \u001b[0;36mfiona.ogrext.Session.start\u001b[1;34m()\u001b[0m\n",
      "File \u001b[1;32mfiona\\ogrext.pyx:143\u001b[0m, in \u001b[0;36mfiona.ogrext.gdal_open_vector\u001b[1;34m()\u001b[0m\n",
      "\u001b[1;31mDriverError\u001b[0m: '/vsicurl/https://earthquake.usgs.gov/earthquakes/feed/v1.0/summary/2.5_day.geojson' not recognized as a supported file format."
     ]
    }
   ],
   "source": [
    "gdf = gpd.read_file('https://earthquake.usgs.gov/earthquakes/feed/v1.0/summary/2.5_day.geojson')"
   ]
  },
  {
   "cell_type": "code",
   "execution_count": null,
   "metadata": {},
   "outputs": [],
   "source": [
    "# use head to output first 5 rows\n",
    "gdf.head()"
   ]
  },
  {
   "cell_type": "code",
   "execution_count": null,
   "metadata": {},
   "outputs": [],
   "source": [
    "# make the map\n",
    "eqmap = folium.Map(location=[0,0], \n",
    "               zoom_start=1,\n",
    "               tiles = 'https://server.arcgisonline.com/ArcGIS/rest/services/World_Imagery/MapServer/tile/{z}/{y}/{x}',\n",
    "               attr = 'ESRI')\n",
    "\n",
    "folium.GeoJson(gdf,\n",
    "               tooltip=folium.GeoJsonTooltip(fields=['place','mag'])).add_to(eqmap)\n",
    "eqmap"
   ]
  },
  {
   "attachments": {},
   "cell_type": "markdown",
   "metadata": {},
   "source": [
    "ここで考えほしいのは、csv をダウンロードした場合と、このように直接出所にリンクしてデータを入手する「違い」とは何か？"
   ]
  },
  {
   "cell_type": "code",
   "execution_count": null,
   "metadata": {},
   "outputs": [],
   "source": [
    "import folium\n",
    "import random\n",
    "\n",
    "# マップオブジェクトを作成する\n",
    "map_obj = folium.Map(location=[35.6895, 139.6917], zoom_start=12)  # 東京の座標を指定\n",
    "\n",
    "# 100個のランダムなマーカーを追加する\n",
    "for _ in range(100):\n",
    "    # ランダムな緯度と経度を生成する\n",
    "    latitude = random.uniform(35.5, 35.8)  # 緯度の範囲を適宜指定\n",
    "    longitude = random.uniform(139.5, 140.0)  # 経度の範囲を適宜指定\n",
    "    \n",
    "    # マーカーをマップに追加する\n",
    "    folium.Marker([latitude, longitude]).add_to(map_obj)\n",
    "\n",
    "\n",
    "map_obj\n",
    "# マップを保存する\n",
    "map_obj.save('map.html')\n"
   ]
  },
  {
   "cell_type": "code",
   "execution_count": null,
   "metadata": {},
   "outputs": [],
   "source": []
  }
 ],
 "metadata": {
  "kernelspec": {
   "display_name": "geos",
   "language": "python",
   "name": "python3"
  },
  "language_info": {
   "codemirror_mode": {
    "name": "ipython",
    "version": 3
   },
   "file_extension": ".py",
   "mimetype": "text/x-python",
   "name": "python",
   "nbconvert_exporter": "python",
   "pygments_lexer": "ipython3",
   "version": "3.11.0"
  },
  "orig_nbformat": 4
 },
 "nbformat": 4,
 "nbformat_minor": 2
}
