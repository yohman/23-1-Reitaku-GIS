{
 "cells": [
  {
   "cell_type": "code",
   "execution_count": null,
   "metadata": {},
   "outputs": [],
   "source": [
    "import requests\n",
    "from PIL import Image\n",
    "import matplotlib.pyplot as plt\n",
    "\n",
    "# Define the base URL for the tile map\n",
    "base_url = \"https://cyberjapandata.gsi.go.jp/xyz/{z}/{x}/{y}.png\"\n",
    "\n",
    "# Define the coordinates for Hiroshima\n",
    "hiroshima_coords = (34.3853, 132.4553)\n",
    "\n",
    "# Define the zoom level and tile size\n",
    "zoom = 15\n",
    "tile_size = 256\n",
    "\n",
    "# Define the years for the maps\n",
    "years = [1950, 1960, 1970, 1980, 1990, 2000, 2010, 2020]\n",
    "\n",
    "# Create a figure with subplots for each year\n",
    "fig, axs = plt.subplots(1, len(years), figsize=(20, 5))\n",
    "\n",
    "# Loop through each year and fetch the corresponding tile map\n",
    "for i, year in enumerate(years):\n",
    "    # Calculate the tile coordinates for the given zoom level and coordinates\n",
    "    x = int((hiroshima_coords[1] + 180) / 360 * (2 ** zoom))\n",
    "    y = int((1 - (math.log(math.tan(math.radians(hiroshima_coords[0])) + 1 / math.cos(math.radians(hiroshima_coords[0])))) / math.pi) / 2 * (2 ** zoom))\n",
    "\n",
    "    # Construct the URL for the tile map\n",
    "    url = base_url.format(z=zoom, x=x, y=y)\n",
    "\n",
    "    # Fetch the tile map image\n",
    "    response = requests.get(url)\n",
    "    image = Image.open(BytesIO(response.content))\n",
    "\n",
    "    # Plot the tile map image on the corresponding subplot\n",
    "    axs[i].imshow(image)\n",
    "    axs[i].set_title(str(year))\n",
    "\n",
    "# Show the figure with the subplots\n",
    "plt.show()\n"
   ]
  }
 ],
 "metadata": {
  "language_info": {
   "name": "python"
  }
 },
 "nbformat": 4,
 "nbformat_minor": 2
}
